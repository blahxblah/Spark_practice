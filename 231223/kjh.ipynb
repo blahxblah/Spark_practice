{
 "cells": [
  {
   "cell_type": "code",
   "execution_count": 1,
   "metadata": {},
   "outputs": [
    {
     "name": "stderr",
     "output_type": "stream",
     "text": [
      "131072x1 화면 크기가 잘못됐습니다. 문제가 예상됩니다\n",
      "23/12/23 16:33:22 WARN Utils: Your hostname, KJH resolves to a loopback address: 127.0.1.1; using 172.22.50.175 instead (on interface eth0)\n",
      "23/12/23 16:33:22 WARN Utils: Set SPARK_LOCAL_IP if you need to bind to another address\n",
      "Setting default log level to \"WARN\".\n",
      "To adjust logging level use sc.setLogLevel(newLevel). For SparkR, use setLogLevel(newLevel).\n",
      "23/12/23 16:33:23 WARN NativeCodeLoader: Unable to load native-hadoop library for your platform... using builtin-java classes where applicable\n"
     ]
    }
   ],
   "source": [
    "# 스파크 세션 생성\n",
    "from pyspark.sql import SparkSession\n",
    "\n",
    "spark = SparkSession.builder \\\n",
    "    .appName(\"Spark study - 231223\") \\\n",
    "    .getOrCreate()"
   ]
  },
  {
   "cell_type": "code",
   "execution_count": 2,
   "metadata": {},
   "outputs": [
    {
     "name": "stderr",
     "output_type": "stream",
     "text": [
      "                                                                                \r"
     ]
    }
   ],
   "source": [
    "# 데이터프레임 생성\n",
    "#df_genome_scores = spark.read.csv(\"file:///home/kjh/data/ml-latest/genome-scores.csv\", header=True, inferSchema=True).createOrReplaceTempView('g_scores')\n",
    "#df_genome_tags = spark.read.csv(\"file:///home/kjh/data/ml-latest/genome-tags.csv\", header=True, inferSchema=True).createOrReplaceTempView('g_tags')\n",
    "df_movies = spark.read.csv(\"file:///home/kjh/data/ml-latest/movies.csv\", header=True, inferSchema=True)\n",
    "df_ratings = spark.read.csv(\"file:///home/kjh/data/ml-latest/ratings.csv\", header=True, inferSchema=True)\n",
    "df_tags = spark.read.csv(\"file:///home/kjh/data/ml-latest/tags.csv\", header=True, inferSchema=True)"
   ]
  },
  {
   "cell_type": "code",
   "execution_count": 3,
   "metadata": {},
   "outputs": [],
   "source": [
    "df_movies.createOrReplaceTempView('movies')\n",
    "df_ratings.createOrReplaceTempView('ratings')\n",
    "df_tags.createOrReplaceTempView('tags')"
   ]
  },
  {
   "cell_type": "code",
   "execution_count": 4,
   "metadata": {},
   "outputs": [],
   "source": [
    "df_user = spark.sql(\"\"\"\n",
    "                    SELECT r.userId, r.movieId, m.title, m.genres, r.rating, r.timestamp AS r_time, t.tag, t.timestamp AS t_time\n",
    "                    FROM ratings r\n",
    "                    INNER JOIN tags t\n",
    "                    ON r.userId = t.userId \n",
    "                    AND r.movieId = t.movieId\n",
    "                    INNER JOIN movies m\n",
    "                    ON r.movieId = m.movieId\n",
    "                    ORDER BY r.userId, r.movieId\n",
    "                    \"\"\")\n",
    "\n",
    "df_user.createOrReplaceTempView('user')\n",
    "df_user.cache()"
   ]
  },
  {
   "cell_type": "code",
   "execution_count": 6,
   "metadata": {},
   "outputs": [
    {
     "name": "stderr",
     "output_type": "stream",
     "text": [
      "                                                                                \r"
     ]
    },
    {
     "name": "stdout",
     "output_type": "stream",
     "text": [
      "+------+-------+--------------------+--------------------+------+----------+--------------------+----------+\n",
      "|userId|movieId|               title|              genres|rating|    r_time|                 tag|    t_time|\n",
      "+------+-------+--------------------+--------------------+------+----------+--------------------+----------+\n",
      "|    10|    260|Star Wars: Episod...|Action|Adventure|...|   4.5|1430666645|        good vs evil|1430666558|\n",
      "|    10|    260|Star Wars: Episod...|Action|Adventure|...|   4.5|1430666645|       Harrison Ford|1430666505|\n",
      "|    10|    260|Star Wars: Episod...|Action|Adventure|...|   4.5|1430666645|              sci-fi|1430666538|\n",
      "|    14|  58559|Dark Knight, The ...|Action|Crime|Dram...|   5.0|1311530004|         Atmospheric|1311530439|\n",
      "|    14|  58559|Dark Knight, The ...|Action|Crime|Dram...|   5.0|1311530004|              Batman|1311530391|\n",
      "|    14|  58559|Dark Knight, The ...|Action|Crime|Dram...|   5.0|1311530004|          comic book|1311530398|\n",
      "|    14|  58559|Dark Knight, The ...|Action|Crime|Dram...|   5.0|1311530004|                dark|1311530428|\n",
      "|    14|  58559|Dark Knight, The ...|Action|Crime|Dram...|   5.0|1311530004|        Heath Ledger|1311530404|\n",
      "|    14|  58559|Dark Knight, The ...|Action|Crime|Dram...|   5.0|1311530004|        imdb top 250|1311530451|\n",
      "|    14|  58559|Dark Knight, The ...|Action|Crime|Dram...|   5.0|1311530004|       Michael Caine|1311530407|\n",
      "|    14|  58559|Dark Knight, The ...|Action|Crime|Dram...|   5.0|1311530004|      Morgan Freeman|1311530400|\n",
      "|    14|  58559|Dark Knight, The ...|Action|Crime|Dram...|   5.0|1311530004|Oscar (Best Suppo...|1311530432|\n",
      "|    14|  58559|Dark Knight, The ...|Action|Crime|Dram...|   5.0|1311530004|          psychology|1311530417|\n",
      "|    14|  58559|Dark Knight, The ...|Action|Crime|Dram...|   5.0|1311530004|           superhero|1311530388|\n",
      "|    14|  58559|Dark Knight, The ...|Action|Crime|Dram...|   5.0|1311530004|           vigilante|1311530423|\n",
      "|    14|  58559|Dark Knight, The ...|Action|Crime|Dram...|   5.0|1311530004|            violence|1311530444|\n",
      "|    16|  57183|Like Stars on Ear...|               Drama|   4.5|1491353742|              family|1491353765|\n",
      "|    26|    296| Pulp Fiction (1994)|Comedy|Crime|Dram...|   4.5|1429397999|               crime|1429398919|\n",
      "|    26|    296| Pulp Fiction (1994)|Comedy|Crime|Dram...|   4.5|1429397999|           cult film|1429398919|\n",
      "|    26|    296| Pulp Fiction (1994)|Comedy|Crime|Dram...|   4.5|1429397999|   quentin tarantino|1429398919|\n",
      "+------+-------+--------------------+--------------------+------+----------+--------------------+----------+\n",
      "only showing top 20 rows\n",
      "\n"
     ]
    }
   ],
   "source": [
    "spark.sql(\"\"\"\n",
    "          SELECT *\n",
    "          FROM user\n",
    "          \"\"\").show()"
   ]
  },
  {
   "cell_type": "code",
   "execution_count": 8,
   "metadata": {},
   "outputs": [
    {
     "name": "stderr",
     "output_type": "stream",
     "text": [
      "[Stage 24:=======================================>                 (9 + 4) / 13]\r"
     ]
    },
    {
     "name": "stdout",
     "output_type": "stream",
     "text": [
      "+-------+\n",
      "|    cnt|\n",
      "+-------+\n",
      "|1729292|\n",
      "+-------+\n",
      "\n"
     ]
    },
    {
     "name": "stderr",
     "output_type": "stream",
     "text": [
      "                                                                                \r"
     ]
    }
   ],
   "source": [
    "spark.sql(\"\"\"\n",
    "          SELECT COUNT(*) cnt\n",
    "          FROM user\n",
    "          \"\"\").show()"
   ]
  },
  {
   "cell_type": "code",
   "execution_count": 9,
   "metadata": {},
   "outputs": [
    {
     "name": "stdout",
     "output_type": "stream",
     "text": [
      "+---------------------------+\n",
      "|genres                     |\n",
      "+---------------------------+\n",
      "|Action|Adventure|Sci-Fi    |\n",
      "|Action|Adventure|Sci-Fi    |\n",
      "|Action|Adventure|Sci-Fi    |\n",
      "|Action|Crime|Drama|IMAX    |\n",
      "|Action|Crime|Drama|IMAX    |\n",
      "|Action|Crime|Drama|IMAX    |\n",
      "|Action|Crime|Drama|IMAX    |\n",
      "|Action|Crime|Drama|IMAX    |\n",
      "|Action|Crime|Drama|IMAX    |\n",
      "|Action|Crime|Drama|IMAX    |\n",
      "|Action|Crime|Drama|IMAX    |\n",
      "|Action|Crime|Drama|IMAX    |\n",
      "|Action|Crime|Drama|IMAX    |\n",
      "|Action|Crime|Drama|IMAX    |\n",
      "|Action|Crime|Drama|IMAX    |\n",
      "|Action|Crime|Drama|IMAX    |\n",
      "|Drama                      |\n",
      "|Comedy|Crime|Drama|Thriller|\n",
      "|Comedy|Crime|Drama|Thriller|\n",
      "|Comedy|Crime|Drama|Thriller|\n",
      "+---------------------------+\n",
      "only showing top 20 rows\n",
      "\n"
     ]
    }
   ],
   "source": [
    "spark.sql(\"\"\"\n",
    "          SELECT genres\n",
    "          FROM user\n",
    "          \"\"\").show(truncate=False)"
   ]
  },
  {
   "cell_type": "code",
   "execution_count": 10,
   "metadata": {},
   "outputs": [
    {
     "name": "stdout",
     "output_type": "stream",
     "text": [
      "+--------+---------+-------+\n",
      "|col_name|data_type|comment|\n",
      "+--------+---------+-------+\n",
      "|  userId|      int|   NULL|\n",
      "| movieId|      int|   NULL|\n",
      "|   title|   string|   NULL|\n",
      "|  genres|   string|   NULL|\n",
      "|  rating|   double|   NULL|\n",
      "|  r_time|      int|   NULL|\n",
      "|     tag|   string|   NULL|\n",
      "|  t_time|   string|   NULL|\n",
      "+--------+---------+-------+\n",
      "\n"
     ]
    }
   ],
   "source": [
    "spark.sql(\"\"\"\n",
    "          DESCRIBE user\n",
    "          \"\"\").show()"
   ]
  },
  {
   "cell_type": "code",
   "execution_count": 15,
   "metadata": {},
   "outputs": [
    {
     "name": "stdout",
     "output_type": "stream",
     "text": [
      "+---------+---------+-------+\n",
      "| col_name|data_type|comment|\n",
      "+---------+---------+-------+\n",
      "|   userId|      int|   NULL|\n",
      "|  movieId|      int|   NULL|\n",
      "|   rating|   double|   NULL|\n",
      "|timestamp|      int|   NULL|\n",
      "+---------+---------+-------+\n",
      "\n"
     ]
    }
   ],
   "source": [
    "spark.sql(\"\"\"\n",
    "          DESCRIBE ratings\n",
    "          \"\"\").show()"
   ]
  },
  {
   "cell_type": "code",
   "execution_count": 20,
   "metadata": {},
   "outputs": [
    {
     "name": "stdout",
     "output_type": "stream",
     "text": [
      "+-------------------+\n",
      "|           datetime|\n",
      "+-------------------+\n",
      "|2008-11-04 02:52:19|\n",
      "|2008-11-05 15:04:46|\n",
      "|2008-11-04 02:31:43|\n",
      "|2008-11-04 03:00:04|\n",
      "|2008-11-04 02:58:39|\n",
      "+-------------------+\n",
      "only showing top 5 rows\n",
      "\n"
     ]
    }
   ],
   "source": [
    "spark.sql(\"\"\"\n",
    "          SELECT from_unixtime(timestamp) AS datetime\n",
    "          FROM ratings\n",
    "          \"\"\").show(5)"
   ]
  },
  {
   "cell_type": "code",
   "execution_count": 22,
   "metadata": {},
   "outputs": [],
   "source": [
    "df_user = spark.sql(\"\"\"\n",
    "                    SELECT userId, movieId, title,\n",
    "                      explode(split(genres, '\\\\\\\\|')) AS genre,\n",
    "                      rating, from_unixtime(r_time) AS r_time, tag, from_unixtime(t_time) AS t_time\n",
    "                    FROM user\n",
    "                    \"\"\")\n",
    "\n",
    "df_user.createOrReplaceTempView('user')\n",
    "df_user.cache()"
   ]
  },
  {
   "cell_type": "code",
   "execution_count": 33,
   "metadata": {},
   "outputs": [
    {
     "name": "stdout",
     "output_type": "stream",
     "text": [
      "+------+-------+--------------------+---------+------+-------------------+-------------+-------------------+\n",
      "|userId|movieId|               title|    genre|rating|             r_time|          tag|             t_time|\n",
      "+------+-------+--------------------+---------+------+-------------------+-------------+-------------------+\n",
      "|    10|    260|Star Wars: Episod...|   Action|   4.5|2015-05-04 00:24:05| good vs evil|2015-05-04 00:22:38|\n",
      "|    10|    260|Star Wars: Episod...|Adventure|   4.5|2015-05-04 00:24:05| good vs evil|2015-05-04 00:22:38|\n",
      "|    10|    260|Star Wars: Episod...|   Sci-Fi|   4.5|2015-05-04 00:24:05| good vs evil|2015-05-04 00:22:38|\n",
      "|    10|    260|Star Wars: Episod...|   Action|   4.5|2015-05-04 00:24:05|Harrison Ford|2015-05-04 00:21:45|\n",
      "|    10|    260|Star Wars: Episod...|Adventure|   4.5|2015-05-04 00:24:05|Harrison Ford|2015-05-04 00:21:45|\n",
      "|    10|    260|Star Wars: Episod...|   Sci-Fi|   4.5|2015-05-04 00:24:05|Harrison Ford|2015-05-04 00:21:45|\n",
      "|    10|    260|Star Wars: Episod...|   Action|   4.5|2015-05-04 00:24:05|       sci-fi|2015-05-04 00:22:18|\n",
      "|    10|    260|Star Wars: Episod...|Adventure|   4.5|2015-05-04 00:24:05|       sci-fi|2015-05-04 00:22:18|\n",
      "|    10|    260|Star Wars: Episod...|   Sci-Fi|   4.5|2015-05-04 00:24:05|       sci-fi|2015-05-04 00:22:18|\n",
      "|    14|  58559|Dark Knight, The ...|   Action|   5.0|2011-07-25 02:53:24|  Atmospheric|2011-07-25 03:00:39|\n",
      "|    14|  58559|Dark Knight, The ...|    Crime|   5.0|2011-07-25 02:53:24|  Atmospheric|2011-07-25 03:00:39|\n",
      "|    14|  58559|Dark Knight, The ...|    Drama|   5.0|2011-07-25 02:53:24|  Atmospheric|2011-07-25 03:00:39|\n",
      "|    14|  58559|Dark Knight, The ...|     IMAX|   5.0|2011-07-25 02:53:24|  Atmospheric|2011-07-25 03:00:39|\n",
      "|    14|  58559|Dark Knight, The ...|   Action|   5.0|2011-07-25 02:53:24|       Batman|2011-07-25 02:59:51|\n",
      "|    14|  58559|Dark Knight, The ...|    Crime|   5.0|2011-07-25 02:53:24|       Batman|2011-07-25 02:59:51|\n",
      "|    14|  58559|Dark Knight, The ...|    Drama|   5.0|2011-07-25 02:53:24|       Batman|2011-07-25 02:59:51|\n",
      "|    14|  58559|Dark Knight, The ...|     IMAX|   5.0|2011-07-25 02:53:24|       Batman|2011-07-25 02:59:51|\n",
      "|    14|  58559|Dark Knight, The ...|   Action|   5.0|2011-07-25 02:53:24|   comic book|2011-07-25 02:59:58|\n",
      "|    14|  58559|Dark Knight, The ...|    Crime|   5.0|2011-07-25 02:53:24|   comic book|2011-07-25 02:59:58|\n",
      "|    14|  58559|Dark Knight, The ...|    Drama|   5.0|2011-07-25 02:53:24|   comic book|2011-07-25 02:59:58|\n",
      "+------+-------+--------------------+---------+------+-------------------+-------------+-------------------+\n",
      "only showing top 20 rows\n",
      "\n"
     ]
    }
   ],
   "source": [
    "spark.sql(\"\"\"\n",
    "          SELECT *\n",
    "          FROM user\n",
    "          \"\"\").show()"
   ]
  },
  {
   "cell_type": "code",
   "execution_count": 34,
   "metadata": {},
   "outputs": [
    {
     "name": "stdout",
     "output_type": "stream",
     "text": [
      "+-------+\n",
      "|    cnt|\n",
      "+-------+\n",
      "|4683548|\n",
      "+-------+\n",
      "\n"
     ]
    },
    {
     "name": "stderr",
     "output_type": "stream",
     "text": [
      "23/12/23 17:51:10 WARN StandaloneAppClient$ClientEndpoint: Connection to KJH.:7077 failed; waiting for master to reconnect...\n",
      "23/12/23 17:51:10 WARN StandaloneSchedulerBackend: Disconnected from Spark cluster! Waiting for reconnection...\n",
      "23/12/23 17:51:10 WARN StandaloneAppClient$ClientEndpoint: Connection to KJH.:7077 failed; waiting for master to reconnect...\n",
      "23/12/23 17:51:15 ERROR TaskSchedulerImpl: Lost executor 3 on 172.22.50.175: Remote RPC client disassociated. Likely due to containers exceeding thresholds, or network issues. Check driver logs for WARN messages.\n",
      "23/12/23 17:51:15 WARN BlockManagerMasterEndpoint: No more replicas available for rdd_271_2 !\n",
      "23/12/23 17:51:15 WARN BlockManagerMasterEndpoint: No more replicas available for rdd_271_6 !\n",
      "23/12/23 17:51:15 WARN BlockManagerMasterEndpoint: No more replicas available for rdd_271_12 !\n",
      "23/12/23 17:51:15 WARN BlockManagerMasterEndpoint: No more replicas available for rdd_271_10 !\n",
      "23/12/23 17:51:16 ERROR TaskSchedulerImpl: Lost executor 1 on 172.22.50.175: Remote RPC client disassociated. Likely due to containers exceeding thresholds, or network issues. Check driver logs for WARN messages.\n",
      "23/12/23 17:51:16 WARN BlockManagerMasterEndpoint: No more replicas available for rdd_271_7 !\n",
      "23/12/23 17:51:16 WARN BlockManagerMasterEndpoint: No more replicas available for rdd_271_3 !\n",
      "23/12/23 17:51:16 WARN BlockManagerMasterEndpoint: No more replicas available for rdd_271_11 !\n",
      "23/12/23 17:51:16 ERROR TaskSchedulerImpl: Lost executor 0 on 172.22.50.175: Remote RPC client disassociated. Likely due to containers exceeding thresholds, or network issues. Check driver logs for WARN messages.\n",
      "23/12/23 17:51:16 WARN BlockManagerMasterEndpoint: No more replicas available for rdd_271_0 !\n",
      "23/12/23 17:51:16 WARN BlockManagerMasterEndpoint: No more replicas available for rdd_271_4 !\n",
      "23/12/23 17:51:16 WARN BlockManagerMasterEndpoint: No more replicas available for rdd_271_8 !\n",
      "23/12/23 17:51:17 ERROR TaskSchedulerImpl: Lost executor 2 on 172.22.50.175: Remote RPC client disassociated. Likely due to containers exceeding thresholds, or network issues. Check driver logs for WARN messages.\n",
      "23/12/23 17:51:17 WARN BlockManagerMasterEndpoint: No more replicas available for rdd_271_9 !\n",
      "23/12/23 17:51:17 WARN BlockManagerMasterEndpoint: No more replicas available for rdd_271_5 !\n",
      "23/12/23 17:51:17 WARN BlockManagerMasterEndpoint: No more replicas available for rdd_271_1 !\n"
     ]
    }
   ],
   "source": [
    "spark.sql(\"\"\"\n",
    "          SELECT COUNT(*) cnt\n",
    "          FROM user\n",
    "          \"\"\").show()"
   ]
  },
  {
   "cell_type": "code",
   "execution_count": null,
   "metadata": {},
   "outputs": [],
   "source": []
  }
 ],
 "metadata": {
  "kernelspec": {
   "display_name": "kjh-4pV5HF-C",
   "language": "python",
   "name": "python3"
  },
  "language_info": {
   "codemirror_mode": {
    "name": "ipython",
    "version": 3
   },
   "file_extension": ".py",
   "mimetype": "text/x-python",
   "name": "python",
   "nbconvert_exporter": "python",
   "pygments_lexer": "ipython3",
   "version": "3.11.6"
  }
 },
 "nbformat": 4,
 "nbformat_minor": 2
}
