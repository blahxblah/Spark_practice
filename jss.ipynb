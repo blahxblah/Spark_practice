{
 "cells": [
  {
   "cell_type": "code",
   "execution_count": 1,
   "metadata": {},
   "outputs": [],
   "source": [
    "import os\n",
    "import sys\n",
    "os.environ['PYSPARK_PYTHON'] = sys.executable\n",
    "os.environ['PYSPARK_DRIVER_PYTHON'] = sys.executable"
   ]
  },
  {
   "cell_type": "code",
   "execution_count": 2,
   "metadata": {},
   "outputs": [
    {
     "name": "stderr",
     "output_type": "stream",
     "text": [
      "131072x1 화면 크기가 잘못됐습니다. 문제가 예상됩니다\n",
      "23/12/11 00:31:05 WARN Utils: Your hostname, KJH-DESKTOP resolves to a loopback address: 127.0.1.1; using 192.168.69.220 instead (on interface eth0)\n",
      "23/12/11 00:31:05 WARN Utils: Set SPARK_LOCAL_IP if you need to bind to another address\n",
      "Setting default log level to \"WARN\".\n",
      "To adjust logging level use sc.setLogLevel(newLevel). For SparkR, use setLogLevel(newLevel).\n",
      "23/12/11 00:31:06 WARN NativeCodeLoader: Unable to load native-hadoop library for your platform... using builtin-java classes where applicable\n",
      "                                                                                \r"
     ]
    },
    {
     "name": "stdout",
     "output_type": "stream",
     "text": [
      "+-------+------+----------------+--------------------+------------------+----------+------+----------+\n",
      "|movieId|userId|           title|              genres|               tag| timestamp|rating| timestamp|\n",
      "+-------+------+----------------+--------------------+------------------+----------+------+----------+\n",
      "|      1|  2483|Toy Story (1995)|Adventure|Animati...|     lots of heart|1229405305|   4.0|1229405222|\n",
      "|      1|  9262|Toy Story (1995)|Adventure|Animati...|     Os dois viram|1500229250|   4.5|1527796540|\n",
      "|      1| 16853|Toy Story (1995)|Adventure|Animati...|          humorous|1445294945|   3.5|1445294927|\n",
      "|      1| 16853|Toy Story (1995)|Adventure|Animati...|             pixar|1445294920|   3.5|1445294927|\n",
      "|      1| 31107|Toy Story (1995)|Adventure|Animati...|         animation|1430792017|   3.0|1195850074|\n",
      "|      1| 31107|Toy Story (1995)|Adventure|Animati...|            family|1430792017|   3.0|1195850074|\n",
      "|      1| 31107|Toy Story (1995)|Adventure|Animati...|            sci-fi|1430792017|   3.0|1195850074|\n",
      "|      1| 48053|Toy Story (1995)|Adventure|Animati...|       buddy movie|1591400439|   3.0|1609085195|\n",
      "|      1| 48053|Toy Story (1995)|Adventure|Animati...|           cartoon|1591400374|   3.0|1609085195|\n",
      "|      1| 48053|Toy Story (1995)|Adventure|Animati...|          children|1591400111|   3.0|1609085195|\n",
      "|      1| 48053|Toy Story (1995)|Adventure|Animati...|            clever|1591400409|   3.0|1609085195|\n",
      "|      1| 48053|Toy Story (1995)|Adventure|Animati...|            family|1591729565|   3.0|1609085195|\n",
      "|      1| 48053|Toy Story (1995)|Adventure|Animati...|        friendship|1591400402|   3.0|1609085195|\n",
      "|      1| 48053|Toy Story (1995)|Adventure|Animati...|              kids|1591400393|   3.0|1609085195|\n",
      "|      1| 48053|Toy Story (1995)|Adventure|Animati...|         Tom Hanks|1591400398|   3.0|1609085195|\n",
      "|      1| 48053|Toy Story (1995)|Adventure|Animati...|             witty|1591400400|   3.0|1609085195|\n",
      "|      1| 70220|Toy Story (1995)|Adventure|Animati...|               fun|1425228504|   4.0|1425228353|\n",
      "|      1| 70220|Toy Story (1995)|Adventure|Animati...|    good animation|1425228504|   4.0|1425228353|\n",
      "|      1| 70220|Toy Story (1995)|Adventure|Animati...|lovable characters|1425228504|   4.0|1425228353|\n",
      "|      1| 82148|Toy Story (1995)|Adventure|Animati...|        Animation |1659642604|   4.0|1659642600|\n",
      "+-------+------+----------------+--------------------+------------------+----------+------+----------+\n",
      "only showing top 20 rows\n",
      "\n"
     ]
    },
    {
     "name": "stderr",
     "output_type": "stream",
     "text": [
      "                                                                                \r"
     ]
    },
    {
     "name": "stdout",
     "output_type": "stream",
     "text": [
      "1729292\n"
     ]
    },
    {
     "name": "stderr",
     "output_type": "stream",
     "text": [
      "                                                                                \r"
     ]
    },
    {
     "name": "stdout",
     "output_type": "stream",
     "text": [
      "+------+--------------------+-----------+----+\n",
      "|userId|                 tag|mean_rating|rank|\n",
      "+------+--------------------+-----------+----+\n",
      "|    78|         influential|        5.0|   1|\n",
      "|    78|          space epic|        5.0|   1|\n",
      "|   137|           emotional|        5.0|   1|\n",
      "|   137|       new york city|        5.0|   1|\n",
      "|   137|      Director's Cut|        5.0|   1|\n",
      "|   137|               music|        5.0|   1|\n",
      "|   137|   thought-provoking|        5.0|   1|\n",
      "|   137|       philosophical|        5.0|   1|\n",
      "|   137|              trippy|        5.0|   1|\n",
      "|   137|          reflective|        5.0|   1|\n",
      "|   137|     meaning of life|        5.0|   1|\n",
      "|   137|          love story|        5.0|   1|\n",
      "|   137|   Michelle Williams|        5.0|   1|\n",
      "|   137|        Ryan Gosling|        5.0|   1|\n",
      "|   137|   thought provoking|        5.0|   1|\n",
      "|   137|      theatrical cut|        5.0|   1|\n",
      "|   137|character develop...|        5.0|   1|\n",
      "|   137|       philip k dick|        5.0|   1|\n",
      "|   137|   social commentary|        5.0|   1|\n",
      "|   137|          psychology|        5.0|   1|\n",
      "+------+--------------------+-----------+----+\n",
      "only showing top 20 rows\n",
      "\n"
     ]
    },
    {
     "name": "stderr",
     "output_type": "stream",
     "text": [
      "                                                                                \r"
     ]
    },
    {
     "name": "stdout",
     "output_type": "stream",
     "text": [
      "+------+--------------------+-----------+\n",
      "|userId|                 tag|mean_rating|\n",
      "+------+--------------------+-----------+\n",
      "|    26|           cult film|        4.5|\n",
      "|    26|               crime|        4.5|\n",
      "|    26|   quentin tarantino|        4.5|\n",
      "|    78|          space epic|        5.0|\n",
      "|    78|         influential|        5.0|\n",
      "|   137|         rotoscoping|        5.0|\n",
      "|   137|          slow paced|        5.0|\n",
      "|   137|     dialogue driven|        5.0|\n",
      "|   137|surprisingly touc...|        5.0|\n",
      "|   137|         good sequel|        5.0|\n",
      "|   137|           adventure|        5.0|\n",
      "|   137|               bleak|        5.0|\n",
      "|   137|  Visually appealing|        5.0|\n",
      "|   137|actor talks to au...|        5.0|\n",
      "|   137|                time|        5.0|\n",
      "|   137|  beautifully filmed|        5.0|\n",
      "|   137|     Natalie Portman|        5.0|\n",
      "|   137|             wistful|        5.0|\n",
      "|   137|         apocalyptic|        5.0|\n",
      "|   137|           ambitious|        5.0|\n",
      "+------+--------------------+-----------+\n",
      "only showing top 20 rows\n",
      "\n"
     ]
    },
    {
     "name": "stderr",
     "output_type": "stream",
     "text": [
      "                                                                                \r"
     ]
    },
    {
     "name": "stdout",
     "output_type": "stream",
     "text": [
      "+------+--------------------+-----------+----+\n",
      "|userId|                 tag|mean_rating|rank|\n",
      "+------+--------------------+-----------+----+\n",
      "|215490|      scientist hero|        0.5|1696|\n",
      "|215490|          naturalist|        0.5|1696|\n",
      "|215490|        power cosmic|        0.5|1696|\n",
      "|215490|   reference to aang|        0.5|1696|\n",
      "|215490|  fake haunted house|        0.5|1696|\n",
      "|215490| trapped beneath ice|        0.5|1696|\n",
      "|215490|      building owner|        0.5|1696|\n",
      "|215490|  watching tv in bed|        0.5|1696|\n",
      "|215490|       floor cleaner|        0.5|1696|\n",
      "|215490|reference to mr. ...|        0.5|1696|\n",
      "|215490|     creepy landlord|        0.5|1696|\n",
      "|215490|killed with a nai...|        0.5|1696|\n",
      "|215490|reference to clar...|        0.5|1696|\n",
      "|215490|reference to mich...|        0.5|1696|\n",
      "|215490|      america online|        0.5|1696|\n",
      "|215490|  nail gun as weapon|        0.5|1696|\n",
      "|215490|shot with a nail gun|        0.5|1696|\n",
      "|215490|reference to prid...|        0.5|1696|\n",
      "|215490|tying one's shoel...|        0.5|1696|\n",
      "|215490|        closing down|        0.5|1696|\n",
      "+------+--------------------+-----------+----+\n",
      "only showing top 20 rows\n",
      "\n"
     ]
    },
    {
     "name": "stderr",
     "output_type": "stream",
     "text": [
      "23/12/11 00:32:18 WARN WindowExec: No Partition Defined for Window operation! Moving all data to a single partition, this can cause serious performance degradation.\n",
      "23/12/11 00:32:18 WARN WindowExec: No Partition Defined for Window operation! Moving all data to a single partition, this can cause serious performance degradation.\n",
      "23/12/11 00:32:18 WARN WindowExec: No Partition Defined for Window operation! Moving all data to a single partition, this can cause serious performance degradation.\n",
      "23/12/11 00:32:22 WARN WindowExec: No Partition Defined for Window operation! Moving all data to a single partition, this can cause serious performance degradation.\n",
      "23/12/11 00:32:22 WARN WindowExec: No Partition Defined for Window operation! Moving all data to a single partition, this can cause serious performance degradation.\n",
      "23/12/11 00:32:23 WARN WindowExec: No Partition Defined for Window operation! Moving all data to a single partition, this can cause serious performance degradation.\n",
      "23/12/11 00:32:23 WARN WindowExec: No Partition Defined for Window operation! Moving all data to a single partition, this can cause serious performance degradation.\n",
      "23/12/11 00:32:23 WARN WindowExec: No Partition Defined for Window operation! Moving all data to a single partition, this can cause serious performance degradation.\n",
      "23/12/11 00:32:23 WARN WindowExec: No Partition Defined for Window operation! Moving all data to a single partition, this can cause serious performance degradation.\n",
      "23/12/11 00:32:28 WARN WindowExec: No Partition Defined for Window operation! Moving all data to a single partition, this can cause serious performance degradation.\n",
      "23/12/11 00:32:28 WARN WindowExec: No Partition Defined for Window operation! Moving all data to a single partition, this can cause serious performance degradation.\n",
      "23/12/11 00:32:28 WARN WindowExec: No Partition Defined for Window operation! Moving all data to a single partition, this can cause serious performance degradation.\n",
      "23/12/11 00:32:28 WARN WindowExec: No Partition Defined for Window operation! Moving all data to a single partition, this can cause serious performance degradation.\n",
      "23/12/11 00:32:28 WARN WindowExec: No Partition Defined for Window operation! Moving all data to a single partition, this can cause serious performance degradation.\n"
     ]
    },
    {
     "name": "stdout",
     "output_type": "stream",
     "text": [
      "+--------------------+-----------+----+\n",
      "|                 tag|mean_rating|rank|\n",
      "+--------------------+-----------+----+\n",
      "|hate love relatio...|        5.0|   1|\n",
      "|             fuck it|        5.0|   1|\n",
      "|  adios turd nuggets|        5.0|   1|\n",
      "|         clubedaluta|        5.0|   1|\n",
      "|tradition and cus...|        5.0|   1|\n",
      "|       Thomas Gibson|        5.0|   1|\n",
      "|           Mark Addy|        5.0|   1|\n",
      "|        Middle child|        5.0|   1|\n",
      "|       show and tell|        5.0|   1|\n",
      "|mutual assured de...|        5.0|   1|\n",
      "|          disbarment|        5.0|   1|\n",
      "|Director: Leo McC...|        5.0|   1|\n",
      "| high blood pressure|        5.0|   1|\n",
      "|           Sid James|        5.0|   1|\n",
      "|      fascist regime|        5.0|   1|\n",
      "|          Atsuya Uki|        5.0|   1|\n",
      "|Pop culture refer...|        5.0|   1|\n",
      "|  literary narration|        5.0|   1|\n",
      "|   funy and touching|        5.0|   1|\n",
      "|     motion sickness|        5.0|   1|\n",
      "+--------------------+-----------+----+\n",
      "only showing top 20 rows\n",
      "\n"
     ]
    },
    {
     "name": "stderr",
     "output_type": "stream",
     "text": [
      "23/12/11 00:32:32 WARN WindowExec: No Partition Defined for Window operation! Moving all data to a single partition, this can cause serious performance degradation.\n",
      "23/12/11 00:32:32 WARN WindowExec: No Partition Defined for Window operation! Moving all data to a single partition, this can cause serious performance degradation.\n",
      "23/12/11 00:32:33 WARN WindowExec: No Partition Defined for Window operation! Moving all data to a single partition, this can cause serious performance degradation.\n",
      "23/12/11 00:32:33 WARN WindowExec: No Partition Defined for Window operation! Moving all data to a single partition, this can cause serious performance degradation.\n",
      "23/12/11 00:32:33 WARN WindowExec: No Partition Defined for Window operation! Moving all data to a single partition, this can cause serious performance degradation.\n",
      "23/12/11 00:32:33 WARN WindowExec: No Partition Defined for Window operation! Moving all data to a single partition, this can cause serious performance degradation.\n",
      "23/12/11 00:32:37 WARN WindowExec: No Partition Defined for Window operation! Moving all data to a single partition, this can cause serious performance degradation.\n",
      "23/12/11 00:32:37 WARN WindowExec: No Partition Defined for Window operation! Moving all data to a single partition, this can cause serious performance degradation.\n",
      "23/12/11 00:32:37 WARN WindowExec: No Partition Defined for Window operation! Moving all data to a single partition, this can cause serious performance degradation.\n",
      "23/12/11 00:32:37 WARN WindowExec: No Partition Defined for Window operation! Moving all data to a single partition, this can cause serious performance degradation.\n",
      "23/12/11 00:32:37 WARN WindowExec: No Partition Defined for Window operation! Moving all data to a single partition, this can cause serious performance degradation.\n",
      "23/12/11 00:32:37 WARN WindowExec: No Partition Defined for Window operation! Moving all data to a single partition, this can cause serious performance degradation.\n",
      "23/12/11 00:32:37 WARN WindowExec: No Partition Defined for Window operation! Moving all data to a single partition, this can cause serious performance degradation.\n",
      "23/12/11 00:32:41 WARN WindowExec: No Partition Defined for Window operation! Moving all data to a single partition, this can cause serious performance degradation.\n",
      "23/12/11 00:32:41 WARN WindowExec: No Partition Defined for Window operation! Moving all data to a single partition, this can cause serious performance degradation.\n",
      "23/12/11 00:32:42 WARN WindowExec: No Partition Defined for Window operation! Moving all data to a single partition, this can cause serious performance degradation.\n",
      "23/12/11 00:32:42 WARN WindowExec: No Partition Defined for Window operation! Moving all data to a single partition, this can cause serious performance degradation.\n",
      "23/12/11 00:32:42 WARN WindowExec: No Partition Defined for Window operation! Moving all data to a single partition, this can cause serious performance degradation.\n",
      "23/12/11 00:32:42 WARN WindowExec: No Partition Defined for Window operation! Moving all data to a single partition, this can cause serious performance degradation.\n",
      "23/12/11 00:32:46 WARN WindowExec: No Partition Defined for Window operation! Moving all data to a single partition, this can cause serious performance degradation.\n",
      "23/12/11 00:32:46 WARN WindowExec: No Partition Defined for Window operation! Moving all data to a single partition, this can cause serious performance degradation.\n",
      "23/12/11 00:32:46 WARN WindowExec: No Partition Defined for Window operation! Moving all data to a single partition, this can cause serious performance degradation.\n",
      "23/12/11 00:32:46 WARN WindowExec: No Partition Defined for Window operation! Moving all data to a single partition, this can cause serious performance degradation.\n",
      "                                                                                \r"
     ]
    },
    {
     "name": "stdout",
     "output_type": "stream",
     "text": [
      "+--------------------+-----------+----+\n",
      "|                 tag|mean_rating|rank|\n",
      "+--------------------+-----------+----+\n",
      "|         tree hugger|        0.5|5515|\n",
      "|            web-star|        0.5|5515|\n",
      "|     wheelchair jump|        0.5|5515|\n",
      "|         overhearing|        0.5|5515|\n",
      "|        Killing baby|        0.5|5515|\n",
      "|         incoherence|        0.5|5515|\n",
      "|      hell's kitchen|        0.5|5515|\n",
      "| ben urich character|        0.5|5515|\n",
      "|animal wearing cl...|        0.5|5515|\n",
      "|           dribbling|        0.5|5515|\n",
      "|quentin tarantino...|        0.5|5515|\n",
      "|              siesta|        0.5|5515|\n",
      "|       petting a dog|        0.5|5515|\n",
      "|   Justin timberlake|        0.5|5515|\n",
      "|elektra natchios ...|        0.5|5515|\n",
      "|      special prison|        0.5|5515|\n",
      "|cut in half by a ...|        0.5|5515|\n",
      "|gruesome (torture...|        0.5|5515|\n",
      "|why would you was...|        0.5|5515|\n",
      "|     teen indulgence|        0.5|5515|\n",
      "+--------------------+-----------+----+\n",
      "only showing top 20 rows\n",
      "\n"
     ]
    },
    {
     "name": "stderr",
     "output_type": "stream",
     "text": [
      "23/12/11 00:33:02 WARN DAGScheduler: Broadcasting large task binary with size 4.7 MiB\n",
      "                                                                                \r"
     ]
    },
    {
     "name": "stdout",
     "output_type": "stream",
     "text": [
      "0.02395415506103178\n"
     ]
    }
   ],
   "source": [
    "from pyspark.sql import SparkSession\n",
    "from pyspark.sql import Window\n",
    "from pyspark.sql.functions import col,avg,dense_rank\n",
    "from pyspark.sql.functions import corr\n",
    "from pyspark.ml.feature import StringIndexer, OneHotEncoder\n",
    "from pyspark.ml.linalg import Vectors\n",
    "from pyspark.sql import functions as F\n",
    "from pyspark.sql.functions import udf\n",
    "from pyspark.ml.linalg import SparseVector\n",
    "from pyspark.sql.types import DoubleType\n",
    "spark = SparkSession.builder.appName(\"MovieTags\").getOrCreate()\n",
    "movie = spark.read.csv(\"file:///home/kjh/data/ml-latest/movies.csv\", header=True, inferSchema=True)\n",
    "tag=spark.read.csv(\"file:///home/kjh/data/ml-latest/tags.csv\", header=True, inferSchema=True)\n",
    "rating=spark.read.csv(\"file:///home/kjh/data/ml-latest/ratings.csv\", header=True, inferSchema=True)\n",
    "join_data = movie.join(tag,on=\"movieId\",how='Inner')\n",
    "total_data = join_data.join(rating,on=['movieId','userId'],how=\"Inner\")\n",
    "total_data.show()\n",
    "print(total_data.count())\n",
    "mean_by_user = total_data.groupBy(['userId', 'tag']).agg(avg('rating').alias('mean_rating'))\n",
    "windowSpec = Window.partitionBy('userId').orderBy(mean_by_user['mean_rating'].desc())\n",
    "mean_by_user_ranked = mean_by_user.withColumn('rank', dense_rank().over(windowSpec))\n",
    "mean_by_user_ranked.show()\n",
    "top_tags_by_user = mean_by_user_ranked.filter(col('rank') == 1).select('userId', 'tag', 'mean_rating')\n",
    "top_tags_by_user.show()\n",
    "# 최고 순위 확인\n",
    "max_rank = mean_by_user_ranked.groupBy().max('rank').collect()[0][0]\n",
    "# 최고 순위인 데이터 가져오기\n",
    "top_ranked_users = mean_by_user_ranked.filter(mean_by_user_ranked['rank'] == max_rank)\n",
    "top_ranked_users.show()\n",
    "mean_by_tag = total_data.groupBy('tag').agg(avg('rating').alias('mean_rating'))\n",
    "windowSpec = Window.orderBy(mean_by_tag['mean_rating'].desc())\n",
    "mean_by_tag_ranked = mean_by_tag.withColumn('rank', dense_rank().over(windowSpec))\n",
    "mean_by_tag_ranked.show()\n",
    "# mean_by_tag와 그룹화된 rank의 최대값을 얻습니다.\n",
    "tag_max_rank = mean_by_tag_ranked.groupBy().max('rank').collect()[0][0]\n",
    "# 최하위 순위인 데이터를 얻습니다.\n",
    "bottom_ranked_tag = mean_by_tag_ranked.filter(mean_by_tag_ranked['rank'] == tag_max_rank)\n",
    "bottom_ranked_tag.show()\n",
    "# 'tag' 컬럼을 수치형으로 변환\n",
    "indexer = StringIndexer(inputCol='tag', outputCol='tag_index')\n",
    "indexed = indexer.fit(total_data).transform(total_data)\n",
    "# OneHotEncoder를 사용하여 수치형 컬럼을 원-핫 인코딩\n",
    "encoder = OneHotEncoder(inputCol='tag_index', outputCol='tag_encoded')\n",
    "encoded = encoder.fit(indexed).transform(indexed)\n",
    "# 첫 번째 값을 추출하는 UDF (User Defined Function) 생성\n",
    "first_value_udf = udf(lambda x: float(x[0]), DoubleType())\n",
    "# 'tag_encoded' 컬럼의 첫 번째 값을 'tag_encoded_value' 컬럼에 추가\n",
    "encoded = encoded.withColumn('tag_encoded_value', first_value_udf('tag_encoded'))\n",
    "# 코릴레이션 계산을 위한 준비\n",
    "correlation = encoded.withColumn('rating_double', F.col('rating').cast('double'))\n",
    "# 코릴레이션 계산\n",
    "result = correlation.select(F.corr('tag_encoded_value', 'rating_double')).collect()[0][0]\n",
    "print(result)\n",
    "spark.stop()"
   ]
  }
 ],
 "metadata": {
  "kernelspec": {
   "display_name": "kjh-4pV5HF-C",
   "language": "python",
   "name": "python3"
  },
  "language_info": {
   "codemirror_mode": {
    "name": "ipython",
    "version": 3
   },
   "file_extension": ".py",
   "mimetype": "text/x-python",
   "name": "python",
   "nbconvert_exporter": "python",
   "pygments_lexer": "ipython3",
   "version": "3.12.1"
  }
 },
 "nbformat": 4,
 "nbformat_minor": 2
}
