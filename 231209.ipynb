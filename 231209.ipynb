{
 "cells": [
  {
   "cell_type": "markdown",
   "metadata": {},
   "source": [
    "## Pandas API on Spark 사용해보기"
   ]
  },
  {
   "cell_type": "markdown",
   "metadata": {},
   "source": [
    "- 유저 별로 많이 사용한 태그 상위 3개를 구하기\n",
    "- 유저 별로 상위 3개 태그가 포함된 영화들과 포함되지 않은 영화들의 평균평점을 각각 구하기\n",
    "- 만약, 태그가 포함된 영화들의 평균평점이 포함되지 않은 영화들의 평균평점보다 높다면\n",
    "\n",
    "  =>해당 유저는 상위 태그에 대한 선호가 있고, 해당 태그를 가지는 영화를 찾아보려는 경향이 있음"
   ]
  },
  {
   "cell_type": "code",
   "execution_count": 1,
   "metadata": {},
   "outputs": [],
   "source": [
    "# 스파크 드라이버와 워커의 파이썬 버전이 다를 경우, \n",
    "# PYSPARK_PYTHON 와 PYSPARK_DRIVER_PYTHON 를 환경변수 지정 \n",
    "# 예시 : .zshrc 파일에 아래 코드 입력\n",
    "#           export PYSPARK_PYTHON=$HOME/.pyenv/versions/3.12.1/bin/python3.12\n",
    "#           export PYSPARK_DRIVER_PYTHON=$HOME/.pyenv/versions/3.12.1/bin/python3.12\n",
    "# 위의 설정을 해도 오류가 날 경우, 스크립트에 아래 코드 입력\n",
    "import os\n",
    "import sys\n",
    "os.environ['PYSPARK_PYTHON'] = sys.executable\n",
    "os.environ['PYSPARK_DRIVER_PYTHON'] = sys.executable"
   ]
  },
  {
   "cell_type": "code",
   "execution_count": 2,
   "metadata": {},
   "outputs": [
    {
     "name": "stderr",
     "output_type": "stream",
     "text": [
      "131072x1 화면 크기가 잘못됐습니다. 문제가 예상됩니다\n",
      "23/12/11 21:00:38 WARN Utils: Your hostname, KJH-DESKTOP resolves to a loopback address: 127.0.1.1; using 192.168.69.220 instead (on interface eth0)\n",
      "23/12/11 21:00:38 WARN Utils: Set SPARK_LOCAL_IP if you need to bind to another address\n",
      "Setting default log level to \"WARN\".\n",
      "To adjust logging level use sc.setLogLevel(newLevel). For SparkR, use setLogLevel(newLevel).\n",
      "23/12/11 21:00:40 WARN NativeCodeLoader: Unable to load native-hadoop library for your platform... using builtin-java classes where applicable\n"
     ]
    }
   ],
   "source": [
    "# 스파크 세션 생성\n",
    "from pyspark.sql import SparkSession\n",
    "\n",
    "spark = SparkSession.builder \\\n",
    "    .appName(\"Spark study - 231209\") \\\n",
    "    .getOrCreate()"
   ]
  },
  {
   "cell_type": "code",
   "execution_count": 3,
   "metadata": {},
   "outputs": [
    {
     "name": "stderr",
     "output_type": "stream",
     "text": [
      "                                                                                \r"
     ]
    }
   ],
   "source": [
    "# 데이터프레임 생성\n",
    "df_genome_scores = spark.read.csv(\"file:///home/kjh/data/ml-latest/genome-scores.csv\", header=True, inferSchema=True)\n",
    "df_genome_tags = spark.read.csv(\"file:///home/kjh/data/ml-latest/genome-tags.csv\", header=True, inferSchema=True)\n",
    "df_movies = spark.read.csv(\"file:///home/kjh/data/ml-latest/movies.csv\", header=True, inferSchema=True)\n",
    "df_links = spark.read.csv(\"file:///home/kjh/data/ml-latest/links.csv\", header=True, inferSchema=True)\n",
    "df_ratings = spark.read.csv(\"file:///home/kjh/data/ml-latest/ratings.csv\", header=True, inferSchema=True)\n",
    "df_tags = spark.read.csv(\"file:///home/kjh/data/ml-latest/tags.csv\", header=True, inferSchema=True)"
   ]
  },
  {
   "cell_type": "code",
   "execution_count": 4,
   "metadata": {},
   "outputs": [
    {
     "name": "stdout",
     "output_type": "stream",
     "text": [
      "+------+-------+------+----------+\n",
      "|userId|movieId|rating| timestamp|\n",
      "+------+-------+------+----------+\n",
      "|     1|      1|   4.0|1225734739|\n",
      "|     1|    110|   4.0|1225865086|\n",
      "|     1|    158|   4.0|1225733503|\n",
      "|     1|    260|   4.5|1225735204|\n",
      "+------+-------+------+----------+\n",
      "only showing top 4 rows\n",
      "\n",
      "+------+-------+-------------+----------+\n",
      "|userId|movieId|          tag| timestamp|\n",
      "+------+-------+-------------+----------+\n",
      "|    10|    260| good vs evil|1430666558|\n",
      "|    10|    260|Harrison Ford|1430666505|\n",
      "|    10|    260|       sci-fi|1430666538|\n",
      "|    14|   1221|    Al Pacino|1311600756|\n",
      "+------+-------+-------------+----------+\n",
      "only showing top 4 rows\n",
      "\n"
     ]
    }
   ],
   "source": [
    "# 필요한 데이터프레임 확인\n",
    "df_ratings.show(4)\n",
    "df_tags.show(4)"
   ]
  },
  {
   "cell_type": "code",
   "execution_count": 5,
   "metadata": {},
   "outputs": [
    {
     "name": "stderr",
     "output_type": "stream",
     "text": [
      "/home/kjh/.local/share/virtualenvs/kjh-4pV5HF-C/lib/python3.12/site-packages/pyspark/pandas/__init__.py:50: UserWarning: 'PYARROW_IGNORE_TIMEZONE' environment variable was not set. It is required to set this environment variable to '1' in both driver and executor sides if you use pyarrow>=2.0.0. pandas-on-Spark will set it for you but it does not work if there is a Spark context already launched.\n",
      "  warnings.warn(\n"
     ]
    }
   ],
   "source": [
    "# Pandas API on Spark 사용\n",
    "import pandas as pd\n",
    "import numpy as np\n",
    "import pyspark.pandas as ps"
   ]
  },
  {
   "cell_type": "code",
   "execution_count": 6,
   "metadata": {},
   "outputs": [],
   "source": [
    "# 스파크 데이터프레임을 판다스 on Spark 데이터프레임으로 변환\n",
    "psdf_ratings = df_ratings.pandas_api()\n",
    "psdf_tags = df_tags.pandas_api()"
   ]
  },
  {
   "cell_type": "code",
   "execution_count": 7,
   "metadata": {},
   "outputs": [
    {
     "name": "stderr",
     "output_type": "stream",
     "text": [
      "                                                                                \r"
     ]
    },
    {
     "data": {
      "text/html": [
       "<div>\n",
       "<style scoped>\n",
       "    .dataframe tbody tr th:only-of-type {\n",
       "        vertical-align: middle;\n",
       "    }\n",
       "\n",
       "    .dataframe tbody tr th {\n",
       "        vertical-align: top;\n",
       "    }\n",
       "\n",
       "    .dataframe thead th {\n",
       "        text-align: right;\n",
       "    }\n",
       "</style>\n",
       "<table border=\"1\" class=\"dataframe\">\n",
       "  <thead>\n",
       "    <tr style=\"text-align: right;\">\n",
       "      <th></th>\n",
       "      <th>userId</th>\n",
       "      <th>movieId</th>\n",
       "      <th>rating</th>\n",
       "      <th>timestamp</th>\n",
       "    </tr>\n",
       "  </thead>\n",
       "  <tbody>\n",
       "    <tr>\n",
       "      <th>0</th>\n",
       "      <td>1</td>\n",
       "      <td>1</td>\n",
       "      <td>4.0</td>\n",
       "      <td>1225734739</td>\n",
       "    </tr>\n",
       "    <tr>\n",
       "      <th>1</th>\n",
       "      <td>1</td>\n",
       "      <td>110</td>\n",
       "      <td>4.0</td>\n",
       "      <td>1225865086</td>\n",
       "    </tr>\n",
       "    <tr>\n",
       "      <th>2</th>\n",
       "      <td>1</td>\n",
       "      <td>158</td>\n",
       "      <td>4.0</td>\n",
       "      <td>1225733503</td>\n",
       "    </tr>\n",
       "    <tr>\n",
       "      <th>3</th>\n",
       "      <td>1</td>\n",
       "      <td>260</td>\n",
       "      <td>4.5</td>\n",
       "      <td>1225735204</td>\n",
       "    </tr>\n",
       "    <tr>\n",
       "      <th>4</th>\n",
       "      <td>1</td>\n",
       "      <td>356</td>\n",
       "      <td>5.0</td>\n",
       "      <td>1225735119</td>\n",
       "    </tr>\n",
       "  </tbody>\n",
       "</table>\n",
       "</div>"
      ],
      "text/plain": [
       "   userId  movieId  rating   timestamp\n",
       "0       1        1     4.0  1225734739\n",
       "1       1      110     4.0  1225865086\n",
       "2       1      158     4.0  1225733503\n",
       "3       1      260     4.5  1225735204\n",
       "4       1      356     5.0  1225735119"
      ]
     },
     "execution_count": 7,
     "metadata": {},
     "output_type": "execute_result"
    }
   ],
   "source": [
    "# 위의 df_ratings 와 비교 시 출력모양 다름. 출력메소드 차이(show()와 head())\n",
    "psdf_ratings.head()"
   ]
  },
  {
   "cell_type": "code",
   "execution_count": 10,
   "metadata": {},
   "outputs": [],
   "source": [
    "# to_datetime 메소드 : timestapmp 를 datetime 형식으로 변환\n",
    "# errors='coerce' : 변환 과정에서 오류가 발생하면 그 행은 무시하고 진행. 주로 변환할 수 없는 값이 나왔을 시 오류발생. 그 값은 NaT로 대체\n",
    "# unit='s' : timestamp 의 단위 지정 's' 는 초 단위\n",
    "psdf_ratings['rating_datetime'] = ps.to_datetime(psdf_ratings['timestamp'], errors='coerce', unit='s')\n",
    "psdf_tags['tag_datetime'] = ps.to_datetime(psdf_tags['timestamp'], errors='coerce', unit='s')"
   ]
  },
  {
   "cell_type": "code",
   "execution_count": 11,
   "metadata": {},
   "outputs": [
    {
     "name": "stderr",
     "output_type": "stream",
     "text": [
      "                                                                                \r"
     ]
    },
    {
     "data": {
      "text/html": [
       "<div>\n",
       "<style scoped>\n",
       "    .dataframe tbody tr th:only-of-type {\n",
       "        vertical-align: middle;\n",
       "    }\n",
       "\n",
       "    .dataframe tbody tr th {\n",
       "        vertical-align: top;\n",
       "    }\n",
       "\n",
       "    .dataframe thead th {\n",
       "        text-align: right;\n",
       "    }\n",
       "</style>\n",
       "<table border=\"1\" class=\"dataframe\">\n",
       "  <thead>\n",
       "    <tr style=\"text-align: right;\">\n",
       "      <th></th>\n",
       "      <th>userId</th>\n",
       "      <th>movieId</th>\n",
       "      <th>rating</th>\n",
       "      <th>timestamp</th>\n",
       "      <th>rating_datetime</th>\n",
       "    </tr>\n",
       "  </thead>\n",
       "  <tbody>\n",
       "    <tr>\n",
       "      <th>0</th>\n",
       "      <td>1</td>\n",
       "      <td>1</td>\n",
       "      <td>4.0</td>\n",
       "      <td>1225734739</td>\n",
       "      <td>2008-11-03 17:52:19</td>\n",
       "    </tr>\n",
       "    <tr>\n",
       "      <th>1</th>\n",
       "      <td>1</td>\n",
       "      <td>110</td>\n",
       "      <td>4.0</td>\n",
       "      <td>1225865086</td>\n",
       "      <td>2008-11-05 06:04:46</td>\n",
       "    </tr>\n",
       "    <tr>\n",
       "      <th>2</th>\n",
       "      <td>1</td>\n",
       "      <td>158</td>\n",
       "      <td>4.0</td>\n",
       "      <td>1225733503</td>\n",
       "      <td>2008-11-03 17:31:43</td>\n",
       "    </tr>\n",
       "    <tr>\n",
       "      <th>3</th>\n",
       "      <td>1</td>\n",
       "      <td>260</td>\n",
       "      <td>4.5</td>\n",
       "      <td>1225735204</td>\n",
       "      <td>2008-11-03 18:00:04</td>\n",
       "    </tr>\n",
       "    <tr>\n",
       "      <th>4</th>\n",
       "      <td>1</td>\n",
       "      <td>356</td>\n",
       "      <td>5.0</td>\n",
       "      <td>1225735119</td>\n",
       "      <td>2008-11-03 17:58:39</td>\n",
       "    </tr>\n",
       "  </tbody>\n",
       "</table>\n",
       "</div>"
      ],
      "text/plain": [
       "   userId  movieId  rating   timestamp     rating_datetime\n",
       "0       1        1     4.0  1225734739 2008-11-03 17:52:19\n",
       "1       1      110     4.0  1225865086 2008-11-05 06:04:46\n",
       "2       1      158     4.0  1225733503 2008-11-03 17:31:43\n",
       "3       1      260     4.5  1225735204 2008-11-03 18:00:04\n",
       "4       1      356     5.0  1225735119 2008-11-03 17:58:39"
      ]
     },
     "execution_count": 11,
     "metadata": {},
     "output_type": "execute_result"
    }
   ],
   "source": [
    "psdf_ratings.head()"
   ]
  },
  {
   "cell_type": "code",
   "execution_count": 13,
   "metadata": {},
   "outputs": [],
   "source": [
    "# drop() : timestamp 컬럼 삭제\n",
    "# axis : 삭제 기준 설정. 0은 행 기준, 1은 컬럼 기준. 기본값은 0\n",
    "psdf_ratings = psdf_ratings.drop('timestamp', axis=1)\n",
    "psdf_tags = psdf_tags.drop('timestamp', axis=1)"
   ]
  },
  {
   "cell_type": "code",
   "execution_count": 14,
   "metadata": {},
   "outputs": [
    {
     "name": "stderr",
     "output_type": "stream",
     "text": [
      "                                                                                \r"
     ]
    },
    {
     "data": {
      "text/html": [
       "<div>\n",
       "<style scoped>\n",
       "    .dataframe tbody tr th:only-of-type {\n",
       "        vertical-align: middle;\n",
       "    }\n",
       "\n",
       "    .dataframe tbody tr th {\n",
       "        vertical-align: top;\n",
       "    }\n",
       "\n",
       "    .dataframe thead th {\n",
       "        text-align: right;\n",
       "    }\n",
       "</style>\n",
       "<table border=\"1\" class=\"dataframe\">\n",
       "  <thead>\n",
       "    <tr style=\"text-align: right;\">\n",
       "      <th></th>\n",
       "      <th>userId</th>\n",
       "      <th>movieId</th>\n",
       "      <th>tag</th>\n",
       "      <th>tag_datetime</th>\n",
       "    </tr>\n",
       "  </thead>\n",
       "  <tbody>\n",
       "    <tr>\n",
       "      <th>0</th>\n",
       "      <td>10</td>\n",
       "      <td>260</td>\n",
       "      <td>good vs evil</td>\n",
       "      <td>2015-05-03 15:21:36</td>\n",
       "    </tr>\n",
       "    <tr>\n",
       "      <th>1</th>\n",
       "      <td>10</td>\n",
       "      <td>260</td>\n",
       "      <td>Harrison Ford</td>\n",
       "      <td>2015-05-03 15:21:36</td>\n",
       "    </tr>\n",
       "    <tr>\n",
       "      <th>2</th>\n",
       "      <td>10</td>\n",
       "      <td>260</td>\n",
       "      <td>sci-fi</td>\n",
       "      <td>2015-05-03 15:21:36</td>\n",
       "    </tr>\n",
       "    <tr>\n",
       "      <th>3</th>\n",
       "      <td>14</td>\n",
       "      <td>1221</td>\n",
       "      <td>Al Pacino</td>\n",
       "      <td>2011-07-25 13:32:48</td>\n",
       "    </tr>\n",
       "    <tr>\n",
       "      <th>4</th>\n",
       "      <td>14</td>\n",
       "      <td>1221</td>\n",
       "      <td>mafia</td>\n",
       "      <td>2011-07-25 13:32:48</td>\n",
       "    </tr>\n",
       "  </tbody>\n",
       "</table>\n",
       "</div>"
      ],
      "text/plain": [
       "   userId  movieId            tag        tag_datetime\n",
       "0      10      260   good vs evil 2015-05-03 15:21:36\n",
       "1      10      260  Harrison Ford 2015-05-03 15:21:36\n",
       "2      10      260         sci-fi 2015-05-03 15:21:36\n",
       "3      14     1221      Al Pacino 2011-07-25 13:32:48\n",
       "4      14     1221          mafia 2011-07-25 13:32:48"
      ]
     },
     "execution_count": 14,
     "metadata": {},
     "output_type": "execute_result"
    }
   ],
   "source": [
    "psdf_tags.head()"
   ]
  },
  {
   "cell_type": "code",
   "execution_count": 15,
   "metadata": {},
   "outputs": [],
   "source": [
    "# merge() : 데이터프레임 합치기\n",
    "psdf_user = ps.merge(psdf_ratings, psdf_tags, on=['userId', 'movieId'], how='inner')"
   ]
  },
  {
   "cell_type": "code",
   "execution_count": 16,
   "metadata": {},
   "outputs": [
    {
     "name": "stderr",
     "output_type": "stream",
     "text": [
      "23/12/11 21:01:38 WARN AttachDistributedSequenceExec: clean up cached RDD(116) in AttachDistributedSequenceExec(356)\n",
      "23/12/11 21:01:39 WARN AttachDistributedSequenceExec: clean up cached RDD(126) in AttachDistributedSequenceExec(361)\n",
      "                                                                                \r"
     ]
    },
    {
     "data": {
      "text/html": [
       "<div>\n",
       "<style scoped>\n",
       "    .dataframe tbody tr th:only-of-type {\n",
       "        vertical-align: middle;\n",
       "    }\n",
       "\n",
       "    .dataframe tbody tr th {\n",
       "        vertical-align: top;\n",
       "    }\n",
       "\n",
       "    .dataframe thead th {\n",
       "        text-align: right;\n",
       "    }\n",
       "</style>\n",
       "<table border=\"1\" class=\"dataframe\">\n",
       "  <thead>\n",
       "    <tr style=\"text-align: right;\">\n",
       "      <th></th>\n",
       "      <th>userId</th>\n",
       "      <th>movieId</th>\n",
       "      <th>rating</th>\n",
       "      <th>rating_datetime</th>\n",
       "      <th>tag</th>\n",
       "      <th>tag_datetime</th>\n",
       "    </tr>\n",
       "  </thead>\n",
       "  <tbody>\n",
       "    <tr>\n",
       "      <th>0</th>\n",
       "      <td>26</td>\n",
       "      <td>296</td>\n",
       "      <td>4.5</td>\n",
       "      <td>2015-04-18 22:59:59</td>\n",
       "      <td>crime</td>\n",
       "      <td>2015-04-18 23:15:12</td>\n",
       "    </tr>\n",
       "    <tr>\n",
       "      <th>1</th>\n",
       "      <td>26</td>\n",
       "      <td>296</td>\n",
       "      <td>4.5</td>\n",
       "      <td>2015-04-18 22:59:59</td>\n",
       "      <td>cult film</td>\n",
       "      <td>2015-04-18 23:15:12</td>\n",
       "    </tr>\n",
       "    <tr>\n",
       "      <th>2</th>\n",
       "      <td>26</td>\n",
       "      <td>296</td>\n",
       "      <td>4.5</td>\n",
       "      <td>2015-04-18 22:59:59</td>\n",
       "      <td>quentin tarantino</td>\n",
       "      <td>2015-04-18 23:15:12</td>\n",
       "    </tr>\n",
       "    <tr>\n",
       "      <th>3</th>\n",
       "      <td>37</td>\n",
       "      <td>1036</td>\n",
       "      <td>5.0</td>\n",
       "      <td>2020-01-04 18:53:43</td>\n",
       "      <td>action</td>\n",
       "      <td>2020-01-04 18:52:48</td>\n",
       "    </tr>\n",
       "    <tr>\n",
       "      <th>4</th>\n",
       "      <td>37</td>\n",
       "      <td>1036</td>\n",
       "      <td>5.0</td>\n",
       "      <td>2020-01-04 18:53:43</td>\n",
       "      <td>Alan Rickman</td>\n",
       "      <td>2020-01-04 18:54:56</td>\n",
       "    </tr>\n",
       "    <tr>\n",
       "      <th>5</th>\n",
       "      <td>37</td>\n",
       "      <td>1036</td>\n",
       "      <td>5.0</td>\n",
       "      <td>2020-01-04 18:53:43</td>\n",
       "      <td>classic</td>\n",
       "      <td>2020-01-04 18:54:56</td>\n",
       "    </tr>\n",
       "    <tr>\n",
       "      <th>6</th>\n",
       "      <td>37</td>\n",
       "      <td>1036</td>\n",
       "      <td>5.0</td>\n",
       "      <td>2020-01-04 18:53:43</td>\n",
       "      <td>tense</td>\n",
       "      <td>2020-01-04 18:54:56</td>\n",
       "    </tr>\n",
       "    <tr>\n",
       "      <th>7</th>\n",
       "      <td>37</td>\n",
       "      <td>69844</td>\n",
       "      <td>4.5</td>\n",
       "      <td>2020-01-04 20:03:48</td>\n",
       "      <td>Alan Rickman</td>\n",
       "      <td>2020-01-04 20:03:12</td>\n",
       "    </tr>\n",
       "    <tr>\n",
       "      <th>8</th>\n",
       "      <td>37</td>\n",
       "      <td>69844</td>\n",
       "      <td>4.5</td>\n",
       "      <td>2020-01-04 20:03:48</td>\n",
       "      <td>fantasy</td>\n",
       "      <td>2020-01-04 20:03:12</td>\n",
       "    </tr>\n",
       "    <tr>\n",
       "      <th>9</th>\n",
       "      <td>37</td>\n",
       "      <td>92259</td>\n",
       "      <td>5.0</td>\n",
       "      <td>2020-01-04 19:24:38</td>\n",
       "      <td>friendship</td>\n",
       "      <td>2020-01-04 19:24:48</td>\n",
       "    </tr>\n",
       "  </tbody>\n",
       "</table>\n",
       "</div>"
      ],
      "text/plain": [
       "   userId  movieId  rating     rating_datetime                tag        tag_datetime\n",
       "0      26      296     4.5 2015-04-18 22:59:59              crime 2015-04-18 23:15:12\n",
       "1      26      296     4.5 2015-04-18 22:59:59          cult film 2015-04-18 23:15:12\n",
       "2      26      296     4.5 2015-04-18 22:59:59  quentin tarantino 2015-04-18 23:15:12\n",
       "3      37     1036     5.0 2020-01-04 18:53:43             action 2020-01-04 18:52:48\n",
       "4      37     1036     5.0 2020-01-04 18:53:43       Alan Rickman 2020-01-04 18:54:56\n",
       "5      37     1036     5.0 2020-01-04 18:53:43            classic 2020-01-04 18:54:56\n",
       "6      37     1036     5.0 2020-01-04 18:53:43              tense 2020-01-04 18:54:56\n",
       "7      37    69844     4.5 2020-01-04 20:03:48       Alan Rickman 2020-01-04 20:03:12\n",
       "8      37    69844     4.5 2020-01-04 20:03:48            fantasy 2020-01-04 20:03:12\n",
       "9      37    92259     5.0 2020-01-04 19:24:38         friendship 2020-01-04 19:24:48"
      ]
     },
     "execution_count": 16,
     "metadata": {},
     "output_type": "execute_result"
    }
   ],
   "source": [
    "psdf_user.head(10)"
   ]
  },
  {
   "cell_type": "code",
   "execution_count": 18,
   "metadata": {},
   "outputs": [
    {
     "name": "stderr",
     "output_type": "stream",
     "text": [
      "23/12/11 21:02:30 WARN AttachDistributedSequenceExec: clean up cached RDD(242) in AttachDistributedSequenceExec(1480)\n",
      "23/12/11 21:02:31 WARN AttachDistributedSequenceExec: clean up cached RDD(252) in AttachDistributedSequenceExec(1485)\n",
      "                                                                                \r"
     ]
    },
    {
     "data": {
      "text/plain": [
       "userId             0\n",
       "movieId            0\n",
       "rating             0\n",
       "rating_datetime    0\n",
       "tag                0\n",
       "tag_datetime       3\n",
       "dtype: int64"
      ]
     },
     "execution_count": 18,
     "metadata": {},
     "output_type": "execute_result"
    }
   ],
   "source": [
    "# isna().sum() : 결측치 확인\n",
    "psdf_user.isna().sum()"
   ]
  },
  {
   "cell_type": "code",
   "execution_count": 19,
   "metadata": {},
   "outputs": [],
   "source": [
    "# dropna() : 결측치 제거\n",
    "psdf_user_dropna = psdf_user.dropna()"
   ]
  },
  {
   "cell_type": "code",
   "execution_count": 21,
   "metadata": {},
   "outputs": [],
   "source": [
    "# 각 유저 별 영화 갯수 추출\n",
    "user_movie_counts = psdf_user_dropna.groupby('userId')['movieId'].nunique()"
   ]
  },
  {
   "cell_type": "code",
   "execution_count": 22,
   "metadata": {},
   "outputs": [
    {
     "name": "stderr",
     "output_type": "stream",
     "text": [
      "/home/kjh/.local/share/virtualenvs/kjh-4pV5HF-C/lib/python3.12/site-packages/pyspark/pandas/utils.py:1016: PandasAPIOnSparkAdviceWarning: `to_numpy` loads all data into the driver's memory. It should only be used if the resulting NumPy ndarray is expected to be small.\n",
      "  warnings.warn(message, PandasAPIOnSparkAdviceWarning)\n",
      "23/12/11 21:03:00 WARN AttachDistributedSequenceExec: clean up cached RDD(310) in AttachDistributedSequenceExec(1978)\n",
      "23/12/11 21:03:01 WARN AttachDistributedSequenceExec: clean up cached RDD(320) in AttachDistributedSequenceExec(1983)\n",
      "                                                                                \r"
     ]
    }
   ],
   "source": [
    "# 영화 10개 이상 본 유저만 필터\n",
    "# Pandas API on Spark 는 기존 판다스와 다르게 index가 호환이 안되기 때문에 numpy로 바꿈\n",
    "user_movie_counts_10more = user_movie_counts[user_movie_counts >= 10].index.to_numpy()"
   ]
  },
  {
   "cell_type": "code",
   "execution_count": 24,
   "metadata": {},
   "outputs": [],
   "source": [
    "# 10개 이상 본 유저로 데이터프레임 필터링\n",
    "psdf_10more = psdf_user_dropna[psdf_user_dropna['userId'].isin(user_movie_counts_10more)]"
   ]
  },
  {
   "cell_type": "code",
   "execution_count": 26,
   "metadata": {},
   "outputs": [],
   "source": [
    "# sort_values() : userId 로 정렬\n",
    "psdf_orderbyuserId = psdf_10more.sort_values(by='userId')"
   ]
  },
  {
   "cell_type": "code",
   "execution_count": 29,
   "metadata": {},
   "outputs": [
    {
     "name": "stderr",
     "output_type": "stream",
     "text": [
      "/home/kjh/.local/share/virtualenvs/kjh-4pV5HF-C/lib/python3.12/site-packages/pyspark/pandas/utils.py:1016: PandasAPIOnSparkAdviceWarning: If the type hints is not specified for `groupby.apply`, it is expensive to infer the data type internally.\n",
      "  warnings.warn(message, PandasAPIOnSparkAdviceWarning)\n",
      "23/12/11 21:03:48 WARN AttachDistributedSequenceExec: clean up cached RDD(442) in AttachDistributedSequenceExec(3044)\n",
      "23/12/11 21:03:48 WARN AttachDistributedSequenceExec: clean up cached RDD(432) in AttachDistributedSequenceExec(3039)\n",
      "                                                                                \r"
     ]
    }
   ],
   "source": [
    "# 각 유저 별 빈도가 높은 상위 3개 tag 추출\n",
    "# userId와 tag를 기준으로 그룹화(groupby()) 하여 각 그룹의 크기를 계산(size()) 하고, 그것을 count 열로 저장(reset_index())\n",
    "tag_counts = psdf_orderbyuserId.groupby(['userId', 'tag']).size().reset_index(name='count')\n",
    "# userId 로 그룹화하여 count가 가장 높은 3개를 추출(nlargest())\n",
    "top_tags = tag_counts.groupby('userId').apply(lambda x: x.nlargest(3, 'count')).reset_index(drop=True)"
   ]
  },
  {
   "cell_type": "code",
   "execution_count": 30,
   "metadata": {},
   "outputs": [
    {
     "data": {
      "text/plain": [
       "pyspark.pandas.frame.DataFrame"
      ]
     },
     "execution_count": 30,
     "metadata": {},
     "output_type": "execute_result"
    }
   ],
   "source": [
    "# Pandas API on Spark 데이터프레임의 type\n",
    "type(top_tags)"
   ]
  },
  {
   "cell_type": "code",
   "execution_count": 31,
   "metadata": {},
   "outputs": [],
   "source": [
    "# 상위 태그 중 의미없는 카운트 1은 제외\n",
    "top_tags_drop1 = top_tags.query('count != 1')"
   ]
  },
  {
   "cell_type": "code",
   "execution_count": 34,
   "metadata": {},
   "outputs": [
    {
     "name": "stderr",
     "output_type": "stream",
     "text": [
      "/home/kjh/.local/share/virtualenvs/kjh-4pV5HF-C/lib/python3.12/site-packages/pyspark/pandas/utils.py:1016: PandasAPIOnSparkAdviceWarning: If the type hints is not specified for `groupby.apply`, it is expensive to infer the data type internally.\n",
      "  warnings.warn(message, PandasAPIOnSparkAdviceWarning)\n",
      "23/12/11 22:04:37 WARN AttachDistributedSequenceExec: clean up cached RDD(588) in AttachDistributedSequenceExec(4353)\n",
      "23/12/11 22:04:37 WARN AttachDistributedSequenceExec: clean up cached RDD(578) in AttachDistributedSequenceExec(4348)\n",
      "23/12/11 22:04:38 WARN AttachDistributedSequenceExec: clean up cached RDD(605) in AttachDistributedSequenceExec(4729)\n",
      "23/12/11 22:04:59 WARN AttachDistributedSequenceExec: clean up cached RDD(636) in AttachDistributedSequenceExec(4871)\n",
      "23/12/11 22:04:59 WARN AttachDistributedSequenceExec: clean up cached RDD(626) in AttachDistributedSequenceExec(4866)\n",
      "23/12/11 22:05:00 WARN AttachDistributedSequenceExec: clean up cached RDD(653) in AttachDistributedSequenceExec(5308)\n",
      "23/12/11 22:05:07 WARN AttachDistributedSequenceExec: clean up cached RDD(662) in AttachDistributedSequenceExec(5394)\n",
      "                                                                                \r"
     ]
    }
   ],
   "source": [
    "# 사용자별 태그 목록 생성\n",
    "# 딕셔너리로 바꾸는 이유는 연산속도를 빠르게 하기 위해\n",
    "top_tags_per_user = top_tags_drop1.groupby('userId')['tag'].apply(list).to_dict()"
   ]
  },
  {
   "cell_type": "code",
   "execution_count": 37,
   "metadata": {},
   "outputs": [],
   "source": [
    "# top_tags_per_user가 딕셔너리, psdf_orderbyuserId는 데이터프레임이기 때문에 추가 설정 필요\n",
    "from pyspark.pandas.config import set_option\n",
    "\n",
    "# 서로 다른 데이터프레임 간의 연산 허용\n",
    "set_option(\"compute.ops_on_diff_frames\", True)"
   ]
  },
  {
   "cell_type": "code",
   "execution_count": 38,
   "metadata": {},
   "outputs": [
    {
     "name": "stderr",
     "output_type": "stream",
     "text": [
      "/home/kjh/.local/share/virtualenvs/kjh-4pV5HF-C/lib/python3.12/site-packages/pyspark/pandas/utils.py:1016: PandasAPIOnSparkAdviceWarning: If the type hints is not specified for `apply`, it is expensive to infer the data type internally.\n",
      "  warnings.warn(message, PandasAPIOnSparkAdviceWarning)\n",
      "23/12/11 22:12:25 WARN AttachDistributedSequenceExec: clean up cached RDD(720) in AttachDistributedSequenceExec(5720)\n",
      "23/12/11 22:12:25 WARN AttachDistributedSequenceExec: clean up cached RDD(710) in AttachDistributedSequenceExec(5715)\n",
      "                                                                                \r"
     ]
    }
   ],
   "source": [
    "# psdf_orderbyuserId의 각 행에 대해 태그가 사용자별 태그 목록에 있는지 확인\n",
    "psdf_orderbyuserId['tag_included'] = psdf_orderbyuserId.apply(\n",
    "    lambda row: row['tag'] in top_tags_per_user.get(row['userId'], []),\n",
    "    axis=1\n",
    ")"
   ]
  },
  {
   "cell_type": "code",
   "execution_count": 39,
   "metadata": {},
   "outputs": [],
   "source": [
    "psdf_orderbyuserId = psdf_orderbyuserId.sort_values(by=['userId', 'movieId'])"
   ]
  },
  {
   "cell_type": "code",
   "execution_count": 42,
   "metadata": {},
   "outputs": [
    {
     "name": "stderr",
     "output_type": "stream",
     "text": [
      "23/12/12 02:44:30 WARN AttachDistributedSequenceExec: clean up cached RDD(873) in AttachDistributedSequenceExec(8090)\n",
      "23/12/12 02:44:32 WARN AttachDistributedSequenceExec: clean up cached RDD(863) in AttachDistributedSequenceExec(8085)\n",
      "23/12/12 02:44:35 WARN AttachDistributedSequenceExec: clean up cached RDD(887) in AttachDistributedSequenceExec(8718)\n",
      "23/12/12 02:44:37 WARN AttachDistributedSequenceExec: clean up cached RDD(898) in AttachDistributedSequenceExec(8774)\n",
      "                                                                                \r"
     ]
    },
    {
     "data": {
      "text/html": [
       "<div>\n",
       "<style scoped>\n",
       "    .dataframe tbody tr th:only-of-type {\n",
       "        vertical-align: middle;\n",
       "    }\n",
       "\n",
       "    .dataframe tbody tr th {\n",
       "        vertical-align: top;\n",
       "    }\n",
       "\n",
       "    .dataframe thead th {\n",
       "        text-align: right;\n",
       "    }\n",
       "</style>\n",
       "<table border=\"1\" class=\"dataframe\">\n",
       "  <thead>\n",
       "    <tr style=\"text-align: right;\">\n",
       "      <th></th>\n",
       "      <th>userId</th>\n",
       "      <th>movieId</th>\n",
       "      <th>rating</th>\n",
       "      <th>rating_datetime</th>\n",
       "      <th>tag</th>\n",
       "      <th>tag_datetime</th>\n",
       "      <th>tag_included</th>\n",
       "    </tr>\n",
       "  </thead>\n",
       "  <tbody>\n",
       "    <tr>\n",
       "      <th>1515598</th>\n",
       "      <td>37</td>\n",
       "      <td>47</td>\n",
       "      <td>5.0</td>\n",
       "      <td>2020-01-04 19:47:14</td>\n",
       "      <td>twist ending</td>\n",
       "      <td>2020-01-04 19:48:16</td>\n",
       "      <td>False</td>\n",
       "    </tr>\n",
       "    <tr>\n",
       "      <th>1515595</th>\n",
       "      <td>37</td>\n",
       "      <td>47</td>\n",
       "      <td>5.0</td>\n",
       "      <td>2020-01-04 19:47:14</td>\n",
       "      <td>Kevin Spacey</td>\n",
       "      <td>2020-01-04 19:48:16</td>\n",
       "      <td>False</td>\n",
       "    </tr>\n",
       "    <tr>\n",
       "      <th>1515597</th>\n",
       "      <td>37</td>\n",
       "      <td>47</td>\n",
       "      <td>5.0</td>\n",
       "      <td>2020-01-04 19:47:14</td>\n",
       "      <td>powerful ending</td>\n",
       "      <td>2020-01-04 19:48:16</td>\n",
       "      <td>False</td>\n",
       "    </tr>\n",
       "    <tr>\n",
       "      <th>1515596</th>\n",
       "      <td>37</td>\n",
       "      <td>47</td>\n",
       "      <td>5.0</td>\n",
       "      <td>2020-01-04 19:47:14</td>\n",
       "      <td>Morgan Freeman</td>\n",
       "      <td>2020-01-04 19:48:16</td>\n",
       "      <td>False</td>\n",
       "    </tr>\n",
       "    <tr>\n",
       "      <th>1515599</th>\n",
       "      <td>37</td>\n",
       "      <td>165</td>\n",
       "      <td>4.0</td>\n",
       "      <td>2020-01-04 18:55:02</td>\n",
       "      <td>action</td>\n",
       "      <td>2020-01-04 18:54:56</td>\n",
       "      <td>True</td>\n",
       "    </tr>\n",
       "  </tbody>\n",
       "</table>\n",
       "</div>"
      ],
      "text/plain": [
       "         userId  movieId  rating     rating_datetime              tag        tag_datetime  tag_included\n",
       "1515598      37       47     5.0 2020-01-04 19:47:14     twist ending 2020-01-04 19:48:16         False\n",
       "1515595      37       47     5.0 2020-01-04 19:47:14     Kevin Spacey 2020-01-04 19:48:16         False\n",
       "1515597      37       47     5.0 2020-01-04 19:47:14  powerful ending 2020-01-04 19:48:16         False\n",
       "1515596      37       47     5.0 2020-01-04 19:47:14   Morgan Freeman 2020-01-04 19:48:16         False\n",
       "1515599      37      165     4.0 2020-01-04 18:55:02           action 2020-01-04 18:54:56          True"
      ]
     },
     "execution_count": 42,
     "metadata": {},
     "output_type": "execute_result"
    }
   ],
   "source": [
    "psdf_orderbyuserId.head()"
   ]
  },
  {
   "cell_type": "code",
   "execution_count": 43,
   "metadata": {},
   "outputs": [
    {
     "name": "stderr",
     "output_type": "stream",
     "text": [
      "/home/kjh/.local/share/virtualenvs/kjh-4pV5HF-C/lib/python3.12/site-packages/pyspark/pandas/groupby.py:649: FutureWarning: Default value of `numeric_only` will be changed to `False` instead of `True` in 4.0.0.\n",
      "  warnings.warn(\n"
     ]
    }
   ],
   "source": [
    "# 유저별로 tag_included에 따른 평균평점 계산\n",
    "average_ratings = psdf_orderbyuserId.groupby(['userId', 'tag_included'])['rating'].mean().reset_index()"
   ]
  },
  {
   "cell_type": "code",
   "execution_count": 44,
   "metadata": {},
   "outputs": [],
   "source": [
    "# 새로운 데이터프레임 생성 및 컬럼명 설정\n",
    "result_df = average_ratings.rename(columns={'rating': '평균평점'})"
   ]
  },
  {
   "cell_type": "code",
   "execution_count": 47,
   "metadata": {},
   "outputs": [],
   "source": [
    "result_df = result_df.sort_values(by='userId')"
   ]
  },
  {
   "cell_type": "code",
   "execution_count": 50,
   "metadata": {},
   "outputs": [
    {
     "name": "stderr",
     "output_type": "stream",
     "text": [
      "23/12/12 04:31:48 WARN AttachDistributedSequenceExec: clean up cached RDD(1209) in AttachDistributedSequenceExec(15101)\n",
      "23/12/12 04:31:49 WARN AttachDistributedSequenceExec: clean up cached RDD(1199) in AttachDistributedSequenceExec(15096)\n",
      "23/12/12 04:31:51 WARN AttachDistributedSequenceExec: clean up cached RDD(1223) in AttachDistributedSequenceExec(15908)\n",
      "23/12/12 04:31:53 WARN AttachDistributedSequenceExec: clean up cached RDD(1234) in AttachDistributedSequenceExec(15964)\n",
      "                                                                                \r"
     ]
    },
    {
     "data": {
      "text/html": [
       "<div>\n",
       "<style scoped>\n",
       "    .dataframe tbody tr th:only-of-type {\n",
       "        vertical-align: middle;\n",
       "    }\n",
       "\n",
       "    .dataframe tbody tr th {\n",
       "        vertical-align: top;\n",
       "    }\n",
       "\n",
       "    .dataframe thead th {\n",
       "        text-align: right;\n",
       "    }\n",
       "</style>\n",
       "<table border=\"1\" class=\"dataframe\">\n",
       "  <thead>\n",
       "    <tr style=\"text-align: right;\">\n",
       "      <th></th>\n",
       "      <th>userId</th>\n",
       "      <th>tag_included</th>\n",
       "      <th>평균평점</th>\n",
       "    </tr>\n",
       "  </thead>\n",
       "  <tbody>\n",
       "    <tr>\n",
       "      <th>1760</th>\n",
       "      <td>37</td>\n",
       "      <td>False</td>\n",
       "      <td>4.322034</td>\n",
       "    </tr>\n",
       "    <tr>\n",
       "      <th>2151</th>\n",
       "      <td>37</td>\n",
       "      <td>True</td>\n",
       "      <td>4.568182</td>\n",
       "    </tr>\n",
       "    <tr>\n",
       "      <th>1708</th>\n",
       "      <td>137</td>\n",
       "      <td>True</td>\n",
       "      <td>4.700000</td>\n",
       "    </tr>\n",
       "    <tr>\n",
       "      <th>2160</th>\n",
       "      <td>137</td>\n",
       "      <td>False</td>\n",
       "      <td>4.690367</td>\n",
       "    </tr>\n",
       "    <tr>\n",
       "      <th>1557</th>\n",
       "      <td>302</td>\n",
       "      <td>False</td>\n",
       "      <td>4.320755</td>\n",
       "    </tr>\n",
       "    <tr>\n",
       "      <th>1598</th>\n",
       "      <td>302</td>\n",
       "      <td>True</td>\n",
       "      <td>4.409091</td>\n",
       "    </tr>\n",
       "    <tr>\n",
       "      <th>1616</th>\n",
       "      <td>370</td>\n",
       "      <td>False</td>\n",
       "      <td>2.850000</td>\n",
       "    </tr>\n",
       "    <tr>\n",
       "      <th>1682</th>\n",
       "      <td>418</td>\n",
       "      <td>True</td>\n",
       "      <td>4.800000</td>\n",
       "    </tr>\n",
       "    <tr>\n",
       "      <th>1908</th>\n",
       "      <td>418</td>\n",
       "      <td>False</td>\n",
       "      <td>4.892857</td>\n",
       "    </tr>\n",
       "    <tr>\n",
       "      <th>1521</th>\n",
       "      <td>499</td>\n",
       "      <td>True</td>\n",
       "      <td>3.055556</td>\n",
       "    </tr>\n",
       "    <tr>\n",
       "      <th>1981</th>\n",
       "      <td>499</td>\n",
       "      <td>False</td>\n",
       "      <td>3.248036</td>\n",
       "    </tr>\n",
       "    <tr>\n",
       "      <th>1876</th>\n",
       "      <td>613</td>\n",
       "      <td>True</td>\n",
       "      <td>4.544643</td>\n",
       "    </tr>\n",
       "    <tr>\n",
       "      <th>1919</th>\n",
       "      <td>613</td>\n",
       "      <td>False</td>\n",
       "      <td>4.437788</td>\n",
       "    </tr>\n",
       "    <tr>\n",
       "      <th>1909</th>\n",
       "      <td>627</td>\n",
       "      <td>False</td>\n",
       "      <td>3.904762</td>\n",
       "    </tr>\n",
       "    <tr>\n",
       "      <th>1988</th>\n",
       "      <td>627</td>\n",
       "      <td>True</td>\n",
       "      <td>4.687500</td>\n",
       "    </tr>\n",
       "    <tr>\n",
       "      <th>1785</th>\n",
       "      <td>683</td>\n",
       "      <td>True</td>\n",
       "      <td>5.000000</td>\n",
       "    </tr>\n",
       "    <tr>\n",
       "      <th>1966</th>\n",
       "      <td>683</td>\n",
       "      <td>False</td>\n",
       "      <td>4.850000</td>\n",
       "    </tr>\n",
       "    <tr>\n",
       "      <th>1544</th>\n",
       "      <td>691</td>\n",
       "      <td>True</td>\n",
       "      <td>4.434783</td>\n",
       "    </tr>\n",
       "    <tr>\n",
       "      <th>1660</th>\n",
       "      <td>691</td>\n",
       "      <td>False</td>\n",
       "      <td>4.319149</td>\n",
       "    </tr>\n",
       "    <tr>\n",
       "      <th>1668</th>\n",
       "      <td>720</td>\n",
       "      <td>True</td>\n",
       "      <td>3.300000</td>\n",
       "    </tr>\n",
       "  </tbody>\n",
       "</table>\n",
       "</div>"
      ],
      "text/plain": [
       "      userId  tag_included      평균평점\n",
       "1760      37         False  4.322034\n",
       "2151      37          True  4.568182\n",
       "1708     137          True  4.700000\n",
       "2160     137         False  4.690367\n",
       "1557     302         False  4.320755\n",
       "1598     302          True  4.409091\n",
       "1616     370         False  2.850000\n",
       "1682     418          True  4.800000\n",
       "1908     418         False  4.892857\n",
       "1521     499          True  3.055556\n",
       "1981     499         False  3.248036\n",
       "1876     613          True  4.544643\n",
       "1919     613         False  4.437788\n",
       "1909     627         False  3.904762\n",
       "1988     627          True  4.687500\n",
       "1785     683          True  5.000000\n",
       "1966     683         False  4.850000\n",
       "1544     691          True  4.434783\n",
       "1660     691         False  4.319149\n",
       "1668     720          True  3.300000"
      ]
     },
     "execution_count": 50,
     "metadata": {},
     "output_type": "execute_result"
    }
   ],
   "source": [
    "result_df.head(20)"
   ]
  },
  {
   "cell_type": "code",
   "execution_count": null,
   "metadata": {},
   "outputs": [],
   "source": []
  }
 ],
 "metadata": {
  "kernelspec": {
   "display_name": "kjh-4pV5HF-C",
   "language": "python",
   "name": "python3"
  },
  "language_info": {
   "codemirror_mode": {
    "name": "ipython",
    "version": 3
   },
   "file_extension": ".py",
   "mimetype": "text/x-python",
   "name": "python",
   "nbconvert_exporter": "python",
   "pygments_lexer": "ipython3",
   "version": "3.10.13"
  }
 },
 "nbformat": 4,
 "nbformat_minor": 2
}
