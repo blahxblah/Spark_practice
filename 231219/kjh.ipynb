{
 "cells": [
  {
   "cell_type": "code",
   "execution_count": 1,
   "metadata": {},
   "outputs": [],
   "source": [
    "# 스파크 드라이버와 워커의 파이썬 버전이 다를 경우, \n",
    "# PYSPARK_PYTHON 와 PYSPARK_DRIVER_PYTHON 를 환경변수 지정 \n",
    "# 예시 : .zshrc 파일에 아래 코드 입력\n",
    "#           export PYSPARK_PYTHON=$HOME/.pyenv/versions/3.12.1/bin/python3.12\n",
    "#           export PYSPARK_DRIVER_PYTHON=$HOME/.pyenv/versions/3.12.1/bin/python3.12\n",
    "# 위의 설정을 해도 오류가 날 경우, 스크립트에 아래 코드 입력\n",
    "import os\n",
    "import sys\n",
    "os.environ['PYSPARK_PYTHON'] = sys.executable\n",
    "os.environ['PYSPARK_DRIVER_PYTHON'] = sys.executable"
   ]
  },
  {
   "cell_type": "code",
   "execution_count": 2,
   "metadata": {},
   "outputs": [
    {
     "name": "stderr",
     "output_type": "stream",
     "text": [
      "23/12/19 16:48:43 WARN Utils: Your hostname, KJH-DESKTOP resolves to a loopback address: 127.0.1.1; using 192.168.69.220 instead (on interface eth0)\n",
      "23/12/19 16:48:43 WARN Utils: Set SPARK_LOCAL_IP if you need to bind to another address\n",
      "https://mmlspark.azureedge.net/maven added as a remote repository with the name: repo-1\n",
      "Ivy Default Cache set to: /home/kjh/.ivy2/cache\n",
      "The jars for the packages stored in: /home/kjh/.ivy2/jars\n",
      "com.microsoft.azure#synapseml_2.12 added as a dependency\n",
      ":: resolving dependencies :: org.apache.spark#spark-submit-parent-ce897387-11f7-4c2a-b3a9-42fdc952be35;1.0\n",
      "\tconfs: [default]\n",
      "\tfound com.microsoft.azure#synapseml_2.12;1.0.2 in central\n",
      "\tfound com.microsoft.azure#synapseml-core_2.12;1.0.2 in central\n",
      "\tfound org.apache.spark#spark-avro_2.12;3.4.1 in central\n",
      "\tfound org.tukaani#xz;1.9 in central\n",
      "\tfound commons-lang#commons-lang;2.6 in central\n",
      "\tfound org.scalactic#scalactic_2.12;3.2.14 in central\n",
      "\tfound org.scala-lang#scala-reflect;2.12.15 in central\n",
      "\tfound io.spray#spray-json_2.12;1.3.5 in central\n",
      "\tfound com.jcraft#jsch;0.1.54 in central\n"
     ]
    },
    {
     "name": "stdout",
     "output_type": "stream",
     "text": [
      ":: loading settings :: url = jar:file:/home/kjh/app/spark/3.5.0/jars/ivy-2.5.1.jar!/org/apache/ivy/core/settings/ivysettings.xml\n"
     ]
    },
    {
     "name": "stderr",
     "output_type": "stream",
     "text": [
      "\tfound org.apache.httpcomponents.client5#httpclient5;5.1.3 in central\n",
      "\tfound org.apache.httpcomponents.core5#httpcore5;5.1.3 in central\n",
      "\tfound org.apache.httpcomponents.core5#httpcore5-h2;5.1.3 in central\n",
      "\tfound org.slf4j#slf4j-api;1.7.25 in central\n",
      "\tfound commons-codec#commons-codec;1.15 in central\n",
      "\tfound org.apache.httpcomponents#httpmime;4.5.13 in central\n",
      "\tfound org.apache.httpcomponents#httpclient;4.5.13 in central\n",
      "\tfound org.apache.httpcomponents#httpcore;4.4.13 in central\n",
      "\tfound commons-logging#commons-logging;1.2 in central\n",
      "\tfound com.linkedin.isolation-forest#isolation-forest_3.4.1_2.12;3.0.3 in central\n",
      "\tfound com.chuusai#shapeless_2.12;2.3.10 in central\n",
      "\tfound org.testng#testng;6.8.8 in central\n",
      "\tfound org.beanshell#bsh;2.0b4 in central\n",
      "\tfound com.beust#jcommander;1.27 in central\n",
      "\tfound org.scalanlp#breeze_2.12;2.1.0 in central\n",
      "\tfound org.scalanlp#breeze-macros_2.12;2.1.0 in central\n",
      "\tfound org.typelevel#spire_2.12;0.17.0 in central\n",
      "\tfound org.typelevel#spire-macros_2.12;0.17.0 in central\n",
      "\tfound org.typelevel#algebra_2.12;2.0.1 in central\n",
      "\tfound org.typelevel#cats-kernel_2.12;2.1.1 in central\n",
      "\tfound org.typelevel#spire-platform_2.12;0.17.0 in central\n",
      "\tfound org.typelevel#spire-util_2.12;0.17.0 in central\n",
      "\tfound dev.ludovic.netlib#blas;3.0.1 in central\n",
      "\tfound net.sourceforge.f2j#arpack_combined_all;0.1 in central\n",
      "\tfound dev.ludovic.netlib#lapack;3.0.1 in central\n",
      "\tfound dev.ludovic.netlib#arpack;3.0.1 in central\n",
      "\tfound net.sf.opencsv#opencsv;2.3 in central\n",
      "\tfound com.github.wendykierp#JTransforms;3.1 in central\n",
      "\tfound pl.edu.icm#JLargeArrays;1.5 in central\n",
      "\tfound org.apache.commons#commons-math3;3.2 in central\n",
      "\tfound org.scala-lang.modules#scala-collection-compat_2.12;2.7.0 in central\n",
      "\tfound com.microsoft.azure#synapseml-deep-learning_2.12;1.0.2 in central\n",
      "\tfound com.microsoft.azure#synapseml-opencv_2.12;1.0.2 in central\n",
      "\tfound org.openpnp#opencv;3.2.0-1 in central\n",
      "\tfound com.microsoft.azure#onnx-protobuf_2.12;0.9.3 in central\n",
      "\tfound com.microsoft.onnxruntime#onnxruntime_gpu;1.8.1 in central\n",
      "\tfound com.microsoft.azure#synapseml-cognitive_2.12;1.0.2 in central\n",
      "\tfound com.microsoft.cognitiveservices.speech#client-sdk;1.24.1 in central\n",
      "\tfound com.microsoft.azure#synapseml-vw_2.12;1.0.2 in central\n",
      "\tfound com.github.vowpalwabbit#vw-jni;9.3.0 in central\n",
      "\tfound com.microsoft.azure#synapseml-lightgbm_2.12;1.0.2 in central\n",
      "\tfound com.microsoft.ml.lightgbm#lightgbmlib;3.3.510 in central\n",
      ":: resolution report :: resolve 334ms :: artifacts dl 12ms\n",
      "\t:: modules in use:\n",
      "\tcom.beust#jcommander;1.27 from central in [default]\n",
      "\tcom.chuusai#shapeless_2.12;2.3.10 from central in [default]\n",
      "\tcom.github.vowpalwabbit#vw-jni;9.3.0 from central in [default]\n",
      "\tcom.github.wendykierp#JTransforms;3.1 from central in [default]\n",
      "\tcom.jcraft#jsch;0.1.54 from central in [default]\n",
      "\tcom.linkedin.isolation-forest#isolation-forest_3.4.1_2.12;3.0.3 from central in [default]\n",
      "\tcom.microsoft.azure#onnx-protobuf_2.12;0.9.3 from central in [default]\n",
      "\tcom.microsoft.azure#synapseml-cognitive_2.12;1.0.2 from central in [default]\n",
      "\tcom.microsoft.azure#synapseml-core_2.12;1.0.2 from central in [default]\n",
      "\tcom.microsoft.azure#synapseml-deep-learning_2.12;1.0.2 from central in [default]\n",
      "\tcom.microsoft.azure#synapseml-lightgbm_2.12;1.0.2 from central in [default]\n",
      "\tcom.microsoft.azure#synapseml-opencv_2.12;1.0.2 from central in [default]\n",
      "\tcom.microsoft.azure#synapseml-vw_2.12;1.0.2 from central in [default]\n",
      "\tcom.microsoft.azure#synapseml_2.12;1.0.2 from central in [default]\n",
      "\tcom.microsoft.cognitiveservices.speech#client-sdk;1.24.1 from central in [default]\n",
      "\tcom.microsoft.ml.lightgbm#lightgbmlib;3.3.510 from central in [default]\n",
      "\tcom.microsoft.onnxruntime#onnxruntime_gpu;1.8.1 from central in [default]\n",
      "\tcommons-codec#commons-codec;1.15 from central in [default]\n",
      "\tcommons-lang#commons-lang;2.6 from central in [default]\n",
      "\tcommons-logging#commons-logging;1.2 from central in [default]\n",
      "\tdev.ludovic.netlib#arpack;3.0.1 from central in [default]\n",
      "\tdev.ludovic.netlib#blas;3.0.1 from central in [default]\n",
      "\tdev.ludovic.netlib#lapack;3.0.1 from central in [default]\n",
      "\tio.spray#spray-json_2.12;1.3.5 from central in [default]\n",
      "\tnet.sf.opencsv#opencsv;2.3 from central in [default]\n",
      "\tnet.sourceforge.f2j#arpack_combined_all;0.1 from central in [default]\n",
      "\torg.apache.commons#commons-math3;3.2 from central in [default]\n",
      "\torg.apache.httpcomponents#httpclient;4.5.13 from central in [default]\n",
      "\torg.apache.httpcomponents#httpcore;4.4.13 from central in [default]\n",
      "\torg.apache.httpcomponents#httpmime;4.5.13 from central in [default]\n",
      "\torg.apache.httpcomponents.client5#httpclient5;5.1.3 from central in [default]\n",
      "\torg.apache.httpcomponents.core5#httpcore5;5.1.3 from central in [default]\n",
      "\torg.apache.httpcomponents.core5#httpcore5-h2;5.1.3 from central in [default]\n",
      "\torg.apache.spark#spark-avro_2.12;3.4.1 from central in [default]\n",
      "\torg.beanshell#bsh;2.0b4 from central in [default]\n",
      "\torg.openpnp#opencv;3.2.0-1 from central in [default]\n",
      "\torg.scala-lang#scala-reflect;2.12.15 from central in [default]\n",
      "\torg.scala-lang.modules#scala-collection-compat_2.12;2.7.0 from central in [default]\n",
      "\torg.scalactic#scalactic_2.12;3.2.14 from central in [default]\n",
      "\torg.scalanlp#breeze-macros_2.12;2.1.0 from central in [default]\n",
      "\torg.scalanlp#breeze_2.12;2.1.0 from central in [default]\n",
      "\torg.slf4j#slf4j-api;1.7.25 from central in [default]\n",
      "\torg.testng#testng;6.8.8 from central in [default]\n",
      "\torg.tukaani#xz;1.9 from central in [default]\n",
      "\torg.typelevel#algebra_2.12;2.0.1 from central in [default]\n",
      "\torg.typelevel#cats-kernel_2.12;2.1.1 from central in [default]\n",
      "\torg.typelevel#spire-macros_2.12;0.17.0 from central in [default]\n",
      "\torg.typelevel#spire-platform_2.12;0.17.0 from central in [default]\n",
      "\torg.typelevel#spire-util_2.12;0.17.0 from central in [default]\n",
      "\torg.typelevel#spire_2.12;0.17.0 from central in [default]\n",
      "\tpl.edu.icm#JLargeArrays;1.5 from central in [default]\n",
      "\t:: evicted modules:\n",
      "\tcommons-codec#commons-codec;1.11 by [commons-codec#commons-codec;1.15] in [default]\n",
      "\torg.scala-lang.modules#scala-collection-compat_2.12;2.2.0 by [org.scala-lang.modules#scala-collection-compat_2.12;2.7.0] in [default]\n",
      "\torg.apache.commons#commons-math3;3.5 by [org.apache.commons#commons-math3;3.2] in [default]\n",
      "\torg.slf4j#slf4j-api;1.7.5 by [org.slf4j#slf4j-api;1.7.25] in [default]\n",
      "\t---------------------------------------------------------------------\n",
      "\t|                  |            modules            ||   artifacts   |\n",
      "\t|       conf       | number| search|dwnlded|evicted|| number|dwnlded|\n",
      "\t---------------------------------------------------------------------\n",
      "\t|      default     |   55  |   0   |   0   |   4   ||   51  |   0   |\n",
      "\t---------------------------------------------------------------------\n",
      ":: retrieving :: org.apache.spark#spark-submit-parent-ce897387-11f7-4c2a-b3a9-42fdc952be35\n",
      "\tconfs: [default]\n",
      "\t0 artifacts copied, 51 already retrieved (0kB/7ms)\n",
      "23/12/19 16:48:45 WARN NativeCodeLoader: Unable to load native-hadoop library for your platform... using builtin-java classes where applicable\n",
      "Setting default log level to \"WARN\".\n",
      "To adjust logging level use sc.setLogLevel(newLevel). For SparkR, use setLogLevel(newLevel).\n"
     ]
    }
   ],
   "source": [
    "# 스파크 세션 생성\n",
    "import pyspark\n",
    "from pyspark.sql import SparkSession\n",
    "\n",
    "# SynapseML : 마이크로소프트에서 만든 스파크용 ML 라이브러리\n",
    "# https://microsoft.github.io/SynapseML/\n",
    "# config에서 synapseml 모듈 불러오기\n",
    "spark = SparkSession.builder \\\n",
    "    .appName(\"Spark study - 231219\") \\\n",
    "    .config(\"spark.jars.packages\", \"com.microsoft.azure:synapseml_2.12:1.0.2\") \\\n",
    "    .config(\"spark.jars.repositories\", \"https://mmlspark.azureedge.net/maven\") \\\n",
    "    .getOrCreate()"
   ]
  },
  {
   "cell_type": "code",
   "execution_count": 3,
   "metadata": {},
   "outputs": [
    {
     "name": "stdout",
     "output_type": "stream",
     "text": [
      "VendorID: int64\n",
      "tpep_pickup_datetime: timestamp[us]\n",
      "tpep_dropoff_datetime: timestamp[us]\n",
      "passenger_count: double\n",
      "trip_distance: double\n",
      "RatecodeID: double\n",
      "store_and_fwd_flag: string\n",
      "PULocationID: int64\n",
      "DOLocationID: int64\n",
      "payment_type: int64\n",
      "fare_amount: double\n",
      "extra: double\n",
      "mta_tax: double\n",
      "tip_amount: double\n",
      "tolls_amount: double\n",
      "improvement_surcharge: double\n",
      "total_amount: double\n",
      "congestion_surcharge: double\n",
      "airport_fee: double\n",
      "-- schema metadata --\n",
      "pandas: '{\"index_columns\": [], \"column_indexes\": [], \"columns\": [{\"name\":' + 2492\n"
     ]
    }
   ],
   "source": [
    "import pyarrow.parquet as pq\n",
    "\n",
    "parquet_file = pq.read_table(\"file:///home/kjh/data/taxi/yellow_tripdata_2022-01.parquet\")\n",
    "print(parquet_file.schema)"
   ]
  },
  {
   "cell_type": "code",
   "execution_count": 4,
   "metadata": {},
   "outputs": [],
   "source": [
    "# Parquet 파일이 있는 폴더 경로\n",
    "parquet_folder_path = \"/home/kjh/data/taxi\"\n",
    "\n",
    "# 폴더 내의 모든 Parquet 파일을 리스트로 가져옴\n",
    "parquet_files = [file for file in os.listdir(parquet_folder_path) if file.endswith('.parquet')]"
   ]
  },
  {
   "cell_type": "code",
   "execution_count": 5,
   "metadata": {},
   "outputs": [
    {
     "name": "stderr",
     "output_type": "stream",
     "text": [
      "                                                                                \r"
     ]
    }
   ],
   "source": [
    "# 각 Parquet 파일을 따로 DataFrame으로 읽음\n",
    "dataframes = []\n",
    "for file in parquet_files:\n",
    "    file_path = os.path.join(parquet_folder_path, file)\n",
    "    df = spark.read.parquet(file_path)\n",
    "    dataframes.append(df)"
   ]
  },
  {
   "cell_type": "code",
   "execution_count": 6,
   "metadata": {},
   "outputs": [],
   "source": [
    "# 여러 데이터프레임을 합치는 과정\n",
    "\n",
    "from functools import reduce\n",
    "from pyspark.sql import DataFrame\n",
    "\n",
    "# 두 DataFrame을 합치는 함수\n",
    "def union_two_dataframes(df1, df2):\n",
    "    return df1.union(df2)\n",
    "\n",
    "# 모든 DataFrame을 하나로 합치기\n",
    "df_raw = reduce(union_two_dataframes, dataframes)"
   ]
  },
  {
   "cell_type": "code",
   "execution_count": 7,
   "metadata": {},
   "outputs": [
    {
     "name": "stdout",
     "output_type": "stream",
     "text": [
      "root\n",
      " |-- VendorID: long (nullable = true)\n",
      " |-- tpep_pickup_datetime: timestamp_ntz (nullable = true)\n",
      " |-- tpep_dropoff_datetime: timestamp_ntz (nullable = true)\n",
      " |-- passenger_count: double (nullable = true)\n",
      " |-- trip_distance: double (nullable = true)\n",
      " |-- RatecodeID: double (nullable = true)\n",
      " |-- store_and_fwd_flag: string (nullable = true)\n",
      " |-- PULocationID: long (nullable = true)\n",
      " |-- DOLocationID: long (nullable = true)\n",
      " |-- payment_type: long (nullable = true)\n",
      " |-- fare_amount: double (nullable = true)\n",
      " |-- extra: double (nullable = true)\n",
      " |-- mta_tax: double (nullable = true)\n",
      " |-- tip_amount: double (nullable = true)\n",
      " |-- tolls_amount: double (nullable = true)\n",
      " |-- improvement_surcharge: double (nullable = true)\n",
      " |-- total_amount: double (nullable = true)\n",
      " |-- congestion_surcharge: double (nullable = true)\n",
      " |-- airport_fee: double (nullable = true)\n",
      "\n"
     ]
    }
   ],
   "source": [
    "df_raw.printSchema()"
   ]
  },
  {
   "cell_type": "code",
   "execution_count": 8,
   "metadata": {},
   "outputs": [
    {
     "name": "stderr",
     "output_type": "stream",
     "text": [
      "                                                                                \r"
     ]
    },
    {
     "name": "stdout",
     "output_type": "stream",
     "text": [
      "+--------+--------------------+---------------------+---------------+-------------+----------+------------------+------------+------------+------------+-----------+-----+-------+----------+------------+---------------------+------------+--------------------+-----------+\n",
      "|VendorID|tpep_pickup_datetime|tpep_dropoff_datetime|passenger_count|trip_distance|RatecodeID|store_and_fwd_flag|PULocationID|DOLocationID|payment_type|fare_amount|extra|mta_tax|tip_amount|tolls_amount|improvement_surcharge|total_amount|congestion_surcharge|airport_fee|\n",
      "+--------+--------------------+---------------------+---------------+-------------+----------+------------------+------------+------------+------------+-----------+-----+-------+----------+------------+---------------------+------------+--------------------+-----------+\n",
      "|       1| 2022-07-01 00:20:06|  2022-07-01 00:39:13|            1.0|         10.1|       1.0|                 N|          70|          33|           1|       28.5|  0.5|    0.5|       8.9|         0.0|                  0.3|        38.7|                 0.0|        0.0|\n",
      "|       2| 2022-07-01 00:29:11|  2022-07-01 00:38:00|            1.0|         1.67|       1.0|                 N|         162|          48|           1|        8.0|  0.5|    0.5|       1.0|         0.0|                  0.3|        12.8|                 2.5|        0.0|\n",
      "|       1| 2022-07-01 00:03:56|  2022-07-01 00:11:49|            1.0|          0.9|       1.0|                 N|          48|         142|           1|        6.0|  3.0|    0.5|       2.0|         0.0|                  0.3|        11.8|                 2.5|        0.0|\n",
      "|       1| 2022-07-01 00:18:36|  2022-07-01 00:52:44|            1.0|         14.8|       1.0|                 N|          70|         265|           1|       44.0|  0.5|    0.5|      20.0|         0.0|                  0.3|        65.3|                 0.0|        0.0|\n",
      "|       1| 2022-07-01 00:15:50|  2022-07-01 00:22:21|            1.0|          1.2|       1.0|                 N|         161|         234|           2|        6.5|  3.0|    0.5|       0.0|         0.0|                  0.3|        10.3|                 2.5|        0.0|\n",
      "|       1| 2022-07-01 00:31:06|  2022-07-01 00:35:12|            0.0|          1.0|       1.0|                 N|         234|         100|           2|        5.5|  3.0|    0.5|       0.0|         0.0|                  0.3|         9.3|                 2.5|        0.0|\n",
      "|       1| 2022-07-01 00:53:53|  2022-07-01 01:08:10|            1.0|          3.0|       1.0|                 N|         162|         148|           1|       12.5|  3.0|    0.5|      4.85|         0.0|                  0.3|       21.15|                 2.5|        0.0|\n",
      "|       2| 2022-07-01 00:23:36|  2022-07-01 00:33:09|            2.0|         1.37|       1.0|                 N|         162|         142|           1|        8.0|  0.5|    0.5|      2.36|         0.0|                  0.3|       14.16|                 2.5|        0.0|\n",
      "|       2| 2022-07-01 00:38:53|  2022-07-01 01:20:28|            2.0|         8.49|       1.0|                 N|          48|          66|           2|       31.0|  0.5|    0.5|       0.0|         0.0|                  0.3|        34.8|                 2.5|        0.0|\n",
      "|       2| 2022-07-01 00:26:21|  2022-07-01 00:30:52|            1.0|         1.08|       1.0|                 N|          50|         142|           1|        5.5|  0.5|    0.5|      1.86|         0.0|                  0.3|       11.16|                 2.5|        0.0|\n",
      "|       1| 2022-07-01 00:06:27|  2022-07-01 00:23:09|            1.0|          8.3|       1.0|                 N|         138|         170|           1|       24.5| 4.25|    0.5|       7.2|        6.55|                  0.3|        43.3|                 2.5|       1.25|\n",
      "|       1| 2022-07-01 00:39:23|  2022-07-01 00:42:18|            1.0|          1.0|       1.0|                 N|         170|         229|           1|        4.5|  3.0|    0.5|      1.65|         0.0|                  0.3|        9.95|                 2.5|        0.0|\n",
      "|       1| 2022-07-01 00:23:23|  2022-07-01 00:33:24|            1.0|          1.6|       1.0|                 N|         249|         107|           1|        8.5|  3.0|    0.5|      2.45|         0.0|                  0.3|       14.75|                 2.5|        0.0|\n",
      "|       1| 2022-07-01 00:39:10|  2022-07-01 00:52:04|            1.0|          2.2|       1.0|                 N|         164|         231|           1|       10.0|  3.0|    0.5|      2.76|         0.0|                  0.3|       16.56|                 2.5|        0.0|\n",
      "|       1| 2022-07-01 00:52:45|  2022-07-01 00:59:14|            1.0|          1.5|       1.0|                 N|         231|          90|           1|        6.5|  3.0|    0.5|      2.05|         0.0|                  0.3|       12.35|                 2.5|        0.0|\n",
      "|       2| 2022-07-01 00:03:06|  2022-07-01 00:39:52|            1.0|         8.03|       1.0|                 N|         143|          65|           1|       29.5|  0.5|    0.5|      8.32|         0.0|                  0.3|       41.62|                 2.5|        0.0|\n",
      "|       2| 2022-07-01 00:40:59|  2022-07-01 01:02:41|            1.0|         8.28|       1.0|                 N|          65|         141|           1|       25.0|  0.5|    0.5|       4.0|         0.0|                  0.3|        32.8|                 2.5|        0.0|\n",
      "|       1| 2022-07-01 00:43:41|  2022-07-01 00:53:38|            1.0|          1.3|       1.0|                 N|          48|         170|           3|        8.5|  3.0|    0.5|       0.0|         0.0|                  0.3|        12.3|                 2.5|        0.0|\n",
      "|       1| 2022-07-01 00:58:11|  2022-07-01 01:08:19|            1.0|          2.9|       1.0|                 N|         170|         263|           1|       10.5|  3.0|    0.5|      2.85|         0.0|                  0.3|       17.15|                 2.5|        0.0|\n",
      "|       2| 2022-07-01 00:07:27|  2022-07-01 00:30:26|            1.0|         8.83|       1.0|                 N|         138|         130|           2|       28.0|  0.5|    0.5|       0.0|         0.0|                  0.3|       30.55|                 0.0|       1.25|\n",
      "+--------+--------------------+---------------------+---------------+-------------+----------+------------------+------------+------------+------------+-----------+-----+-------+----------+------------+---------------------+------------+--------------------+-----------+\n",
      "only showing top 20 rows\n",
      "\n"
     ]
    }
   ],
   "source": [
    "df_raw.show()"
   ]
  },
  {
   "cell_type": "code",
   "execution_count": 9,
   "metadata": {},
   "outputs": [
    {
     "name": "stdout",
     "output_type": "stream",
     "text": [
      "root\n",
      " |-- VendorID: long (nullable = true)\n",
      " |-- tpep_pickup_datetime: timestamp_ntz (nullable = true)\n",
      " |-- tpep_dropoff_datetime: timestamp_ntz (nullable = true)\n",
      " |-- passenger_count: double (nullable = true)\n",
      " |-- trip_distance: double (nullable = true)\n",
      " |-- RatecodeID: double (nullable = true)\n",
      " |-- store_and_fwd_flag: string (nullable = true)\n",
      " |-- PULocationID: long (nullable = true)\n",
      " |-- DOLocationID: long (nullable = true)\n",
      " |-- payment_type: long (nullable = true)\n",
      " |-- fare_amount: double (nullable = true)\n",
      " |-- extra: double (nullable = true)\n",
      " |-- mta_tax: double (nullable = true)\n",
      " |-- tip_amount: double (nullable = true)\n",
      " |-- tolls_amount: double (nullable = true)\n",
      " |-- improvement_surcharge: double (nullable = true)\n",
      " |-- total_amount: double (nullable = true)\n",
      " |-- congestion_surcharge: double (nullable = true)\n",
      " |-- airport_fee: double (nullable = true)\n",
      "\n"
     ]
    }
   ],
   "source": [
    "df_raw.printSchema()"
   ]
  },
  {
   "cell_type": "code",
   "execution_count": 10,
   "metadata": {},
   "outputs": [
    {
     "name": "stdout",
     "output_type": "stream",
     "text": [
      "+--------+--------------------+---------------------+---------------+-------------+----------+------------------+------------+------------+------------+-----------+-----+-------+----------+------------+---------------------+------------+--------------------+-----------+\n",
      "|VendorID|tpep_pickup_datetime|tpep_dropoff_datetime|passenger_count|trip_distance|RatecodeID|store_and_fwd_flag|PULocationID|DOLocationID|payment_type|fare_amount|extra|mta_tax|tip_amount|tolls_amount|improvement_surcharge|total_amount|congestion_surcharge|airport_fee|\n",
      "+--------+--------------------+---------------------+---------------+-------------+----------+------------------+------------+------------+------------+-----------+-----+-------+----------+------------+---------------------+------------+--------------------+-----------+\n",
      "|       1| 2022-07-01 00:20:06|  2022-07-01 00:39:13|            1.0|         10.1|       1.0|                 N|          70|          33|           1|       28.5|  0.5|    0.5|       8.9|         0.0|                  0.3|        38.7|                 0.0|        0.0|\n",
      "|       2| 2022-07-01 00:29:11|  2022-07-01 00:38:00|            1.0|         1.67|       1.0|                 N|         162|          48|           1|        8.0|  0.5|    0.5|       1.0|         0.0|                  0.3|        12.8|                 2.5|        0.0|\n",
      "|       1| 2022-07-01 00:03:56|  2022-07-01 00:11:49|            1.0|          0.9|       1.0|                 N|          48|         142|           1|        6.0|  3.0|    0.5|       2.0|         0.0|                  0.3|        11.8|                 2.5|        0.0|\n",
      "|       1| 2022-07-01 00:18:36|  2022-07-01 00:52:44|            1.0|         14.8|       1.0|                 N|          70|         265|           1|       44.0|  0.5|    0.5|      20.0|         0.0|                  0.3|        65.3|                 0.0|        0.0|\n",
      "|       1| 2022-07-01 00:15:50|  2022-07-01 00:22:21|            1.0|          1.2|       1.0|                 N|         161|         234|           2|        6.5|  3.0|    0.5|       0.0|         0.0|                  0.3|        10.3|                 2.5|        0.0|\n",
      "|       1| 2022-07-01 00:31:06|  2022-07-01 00:35:12|            0.0|          1.0|       1.0|                 N|         234|         100|           2|        5.5|  3.0|    0.5|       0.0|         0.0|                  0.3|         9.3|                 2.5|        0.0|\n",
      "|       1| 2022-07-01 00:53:53|  2022-07-01 01:08:10|            1.0|          3.0|       1.0|                 N|         162|         148|           1|       12.5|  3.0|    0.5|      4.85|         0.0|                  0.3|       21.15|                 2.5|        0.0|\n",
      "|       2| 2022-07-01 00:23:36|  2022-07-01 00:33:09|            2.0|         1.37|       1.0|                 N|         162|         142|           1|        8.0|  0.5|    0.5|      2.36|         0.0|                  0.3|       14.16|                 2.5|        0.0|\n",
      "|       2| 2022-07-01 00:38:53|  2022-07-01 01:20:28|            2.0|         8.49|       1.0|                 N|          48|          66|           2|       31.0|  0.5|    0.5|       0.0|         0.0|                  0.3|        34.8|                 2.5|        0.0|\n",
      "|       2| 2022-07-01 00:26:21|  2022-07-01 00:30:52|            1.0|         1.08|       1.0|                 N|          50|         142|           1|        5.5|  0.5|    0.5|      1.86|         0.0|                  0.3|       11.16|                 2.5|        0.0|\n",
      "|       1| 2022-07-01 00:06:27|  2022-07-01 00:23:09|            1.0|          8.3|       1.0|                 N|         138|         170|           1|       24.5| 4.25|    0.5|       7.2|        6.55|                  0.3|        43.3|                 2.5|       1.25|\n",
      "|       1| 2022-07-01 00:39:23|  2022-07-01 00:42:18|            1.0|          1.0|       1.0|                 N|         170|         229|           1|        4.5|  3.0|    0.5|      1.65|         0.0|                  0.3|        9.95|                 2.5|        0.0|\n",
      "|       1| 2022-07-01 00:23:23|  2022-07-01 00:33:24|            1.0|          1.6|       1.0|                 N|         249|         107|           1|        8.5|  3.0|    0.5|      2.45|         0.0|                  0.3|       14.75|                 2.5|        0.0|\n",
      "|       1| 2022-07-01 00:39:10|  2022-07-01 00:52:04|            1.0|          2.2|       1.0|                 N|         164|         231|           1|       10.0|  3.0|    0.5|      2.76|         0.0|                  0.3|       16.56|                 2.5|        0.0|\n",
      "|       1| 2022-07-01 00:52:45|  2022-07-01 00:59:14|            1.0|          1.5|       1.0|                 N|         231|          90|           1|        6.5|  3.0|    0.5|      2.05|         0.0|                  0.3|       12.35|                 2.5|        0.0|\n",
      "|       2| 2022-07-01 00:03:06|  2022-07-01 00:39:52|            1.0|         8.03|       1.0|                 N|         143|          65|           1|       29.5|  0.5|    0.5|      8.32|         0.0|                  0.3|       41.62|                 2.5|        0.0|\n",
      "|       2| 2022-07-01 00:40:59|  2022-07-01 01:02:41|            1.0|         8.28|       1.0|                 N|          65|         141|           1|       25.0|  0.5|    0.5|       4.0|         0.0|                  0.3|        32.8|                 2.5|        0.0|\n",
      "|       1| 2022-07-01 00:43:41|  2022-07-01 00:53:38|            1.0|          1.3|       1.0|                 N|          48|         170|           3|        8.5|  3.0|    0.5|       0.0|         0.0|                  0.3|        12.3|                 2.5|        0.0|\n",
      "|       1| 2022-07-01 00:58:11|  2022-07-01 01:08:19|            1.0|          2.9|       1.0|                 N|         170|         263|           1|       10.5|  3.0|    0.5|      2.85|         0.0|                  0.3|       17.15|                 2.5|        0.0|\n",
      "|       2| 2022-07-01 00:07:27|  2022-07-01 00:30:26|            1.0|         8.83|       1.0|                 N|         138|         130|           2|       28.0|  0.5|    0.5|       0.0|         0.0|                  0.3|       30.55|                 0.0|       1.25|\n",
      "+--------+--------------------+---------------------+---------------+-------------+----------+------------------+------------+------------+------------+-----------+-----+-------+----------+------------+---------------------+------------+--------------------+-----------+\n",
      "only showing top 20 rows\n",
      "\n"
     ]
    }
   ],
   "source": [
    "df_raw.show()"
   ]
  },
  {
   "cell_type": "code",
   "execution_count": 11,
   "metadata": {},
   "outputs": [],
   "source": [
    "df_drop = df_raw.drop('VendorID', 'RatecodeID', 'store_and_fwd_flag', 'PULocationID', 'DOLocationID', 'fare_amount', 'extra', 'mta_tax', 'tip_amount', 'tolls_amount', 'tolls_amount', 'improvement_surcharge')"
   ]
  },
  {
   "cell_type": "code",
   "execution_count": 12,
   "metadata": {},
   "outputs": [
    {
     "name": "stdout",
     "output_type": "stream",
     "text": [
      "+--------------------+---------------------+---------------+-------------+------------+------------+--------------------+-----------+\n",
      "|tpep_pickup_datetime|tpep_dropoff_datetime|passenger_count|trip_distance|payment_type|total_amount|congestion_surcharge|airport_fee|\n",
      "+--------------------+---------------------+---------------+-------------+------------+------------+--------------------+-----------+\n",
      "| 2022-07-01 00:20:06|  2022-07-01 00:39:13|            1.0|         10.1|           1|        38.7|                 0.0|        0.0|\n",
      "| 2022-07-01 00:29:11|  2022-07-01 00:38:00|            1.0|         1.67|           1|        12.8|                 2.5|        0.0|\n",
      "| 2022-07-01 00:03:56|  2022-07-01 00:11:49|            1.0|          0.9|           1|        11.8|                 2.5|        0.0|\n",
      "| 2022-07-01 00:18:36|  2022-07-01 00:52:44|            1.0|         14.8|           1|        65.3|                 0.0|        0.0|\n",
      "| 2022-07-01 00:15:50|  2022-07-01 00:22:21|            1.0|          1.2|           2|        10.3|                 2.5|        0.0|\n",
      "| 2022-07-01 00:31:06|  2022-07-01 00:35:12|            0.0|          1.0|           2|         9.3|                 2.5|        0.0|\n",
      "| 2022-07-01 00:53:53|  2022-07-01 01:08:10|            1.0|          3.0|           1|       21.15|                 2.5|        0.0|\n",
      "| 2022-07-01 00:23:36|  2022-07-01 00:33:09|            2.0|         1.37|           1|       14.16|                 2.5|        0.0|\n",
      "| 2022-07-01 00:38:53|  2022-07-01 01:20:28|            2.0|         8.49|           2|        34.8|                 2.5|        0.0|\n",
      "| 2022-07-01 00:26:21|  2022-07-01 00:30:52|            1.0|         1.08|           1|       11.16|                 2.5|        0.0|\n",
      "| 2022-07-01 00:06:27|  2022-07-01 00:23:09|            1.0|          8.3|           1|        43.3|                 2.5|       1.25|\n",
      "| 2022-07-01 00:39:23|  2022-07-01 00:42:18|            1.0|          1.0|           1|        9.95|                 2.5|        0.0|\n",
      "| 2022-07-01 00:23:23|  2022-07-01 00:33:24|            1.0|          1.6|           1|       14.75|                 2.5|        0.0|\n",
      "| 2022-07-01 00:39:10|  2022-07-01 00:52:04|            1.0|          2.2|           1|       16.56|                 2.5|        0.0|\n",
      "| 2022-07-01 00:52:45|  2022-07-01 00:59:14|            1.0|          1.5|           1|       12.35|                 2.5|        0.0|\n",
      "| 2022-07-01 00:03:06|  2022-07-01 00:39:52|            1.0|         8.03|           1|       41.62|                 2.5|        0.0|\n",
      "| 2022-07-01 00:40:59|  2022-07-01 01:02:41|            1.0|         8.28|           1|        32.8|                 2.5|        0.0|\n",
      "| 2022-07-01 00:43:41|  2022-07-01 00:53:38|            1.0|          1.3|           3|        12.3|                 2.5|        0.0|\n",
      "| 2022-07-01 00:58:11|  2022-07-01 01:08:19|            1.0|          2.9|           1|       17.15|                 2.5|        0.0|\n",
      "| 2022-07-01 00:07:27|  2022-07-01 00:30:26|            1.0|         8.83|           2|       30.55|                 0.0|       1.25|\n",
      "+--------------------+---------------------+---------------+-------------+------------+------------+--------------------+-----------+\n",
      "only showing top 20 rows\n",
      "\n"
     ]
    }
   ],
   "source": [
    "df_drop.show()"
   ]
  },
  {
   "cell_type": "code",
   "execution_count": 13,
   "metadata": {},
   "outputs": [],
   "source": [
    "df_drop.createOrReplaceTempView(\"temp_df\")"
   ]
  },
  {
   "cell_type": "code",
   "execution_count": 14,
   "metadata": {},
   "outputs": [
    {
     "name": "stdout",
     "output_type": "stream",
     "text": [
      "+--------------------+-------------+-------+\n",
      "|            col_name|    data_type|comment|\n",
      "+--------------------+-------------+-------+\n",
      "|tpep_pickup_datetime|timestamp_ntz|   NULL|\n",
      "|tpep_dropoff_date...|timestamp_ntz|   NULL|\n",
      "|     passenger_count|       double|   NULL|\n",
      "|       trip_distance|       double|   NULL|\n",
      "|        payment_type|       bigint|   NULL|\n",
      "|        total_amount|       double|   NULL|\n",
      "|congestion_surcharge|       double|   NULL|\n",
      "|         airport_fee|       double|   NULL|\n",
      "+--------------------+-------------+-------+\n",
      "\n"
     ]
    }
   ],
   "source": [
    "spark.sql(\"\"\"\n",
    "          DESCRIBE temp_df\n",
    "          \"\"\").show()"
   ]
  },
  {
   "cell_type": "code",
   "execution_count": 15,
   "metadata": {},
   "outputs": [
    {
     "name": "stderr",
     "output_type": "stream",
     "text": [
      "[Stage 27:=====================================>               (151 + 12) / 213]\r"
     ]
    },
    {
     "name": "stdout",
     "output_type": "stream",
     "text": [
      "+--------+\n",
      "|     CNT|\n",
      "+--------+\n",
      "|59149718|\n",
      "+--------+\n",
      "\n"
     ]
    },
    {
     "name": "stderr",
     "output_type": "stream",
     "text": [
      "                                                                                \r"
     ]
    }
   ],
   "source": [
    "spark.sql(\"\"\"\n",
    "          SELECT COUNT(*) CNT\n",
    "          FROM temp_df\n",
    "          \"\"\").show()"
   ]
  },
  {
   "cell_type": "code",
   "execution_count": 16,
   "metadata": {},
   "outputs": [
    {
     "name": "stderr",
     "output_type": "stream",
     "text": [
      "[Stage 30:====================================================> (209 + 4) / 213]\r"
     ]
    },
    {
     "name": "stdout",
     "output_type": "stream",
     "text": [
      "+--------------------+---------------------+---------------+-------------+------------+------------+--------------------+-----------+\n",
      "|tpep_pickup_datetime|tpep_dropoff_datetime|passenger_count|trip_distance|payment_type|total_amount|congestion_surcharge|airport_fee|\n",
      "+--------------------+---------------------+---------------+-------------+------------+------------+--------------------+-----------+\n",
      "| 2001-01-01 00:03:14|  2001-01-01 01:12:47|            1.0|        20.77|           2|       61.85|                 2.5|        0.0|\n",
      "| 2001-01-01 00:06:49|  2001-01-01 15:42:11|            2.0|         7.41|           1|        46.9|                 2.5|        0.0|\n",
      "| 2001-01-01 00:07:36|  2001-01-01 00:16:31|            1.0|         1.68|           2|        14.7|                 2.5|        0.0|\n",
      "| 2001-01-01 00:08:31|  2001-01-01 16:01:27|            1.0|        18.63|           1|       98.76|                 2.5|       1.75|\n",
      "| 2001-01-01 00:08:42|  2001-01-01 14:13:51|            1.0|        17.68|           2|        81.8|                 2.5|       1.25|\n",
      "| 2001-01-01 00:27:45|  2001-01-01 00:34:17|            1.0|         0.88|           2|        10.3|                 2.5|        0.0|\n",
      "| 2001-01-01 00:28:40|  2001-01-01 01:11:09|            1.0|        10.23|           2|        52.5|                 2.5|        0.0|\n",
      "| 2001-01-01 01:02:18|  2001-01-01 17:20:19|            1.0|          3.1|           1|        18.3|                 2.5|        0.0|\n",
      "| 2001-01-01 01:23:51|  2001-01-01 01:50:08|            1.0|         4.68|           2|        24.8|                 2.5|        0.0|\n",
      "| 2001-01-01 01:52:48|  2001-01-01 17:37:26|            1.0|         6.95|           1|        29.8|                 2.5|        0.0|\n",
      "| 2001-01-01 15:18:51|  2001-01-01 22:08:40|            2.0|         9.13|           1|        43.0|                 2.5|        0.0|\n",
      "| 2001-08-23 05:34:45|  2001-08-23 05:57:11|            1.0|         7.08|           2|       24.55|                 0.0|       1.25|\n",
      "| 2002-10-21 00:13:16|  2002-10-21 00:24:37|            1.0|         2.78|           1|       17.76|                 2.5|        0.0|\n",
      "| 2002-10-21 00:25:44|  2022-06-06 00:40:18|            1.0|         3.01|           1|       20.16|                 2.5|        0.0|\n",
      "| 2002-10-21 00:27:54|  2002-10-21 00:44:31|            2.0|         3.27|           2|        17.3|                 2.5|        0.0|\n",
      "| 2002-10-21 00:50:00|  2002-10-21 00:50:06|            3.0|          0.0|           1|        66.3|                 0.0|        0.0|\n",
      "| 2002-10-21 01:38:48|  2022-06-06 01:49:22|            1.0|         4.29|           1|        20.8|                 2.5|        0.0|\n",
      "| 2002-10-21 05:50:56|  2002-10-21 05:53:32|            1.0|          0.6|           2|         7.8|                 2.5|        0.0|\n",
      "| 2002-10-21 05:54:54|  2002-10-21 06:09:23|            1.0|         4.84|           2|        20.3|                 2.5|        0.0|\n",
      "| 2002-10-21 08:06:54|  2002-10-21 08:29:19|            1.0|         3.33|           2|        19.3|                 2.5|        0.0|\n",
      "+--------------------+---------------------+---------------+-------------+------------+------------+--------------------+-----------+\n",
      "only showing top 20 rows\n",
      "\n"
     ]
    },
    {
     "name": "stderr",
     "output_type": "stream",
     "text": [
      "                                                                                \r"
     ]
    }
   ],
   "source": [
    "spark.sql(\"\"\"\n",
    "          SELECT *\n",
    "          FROM temp_df\n",
    "          ORDER BY tpep_pickup_datetime\n",
    "          \"\"\").show()"
   ]
  },
  {
   "cell_type": "code",
   "execution_count": 17,
   "metadata": {},
   "outputs": [],
   "source": [
    "df_drop = spark.sql(\"\"\"\n",
    "                    SELECT *\n",
    "                    FROM temp_df\n",
    "                    WHERE tpep_pickup_datetime >= '2022-01-01 00:00:00'\n",
    "                        AND tpep_pickup_datetime < '2023-07-01 00:00:00'\n",
    "                    \"\"\")"
   ]
  },
  {
   "cell_type": "code",
   "execution_count": 18,
   "metadata": {},
   "outputs": [],
   "source": [
    "df_drop.createOrReplaceTempView('temp_df')"
   ]
  },
  {
   "cell_type": "code",
   "execution_count": 19,
   "metadata": {},
   "outputs": [
    {
     "name": "stderr",
     "output_type": "stream",
     "text": [
      "[Stage 31:=====================================================>(212 + 1) / 213]\r"
     ]
    },
    {
     "name": "stdout",
     "output_type": "stream",
     "text": [
      "+--------------------+---------------------+---------------+-------------+------------+------------+--------------------+-----------+\n",
      "|tpep_pickup_datetime|tpep_dropoff_datetime|passenger_count|trip_distance|payment_type|total_amount|congestion_surcharge|airport_fee|\n",
      "+--------------------+---------------------+---------------+-------------+------------+------------+--------------------+-----------+\n",
      "|                   0|                    0|        1896855|            0|           0|           0|             1896855|    1896855|\n",
      "+--------------------+---------------------+---------------+-------------+------------+------------+--------------------+-----------+\n",
      "\n"
     ]
    },
    {
     "name": "stderr",
     "output_type": "stream",
     "text": [
      "                                                                                \r"
     ]
    }
   ],
   "source": [
    "# 결측치 확인\n",
    "\n",
    "from pyspark.sql.functions import col, count, when, isnull\n",
    "\n",
    "# 각 컬럼에 대해 non-null 값을 계산\n",
    "null_counts = df_drop.select([count(when(isnull(c), c)).alias(c) for c in df_drop.columns])\n",
    "\n",
    "null_counts.show()"
   ]
  },
  {
   "cell_type": "code",
   "execution_count": 20,
   "metadata": {},
   "outputs": [
    {
     "name": "stderr",
     "output_type": "stream",
     "text": [
      "[Stage 34:====================================================> (209 + 4) / 213]\r"
     ]
    },
    {
     "name": "stdout",
     "output_type": "stream",
     "text": [
      "+---------------+-------------+------------+------------+--------------------+-----------+\n",
      "|passenger_count|trip_distance|payment_type|total_amount|congestion_surcharge|airport_fee|\n",
      "+---------------+-------------+------------+------------+--------------------+-----------+\n",
      "|              0|            0|           0|      428114|              341599|      49879|\n",
      "+---------------+-------------+------------+------------+--------------------+-----------+\n",
      "\n"
     ]
    },
    {
     "name": "stderr",
     "output_type": "stream",
     "text": [
      "                                                                                \r"
     ]
    }
   ],
   "source": [
    "columns = ['passenger_count', 'trip_distance', 'payment_type', 'total_amount', 'congestion_surcharge', 'airport_fee']\n",
    "# 각 컬럼에 대해 음수 값을 계산\n",
    "negative_counts = df_drop.select([count(when(col(c) < 0, c)).alias(c) for c in columns])\n",
    "\n",
    "negative_counts.show()"
   ]
  },
  {
   "cell_type": "code",
   "execution_count": 21,
   "metadata": {},
   "outputs": [
    {
     "name": "stderr",
     "output_type": "stream",
     "text": [
      "[Stage 37:====================================================> (206 + 7) / 213]\r"
     ]
    },
    {
     "name": "stdout",
     "output_type": "stream",
     "text": [
      "+--------------------+---------------------+---------------+-------------+------------+------------+--------------------+-----------+\n",
      "|tpep_pickup_datetime|tpep_dropoff_datetime|passenger_count|trip_distance|payment_type|total_amount|congestion_surcharge|airport_fee|\n",
      "+--------------------+---------------------+---------------+-------------+------------+------------+--------------------+-----------+\n",
      "| 2022-01-01 00:00:08|  2022-01-01 00:14:14|            1.0|         7.94|           1|       30.41|                 0.0|       1.25|\n",
      "| 2022-01-01 00:00:11|  2022-01-01 00:14:29|            1.0|         5.55|           2|       20.05|                 0.0|       1.25|\n",
      "| 2022-01-01 00:00:17|  2022-01-01 00:31:04|            1.0|         3.86|           1|       28.56|                 2.5|        0.0|\n",
      "| 2022-01-01 00:00:18|  2022-01-01 00:13:27|            1.0|         3.37|           1|       20.16|                 2.5|        0.0|\n",
      "| 2022-01-01 00:00:20|  2022-01-01 00:20:51|            1.0|         4.89|           1|       28.34|                 2.5|        0.0|\n",
      "| 2022-01-01 00:00:23|  2022-01-01 00:24:06|            1.0|         19.1|           1|       75.72|                 2.5|       1.25|\n",
      "| 2022-01-01 00:00:29|  2022-01-01 00:06:52|            2.0|         1.46|           2|        10.8|                 2.5|        0.0|\n",
      "| 2022-01-01 00:00:30|  2022-01-01 00:20:31|            1.0|         5.05|           1|       27.36|                 2.5|        0.0|\n",
      "| 2022-01-01 00:00:30|  2022-01-01 00:10:18|            1.0|         5.05|           2|       18.05|                 0.0|       1.25|\n",
      "| 2022-01-01 00:00:44|  2022-01-01 00:08:54|            1.0|         2.17|           1|       14.76|                 2.5|        0.0|\n",
      "| 2022-01-01 00:00:44|  2022-01-01 00:05:29|            1.0|          0.2|           2|         6.3|                 0.0|        0.0|\n",
      "| 2022-01-01 00:00:46|  2022-01-01 00:28:44|            3.0|        19.55|           1|       63.31|                 0.0|       1.25|\n",
      "| 2022-01-01 00:00:51|  2022-01-01 00:07:30|            6.0|         2.24|           2|        11.8|                 2.5|        0.0|\n",
      "| 2022-01-01 00:00:52|  2022-01-01 00:09:51|            2.0|          1.4|           1|       15.35|                 2.5|        0.0|\n",
      "| 2022-01-01 00:00:54|  2022-01-01 00:11:33|            4.0|         4.51|           1|       23.16|                 2.5|        0.0|\n",
      "| 2022-01-01 00:01:01|  2022-01-01 00:11:05|            1.0|         4.56|           1|       21.96|                 2.5|        0.0|\n",
      "| 2022-01-01 00:01:06|  2022-01-01 00:11:43|            1.0|          1.7|           1|       15.95|                 2.5|        0.0|\n",
      "| 2022-01-01 00:01:11|  2022-01-01 00:13:47|            1.0|         6.89|           1|       27.41|                 0.0|       1.25|\n",
      "| 2022-01-01 00:01:28|  2022-01-01 00:20:28|            1.0|         7.56|           1|        28.3|                 2.5|        0.0|\n",
      "| 2022-01-01 00:01:29|  2022-01-01 00:09:34|            3.0|         4.94|           1|       20.81|                 0.0|       1.25|\n",
      "+--------------------+---------------------+---------------+-------------+------------+------------+--------------------+-----------+\n",
      "only showing top 20 rows\n",
      "\n"
     ]
    },
    {
     "name": "stderr",
     "output_type": "stream",
     "text": [
      "                                                                                \r"
     ]
    }
   ],
   "source": [
    "spark.sql(\"\"\"\n",
    "          SELECT *\n",
    "          FROM temp_df\n",
    "          ORDER BY tpep_pickup_datetime\n",
    "          \"\"\").show()"
   ]
  },
  {
   "cell_type": "code",
   "execution_count": 22,
   "metadata": {},
   "outputs": [
    {
     "name": "stderr",
     "output_type": "stream",
     "text": [
      "[Stage 38:=====================================================>(210 + 3) / 213]\r"
     ]
    },
    {
     "name": "stdout",
     "output_type": "stream",
     "text": [
      "+--------------------+---------------------+---------------+-------------+------------+------------+--------------------+-----------+\n",
      "|tpep_pickup_datetime|tpep_dropoff_datetime|passenger_count|trip_distance|payment_type|total_amount|congestion_surcharge|airport_fee|\n",
      "+--------------------+---------------------+---------------+-------------+------------+------------+--------------------+-----------+\n",
      "| 2022-01-01 00:08:41|  2022-01-01 00:28:34|            1.0|         7.97|           4|      -26.55|                 0.0|      -1.25|\n",
      "| 2022-01-01 00:26:37|  2022-01-01 00:39:35|            1.0|         7.38|           4|      -23.55|                 0.0|      -1.25|\n",
      "| 2022-01-01 00:29:38|  2022-01-01 00:34:30|            1.0|         0.57|           3|      -10.05|                -2.5|      -1.25|\n",
      "| 2022-01-01 00:43:44|  2022-01-01 01:14:51|            1.0|        22.71|           2|      -63.05|                 0.0|      -1.25|\n",
      "| 2022-01-01 00:44:44|  2022-01-01 00:44:48|            2.0|          0.0|           3|       -5.05|                 0.0|      -1.25|\n",
      "| 2022-01-01 01:15:39|  2022-01-01 01:15:46|            1.0|          0.0|           4|      -22.05|                 0.0|      -1.25|\n",
      "| 2022-01-01 02:18:20|  2022-01-01 02:51:23|            2.0|        19.73|           4|      -56.55|                 0.0|      -1.25|\n",
      "| 2022-01-01 08:06:25|  2022-01-01 08:06:39|            2.0|          0.0|           4|       -4.55|                 0.0|      -1.25|\n",
      "| 2022-01-01 09:25:11|  2022-01-01 09:41:48|            4.0|         8.36|           4|      -52.05|                -2.5|      -1.25|\n",
      "| 2022-01-01 11:17:38|  2022-01-01 11:43:27|            1.0|        19.49|           4|       -60.1|                 0.0|      -1.25|\n",
      "| 2022-01-01 11:19:22|  2022-01-01 11:19:51|            1.0|         0.03|           3|       -4.55|                 0.0|      -1.25|\n",
      "| 2022-01-01 11:58:15|  2022-01-01 12:12:41|            1.0|        11.18|           2|       -2.05|                 0.0|      -1.25|\n",
      "| 2022-01-01 12:25:00|  2022-01-01 12:58:05|            2.0|        18.36|           4|       -63.1|                -2.5|      -1.25|\n",
      "| 2022-01-01 12:32:08|  2022-01-01 12:32:14|            1.0|          0.0|           4|       -4.55|                 0.0|      -1.25|\n",
      "| 2022-01-01 12:37:43|  2022-01-01 12:52:20|            1.0|         5.38|           4|      -54.05|                 0.0|      -1.25|\n",
      "| 2022-01-01 13:36:32|  2022-01-01 14:05:05|            4.0|         9.99|           2|       -4.55|                -2.5|      -1.25|\n",
      "| 2022-01-01 14:26:59|  2022-01-01 14:28:07|            2.0|         0.51|           4|       -5.55|                 0.0|      -1.25|\n",
      "| 2022-01-01 14:48:34|  2022-01-01 14:49:56|            3.0|         0.03|           3|      -22.05|                 0.0|      -1.25|\n",
      "| 2022-01-01 15:46:10|  2022-01-01 16:07:41|            1.0|        10.34|           4|      -32.05|                 0.0|      -1.25|\n",
      "| 2022-01-01 16:40:12|  2022-01-01 17:16:57|            2.0|        18.17|           2|      -50.73|                -2.5|      -1.25|\n",
      "+--------------------+---------------------+---------------+-------------+------------+------------+--------------------+-----------+\n",
      "only showing top 20 rows\n",
      "\n"
     ]
    },
    {
     "name": "stderr",
     "output_type": "stream",
     "text": [
      "                                                                                \r"
     ]
    }
   ],
   "source": [
    "spark.sql(\"\"\"\n",
    "          SELECT *\n",
    "          FROM temp_df\n",
    "          WHERE airport_fee < 0\n",
    "          ORDER BY tpep_pickup_datetime\n",
    "          \"\"\").show()"
   ]
  },
  {
   "cell_type": "code",
   "execution_count": 23,
   "metadata": {},
   "outputs": [],
   "source": [
    "df_drop = spark.sql(\"\"\"\n",
    "                    SELECT *\n",
    "                    FROM temp_df\n",
    "                    WHERE passenger_count >= 1\n",
    "                    \"\"\")"
   ]
  },
  {
   "cell_type": "code",
   "execution_count": 24,
   "metadata": {},
   "outputs": [],
   "source": [
    "df_drop.createOrReplaceTempView('temp_df')"
   ]
  },
  {
   "cell_type": "code",
   "execution_count": 25,
   "metadata": {},
   "outputs": [
    {
     "name": "stderr",
     "output_type": "stream",
     "text": [
      "[Stage 39:=====================================================>(210 + 3) / 213]\r"
     ]
    },
    {
     "name": "stdout",
     "output_type": "stream",
     "text": [
      "+--------+\n",
      "|     cnt|\n",
      "+--------+\n",
      "|56161187|\n",
      "+--------+\n",
      "\n"
     ]
    },
    {
     "name": "stderr",
     "output_type": "stream",
     "text": [
      "                                                                                \r"
     ]
    }
   ],
   "source": [
    "spark.sql(\"\"\"\n",
    "          SELECT count(*) cnt\n",
    "          FROM temp_df\n",
    "          \"\"\").show()"
   ]
  },
  {
   "cell_type": "code",
   "execution_count": 26,
   "metadata": {},
   "outputs": [],
   "source": [
    "df_month = spark.sql(\"\"\"\n",
    "                     SELECT \n",
    "                        DATE_FORMAT(tpep_pickup_datetime, 'yyyy-MM') AS tpep_pickup_datetime_year, \n",
    "                        *\n",
    "                     FROM temp_df\n",
    "                     \"\"\")"
   ]
  },
  {
   "cell_type": "code",
   "execution_count": 27,
   "metadata": {},
   "outputs": [
    {
     "name": "stdout",
     "output_type": "stream",
     "text": [
      "+-------------------------+--------------------+---------------------+---------------+-------------+------------+------------+--------------------+-----------+\n",
      "|tpep_pickup_datetime_year|tpep_pickup_datetime|tpep_dropoff_datetime|passenger_count|trip_distance|payment_type|total_amount|congestion_surcharge|airport_fee|\n",
      "+-------------------------+--------------------+---------------------+---------------+-------------+------------+------------+--------------------+-----------+\n",
      "|                  2022-07| 2022-07-01 00:20:06|  2022-07-01 00:39:13|            1.0|         10.1|           1|        38.7|                 0.0|        0.0|\n",
      "|                  2022-07| 2022-07-01 00:29:11|  2022-07-01 00:38:00|            1.0|         1.67|           1|        12.8|                 2.5|        0.0|\n",
      "|                  2022-07| 2022-07-01 00:03:56|  2022-07-01 00:11:49|            1.0|          0.9|           1|        11.8|                 2.5|        0.0|\n",
      "|                  2022-07| 2022-07-01 00:18:36|  2022-07-01 00:52:44|            1.0|         14.8|           1|        65.3|                 0.0|        0.0|\n",
      "|                  2022-07| 2022-07-01 00:15:50|  2022-07-01 00:22:21|            1.0|          1.2|           2|        10.3|                 2.5|        0.0|\n",
      "|                  2022-07| 2022-07-01 00:53:53|  2022-07-01 01:08:10|            1.0|          3.0|           1|       21.15|                 2.5|        0.0|\n",
      "|                  2022-07| 2022-07-01 00:23:36|  2022-07-01 00:33:09|            2.0|         1.37|           1|       14.16|                 2.5|        0.0|\n",
      "|                  2022-07| 2022-07-01 00:38:53|  2022-07-01 01:20:28|            2.0|         8.49|           2|        34.8|                 2.5|        0.0|\n",
      "|                  2022-07| 2022-07-01 00:26:21|  2022-07-01 00:30:52|            1.0|         1.08|           1|       11.16|                 2.5|        0.0|\n",
      "|                  2022-07| 2022-07-01 00:06:27|  2022-07-01 00:23:09|            1.0|          8.3|           1|        43.3|                 2.5|       1.25|\n",
      "|                  2022-07| 2022-07-01 00:39:23|  2022-07-01 00:42:18|            1.0|          1.0|           1|        9.95|                 2.5|        0.0|\n",
      "|                  2022-07| 2022-07-01 00:23:23|  2022-07-01 00:33:24|            1.0|          1.6|           1|       14.75|                 2.5|        0.0|\n",
      "|                  2022-07| 2022-07-01 00:39:10|  2022-07-01 00:52:04|            1.0|          2.2|           1|       16.56|                 2.5|        0.0|\n",
      "|                  2022-07| 2022-07-01 00:52:45|  2022-07-01 00:59:14|            1.0|          1.5|           1|       12.35|                 2.5|        0.0|\n",
      "|                  2022-07| 2022-07-01 00:03:06|  2022-07-01 00:39:52|            1.0|         8.03|           1|       41.62|                 2.5|        0.0|\n",
      "|                  2022-07| 2022-07-01 00:40:59|  2022-07-01 01:02:41|            1.0|         8.28|           1|        32.8|                 2.5|        0.0|\n",
      "|                  2022-07| 2022-07-01 00:43:41|  2022-07-01 00:53:38|            1.0|          1.3|           3|        12.3|                 2.5|        0.0|\n",
      "|                  2022-07| 2022-07-01 00:58:11|  2022-07-01 01:08:19|            1.0|          2.9|           1|       17.15|                 2.5|        0.0|\n",
      "|                  2022-07| 2022-07-01 00:07:27|  2022-07-01 00:30:26|            1.0|         8.83|           2|       30.55|                 0.0|       1.25|\n",
      "|                  2022-07| 2022-07-01 00:44:55|  2022-07-01 01:05:59|            1.0|         4.19|           1|       24.36|                 2.5|        0.0|\n",
      "+-------------------------+--------------------+---------------------+---------------+-------------+------------+------------+--------------------+-----------+\n",
      "only showing top 20 rows\n",
      "\n"
     ]
    }
   ],
   "source": [
    "df_month.show()"
   ]
  },
  {
   "cell_type": "code",
   "execution_count": 28,
   "metadata": {},
   "outputs": [],
   "source": [
    "df_month.createOrReplaceTempView('temp_df_month')"
   ]
  },
  {
   "cell_type": "code",
   "execution_count": 29,
   "metadata": {},
   "outputs": [],
   "source": [
    "df_final = spark.sql(\"\"\"\n",
    "                     SELECT \n",
    "                        tpep_pickup_datetime_year AS year_month,\n",
    "                        SUM(passenger_count) AS passenger_count\n",
    "                     FROM temp_df_month\n",
    "                     GROUP BY tpep_pickup_datetime_year\n",
    "                     ORDER BY tpep_pickup_datetime_year\n",
    "                     \"\"\")"
   ]
  },
  {
   "cell_type": "code",
   "execution_count": 30,
   "metadata": {},
   "outputs": [
    {
     "name": "stderr",
     "output_type": "stream",
     "text": [
      "[Stage 45:=====================================================>(212 + 1) / 213]\r"
     ]
    },
    {
     "name": "stdout",
     "output_type": "stream",
     "text": [
      "+----------+---------------+\n",
      "|year_month|passenger_count|\n",
      "+----------+---------------+\n",
      "|   2022-01|      3324082.0|\n",
      "|   2022-02|      4006108.0|\n",
      "|   2022-03|      4875580.0|\n",
      "|   2022-04|      4921688.0|\n",
      "|   2022-05|      4821239.0|\n",
      "|   2022-06|      4792144.0|\n",
      "|   2022-07|      4386947.0|\n",
      "|   2022-08|      4353905.0|\n",
      "|   2022-09|      4252079.0|\n",
      "|   2022-10|      4905091.0|\n",
      "|   2022-11|      4360904.0|\n",
      "|   2022-12|      4646436.0|\n",
      "|   2023-01|      4080782.0|\n",
      "|   2023-02|      3838267.0|\n",
      "|   2023-03|      4481350.0|\n",
      "|   2023-04|      4421675.0|\n",
      "|   2023-05|      4636051.0|\n",
      "|   2023-06|      4390868.0|\n",
      "+----------+---------------+\n",
      "\n"
     ]
    },
    {
     "name": "stderr",
     "output_type": "stream",
     "text": [
      "                                                                                \r"
     ]
    }
   ],
   "source": [
    "df_final.show()"
   ]
  },
  {
   "cell_type": "code",
   "execution_count": 31,
   "metadata": {},
   "outputs": [
    {
     "name": "stderr",
     "output_type": "stream",
     "text": [
      "                                                                                \r"
     ]
    },
    {
     "data": {
      "text/html": [
       "    <style>\n",
       "        .bk-notebook-logo {\n",
       "            display: block;\n",
       "            width: 20px;\n",
       "            height: 20px;\n",
       "            background-image: url(data:image/png;base64,iVBORw0KGgoAAAANSUhEUgAAABQAAAAUCAYAAACNiR0NAAAABHNCSVQICAgIfAhkiAAAAAlwSFlzAAALEgAACxIB0t1+/AAAABx0RVh0U29mdHdhcmUAQWRvYmUgRmlyZXdvcmtzIENTNui8sowAAAOkSURBVDiNjZRtaJVlGMd/1/08zzln5zjP1LWcU9N0NkN8m2CYjpgQYQXqSs0I84OLIC0hkEKoPtiH3gmKoiJDU7QpLgoLjLIQCpEsNJ1vqUOdO7ppbuec5+V+rj4ctwzd8IIbbi6u+8f1539dt3A78eXC7QizUF7gyV1fD1Yqg4JWz84yffhm0qkFqBogB9rM8tZdtwVsPUhWhGcFJngGeWrPzHm5oaMmkfEg1usvLFyc8jLRqDOMru7AyC8saQr7GG7f5fvDeH7Ej8CM66nIF+8yngt6HWaKh7k49Soy9nXurCi1o3qUbS3zWfrYeQDTB/Qj6kX6Ybhw4B+bOYoLKCC9H3Nu/leUTZ1JdRWkkn2ldcCamzrcf47KKXdAJllSlxAOkRgyHsGC/zRday5Qld9DyoM4/q/rUoy/CXh3jzOu3bHUVZeU+DEn8FInkPBFlu3+nW3Nw0mk6vCDiWg8CeJaxEwuHS3+z5RgY+YBR6V1Z1nxSOfoaPa4LASWxxdNp+VWTk7+4vzaou8v8PN+xo+KY2xsw6une2frhw05CTYOmQvsEhjhWjn0bmXPjpE1+kplmmkP3suftwTubK9Vq22qKmrBhpY4jvd5afdRA3wGjFAgcnTK2s4hY0/GPNIb0nErGMCRxWOOX64Z8RAC4oCXdklmEvcL8o0BfkNK4lUg9HTl+oPlQxdNo3Mg4Nv175e/1LDGzZen30MEjRUtmXSfiTVu1kK8W4txyV6BMKlbgk3lMwYCiusNy9fVfvvwMxv8Ynl6vxoByANLTWplvuj/nF9m2+PDtt1eiHPBr1oIfhCChQMBw6Aw0UulqTKZdfVvfG7VcfIqLG9bcldL/+pdWTLxLUy8Qq38heUIjh4XlzZxzQm19lLFlr8vdQ97rjZVOLf8nclzckbcD4wxXMidpX30sFd37Fv/GtwwhzhxGVAprjbg0gCAEeIgwCZyTV2Z1REEW8O4py0wsjeloKoMr6iCY6dP92H6Vw/oTyICIthibxjm/DfN9lVz8IqtqKYLUXfoKVMVQVVJOElGjrnnUt9T9wbgp8AyYKaGlqingHZU/uG2NTZSVqwHQTWkx9hxjkpWDaCg6Ckj5qebgBVbT3V3NNXMSiWSDdGV3hrtzla7J+duwPOToIg42ChPQOQjspnSlp1V+Gjdged7+8UN5CRAV7a5EdFNwCjEaBR27b3W890TE7g24NAP/mMDXRWrGoFPQI9ls/MWO2dWFAar/xcOIImbbpA3zgAAAABJRU5ErkJggg==);\n",
       "        }\n",
       "    </style>\n",
       "    <div>\n",
       "        <a href=\"https://bokeh.org\" target=\"_blank\" class=\"bk-notebook-logo\"></a>\n",
       "        <span id=\"c4af1d5c-4850-41c7-a468-89fe197c225e\">Loading BokehJS ...</span>\n",
       "    </div>\n"
      ]
     },
     "metadata": {},
     "output_type": "display_data"
    },
    {
     "data": {
      "application/javascript": "(function(root) {\n  function now() {\n    return new Date();\n  }\n\n  const force = true;\n\n  if (typeof root._bokeh_onload_callbacks === \"undefined\" || force === true) {\n    root._bokeh_onload_callbacks = [];\n    root._bokeh_is_loading = undefined;\n  }\n\nconst JS_MIME_TYPE = 'application/javascript';\n  const HTML_MIME_TYPE = 'text/html';\n  const EXEC_MIME_TYPE = 'application/vnd.bokehjs_exec.v0+json';\n  const CLASS_NAME = 'output_bokeh rendered_html';\n\n  /**\n   * Render data to the DOM node\n   */\n  function render(props, node) {\n    const script = document.createElement(\"script\");\n    node.appendChild(script);\n  }\n\n  /**\n   * Handle when an output is cleared or removed\n   */\n  function handleClearOutput(event, handle) {\n    function drop(id) {\n      const view = Bokeh.index.get_by_id(id)\n      if (view != null) {\n        view.model.document.clear()\n        Bokeh.index.delete(view)\n      }\n    }\n\n    const cell = handle.cell;\n\n    const id = cell.output_area._bokeh_element_id;\n    const server_id = cell.output_area._bokeh_server_id;\n\n    // Clean up Bokeh references\n    if (id != null) {\n      drop(id)\n    }\n\n    if (server_id !== undefined) {\n      // Clean up Bokeh references\n      const cmd_clean = \"from bokeh.io.state import curstate; print(curstate().uuid_to_server['\" + server_id + \"'].get_sessions()[0].document.roots[0]._id)\";\n      cell.notebook.kernel.execute(cmd_clean, {\n        iopub: {\n          output: function(msg) {\n            const id = msg.content.text.trim()\n            drop(id)\n          }\n        }\n      });\n      // Destroy server and session\n      const cmd_destroy = \"import bokeh.io.notebook as ion; ion.destroy_server('\" + server_id + \"')\";\n      cell.notebook.kernel.execute(cmd_destroy);\n    }\n  }\n\n  /**\n   * Handle when a new output is added\n   */\n  function handleAddOutput(event, handle) {\n    const output_area = handle.output_area;\n    const output = handle.output;\n\n    // limit handleAddOutput to display_data with EXEC_MIME_TYPE content only\n    if ((output.output_type != \"display_data\") || (!Object.prototype.hasOwnProperty.call(output.data, EXEC_MIME_TYPE))) {\n      return\n    }\n\n    const toinsert = output_area.element.find(\".\" + CLASS_NAME.split(' ')[0]);\n\n    if (output.metadata[EXEC_MIME_TYPE][\"id\"] !== undefined) {\n      toinsert[toinsert.length - 1].firstChild.textContent = output.data[JS_MIME_TYPE];\n      // store reference to embed id on output_area\n      output_area._bokeh_element_id = output.metadata[EXEC_MIME_TYPE][\"id\"];\n    }\n    if (output.metadata[EXEC_MIME_TYPE][\"server_id\"] !== undefined) {\n      const bk_div = document.createElement(\"div\");\n      bk_div.innerHTML = output.data[HTML_MIME_TYPE];\n      const script_attrs = bk_div.children[0].attributes;\n      for (let i = 0; i < script_attrs.length; i++) {\n        toinsert[toinsert.length - 1].firstChild.setAttribute(script_attrs[i].name, script_attrs[i].value);\n        toinsert[toinsert.length - 1].firstChild.textContent = bk_div.children[0].textContent\n      }\n      // store reference to server id on output_area\n      output_area._bokeh_server_id = output.metadata[EXEC_MIME_TYPE][\"server_id\"];\n    }\n  }\n\n  function register_renderer(events, OutputArea) {\n\n    function append_mime(data, metadata, element) {\n      // create a DOM node to render to\n      const toinsert = this.create_output_subarea(\n        metadata,\n        CLASS_NAME,\n        EXEC_MIME_TYPE\n      );\n      this.keyboard_manager.register_events(toinsert);\n      // Render to node\n      const props = {data: data, metadata: metadata[EXEC_MIME_TYPE]};\n      render(props, toinsert[toinsert.length - 1]);\n      element.append(toinsert);\n      return toinsert\n    }\n\n    /* Handle when an output is cleared or removed */\n    events.on('clear_output.CodeCell', handleClearOutput);\n    events.on('delete.Cell', handleClearOutput);\n\n    /* Handle when a new output is added */\n    events.on('output_added.OutputArea', handleAddOutput);\n\n    /**\n     * Register the mime type and append_mime function with output_area\n     */\n    OutputArea.prototype.register_mime_type(EXEC_MIME_TYPE, append_mime, {\n      /* Is output safe? */\n      safe: true,\n      /* Index of renderer in `output_area.display_order` */\n      index: 0\n    });\n  }\n\n  // register the mime type if in Jupyter Notebook environment and previously unregistered\n  if (root.Jupyter !== undefined) {\n    const events = require('base/js/events');\n    const OutputArea = require('notebook/js/outputarea').OutputArea;\n\n    if (OutputArea.prototype.mime_types().indexOf(EXEC_MIME_TYPE) == -1) {\n      register_renderer(events, OutputArea);\n    }\n  }\n  if (typeof (root._bokeh_timeout) === \"undefined\" || force === true) {\n    root._bokeh_timeout = Date.now() + 5000;\n    root._bokeh_failed_load = false;\n  }\n\n  const NB_LOAD_WARNING = {'data': {'text/html':\n     \"<div style='background-color: #fdd'>\\n\"+\n     \"<p>\\n\"+\n     \"BokehJS does not appear to have successfully loaded. If loading BokehJS from CDN, this \\n\"+\n     \"may be due to a slow or bad network connection. Possible fixes:\\n\"+\n     \"</p>\\n\"+\n     \"<ul>\\n\"+\n     \"<li>re-rerun `output_notebook()` to attempt to load from CDN again, or</li>\\n\"+\n     \"<li>use INLINE resources instead, as so:</li>\\n\"+\n     \"</ul>\\n\"+\n     \"<code>\\n\"+\n     \"from bokeh.resources import INLINE\\n\"+\n     \"output_notebook(resources=INLINE)\\n\"+\n     \"</code>\\n\"+\n     \"</div>\"}};\n\n  function display_loaded() {\n    const el = document.getElementById(\"c4af1d5c-4850-41c7-a468-89fe197c225e\");\n    if (el != null) {\n      el.textContent = \"BokehJS is loading...\";\n    }\n    if (root.Bokeh !== undefined) {\n      if (el != null) {\n        el.textContent = \"BokehJS \" + root.Bokeh.version + \" successfully loaded.\";\n      }\n    } else if (Date.now() < root._bokeh_timeout) {\n      setTimeout(display_loaded, 100)\n    }\n  }\n\n  function run_callbacks() {\n    try {\n      root._bokeh_onload_callbacks.forEach(function(callback) {\n        if (callback != null)\n          callback();\n      });\n    } finally {\n      delete root._bokeh_onload_callbacks\n    }\n    console.debug(\"Bokeh: all callbacks have finished\");\n  }\n\n  function load_libs(css_urls, js_urls, callback) {\n    if (css_urls == null) css_urls = [];\n    if (js_urls == null) js_urls = [];\n\n    root._bokeh_onload_callbacks.push(callback);\n    if (root._bokeh_is_loading > 0) {\n      console.debug(\"Bokeh: BokehJS is being loaded, scheduling callback at\", now());\n      return null;\n    }\n    if (js_urls == null || js_urls.length === 0) {\n      run_callbacks();\n      return null;\n    }\n    console.debug(\"Bokeh: BokehJS not loaded, scheduling load and callback at\", now());\n    root._bokeh_is_loading = css_urls.length + js_urls.length;\n\n    function on_load() {\n      root._bokeh_is_loading--;\n      if (root._bokeh_is_loading === 0) {\n        console.debug(\"Bokeh: all BokehJS libraries/stylesheets loaded\");\n        run_callbacks()\n      }\n    }\n\n    function on_error(url) {\n      console.error(\"failed to load \" + url);\n    }\n\n    for (let i = 0; i < css_urls.length; i++) {\n      const url = css_urls[i];\n      const element = document.createElement(\"link\");\n      element.onload = on_load;\n      element.onerror = on_error.bind(null, url);\n      element.rel = \"stylesheet\";\n      element.type = \"text/css\";\n      element.href = url;\n      console.debug(\"Bokeh: injecting link tag for BokehJS stylesheet: \", url);\n      document.body.appendChild(element);\n    }\n\n    for (let i = 0; i < js_urls.length; i++) {\n      const url = js_urls[i];\n      const element = document.createElement('script');\n      element.onload = on_load;\n      element.onerror = on_error.bind(null, url);\n      element.async = false;\n      element.src = url;\n      console.debug(\"Bokeh: injecting script tag for BokehJS library: \", url);\n      document.head.appendChild(element);\n    }\n  };\n\n  function inject_raw_css(css) {\n    const element = document.createElement(\"style\");\n    element.appendChild(document.createTextNode(css));\n    document.body.appendChild(element);\n  }\n\n  const js_urls = [\"https://cdn.bokeh.org/bokeh/release/bokeh-3.3.2.min.js\", \"https://cdn.bokeh.org/bokeh/release/bokeh-gl-3.3.2.min.js\", \"https://cdn.bokeh.org/bokeh/release/bokeh-widgets-3.3.2.min.js\", \"https://cdn.bokeh.org/bokeh/release/bokeh-tables-3.3.2.min.js\", \"https://cdn.bokeh.org/bokeh/release/bokeh-mathjax-3.3.2.min.js\"];\n  const css_urls = [];\n\n  const inline_js = [    function(Bokeh) {\n      Bokeh.set_log_level(\"info\");\n    },\nfunction(Bokeh) {\n    }\n  ];\n\n  function run_inline_js() {\n    if (root.Bokeh !== undefined || force === true) {\n          for (let i = 0; i < inline_js.length; i++) {\n      inline_js[i].call(root, root.Bokeh);\n    }\nif (force === true) {\n        display_loaded();\n      }} else if (Date.now() < root._bokeh_timeout) {\n      setTimeout(run_inline_js, 100);\n    } else if (!root._bokeh_failed_load) {\n      console.log(\"Bokeh: BokehJS failed to load within specified timeout.\");\n      root._bokeh_failed_load = true;\n    } else if (force !== true) {\n      const cell = $(document.getElementById(\"c4af1d5c-4850-41c7-a468-89fe197c225e\")).parents('.cell').data().cell;\n      cell.output_area.append_execute_result(NB_LOAD_WARNING)\n    }\n  }\n\n  if (root._bokeh_is_loading === 0) {\n    console.debug(\"Bokeh: BokehJS loaded, going straight to plotting\");\n    run_inline_js();\n  } else {\n    load_libs(css_urls, js_urls, function() {\n      console.debug(\"Bokeh: BokehJS plotting callback run at\", now());\n      run_inline_js();\n    });\n  }\n}(window));",
      "application/vnd.bokehjs_load.v0+json": ""
     },
     "metadata": {},
     "output_type": "display_data"
    },
    {
     "data": {
      "text/html": [
       "\n",
       "  <div id=\"a04b1460-c947-4088-8082-afa0931986a3\" data-root-id=\"p1004\" style=\"display: contents;\"></div>\n"
      ]
     },
     "metadata": {},
     "output_type": "display_data"
    },
    {
     "data": {
      "application/javascript": "(function(root) {\n  function embed_document(root) {\n  const docs_json = {\"81c09bbf-d7a9-4abd-b00a-37590dd540c3\":{\"version\":\"3.3.2\",\"title\":\"Bokeh Application\",\"roots\":[{\"type\":\"object\",\"name\":\"Figure\",\"id\":\"p1004\",\"attributes\":{\"x_range\":{\"type\":\"object\",\"name\":\"DataRange1d\",\"id\":\"p1005\"},\"y_range\":{\"type\":\"object\",\"name\":\"DataRange1d\",\"id\":\"p1006\"},\"x_scale\":{\"type\":\"object\",\"name\":\"LinearScale\",\"id\":\"p1014\"},\"y_scale\":{\"type\":\"object\",\"name\":\"LinearScale\",\"id\":\"p1015\"},\"title\":{\"type\":\"object\",\"name\":\"Title\",\"id\":\"p1007\",\"attributes\":{\"text\":\"\\uc6d4\\ubcc4 \\uc2b9\\uac1d \\uc218\"}},\"renderers\":[{\"type\":\"object\",\"name\":\"GlyphRenderer\",\"id\":\"p1055\",\"attributes\":{\"data_source\":{\"type\":\"object\",\"name\":\"ColumnDataSource\",\"id\":\"p1001\",\"attributes\":{\"selected\":{\"type\":\"object\",\"name\":\"Selection\",\"id\":\"p1002\",\"attributes\":{\"indices\":[],\"line_indices\":[]}},\"selection_policy\":{\"type\":\"object\",\"name\":\"UnionRenderers\",\"id\":\"p1003\"},\"data\":{\"type\":\"map\",\"entries\":[[\"index\",{\"type\":\"ndarray\",\"array\":{\"type\":\"bytes\",\"data\":\"AAAAAAEAAAACAAAAAwAAAAQAAAAFAAAABgAAAAcAAAAIAAAACQAAAAoAAAALAAAADAAAAA0AAAAOAAAADwAAABAAAAARAAAA\"},\"shape\":[18],\"dtype\":\"int32\",\"order\":\"little\"}],[\"year_month\",{\"type\":\"ndarray\",\"array\":{\"type\":\"bytes\",\"data\":\"AADA+S7hd0IAAABMKet3QgAAAG0s9HdCAABAvyb+d0IAAMCrzgd4QgAAAP7IEXhCAACA6nAbeEIAAMA8ayV4QgAAAI9lL3hCAACAew05eEIAAMDNB0N4QgAAQLqvTHhCAACADKpWeEIAAMBepGB4QgAAwH+naXhCAAAA0qFzeEIAAIC+SX14QgAAwBBEh3hC\"},\"shape\":[18],\"dtype\":\"float64\",\"order\":\"little\"}],[\"passenger_count\",{\"type\":\"ndarray\",\"array\":{\"type\":\"bytes\",\"data\":\"AAAAAFlcSUEAAAAAbpBOQQAAAABPmVJBAAAAAFbGUkEAAADAPWRSQQAAAADUR1JBAAAAwCC8UEEAAABA3JtQQQAAAMBrOFBBAAAAwCC2UkEAAAAAsqJQQQAAAACJuVFBAAAAAEciT0EAAACAnUhNQQAAAIBRGFFBAAAAwAreUEEAAADAZK9RQQAAAAD1v1BB\"},\"shape\":[18],\"dtype\":\"float64\",\"order\":\"little\"}]]}}},\"view\":{\"type\":\"object\",\"name\":\"CDSView\",\"id\":\"p1056\",\"attributes\":{\"filter\":{\"type\":\"object\",\"name\":\"AllIndices\",\"id\":\"p1057\"}}},\"glyph\":{\"type\":\"object\",\"name\":\"Line\",\"id\":\"p1052\",\"attributes\":{\"x\":{\"type\":\"field\",\"field\":\"year_month\"},\"y\":{\"type\":\"field\",\"field\":\"passenger_count\"},\"line_color\":\"#1f77b4\"}},\"nonselection_glyph\":{\"type\":\"object\",\"name\":\"Line\",\"id\":\"p1053\",\"attributes\":{\"x\":{\"type\":\"field\",\"field\":\"year_month\"},\"y\":{\"type\":\"field\",\"field\":\"passenger_count\"},\"line_color\":\"#1f77b4\",\"line_alpha\":0.1}},\"muted_glyph\":{\"type\":\"object\",\"name\":\"Line\",\"id\":\"p1054\",\"attributes\":{\"x\":{\"type\":\"field\",\"field\":\"year_month\"},\"y\":{\"type\":\"field\",\"field\":\"passenger_count\"},\"line_color\":\"#1f77b4\",\"line_alpha\":0.2}}}}],\"toolbar\":{\"type\":\"object\",\"name\":\"Toolbar\",\"id\":\"p1013\",\"attributes\":{\"tools\":[{\"type\":\"object\",\"name\":\"PanTool\",\"id\":\"p1038\"},{\"type\":\"object\",\"name\":\"WheelZoomTool\",\"id\":\"p1039\",\"attributes\":{\"renderers\":\"auto\"}},{\"type\":\"object\",\"name\":\"BoxZoomTool\",\"id\":\"p1040\",\"attributes\":{\"overlay\":{\"type\":\"object\",\"name\":\"BoxAnnotation\",\"id\":\"p1041\",\"attributes\":{\"syncable\":false,\"level\":\"overlay\",\"visible\":false,\"left\":{\"type\":\"number\",\"value\":\"nan\"},\"right\":{\"type\":\"number\",\"value\":\"nan\"},\"top\":{\"type\":\"number\",\"value\":\"nan\"},\"bottom\":{\"type\":\"number\",\"value\":\"nan\"},\"left_units\":\"canvas\",\"right_units\":\"canvas\",\"top_units\":\"canvas\",\"bottom_units\":\"canvas\",\"line_color\":\"black\",\"line_alpha\":1.0,\"line_width\":2,\"line_dash\":[4,4],\"fill_color\":\"lightgrey\",\"fill_alpha\":0.5}}}},{\"type\":\"object\",\"name\":\"SaveTool\",\"id\":\"p1046\"},{\"type\":\"object\",\"name\":\"ResetTool\",\"id\":\"p1047\"},{\"type\":\"object\",\"name\":\"HelpTool\",\"id\":\"p1048\"}]}},\"left\":[{\"type\":\"object\",\"name\":\"LinearAxis\",\"id\":\"p1033\",\"attributes\":{\"ticker\":{\"type\":\"object\",\"name\":\"BasicTicker\",\"id\":\"p1034\",\"attributes\":{\"mantissas\":[1,2,5]}},\"formatter\":{\"type\":\"object\",\"name\":\"BasicTickFormatter\",\"id\":\"p1035\"},\"axis_label\":\"\\uc2b9\\uac1d \\uc218\",\"major_label_policy\":{\"type\":\"object\",\"name\":\"AllLabels\",\"id\":\"p1036\"}}}],\"below\":[{\"type\":\"object\",\"name\":\"DatetimeAxis\",\"id\":\"p1016\",\"attributes\":{\"ticker\":{\"type\":\"object\",\"name\":\"DatetimeTicker\",\"id\":\"p1017\",\"attributes\":{\"num_minor_ticks\":5,\"tickers\":[{\"type\":\"object\",\"name\":\"AdaptiveTicker\",\"id\":\"p1018\",\"attributes\":{\"num_minor_ticks\":0,\"mantissas\":[1,2,5],\"max_interval\":500.0}},{\"type\":\"object\",\"name\":\"AdaptiveTicker\",\"id\":\"p1019\",\"attributes\":{\"num_minor_ticks\":0,\"base\":60,\"mantissas\":[1,2,5,10,15,20,30],\"min_interval\":1000.0,\"max_interval\":1800000.0}},{\"type\":\"object\",\"name\":\"AdaptiveTicker\",\"id\":\"p1020\",\"attributes\":{\"num_minor_ticks\":0,\"base\":24,\"mantissas\":[1,2,4,6,8,12],\"min_interval\":3600000.0,\"max_interval\":43200000.0}},{\"type\":\"object\",\"name\":\"DaysTicker\",\"id\":\"p1021\",\"attributes\":{\"days\":[1,2,3,4,5,6,7,8,9,10,11,12,13,14,15,16,17,18,19,20,21,22,23,24,25,26,27,28,29,30,31]}},{\"type\":\"object\",\"name\":\"DaysTicker\",\"id\":\"p1022\",\"attributes\":{\"days\":[1,4,7,10,13,16,19,22,25,28]}},{\"type\":\"object\",\"name\":\"DaysTicker\",\"id\":\"p1023\",\"attributes\":{\"days\":[1,8,15,22]}},{\"type\":\"object\",\"name\":\"DaysTicker\",\"id\":\"p1024\",\"attributes\":{\"days\":[1,15]}},{\"type\":\"object\",\"name\":\"MonthsTicker\",\"id\":\"p1025\",\"attributes\":{\"months\":[0,1,2,3,4,5,6,7,8,9,10,11]}},{\"type\":\"object\",\"name\":\"MonthsTicker\",\"id\":\"p1026\",\"attributes\":{\"months\":[0,2,4,6,8,10]}},{\"type\":\"object\",\"name\":\"MonthsTicker\",\"id\":\"p1027\",\"attributes\":{\"months\":[0,4,8]}},{\"type\":\"object\",\"name\":\"MonthsTicker\",\"id\":\"p1028\",\"attributes\":{\"months\":[0,6]}},{\"type\":\"object\",\"name\":\"YearsTicker\",\"id\":\"p1029\"}]}},\"formatter\":{\"type\":\"object\",\"name\":\"DatetimeTickFormatter\",\"id\":\"p1030\"},\"axis_label\":\"\\ub144\\uc6d4\",\"major_label_policy\":{\"type\":\"object\",\"name\":\"AllLabels\",\"id\":\"p1031\"}}}],\"center\":[{\"type\":\"object\",\"name\":\"Grid\",\"id\":\"p1032\",\"attributes\":{\"axis\":{\"id\":\"p1016\"}}},{\"type\":\"object\",\"name\":\"Grid\",\"id\":\"p1037\",\"attributes\":{\"dimension\":1,\"axis\":{\"id\":\"p1033\"}}}]}}]}};\n  const render_items = [{\"docid\":\"81c09bbf-d7a9-4abd-b00a-37590dd540c3\",\"roots\":{\"p1004\":\"a04b1460-c947-4088-8082-afa0931986a3\"},\"root_ids\":[\"p1004\"]}];\n  root.Bokeh.embed.embed_items_notebook(docs_json, render_items);\n  }\n  if (root.Bokeh !== undefined) {\n    embed_document(root);\n  } else {\n    let attempts = 0;\n    const timer = setInterval(function(root) {\n      if (root.Bokeh !== undefined) {\n        clearInterval(timer);\n        embed_document(root);\n      } else {\n        attempts++;\n        if (attempts > 100) {\n          clearInterval(timer);\n          console.log(\"Bokeh: ERROR: Unable to run BokehJS code because BokehJS library is missing\");\n        }\n      }\n    }, 10, root)\n  }\n})(window);",
      "application/vnd.bokehjs_exec.v0+json": ""
     },
     "metadata": {
      "application/vnd.bokehjs_exec.v0+json": {
       "id": "p1004"
      }
     },
     "output_type": "display_data"
    }
   ],
   "source": [
    "# 월별 택시 이용객 수 시각화하기\n",
    "\n",
    "import pandas as pd\n",
    "import numpy as np\n",
    "from bokeh.plotting import figure, show, output_notebook\n",
    "from bokeh.models import ColumnDataSource\n",
    "from datetime import datetime\n",
    "\n",
    "\n",
    "pandas_df = df_final.toPandas()\n",
    "\n",
    "# Jupyter 노트북 내에서 그래프를 출력하기 위한 설정\n",
    "output_notebook()\n",
    "\n",
    "# 날짜 형식 변환 (yyyy-MM 문자열을 datetime 객체로 변환)\n",
    "pandas_df['year_month'] = pd.to_datetime(pandas_df['year_month'])\n",
    "\n",
    "# 데이터 소스 생성\n",
    "source = ColumnDataSource(pandas_df)\n",
    "\n",
    "# 그래프 생성\n",
    "p = figure(x_axis_type=\"datetime\", title=\"월별 승객 수\")\n",
    "p.line(x='year_month', y='passenger_count', source=source)\n",
    "\n",
    "# 축 이름 설정\n",
    "p.xaxis.axis_label = \"년월\"\n",
    "p.yaxis.axis_label = \"승객 수\"\n",
    "\n",
    "# 그래프 출력\n",
    "show(p)"
   ]
  },
  {
   "cell_type": "code",
   "execution_count": 32,
   "metadata": {},
   "outputs": [
    {
     "name": "stdout",
     "output_type": "stream",
     "text": [
      "<class 'pandas.core.frame.DataFrame'>\n",
      "RangeIndex: 18 entries, 0 to 17\n",
      "Data columns (total 2 columns):\n",
      " #   Column           Non-Null Count  Dtype         \n",
      "---  ------           --------------  -----         \n",
      " 0   year_month       18 non-null     datetime64[ns]\n",
      " 1   passenger_count  18 non-null     float64       \n",
      "dtypes: datetime64[ns](1), float64(1)\n",
      "memory usage: 420.0 bytes\n"
     ]
    }
   ],
   "source": [
    "pandas_df.info()"
   ]
  },
  {
   "cell_type": "code",
   "execution_count": null,
   "metadata": {},
   "outputs": [],
   "source": []
  }
 ],
 "metadata": {
  "kernelspec": {
   "display_name": "kjh-4pV5HF-C",
   "language": "python",
   "name": "python3"
  },
  "language_info": {
   "codemirror_mode": {
    "name": "ipython",
    "version": 3
   },
   "file_extension": ".py",
   "mimetype": "text/x-python",
   "name": "python",
   "nbconvert_exporter": "python",
   "pygments_lexer": "ipython3",
   "version": "3.12.1"
  }
 },
 "nbformat": 4,
 "nbformat_minor": 2
}
