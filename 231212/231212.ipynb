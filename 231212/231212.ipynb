{
 "cells": [
  {
   "cell_type": "markdown",
   "metadata": {},
   "source": [
    "- 날씨 데이터에서 평균온도 예측모델 만들기\n",
    "- LGBM 사용하기"
   ]
  },
  {
   "cell_type": "code",
   "execution_count": 1,
   "metadata": {},
   "outputs": [],
   "source": [
    "# 스파크 드라이버와 워커의 파이썬 버전이 다를 경우, \n",
    "# PYSPARK_PYTHON 와 PYSPARK_DRIVER_PYTHON 를 환경변수 지정 \n",
    "# 예시 : .zshrc 파일에 아래 코드 입력\n",
    "#           export PYSPARK_PYTHON=$HOME/.pyenv/versions/3.12.1/bin/python3.12\n",
    "#           export PYSPARK_DRIVER_PYTHON=$HOME/.pyenv/versions/3.12.1/bin/python3.12\n",
    "# 위의 설정을 해도 오류가 날 경우, 스크립트에 아래 코드 입력\n",
    "import os\n",
    "import sys\n",
    "os.environ['PYSPARK_PYTHON'] = sys.executable\n",
    "os.environ['PYSPARK_DRIVER_PYTHON'] = sys.executable"
   ]
  },
  {
   "cell_type": "code",
   "execution_count": null,
   "metadata": {},
   "outputs": [],
   "source": [
    "# 스파크 세션 생성\n",
    "import pyspark\n",
    "from pyspark.sql import SparkSession\n",
    "\n",
    "# SynapseML : 마이크로소프트에서 만든 스파크용 ML 라이브러리\n",
    "# https://microsoft.github.io/SynapseML/\n",
    "# config에서 synapseml 모듈 불러오기\n",
    "spark = SparkSession.builder \\\n",
    "    .appName(\"Spark study - 231212\") \\\n",
    "    .config(\"spark.jars.packages\", \"com.microsoft.azure:synapseml_2.12:1.0.2\") \\\n",
    "    .config(\"spark.jars.repositories\", \"https://mmlspark.azureedge.net/maven\") \\\n",
    "    .getOrCreate()"
   ]
  },
  {
   "cell_type": "code",
   "execution_count": null,
   "metadata": {},
   "outputs": [],
   "source": [
    "# 복잡한 JSON 파일을 읽을 때는 multiline 옵션을 쓰자\n",
    "\n",
    "#df_bike = spark.read.option('multiline', 'true').json('file:///home/kjh/data/bike/bike.json')\n",
    "df_final = spark.read.option('multiline', 'true').json('file:///home/kjh/data/bike/json_cycle_finale.json')"
   ]
  },
  {
   "cell_type": "code",
   "execution_count": 4,
   "metadata": {},
   "outputs": [
    {
     "name": "stdout",
     "output_type": "stream",
     "text": [
      "root\n",
      " |-- response: struct (nullable = true)\n",
      " |    |-- body: struct (nullable = true)\n",
      " |    |    |-- dataType: string (nullable = true)\n",
      " |    |    |-- items: struct (nullable = true)\n",
      " |    |    |    |-- item: array (nullable = true)\n",
      " |    |    |    |    |-- element: struct (containsNull = true)\n",
      " |    |    |    |    |    |-- avgCm10Te: string (nullable = true)\n",
      " |    |    |    |    |    |-- avgCm20Te: string (nullable = true)\n",
      " |    |    |    |    |    |-- avgCm30Te: string (nullable = true)\n",
      " |    |    |    |    |    |-- avgCm5Te: string (nullable = true)\n",
      " |    |    |    |    |    |-- avgLmac: string (nullable = true)\n",
      " |    |    |    |    |    |-- avgM05Te: string (nullable = true)\n",
      " |    |    |    |    |    |-- avgM10Te: string (nullable = true)\n",
      " |    |    |    |    |    |-- avgM15Te: string (nullable = true)\n",
      " |    |    |    |    |    |-- avgM30Te: string (nullable = true)\n",
      " |    |    |    |    |    |-- avgM50Te: string (nullable = true)\n",
      " |    |    |    |    |    |-- avgPa: string (nullable = true)\n",
      " |    |    |    |    |    |-- avgPs: string (nullable = true)\n",
      " |    |    |    |    |    |-- avgPv: string (nullable = true)\n",
      " |    |    |    |    |    |-- avgRhm: string (nullable = true)\n",
      " |    |    |    |    |    |-- avgTa: string (nullable = true)\n",
      " |    |    |    |    |    |-- avgTca: string (nullable = true)\n",
      " |    |    |    |    |    |-- avgTd: string (nullable = true)\n",
      " |    |    |    |    |    |-- avgTs: string (nullable = true)\n",
      " |    |    |    |    |    |-- avgWs: string (nullable = true)\n",
      " |    |    |    |    |    |-- ddMefs: string (nullable = true)\n",
      " |    |    |    |    |    |-- ddMefsHrmt: string (nullable = true)\n",
      " |    |    |    |    |    |-- ddMes: string (nullable = true)\n",
      " |    |    |    |    |    |-- ddMesHrmt: string (nullable = true)\n",
      " |    |    |    |    |    |-- hr1MaxIcsr: string (nullable = true)\n",
      " |    |    |    |    |    |-- hr1MaxIcsrHrmt: string (nullable = true)\n",
      " |    |    |    |    |    |-- hr1MaxRn: string (nullable = true)\n",
      " |    |    |    |    |    |-- hr1MaxRnHrmt: string (nullable = true)\n",
      " |    |    |    |    |    |-- hr24SumRws: string (nullable = true)\n",
      " |    |    |    |    |    |-- iscs: string (nullable = true)\n",
      " |    |    |    |    |    |-- maxInsWs: string (nullable = true)\n",
      " |    |    |    |    |    |-- maxInsWsHrmt: string (nullable = true)\n",
      " |    |    |    |    |    |-- maxInsWsWd: string (nullable = true)\n",
      " |    |    |    |    |    |-- maxPs: string (nullable = true)\n",
      " |    |    |    |    |    |-- maxPsHrmt: string (nullable = true)\n",
      " |    |    |    |    |    |-- maxTa: string (nullable = true)\n",
      " |    |    |    |    |    |-- maxTaHrmt: string (nullable = true)\n",
      " |    |    |    |    |    |-- maxWd: string (nullable = true)\n",
      " |    |    |    |    |    |-- maxWs: string (nullable = true)\n",
      " |    |    |    |    |    |-- maxWsHrmt: string (nullable = true)\n",
      " |    |    |    |    |    |-- maxWsWd: string (nullable = true)\n",
      " |    |    |    |    |    |-- mi10MaxRn: string (nullable = true)\n",
      " |    |    |    |    |    |-- mi10MaxRnHrmt: string (nullable = true)\n",
      " |    |    |    |    |    |-- minPs: string (nullable = true)\n",
      " |    |    |    |    |    |-- minPsHrmt: string (nullable = true)\n",
      " |    |    |    |    |    |-- minRhm: string (nullable = true)\n",
      " |    |    |    |    |    |-- minRhmHrmt: string (nullable = true)\n",
      " |    |    |    |    |    |-- minTa: string (nullable = true)\n",
      " |    |    |    |    |    |-- minTaHrmt: string (nullable = true)\n",
      " |    |    |    |    |    |-- minTg: string (nullable = true)\n",
      " |    |    |    |    |    |-- n99Rn: string (nullable = true)\n",
      " |    |    |    |    |    |-- ssDur: string (nullable = true)\n",
      " |    |    |    |    |    |-- stnId: string (nullable = true)\n",
      " |    |    |    |    |    |-- stnNm: string (nullable = true)\n",
      " |    |    |    |    |    |-- sumDpthFhsc: string (nullable = true)\n",
      " |    |    |    |    |    |-- sumFogDur: string (nullable = true)\n",
      " |    |    |    |    |    |-- sumGsr: string (nullable = true)\n",
      " |    |    |    |    |    |-- sumLrgEv: string (nullable = true)\n",
      " |    |    |    |    |    |-- sumRn: string (nullable = true)\n",
      " |    |    |    |    |    |-- sumRnDur: string (nullable = true)\n",
      " |    |    |    |    |    |-- sumSmlEv: string (nullable = true)\n",
      " |    |    |    |    |    |-- sumSsHr: string (nullable = true)\n",
      " |    |    |    |    |    |-- tm: string (nullable = true)\n",
      " |    |    |-- numOfRows: long (nullable = true)\n",
      " |    |    |-- pageNo: long (nullable = true)\n",
      " |    |    |-- totalCount: long (nullable = true)\n",
      " |    |-- header: struct (nullable = true)\n",
      " |    |    |-- resultCode: string (nullable = true)\n",
      " |    |    |-- resultMsg: string (nullable = true)\n",
      "\n"
     ]
    }
   ],
   "source": [
    "# 파일의 구조 확인\n",
    "#df_bike.printSchema()\n",
    "df_final.printSchema()"
   ]
  },
  {
   "cell_type": "code",
   "execution_count": 5,
   "metadata": {},
   "outputs": [],
   "source": [
    "from pyspark.sql.functions import explode\n",
    "\n",
    "# 중첩된 JSON 구조 접근 및 explode 함수 사용\n",
    "#df_bike = df_bike.select(explode(\"useStatus.row\").alias(\"items\"))\n",
    "df_final = df_final.select(explode(\"response.body.items.item\").alias(\"items\"))"
   ]
  },
  {
   "cell_type": "code",
   "execution_count": 6,
   "metadata": {},
   "outputs": [
    {
     "name": "stderr",
     "output_type": "stream",
     "text": [
      "                                                                                \r"
     ]
    },
    {
     "name": "stdout",
     "output_type": "stream",
     "text": [
      "+--------------------+\n",
      "|               items|\n",
      "+--------------------+\n",
      "|{0.5, 1.9, 2.9, -...|\n",
      "|{0.7, 1.7, 2.6, 0...|\n",
      "|{1.0, 1.8, 2.7, 0...|\n",
      "|{1.1, 1.9, 2.7, 0...|\n",
      "|{1.0, 1.8, 2.6, 0...|\n",
      "|{1.3, 1.9, 2.6, 1...|\n",
      "|{3.8, 3.3, 3.6, 4...|\n",
      "|{4.6, 4.5, 4.7, 4...|\n",
      "|{2.9, 3.6, 4.3, 2...|\n",
      "|{1.8, 2.8, 3.6, 0...|\n",
      "|{1.6, 2.4, 3.2, 0...|\n",
      "|{1.6, 2.3, 3.0, 1...|\n",
      "|{1.1, 2.0, 2.9, 0...|\n",
      "|{0.5, 1.6, 2.5, -...|\n",
      "|{0.2, 1.2, 2.1, -...|\n",
      "|{0.1, 1.0, 1.9, -...|\n",
      "|{0.1, 1.0, 1.8, -...|\n",
      "|{0.1, 1.0, 1.8, -...|\n",
      "|{0.2, 1.0, 1.8, 0...|\n",
      "|{0.5, 1.2, 1.9, 0...|\n",
      "+--------------------+\n",
      "only showing top 20 rows\n",
      "\n"
     ]
    }
   ],
   "source": [
    "#df_bike.show()\n",
    "df_final.show()"
   ]
  },
  {
   "cell_type": "code",
   "execution_count": 7,
   "metadata": {},
   "outputs": [],
   "source": [
    "# items 컬럼의 필드를 별도의 컬럼으로 펼침\n",
    "df_final = df_final.select(\"items.*\")"
   ]
  },
  {
   "cell_type": "code",
   "execution_count": 8,
   "metadata": {},
   "outputs": [
    {
     "name": "stdout",
     "output_type": "stream",
     "text": [
      "root\n",
      " |-- avgCm10Te: string (nullable = true)\n",
      " |-- avgCm20Te: string (nullable = true)\n",
      " |-- avgCm30Te: string (nullable = true)\n",
      " |-- avgCm5Te: string (nullable = true)\n",
      " |-- avgLmac: string (nullable = true)\n",
      " |-- avgM05Te: string (nullable = true)\n",
      " |-- avgM10Te: string (nullable = true)\n",
      " |-- avgM15Te: string (nullable = true)\n",
      " |-- avgM30Te: string (nullable = true)\n",
      " |-- avgM50Te: string (nullable = true)\n",
      " |-- avgPa: string (nullable = true)\n",
      " |-- avgPs: string (nullable = true)\n",
      " |-- avgPv: string (nullable = true)\n",
      " |-- avgRhm: string (nullable = true)\n",
      " |-- avgTa: string (nullable = true)\n",
      " |-- avgTca: string (nullable = true)\n",
      " |-- avgTd: string (nullable = true)\n",
      " |-- avgTs: string (nullable = true)\n",
      " |-- avgWs: string (nullable = true)\n",
      " |-- ddMefs: string (nullable = true)\n",
      " |-- ddMefsHrmt: string (nullable = true)\n",
      " |-- ddMes: string (nullable = true)\n",
      " |-- ddMesHrmt: string (nullable = true)\n",
      " |-- hr1MaxIcsr: string (nullable = true)\n",
      " |-- hr1MaxIcsrHrmt: string (nullable = true)\n",
      " |-- hr1MaxRn: string (nullable = true)\n",
      " |-- hr1MaxRnHrmt: string (nullable = true)\n",
      " |-- hr24SumRws: string (nullable = true)\n",
      " |-- iscs: string (nullable = true)\n",
      " |-- maxInsWs: string (nullable = true)\n",
      " |-- maxInsWsHrmt: string (nullable = true)\n",
      " |-- maxInsWsWd: string (nullable = true)\n",
      " |-- maxPs: string (nullable = true)\n",
      " |-- maxPsHrmt: string (nullable = true)\n",
      " |-- maxTa: string (nullable = true)\n",
      " |-- maxTaHrmt: string (nullable = true)\n",
      " |-- maxWd: string (nullable = true)\n",
      " |-- maxWs: string (nullable = true)\n",
      " |-- maxWsHrmt: string (nullable = true)\n",
      " |-- maxWsWd: string (nullable = true)\n",
      " |-- mi10MaxRn: string (nullable = true)\n",
      " |-- mi10MaxRnHrmt: string (nullable = true)\n",
      " |-- minPs: string (nullable = true)\n",
      " |-- minPsHrmt: string (nullable = true)\n",
      " |-- minRhm: string (nullable = true)\n",
      " |-- minRhmHrmt: string (nullable = true)\n",
      " |-- minTa: string (nullable = true)\n",
      " |-- minTaHrmt: string (nullable = true)\n",
      " |-- minTg: string (nullable = true)\n",
      " |-- n99Rn: string (nullable = true)\n",
      " |-- ssDur: string (nullable = true)\n",
      " |-- stnId: string (nullable = true)\n",
      " |-- stnNm: string (nullable = true)\n",
      " |-- sumDpthFhsc: string (nullable = true)\n",
      " |-- sumFogDur: string (nullable = true)\n",
      " |-- sumGsr: string (nullable = true)\n",
      " |-- sumLrgEv: string (nullable = true)\n",
      " |-- sumRn: string (nullable = true)\n",
      " |-- sumRnDur: string (nullable = true)\n",
      " |-- sumSmlEv: string (nullable = true)\n",
      " |-- sumSsHr: string (nullable = true)\n",
      " |-- tm: string (nullable = true)\n",
      "\n"
     ]
    }
   ],
   "source": [
    "# 최종 데이터프레임 구조 확인 및 데이터 확인\n",
    "df_final.printSchema()"
   ]
  },
  {
   "cell_type": "code",
   "execution_count": 9,
   "metadata": {},
   "outputs": [
    {
     "name": "stdout",
     "output_type": "stream",
     "text": [
      "['avgCm10Te', 'avgCm20Te', 'avgCm30Te', 'avgCm5Te', 'avgLmac', 'avgM05Te', 'avgM10Te', 'avgM15Te', 'avgM30Te', 'avgM50Te', 'avgPa', 'avgPs', 'avgPv', 'avgRhm', 'avgTa', 'avgTca', 'avgTd', 'avgTs', 'avgWs', 'ddMefs', 'ddMefsHrmt', 'ddMes', 'ddMesHrmt', 'hr1MaxIcsr', 'hr1MaxIcsrHrmt', 'hr1MaxRn', 'hr1MaxRnHrmt', 'hr24SumRws', 'iscs', 'maxInsWs', 'maxInsWsHrmt', 'maxInsWsWd', 'maxPs', 'maxPsHrmt', 'maxTa', 'maxTaHrmt', 'maxWd', 'maxWs', 'maxWsHrmt', 'maxWsWd', 'mi10MaxRn', 'mi10MaxRnHrmt', 'minPs', 'minPsHrmt', 'minRhm', 'minRhmHrmt', 'minTa', 'minTaHrmt', 'minTg', 'n99Rn', 'ssDur', 'stnId', 'stnNm', 'sumDpthFhsc', 'sumFogDur', 'sumGsr', 'sumLrgEv', 'sumRn', 'sumRnDur', 'sumSmlEv', 'sumSsHr', 'tm']\n"
     ]
    }
   ],
   "source": [
    "print(df_final.columns)"
   ]
  },
  {
   "cell_type": "code",
   "execution_count": 10,
   "metadata": {},
   "outputs": [],
   "source": [
    "# 필요없어 보이는 컬럼 삭제\n",
    "df_final = df_final.drop('iscs', 'stnNm')"
   ]
  },
  {
   "cell_type": "code",
   "execution_count": 11,
   "metadata": {},
   "outputs": [
    {
     "name": "stderr",
     "output_type": "stream",
     "text": [
      "[Stage 2:>                                                          (0 + 1) / 1]\r"
     ]
    },
    {
     "name": "stdout",
     "output_type": "stream",
     "text": [
      "+---------+---------+---------+--------+-------+--------+--------+--------+--------+--------+------+------+-----+------+-----+------+-----+-----+-----+------+----------+-----+---------+----------+--------------+--------+------------+----------+--------+------------+----------+------+---------+-----+---------+-----+-----+---------+-------+---------+-------------+------+---------+------+----------+-----+---------+-----+-----+-----+-----+-----------+---------+------+--------+-----+--------+--------+-------+----------+\n",
      "|avgCm10Te|avgCm20Te|avgCm30Te|avgCm5Te|avgLmac|avgM05Te|avgM10Te|avgM15Te|avgM30Te|avgM50Te| avgPa| avgPs|avgPv|avgRhm|avgTa|avgTca|avgTd|avgTs|avgWs|ddMefs|ddMefsHrmt|ddMes|ddMesHrmt|hr1MaxIcsr|hr1MaxIcsrHrmt|hr1MaxRn|hr1MaxRnHrmt|hr24SumRws|maxInsWs|maxInsWsHrmt|maxInsWsWd| maxPs|maxPsHrmt|maxTa|maxTaHrmt|maxWd|maxWs|maxWsHrmt|maxWsWd|mi10MaxRn|mi10MaxRnHrmt| minPs|minPsHrmt|minRhm|minRhmHrmt|minTa|minTaHrmt|minTg|n99Rn|ssDur|stnId|sumDpthFhsc|sumFogDur|sumGsr|sumLrgEv|sumRn|sumRnDur|sumSmlEv|sumSsHr|        tm|\n",
      "+---------+---------+---------+--------+-------+--------+--------+--------+--------+--------+------+------+-----+------+-----+------+-----+-----+-----+------+----------+-----+---------+----------+--------------+--------+------------+----------+--------+------------+----------+------+---------+-----+---------+-----+-----+---------+-------+---------+-------------+------+---------+------+----------+-----+---------+-----+-----+-----+-----+-----------+---------+------+--------+-----+--------+--------+-------+----------+\n",
      "|      0.5|      1.9|      2.9|    -0.4|    8.9|     4.1|     7.2|     9.8|    15.3|    17.0|1021.1|1032.1|  3.4|  64.4| -2.2|   8.9| -8.1| -0.9|  0.6|   0.0|          |  0.0|         |       1.0|          1100|        |            |       509|     4.8|        0906|        50|1034.0|     0952|  0.3|     1457|   50|  2.6|     0904|     50|         |             |1031.2|     1418|    37|      0002| -6.5|     0001| -6.6|  0.1|  9.6|  108|        0.0|         |  4.53|     0.4|  0.1|    9.83|     0.6|    0.8|2020-01-01|\n",
      "|      0.7|      1.7|      2.6|     0.0|    7.9|     3.7|     7.0|     9.7|    15.2|    17.0|1018.7|1029.6|  4.3|  65.4|  1.0|   7.9| -4.8|  0.1|  1.2|      |          |     |         |      0.67|          1200|        |            |       996|     6.7|        1437|       250|1031.3|     0001|  3.8|     1500|   50|  4.0|     1525|    290|         |             |1028.2|     1355|    54|      1212| -0.7|     0001| -7.0|     |  9.6|  108|           |         |  3.47|     0.7|     |        |     1.0|    0.0|2020-01-02|\n",
      "|      1.0|      1.8|      2.7|     0.3|    0.0|     3.6|     6.8|     9.6|    15.1|    16.9|1016.4|1027.3|  3.3|  56.9| -0.1|   0.0| -8.4| -0.4|  1.7|      |          |     |         |       1.7|          1300|        |            |      1508|     5.8|        1122|       270|1029.0|     0954|  4.6|     1547|  290|  3.5|     1422|    270|         |             |1025.8|     1438|    26|      1430| -3.4|     0807| -9.0|     |  9.7|  108|           |         |  10.1|     1.4|     |        |     1.9|    8.8|2020-01-03|\n",
      "|      1.1|      1.9|      2.7|     0.4|    2.1|     3.6|     6.7|     9.5|    15.1|    16.9|1015.4|1026.2|  3.3|  50.8|  1.2|   2.1| -8.2|  0.0|  1.9|      |          |     |         |      1.68|          1200|        |            |      1623|     8.5|        1206|       340|1028.4|     2339|  6.1|     1450|   50|  4.5|     1228|    320|         |             |1024.4|     1410|    32|      1457| -2.8|     0512| -8.8|     |  9.7|  108|           |         |  9.29|     1.5|     |        |     2.1|    7.9|2020-01-04|\n",
      "|      1.0|      1.8|      2.6|     0.2|    0.0|     3.5|     6.5|     9.3|    15.0|    16.9|1019.7|1030.6|  3.0|  45.6|  1.3|   3.9| -9.5| -0.5|  1.1|      |          |     |         |      1.66|          1100|        |            |       985|     4.4|        1312|       180|1032.6|     0958|  6.6|     1453|   50|  2.9|     2335|     70|         |             |1028.1|     0010|    28|      1518| -3.2|     0821| -9.9|     |  9.7|  108|           |         |   9.1|     1.5|     |        |     2.1|    7.1|2020-01-05|\n",
      "|      1.3|      1.9|      2.6|     1.0|    7.5|     3.4|     6.4|     9.2|    14.9|    16.8|1015.3|1026.0|  5.0|  65.4|  3.1|   9.8| -3.5|  1.0|  3.1|      |          |     |         |      0.64|          1100|        |            |      2705|     8.8|        1505|        70|1030.3|     0032|  4.6|     1158|   70|  5.4|     1739|     70|         |             |1020.5|     2400|    39|      0430|  0.6|     0053| -3.4| 17.8|  9.7|  108|           |         |  2.03|     0.7|  1.8|   14.33|     1.0|    0.0|2020-01-06|\n",
      "|      3.8|      3.3|      3.6|     4.5|    7.6|     3.7|     6.4|     9.2|    15.0|    16.9| 999.3|1009.7|  9.1|  95.0|  6.3|  10.0|  5.5|  5.1|  4.0|      |          |     |         |      0.17|          1100|        |            |      3413|     9.5|        2015|        90|1020.5|     0001|  7.7|     2350|   70|  6.3|     1846|     70|         |             | 997.8|     2347|    93|      1031|  4.2|     0001|  3.6| 41.9|  9.7|  108|           |         |  0.75|     0.3| 46.3|    24.0|     0.5|    0.0|2020-01-07|\n",
      "|      4.6|      4.5|      4.7|     4.5|    8.5|     4.4|     6.0|     9.0|    14.8|    16.7|1003.6|1014.3|  6.3|  86.1|  2.4|   9.6|  0.3|  4.0|  3.3|      |          |     |         |      0.31|          1400|        |            |      2875|    11.8|        0049|       250|1023.3|     2350|  8.9|     0047|  270|  6.3|     0550|    270|         |             | 997.4|     0024|    73|      2352| -0.4|     2336| -0.6|  0.0|  9.7|  108|           |         |  1.84|     0.5| 11.6|     9.5|     0.8|    0.0|2020-01-08|\n",
      "|      2.9|      3.6|      4.3|     2.2|    1.6|     4.5|     5.9|     8.1|    14.6|    16.7|1013.4|1024.3|  3.7|  65.3| -1.2|   1.6| -6.9|  1.3|  2.3|      |          |     |         |      1.75|          1200|        |            |      1971|     7.2|        1049|       270|1025.9|     2231|  2.0|     1534|  290|  4.3|     1223|    320|         |             |1022.8|     1417|    47|      1419| -3.1|     2349| -7.7|     |  9.7|  108|           |         |  9.14|     1.1|     |        |     1.5|    8.7|2020-01-09|\n",
      "|      1.8|      2.8|      3.6|     0.9|    0.0|     4.2|     6.1|     8.1|    14.3|    16.7|1013.0|1023.9|  3.6|  62.9| -0.6|   3.1| -7.1|  0.2|  1.5|      |          |     |         |      1.66|          1300|        |            |      1300|     5.5|        1810|       320|1026.2|     0922|  4.2|     1534|  290|  3.7|     1408|    320|         |             |1022.1|     1615|    36|      1644| -4.3|     0453| -7.8|     |  9.8|  108|           |         |  9.39|     1.1|     |        |     1.6|    7.5|2020-01-10|\n",
      "|      1.6|      2.4|      3.2|     0.9|    1.0|     3.8|     6.1|     8.2|    14.2|    16.6|1009.4|1020.3|  3.6|  60.9| -0.1|   3.6| -7.0|  0.1|  1.9|      |          |     |         |      1.84|          1200|        |            |      1619|     7.0|        1949|       320|1022.6|     1000|  3.9|     1334|  290|  4.8|     1956|    340|         |             |1018.5|     1659|    35|      1431| -2.6|     0806| -7.5|     |  9.8|  108|           |         | 10.13|     1.4|     |        |     2.0|    8.1|2020-01-11|\n",
      "|      1.6|      2.3|      3.0|     1.1|    2.1|     3.6|     6.0|     8.2|    14.2|    16.6|1007.5|1018.4|  3.5|  61.5| -1.0|   3.6| -7.7|  0.4|  2.4|      |          |     |         |      1.83|          1200|        |            |      2031|     6.8|        1714|       290|1020.6|     2309|  2.8|     1551|  290|  4.1|     1216|    290|         |             |1016.8|     1350|    38|      1508| -3.5|     0633| -6.3|     |  9.8|  108|           |         | 10.33|     1.3|     |        |     1.8|    8.6|2020-01-12|\n",
      "|      1.1|      2.0|      2.9|     0.1|    0.6|     3.5|     5.9|     8.2|    14.1|    16.6|1012.4|1023.4|  2.5|  51.0| -2.9|   1.4|-12.2| -1.3|  2.3|      |          |     |         |      1.92|          1200|        |            |      1992|     8.3|        1404|       270|1026.0|     2233|  0.2|     1422|  290|  4.9|     1218|    320|         |             |1020.0|     0103|    28|      1607| -4.7|     0632|-10.5|     |  9.8|  108|           |         | 11.15|     1.4|     |        |     2.0|    8.1|2020-01-13|\n",
      "|      0.5|      1.6|      2.5|    -0.4|    1.0|     3.2|     5.8|     8.2|    14.1|    16.5|1015.0|1026.0|  2.3|  45.3| -2.3|   1.0|-13.0| -1.6|  1.6|      |          |     |         |      1.78|          1200|        |            |      1387|     5.5|        1516|       320|1028.1|     2400|  2.6|     1413|  290|  3.3|     1428|    320|         |             |1024.2|     1418|    20|      1620| -5.7|     0637|-10.4|     |  9.8|  108|           |         | 10.06|     1.4|     |        |     2.0|    8.5|2020-01-14|\n",
      "|      0.2|      1.2|      2.1|    -0.8|    0.0|     3.0|     5.7|     8.2|    14.0|    16.5|1017.6|1028.7|  2.2|  44.8| -2.7|   0.1|-13.4| -2.0|  1.9|      |          |     |         |      1.94|          1200|        |            |      1673|     8.0|        1411|       290|1030.0|     1045|  2.2|     1510|  270|  4.5|     1418|    320|         |             |1027.4|     1453|    24|      1322| -6.4|     0722|-10.7|     |  9.9|  108|           |         |  11.6|     1.5|     |        |     2.2|    9.2|2020-01-15|\n",
      "|      0.1|      1.0|      1.9|    -0.7|    0.0|     2.9|     5.7|     8.2|    13.9|    16.4|1016.3|1027.3|  2.3|  43.0| -1.7|   5.0|-13.0| -1.6|  1.6|      |          |     |         |      1.89|          1200|        |            |      1417|     6.9|        1709|       320|1029.3|     0947|  3.2|     1430|  320|  4.4|     1714|    340|         |             |1025.3|     1453|    24|      1427| -5.5|     0816|-10.9|     |  9.9|  108|           |         | 10.75|     1.5|     |        |     2.1|    8.3|2020-01-16|\n",
      "|      0.1|      1.0|      1.8|    -0.5|    0.0|     2.7|     5.5|     8.1|    13.8|    16.4|1012.6|1023.5|  2.5|  43.9| -0.6|   4.8|-11.7| -0.8|  1.5|      |          |     |         |      1.73|          1200|        |            |      1311|     6.7|        1952|       320|1025.7|     0241|  4.9|     1449|  290|  3.8|     1927|    320|         |             |1021.6|     1728|    27|      1437| -4.8|     0720| -9.0|     |  9.9|  108|           |         |  9.85|     1.5|     |        |     2.1|    7.6|2020-01-17|\n",
      "|      0.1|      1.0|      1.8|    -0.3|    0.0|     2.7|     5.5|     8.0|    13.8|    16.4|1010.9|1021.7|  2.9|  48.1|  0.3|   2.1|-10.0| -0.6|  1.8|      |          |     |         |       1.9|          1200|        |            |      1569|     6.8|        1636|       290|1023.1|     1019|  5.9|     1503|  270|  4.2|     1739|    270|         |             |1020.2|     1447|    17|      1622| -4.1|     0802| -9.1|     |  9.9|  108|           |         | 11.38|     1.7|     |        |     2.4|    9.1|2020-01-18|\n",
      "|      0.2|      1.0|      1.8|     0.0|    3.3|     2.6|     5.4|     7.9|    13.8|    16.3|1008.0|1018.7|  4.4|  62.8|  1.9|   4.8| -4.5|  0.5|  2.2|   0.3|      0955|  0.3|     0955|      1.37|          1300|        |            |      1862|    10.9|        1243|       290|1020.9|     0001|  5.3|     1510|  270|  6.1|     1459|    320|         |             |1016.6|     1450|    42|      1551| -0.4|     0003| -5.6|  0.6|  9.9|  108|        0.3|         |  6.08|     1.1|  0.6|    1.58|     1.5|    4.8|2020-01-19|\n",
      "|      0.5|      1.2|      1.9|     0.3|    2.3|     2.5|     5.3|     7.8|    13.6|    16.2|1012.2|1023.0|  3.0|  46.8|  0.7|   2.3| -9.7| -0.1|  2.5|      |          |     |         |      1.92|          1200|        |            |      2202|    10.4|        1759|       290|1028.5|     2358|  5.5|     1313|  270|  5.7|     1636|    270|         |             |1020.3|     0416|    24|      1216| -3.3|     2324| -8.2|     | 10.0|  108|           |         | 10.24|     1.7|     |        |     2.4|    8.7|2020-01-20|\n",
      "+---------+---------+---------+--------+-------+--------+--------+--------+--------+--------+------+------+-----+------+-----+------+-----+-----+-----+------+----------+-----+---------+----------+--------------+--------+------------+----------+--------+------------+----------+------+---------+-----+---------+-----+-----+---------+-------+---------+-------------+------+---------+------+----------+-----+---------+-----+-----+-----+-----+-----------+---------+------+--------+-----+--------+--------+-------+----------+\n",
      "only showing top 20 rows\n",
      "\n"
     ]
    },
    {
     "name": "stderr",
     "output_type": "stream",
     "text": [
      "                                                                                \r"
     ]
    }
   ],
   "source": [
    "df_final.show()"
   ]
  },
  {
   "cell_type": "code",
   "execution_count": 12,
   "metadata": {},
   "outputs": [],
   "source": [
    "# 컬럼의 형식변환\n",
    "# tm 컬럼은 String으로 된 YYYY-MM-DD 날짜 형식. VectorAssembler 을 사용하기 위해서는 숫자로 변환 필요\n",
    "# Date 로 먼저 변환한 뒤, Timestamp 형식으로 변환 => 최종 long 타입\n",
    "\n",
    "from pyspark.sql.functions import col, unix_timestamp, to_date\n",
    "\n",
    "df_fin = df_final\n",
    "\n",
    "# 'tm' 컬럼을 날짜 타입으로 변환하고, 이를 Unix timestamp로 변환\n",
    "df_fin = df_fin.withColumn('tm', unix_timestamp(to_date(col('tm'), 'yyyy-MM-dd')))\n",
    "\n",
    "data_types = {\n",
    "    \"stnId\": \"int\",  # 지점 번호는 정수\n",
    "    \"avgM15Te\": \"float\",  # 지중온도는 소수점을 포함할 수 있으므로 float\n",
    "    \"n99Rn\": \"float\",  # 강수량은 소수점을 포함할 수 있음\n",
    "    \"minPs\": \"float\",  # 기압은 소수점을 포함할 수 있음\n",
    "    \"avgRhm\": \"float\",  # 상대습도는 소수점을 포함할 수 있음\n",
    "    \"minRhmHrmt\": \"int\",  # 시각은 정수로 처리\n",
    "    \"maxInsWsWd\": \"int\",  # 풍향은 정수로 처리\n",
    "    \"avgTs\": \"float\",  # 지면온도는 소수점을 포함할 수 있음\n",
    "    \"maxInsWsHrmt\": \"int\",  # 시각은 정수로 처리\n",
    "    \"ddMesHrmt\": \"int\",  # 시각은 정수로 처리\n",
    "    \"maxPsHrmt\": \"int\",  # 시각은 정수로 처리\n",
    "    \"avgPv\": \"float\",  # 증기압은 소수점을 포함할 수 있음\n",
    "    \"minRhm\": \"float\",  # 상대습도는 소수점을 포함할 수 있음\n",
    "    \"sumSsHr\": \"float\",  # 일조 시간은 소수점을 포함할 수 있음\n",
    "    \"ssDur\": \"float\",  # 가조시간은 소수점을 포함할 수 있음\n",
    "    \"avgPs\": \"float\",  # 해면기압은 소수점을 포함할 수 있음\n",
    "    \"maxWs\": \"float\",  # 풍속은 소수점을 포함할 수 있음\n",
    "    \"avgCm5Te\": \"float\",  # 지중온도는 소수점을 포함할 수 있음\n",
    "    \"minTg\": \"float\",  # 초상온도는 소수점을 포함할 수 있음\n",
    "    \"maxWsWd\": \"int\",  # 풍향은 정수로 처리\n",
    "    \"sumSmlEv\": \"float\",  # 증발량은 소수점을 포함할 수 있음\n",
    "    \"avgTca\": \"float\",  # 전운량은 소수점을 포함할 수 있음\n",
    "    \"hr1MaxIcsr\": \"float\",  # 일사량은 소수점을 포함할 수 있음\n",
    "    \"avgTd\": \"float\",  # 이슬점온도는 소수점을 포함할 수 있음\n",
    "    \"maxPs\": \"float\",  # 해면기압은 소수점을 포함할 수 있음\n",
    "    \"avgCm20Te\": \"float\",  # 지중온도는 소수점을 포함할 수 있음\n",
    "    \"ddMes\": \"float\",  # 적설량은 소수점을 포함할 수 있음\n",
    "    \"minTa\": \"float\",  # 기온은 소수점을 포함할 수 있음\n",
    "    \"minPsHrmt\": \"int\",  # 시각은 정수로 처리\n",
    "    \"avgM50Te\": \"float\",  # 지중온도는 소수점을 포함할 수 있음\n",
    "    \"maxTa\": \"float\",  # 기온은 소수점을 포함할 수 있음\n",
    "    \"hr24SumRws\": \"int\",  # 풍정합은 정수로 처리\n",
    "    \"avgM30Te\": \"float\",  # 지중온도는 소수점을 포함할 수 있음\n",
    "    \"avgCm10Te\": \"float\",  # 지중온도는 소수점을 포함할 수 있음\n",
    "    \"avgM05Te\": \"float\",  # 지중온도는 소수점을 포함할 수 있음\n",
    "    \"hr1MaxIcsrHrmt\": \"int\",  # 시각은 정수로 처리\n",
    "    \"maxInsWs\": \"float\",  # 풍속은 소수점을 포함할 수 있음\n",
    "    \"avgTca\": \"float\",  # 전운량은 소수점을 포함할 수 있음\n",
    "    \"avgCm30Te\": \"float\",  # 지중온도는 소수점을 포함할 수 있음\n",
    "    \"avgM10Te\": \"float\",  # 지중온도는 소수점을 포함할 수 있음\n",
    "    \"sumGsr\": \"float\",  # 일사량은 소수점을 포함할 수 있음\n",
    "    \"maxWsHrmt\": \"int\",  # 시각은 정수로 처리\n",
    "    \"avgPa\": \"float\",  # 현지기압은 소수점을 포함할 수 있음\n",
    "    \"avgWs\": \"float\",  # 풍속은 소수점을 포함할 수 있음\n",
    "    \"sumFogDur\": \"float\",  # 안개 지속 시간은 소수점을 포함할 수 있음\n",
    "    \"sumLrgEv\": \"float\",  # 증발량은 소수점을 포함할 수 있음\n",
    "    \"sumDpthFhsc\": \"float\",  # 신적설은 소수점을 포함할 수 있음\n",
    "    \"ddMefs\": \"float\",  # 적설량은 소수점을 포함할 수 있음\n",
    "    \"ddMefsHrmt\": \"int\",  # 시각은 정수로 처리\n",
    "    \"sumRn\": \"float\",  # 강수량은 소수점을 포함할 수 있음\n",
    "    \"hr1MaxRnHrmt\": \"int\",  # 시각은 정수로 처리\n",
    "    \"hr1MaxRn\": \"float\",  # 강수량은 소수점을 포함할 수 있음\n",
    "    \"mi10MaxRnHrmt\": \"int\",  # 시각은 정수로 처리\n",
    "    \"mi10MaxRn\": \"float\",  # 강수량은 소수점을 포함할 수 있음\n",
    "    \"avgTa\": \"float\",  # 기온은 소수점을 포함할 수 있음\n",
    "    \"minTaHrmt\": \"int\",  # 시각은 정수로 처리\n",
    "    \"maxTaHrmt\": \"int\",  # 시각은 정수로 처리\n",
    "    \"maxWd\": \"int\",  # 풍향은 정수로 처리\n",
    "    \"avgLmac\": \"float\",  # 중하층운량은 소수점을 포함할 수 있음\n",
    "    \"sumRnDur\": \"float\"\n",
    "}\n",
    "\n",
    "# 딕셔너리 형태의 컬럼 타입정보를 가지고 withColumn을 for문으로 돌림\n",
    "for column, data_type in data_types.items():\n",
    "    df_fin = df_fin.withColumn(column, col(column).cast(data_type))"
   ]
  },
  {
   "cell_type": "code",
   "execution_count": 13,
   "metadata": {},
   "outputs": [
    {
     "name": "stdout",
     "output_type": "stream",
     "text": [
      "root\n",
      " |-- avgCm10Te: float (nullable = true)\n",
      " |-- avgCm20Te: float (nullable = true)\n",
      " |-- avgCm30Te: float (nullable = true)\n",
      " |-- avgCm5Te: float (nullable = true)\n",
      " |-- avgLmac: float (nullable = true)\n",
      " |-- avgM05Te: float (nullable = true)\n",
      " |-- avgM10Te: float (nullable = true)\n",
      " |-- avgM15Te: float (nullable = true)\n",
      " |-- avgM30Te: float (nullable = true)\n",
      " |-- avgM50Te: float (nullable = true)\n",
      " |-- avgPa: float (nullable = true)\n",
      " |-- avgPs: float (nullable = true)\n",
      " |-- avgPv: float (nullable = true)\n",
      " |-- avgRhm: float (nullable = true)\n",
      " |-- avgTa: float (nullable = true)\n",
      " |-- avgTca: float (nullable = true)\n",
      " |-- avgTd: float (nullable = true)\n",
      " |-- avgTs: float (nullable = true)\n",
      " |-- avgWs: float (nullable = true)\n",
      " |-- ddMefs: float (nullable = true)\n",
      " |-- ddMefsHrmt: integer (nullable = true)\n",
      " |-- ddMes: float (nullable = true)\n",
      " |-- ddMesHrmt: integer (nullable = true)\n",
      " |-- hr1MaxIcsr: float (nullable = true)\n",
      " |-- hr1MaxIcsrHrmt: integer (nullable = true)\n",
      " |-- hr1MaxRn: float (nullable = true)\n",
      " |-- hr1MaxRnHrmt: integer (nullable = true)\n",
      " |-- hr24SumRws: integer (nullable = true)\n",
      " |-- maxInsWs: float (nullable = true)\n",
      " |-- maxInsWsHrmt: integer (nullable = true)\n",
      " |-- maxInsWsWd: integer (nullable = true)\n",
      " |-- maxPs: float (nullable = true)\n",
      " |-- maxPsHrmt: integer (nullable = true)\n",
      " |-- maxTa: float (nullable = true)\n",
      " |-- maxTaHrmt: integer (nullable = true)\n",
      " |-- maxWd: integer (nullable = true)\n",
      " |-- maxWs: float (nullable = true)\n",
      " |-- maxWsHrmt: integer (nullable = true)\n",
      " |-- maxWsWd: integer (nullable = true)\n",
      " |-- mi10MaxRn: float (nullable = true)\n",
      " |-- mi10MaxRnHrmt: integer (nullable = true)\n",
      " |-- minPs: float (nullable = true)\n",
      " |-- minPsHrmt: integer (nullable = true)\n",
      " |-- minRhm: float (nullable = true)\n",
      " |-- minRhmHrmt: integer (nullable = true)\n",
      " |-- minTa: float (nullable = true)\n",
      " |-- minTaHrmt: integer (nullable = true)\n",
      " |-- minTg: float (nullable = true)\n",
      " |-- n99Rn: float (nullable = true)\n",
      " |-- ssDur: float (nullable = true)\n",
      " |-- stnId: integer (nullable = true)\n",
      " |-- sumDpthFhsc: float (nullable = true)\n",
      " |-- sumFogDur: float (nullable = true)\n",
      " |-- sumGsr: float (nullable = true)\n",
      " |-- sumLrgEv: float (nullable = true)\n",
      " |-- sumRn: float (nullable = true)\n",
      " |-- sumRnDur: float (nullable = true)\n",
      " |-- sumSmlEv: float (nullable = true)\n",
      " |-- sumSsHr: float (nullable = true)\n",
      " |-- tm: long (nullable = true)\n",
      "\n"
     ]
    }
   ],
   "source": [
    "df_fin.printSchema()"
   ]
  },
  {
   "cell_type": "code",
   "execution_count": 14,
   "metadata": {},
   "outputs": [
    {
     "name": "stderr",
     "output_type": "stream",
     "text": [
      "[Stage 3:>                                                          (0 + 1) / 1]\r"
     ]
    },
    {
     "name": "stdout",
     "output_type": "stream",
     "text": [
      "+---------+---------+---------+--------+-------+--------+--------+--------+--------+--------+------+------+-----+------+-----+------+-----+-----+-----+------+----------+-----+---------+----------+--------------+--------+------------+----------+--------+------------+----------+------+---------+-----+---------+-----+-----+---------+-------+---------+-------------+------+---------+------+----------+-----+---------+-----+-----+-----+-----+-----------+---------+------+--------+-----+--------+--------+-------+----------+\n",
      "|avgCm10Te|avgCm20Te|avgCm30Te|avgCm5Te|avgLmac|avgM05Te|avgM10Te|avgM15Te|avgM30Te|avgM50Te| avgPa| avgPs|avgPv|avgRhm|avgTa|avgTca|avgTd|avgTs|avgWs|ddMefs|ddMefsHrmt|ddMes|ddMesHrmt|hr1MaxIcsr|hr1MaxIcsrHrmt|hr1MaxRn|hr1MaxRnHrmt|hr24SumRws|maxInsWs|maxInsWsHrmt|maxInsWsWd| maxPs|maxPsHrmt|maxTa|maxTaHrmt|maxWd|maxWs|maxWsHrmt|maxWsWd|mi10MaxRn|mi10MaxRnHrmt| minPs|minPsHrmt|minRhm|minRhmHrmt|minTa|minTaHrmt|minTg|n99Rn|ssDur|stnId|sumDpthFhsc|sumFogDur|sumGsr|sumLrgEv|sumRn|sumRnDur|sumSmlEv|sumSsHr|        tm|\n",
      "+---------+---------+---------+--------+-------+--------+--------+--------+--------+--------+------+------+-----+------+-----+------+-----+-----+-----+------+----------+-----+---------+----------+--------------+--------+------------+----------+--------+------------+----------+------+---------+-----+---------+-----+-----+---------+-------+---------+-------------+------+---------+------+----------+-----+---------+-----+-----+-----+-----+-----------+---------+------+--------+-----+--------+--------+-------+----------+\n",
      "|      0.5|      1.9|      2.9|    -0.4|    8.9|     4.1|     7.2|     9.8|    15.3|    17.0|1021.1|1032.1|  3.4|  64.4| -2.2|   8.9| -8.1| -0.9|  0.6|   0.0|      NULL|  0.0|     NULL|       1.0|          1100|    NULL|        NULL|       509|     4.8|         906|        50|1034.0|      952|  0.3|     1457|   50|  2.6|      904|     50|     NULL|         NULL|1031.2|     1418|  37.0|         2| -6.5|        1| -6.6|  0.1|  9.6|  108|        0.0|     NULL|  4.53|     0.4|  0.1|    9.83|     0.6|    0.8|1577804400|\n",
      "|      0.7|      1.7|      2.6|     0.0|    7.9|     3.7|     7.0|     9.7|    15.2|    17.0|1018.7|1029.6|  4.3|  65.4|  1.0|   7.9| -4.8|  0.1|  1.2|  NULL|      NULL| NULL|     NULL|      0.67|          1200|    NULL|        NULL|       996|     6.7|        1437|       250|1031.3|        1|  3.8|     1500|   50|  4.0|     1525|    290|     NULL|         NULL|1028.2|     1355|  54.0|      1212| -0.7|        1| -7.0| NULL|  9.6|  108|       NULL|     NULL|  3.47|     0.7| NULL|    NULL|     1.0|    0.0|1577890800|\n",
      "|      1.0|      1.8|      2.7|     0.3|    0.0|     3.6|     6.8|     9.6|    15.1|    16.9|1016.4|1027.3|  3.3|  56.9| -0.1|   0.0| -8.4| -0.4|  1.7|  NULL|      NULL| NULL|     NULL|       1.7|          1300|    NULL|        NULL|      1508|     5.8|        1122|       270|1029.0|      954|  4.6|     1547|  290|  3.5|     1422|    270|     NULL|         NULL|1025.8|     1438|  26.0|      1430| -3.4|      807| -9.0| NULL|  9.7|  108|       NULL|     NULL|  10.1|     1.4| NULL|    NULL|     1.9|    8.8|1577977200|\n",
      "|      1.1|      1.9|      2.7|     0.4|    2.1|     3.6|     6.7|     9.5|    15.1|    16.9|1015.4|1026.2|  3.3|  50.8|  1.2|   2.1| -8.2|  0.0|  1.9|  NULL|      NULL| NULL|     NULL|      1.68|          1200|    NULL|        NULL|      1623|     8.5|        1206|       340|1028.4|     2339|  6.1|     1450|   50|  4.5|     1228|    320|     NULL|         NULL|1024.4|     1410|  32.0|      1457| -2.8|      512| -8.8| NULL|  9.7|  108|       NULL|     NULL|  9.29|     1.5| NULL|    NULL|     2.1|    7.9|1578063600|\n",
      "|      1.0|      1.8|      2.6|     0.2|    0.0|     3.5|     6.5|     9.3|    15.0|    16.9|1019.7|1030.6|  3.0|  45.6|  1.3|   3.9| -9.5| -0.5|  1.1|  NULL|      NULL| NULL|     NULL|      1.66|          1100|    NULL|        NULL|       985|     4.4|        1312|       180|1032.6|      958|  6.6|     1453|   50|  2.9|     2335|     70|     NULL|         NULL|1028.1|       10|  28.0|      1518| -3.2|      821| -9.9| NULL|  9.7|  108|       NULL|     NULL|   9.1|     1.5| NULL|    NULL|     2.1|    7.1|1578150000|\n",
      "|      1.3|      1.9|      2.6|     1.0|    7.5|     3.4|     6.4|     9.2|    14.9|    16.8|1015.3|1026.0|  5.0|  65.4|  3.1|   9.8| -3.5|  1.0|  3.1|  NULL|      NULL| NULL|     NULL|      0.64|          1100|    NULL|        NULL|      2705|     8.8|        1505|        70|1030.3|       32|  4.6|     1158|   70|  5.4|     1739|     70|     NULL|         NULL|1020.5|     2400|  39.0|       430|  0.6|       53| -3.4| 17.8|  9.7|  108|       NULL|     NULL|  2.03|     0.7|  1.8|   14.33|     1.0|    0.0|1578236400|\n",
      "|      3.8|      3.3|      3.6|     4.5|    7.6|     3.7|     6.4|     9.2|    15.0|    16.9| 999.3|1009.7|  9.1|  95.0|  6.3|  10.0|  5.5|  5.1|  4.0|  NULL|      NULL| NULL|     NULL|      0.17|          1100|    NULL|        NULL|      3413|     9.5|        2015|        90|1020.5|        1|  7.7|     2350|   70|  6.3|     1846|     70|     NULL|         NULL| 997.8|     2347|  93.0|      1031|  4.2|        1|  3.6| 41.9|  9.7|  108|       NULL|     NULL|  0.75|     0.3| 46.3|    24.0|     0.5|    0.0|1578322800|\n",
      "|      4.6|      4.5|      4.7|     4.5|    8.5|     4.4|     6.0|     9.0|    14.8|    16.7|1003.6|1014.3|  6.3|  86.1|  2.4|   9.6|  0.3|  4.0|  3.3|  NULL|      NULL| NULL|     NULL|      0.31|          1400|    NULL|        NULL|      2875|    11.8|          49|       250|1023.3|     2350|  8.9|       47|  270|  6.3|      550|    270|     NULL|         NULL| 997.4|       24|  73.0|      2352| -0.4|     2336| -0.6|  0.0|  9.7|  108|       NULL|     NULL|  1.84|     0.5| 11.6|     9.5|     0.8|    0.0|1578409200|\n",
      "|      2.9|      3.6|      4.3|     2.2|    1.6|     4.5|     5.9|     8.1|    14.6|    16.7|1013.4|1024.3|  3.7|  65.3| -1.2|   1.6| -6.9|  1.3|  2.3|  NULL|      NULL| NULL|     NULL|      1.75|          1200|    NULL|        NULL|      1971|     7.2|        1049|       270|1025.9|     2231|  2.0|     1534|  290|  4.3|     1223|    320|     NULL|         NULL|1022.8|     1417|  47.0|      1419| -3.1|     2349| -7.7| NULL|  9.7|  108|       NULL|     NULL|  9.14|     1.1| NULL|    NULL|     1.5|    8.7|1578495600|\n",
      "|      1.8|      2.8|      3.6|     0.9|    0.0|     4.2|     6.1|     8.1|    14.3|    16.7|1013.0|1023.9|  3.6|  62.9| -0.6|   3.1| -7.1|  0.2|  1.5|  NULL|      NULL| NULL|     NULL|      1.66|          1300|    NULL|        NULL|      1300|     5.5|        1810|       320|1026.2|      922|  4.2|     1534|  290|  3.7|     1408|    320|     NULL|         NULL|1022.1|     1615|  36.0|      1644| -4.3|      453| -7.8| NULL|  9.8|  108|       NULL|     NULL|  9.39|     1.1| NULL|    NULL|     1.6|    7.5|1578582000|\n",
      "|      1.6|      2.4|      3.2|     0.9|    1.0|     3.8|     6.1|     8.2|    14.2|    16.6|1009.4|1020.3|  3.6|  60.9| -0.1|   3.6| -7.0|  0.1|  1.9|  NULL|      NULL| NULL|     NULL|      1.84|          1200|    NULL|        NULL|      1619|     7.0|        1949|       320|1022.6|     1000|  3.9|     1334|  290|  4.8|     1956|    340|     NULL|         NULL|1018.5|     1659|  35.0|      1431| -2.6|      806| -7.5| NULL|  9.8|  108|       NULL|     NULL| 10.13|     1.4| NULL|    NULL|     2.0|    8.1|1578668400|\n",
      "|      1.6|      2.3|      3.0|     1.1|    2.1|     3.6|     6.0|     8.2|    14.2|    16.6|1007.5|1018.4|  3.5|  61.5| -1.0|   3.6| -7.7|  0.4|  2.4|  NULL|      NULL| NULL|     NULL|      1.83|          1200|    NULL|        NULL|      2031|     6.8|        1714|       290|1020.6|     2309|  2.8|     1551|  290|  4.1|     1216|    290|     NULL|         NULL|1016.8|     1350|  38.0|      1508| -3.5|      633| -6.3| NULL|  9.8|  108|       NULL|     NULL| 10.33|     1.3| NULL|    NULL|     1.8|    8.6|1578754800|\n",
      "|      1.1|      2.0|      2.9|     0.1|    0.6|     3.5|     5.9|     8.2|    14.1|    16.6|1012.4|1023.4|  2.5|  51.0| -2.9|   1.4|-12.2| -1.3|  2.3|  NULL|      NULL| NULL|     NULL|      1.92|          1200|    NULL|        NULL|      1992|     8.3|        1404|       270|1026.0|     2233|  0.2|     1422|  290|  4.9|     1218|    320|     NULL|         NULL|1020.0|      103|  28.0|      1607| -4.7|      632|-10.5| NULL|  9.8|  108|       NULL|     NULL| 11.15|     1.4| NULL|    NULL|     2.0|    8.1|1578841200|\n",
      "|      0.5|      1.6|      2.5|    -0.4|    1.0|     3.2|     5.8|     8.2|    14.1|    16.5|1015.0|1026.0|  2.3|  45.3| -2.3|   1.0|-13.0| -1.6|  1.6|  NULL|      NULL| NULL|     NULL|      1.78|          1200|    NULL|        NULL|      1387|     5.5|        1516|       320|1028.1|     2400|  2.6|     1413|  290|  3.3|     1428|    320|     NULL|         NULL|1024.2|     1418|  20.0|      1620| -5.7|      637|-10.4| NULL|  9.8|  108|       NULL|     NULL| 10.06|     1.4| NULL|    NULL|     2.0|    8.5|1578927600|\n",
      "|      0.2|      1.2|      2.1|    -0.8|    0.0|     3.0|     5.7|     8.2|    14.0|    16.5|1017.6|1028.7|  2.2|  44.8| -2.7|   0.1|-13.4| -2.0|  1.9|  NULL|      NULL| NULL|     NULL|      1.94|          1200|    NULL|        NULL|      1673|     8.0|        1411|       290|1030.0|     1045|  2.2|     1510|  270|  4.5|     1418|    320|     NULL|         NULL|1027.4|     1453|  24.0|      1322| -6.4|      722|-10.7| NULL|  9.9|  108|       NULL|     NULL|  11.6|     1.5| NULL|    NULL|     2.2|    9.2|1579014000|\n",
      "|      0.1|      1.0|      1.9|    -0.7|    0.0|     2.9|     5.7|     8.2|    13.9|    16.4|1016.3|1027.3|  2.3|  43.0| -1.7|   5.0|-13.0| -1.6|  1.6|  NULL|      NULL| NULL|     NULL|      1.89|          1200|    NULL|        NULL|      1417|     6.9|        1709|       320|1029.3|      947|  3.2|     1430|  320|  4.4|     1714|    340|     NULL|         NULL|1025.3|     1453|  24.0|      1427| -5.5|      816|-10.9| NULL|  9.9|  108|       NULL|     NULL| 10.75|     1.5| NULL|    NULL|     2.1|    8.3|1579100400|\n",
      "|      0.1|      1.0|      1.8|    -0.5|    0.0|     2.7|     5.5|     8.1|    13.8|    16.4|1012.6|1023.5|  2.5|  43.9| -0.6|   4.8|-11.7| -0.8|  1.5|  NULL|      NULL| NULL|     NULL|      1.73|          1200|    NULL|        NULL|      1311|     6.7|        1952|       320|1025.7|      241|  4.9|     1449|  290|  3.8|     1927|    320|     NULL|         NULL|1021.6|     1728|  27.0|      1437| -4.8|      720| -9.0| NULL|  9.9|  108|       NULL|     NULL|  9.85|     1.5| NULL|    NULL|     2.1|    7.6|1579186800|\n",
      "|      0.1|      1.0|      1.8|    -0.3|    0.0|     2.7|     5.5|     8.0|    13.8|    16.4|1010.9|1021.7|  2.9|  48.1|  0.3|   2.1|-10.0| -0.6|  1.8|  NULL|      NULL| NULL|     NULL|       1.9|          1200|    NULL|        NULL|      1569|     6.8|        1636|       290|1023.1|     1019|  5.9|     1503|  270|  4.2|     1739|    270|     NULL|         NULL|1020.2|     1447|  17.0|      1622| -4.1|      802| -9.1| NULL|  9.9|  108|       NULL|     NULL| 11.38|     1.7| NULL|    NULL|     2.4|    9.1|1579273200|\n",
      "|      0.2|      1.0|      1.8|     0.0|    3.3|     2.6|     5.4|     7.9|    13.8|    16.3|1008.0|1018.7|  4.4|  62.8|  1.9|   4.8| -4.5|  0.5|  2.2|   0.3|       955|  0.3|      955|      1.37|          1300|    NULL|        NULL|      1862|    10.9|        1243|       290|1020.9|        1|  5.3|     1510|  270|  6.1|     1459|    320|     NULL|         NULL|1016.6|     1450|  42.0|      1551| -0.4|        3| -5.6|  0.6|  9.9|  108|        0.3|     NULL|  6.08|     1.1|  0.6|    1.58|     1.5|    4.8|1579359600|\n",
      "|      0.5|      1.2|      1.9|     0.3|    2.3|     2.5|     5.3|     7.8|    13.6|    16.2|1012.2|1023.0|  3.0|  46.8|  0.7|   2.3| -9.7| -0.1|  2.5|  NULL|      NULL| NULL|     NULL|      1.92|          1200|    NULL|        NULL|      2202|    10.4|        1759|       290|1028.5|     2358|  5.5|     1313|  270|  5.7|     1636|    270|     NULL|         NULL|1020.3|      416|  24.0|      1216| -3.3|     2324| -8.2| NULL| 10.0|  108|       NULL|     NULL| 10.24|     1.7| NULL|    NULL|     2.4|    8.7|1579446000|\n",
      "+---------+---------+---------+--------+-------+--------+--------+--------+--------+--------+------+------+-----+------+-----+------+-----+-----+-----+------+----------+-----+---------+----------+--------------+--------+------------+----------+--------+------------+----------+------+---------+-----+---------+-----+-----+---------+-------+---------+-------------+------+---------+------+----------+-----+---------+-----+-----+-----+-----+-----------+---------+------+--------+-----+--------+--------+-------+----------+\n",
      "only showing top 20 rows\n",
      "\n"
     ]
    },
    {
     "name": "stderr",
     "output_type": "stream",
     "text": [
      "                                                                                \r"
     ]
    }
   ],
   "source": [
    "df_fin.show()"
   ]
  },
  {
   "cell_type": "code",
   "execution_count": 15,
   "metadata": {},
   "outputs": [],
   "source": [
    "# 결측치 확인\n",
    "\n",
    "from pyspark.sql.functions import col, count, when, isnull\n",
    "\n",
    "# 각 컬럼에 대해 non-null 값을 계산\n",
    "non_null_counts = df_fin.select([count(when(~isnull(c), c)).alias(c) for c in df_final.columns])"
   ]
  },
  {
   "cell_type": "code",
   "execution_count": 16,
   "metadata": {},
   "outputs": [
    {
     "name": "stderr",
     "output_type": "stream",
     "text": [
      "[Stage 4:>                                                          (0 + 1) / 1]\r"
     ]
    },
    {
     "name": "stdout",
     "output_type": "stream",
     "text": [
      "+---------+---------+---------+--------+-------+--------+--------+--------+--------+--------+-----+-----+-----+------+-----+------+-----+-----+-----+------+----------+-----+---------+----------+--------------+--------+------------+----------+--------+------------+----------+-----+---------+-----+---------+-----+-----+---------+-------+---------+-------------+-----+---------+------+----------+-----+---------+-----+-----+-----+-----+-----------+---------+------+--------+-----+--------+--------+-------+----+\n",
      "|avgCm10Te|avgCm20Te|avgCm30Te|avgCm5Te|avgLmac|avgM05Te|avgM10Te|avgM15Te|avgM30Te|avgM50Te|avgPa|avgPs|avgPv|avgRhm|avgTa|avgTca|avgTd|avgTs|avgWs|ddMefs|ddMefsHrmt|ddMes|ddMesHrmt|hr1MaxIcsr|hr1MaxIcsrHrmt|hr1MaxRn|hr1MaxRnHrmt|hr24SumRws|maxInsWs|maxInsWsHrmt|maxInsWsWd|maxPs|maxPsHrmt|maxTa|maxTaHrmt|maxWd|maxWs|maxWsHrmt|maxWsWd|mi10MaxRn|mi10MaxRnHrmt|minPs|minPsHrmt|minRhm|minRhmHrmt|minTa|minTaHrmt|minTg|n99Rn|ssDur|stnId|sumDpthFhsc|sumFogDur|sumGsr|sumLrgEv|sumRn|sumRnDur|sumSmlEv|sumSsHr|  tm|\n",
      "+---------+---------+---------+--------+-------+--------+--------+--------+--------+--------+-----+-----+-----+------+-----+------+-----+-----+-----+------+----------+-----+---------+----------+--------------+--------+------------+----------+--------+------------+----------+-----+---------+-----+---------+-----+-----+---------+-------+---------+-------------+-----+---------+------+----------+-----+---------+-----+-----+-----+-----+-----------+---------+------+--------+-----+--------+--------+-------+----+\n",
      "|     1095|     1095|     1095|    1095|   1098|    1097|    1097|    1097|    1098|    1098| 1097| 1097| 1098|  1098| 1098|  1098| 1098| 1098| 1098|    40|        35|   71|       68|      1096|          1096|     298|         203|      1098|    1098|        1098|      1098| 1097|     1097| 1098|     1098| 1098| 1098|     1098|   1098|      298|          193| 1097|     1097|  1098|      1098| 1097|     1097| 1097|  460| 1098| 1098|         40|        8|  1096|    1092|  458|     458|    1092|   1096|1098|\n",
      "+---------+---------+---------+--------+-------+--------+--------+--------+--------+--------+-----+-----+-----+------+-----+------+-----+-----+-----+------+----------+-----+---------+----------+--------------+--------+------------+----------+--------+------------+----------+-----+---------+-----+---------+-----+-----+---------+-------+---------+-------------+-----+---------+------+----------+-----+---------+-----+-----+-----+-----+-----------+---------+------+--------+-----+--------+--------+-------+----+\n",
      "\n"
     ]
    },
    {
     "name": "stderr",
     "output_type": "stream",
     "text": [
      "                                                                                \r"
     ]
    }
   ],
   "source": [
    "non_null_counts.show()"
   ]
  },
  {
   "cell_type": "code",
   "execution_count": 17,
   "metadata": {},
   "outputs": [],
   "source": [
    "# 결측치 컬럼 제거\n",
    "drop_cols = ['ddMefs', 'ddMefsHrmt', 'ddMes', 'ddMesHrmt', 'hr1MaxRn', 'hr1MaxRnHrmt', 'mi10MaxRn', 'mi10MaxRnHrmt', 'n99Rn', 'sumDpthFhsc', 'sumFogDur', 'sumRn', 'sumRnDur']\n",
    "df = df_fin.drop(*drop_cols)"
   ]
  },
  {
   "cell_type": "code",
   "execution_count": 18,
   "metadata": {},
   "outputs": [
    {
     "name": "stderr",
     "output_type": "stream",
     "text": [
      "[Stage 7:>                                                          (0 + 1) / 1]\r"
     ]
    },
    {
     "name": "stdout",
     "output_type": "stream",
     "text": [
      "+---------+---------+---------+--------+-------+--------+--------+--------+--------+--------+------+------+-----+------+-----+------+-----+-----+-----+----------+--------------+----------+--------+------------+----------+------+---------+-----+---------+-----+-----+---------+-------+------+---------+------+----------+-----+---------+-----+-----+-----+------+--------+--------+-------+----------+\n",
      "|avgCm10Te|avgCm20Te|avgCm30Te|avgCm5Te|avgLmac|avgM05Te|avgM10Te|avgM15Te|avgM30Te|avgM50Te| avgPa| avgPs|avgPv|avgRhm|avgTa|avgTca|avgTd|avgTs|avgWs|hr1MaxIcsr|hr1MaxIcsrHrmt|hr24SumRws|maxInsWs|maxInsWsHrmt|maxInsWsWd| maxPs|maxPsHrmt|maxTa|maxTaHrmt|maxWd|maxWs|maxWsHrmt|maxWsWd| minPs|minPsHrmt|minRhm|minRhmHrmt|minTa|minTaHrmt|minTg|ssDur|stnId|sumGsr|sumLrgEv|sumSmlEv|sumSsHr|        tm|\n",
      "+---------+---------+---------+--------+-------+--------+--------+--------+--------+--------+------+------+-----+------+-----+------+-----+-----+-----+----------+--------------+----------+--------+------------+----------+------+---------+-----+---------+-----+-----+---------+-------+------+---------+------+----------+-----+---------+-----+-----+-----+------+--------+--------+-------+----------+\n",
      "|      0.5|      1.9|      2.9|    -0.4|    8.9|     4.1|     7.2|     9.8|    15.3|    17.0|1021.1|1032.1|  3.4|  64.4| -2.2|   8.9| -8.1| -0.9|  0.6|       1.0|          1100|       509|     4.8|         906|        50|1034.0|      952|  0.3|     1457|   50|  2.6|      904|     50|1031.2|     1418|  37.0|         2| -6.5|        1| -6.6|  9.6|  108|  4.53|     0.4|     0.6|    0.8|1577804400|\n",
      "|      0.7|      1.7|      2.6|     0.0|    7.9|     3.7|     7.0|     9.7|    15.2|    17.0|1018.7|1029.6|  4.3|  65.4|  1.0|   7.9| -4.8|  0.1|  1.2|      0.67|          1200|       996|     6.7|        1437|       250|1031.3|        1|  3.8|     1500|   50|  4.0|     1525|    290|1028.2|     1355|  54.0|      1212| -0.7|        1| -7.0|  9.6|  108|  3.47|     0.7|     1.0|    0.0|1577890800|\n",
      "|      1.0|      1.8|      2.7|     0.3|    0.0|     3.6|     6.8|     9.6|    15.1|    16.9|1016.4|1027.3|  3.3|  56.9| -0.1|   0.0| -8.4| -0.4|  1.7|       1.7|          1300|      1508|     5.8|        1122|       270|1029.0|      954|  4.6|     1547|  290|  3.5|     1422|    270|1025.8|     1438|  26.0|      1430| -3.4|      807| -9.0|  9.7|  108|  10.1|     1.4|     1.9|    8.8|1577977200|\n",
      "|      1.1|      1.9|      2.7|     0.4|    2.1|     3.6|     6.7|     9.5|    15.1|    16.9|1015.4|1026.2|  3.3|  50.8|  1.2|   2.1| -8.2|  0.0|  1.9|      1.68|          1200|      1623|     8.5|        1206|       340|1028.4|     2339|  6.1|     1450|   50|  4.5|     1228|    320|1024.4|     1410|  32.0|      1457| -2.8|      512| -8.8|  9.7|  108|  9.29|     1.5|     2.1|    7.9|1578063600|\n",
      "|      1.0|      1.8|      2.6|     0.2|    0.0|     3.5|     6.5|     9.3|    15.0|    16.9|1019.7|1030.6|  3.0|  45.6|  1.3|   3.9| -9.5| -0.5|  1.1|      1.66|          1100|       985|     4.4|        1312|       180|1032.6|      958|  6.6|     1453|   50|  2.9|     2335|     70|1028.1|       10|  28.0|      1518| -3.2|      821| -9.9|  9.7|  108|   9.1|     1.5|     2.1|    7.1|1578150000|\n",
      "|      1.3|      1.9|      2.6|     1.0|    7.5|     3.4|     6.4|     9.2|    14.9|    16.8|1015.3|1026.0|  5.0|  65.4|  3.1|   9.8| -3.5|  1.0|  3.1|      0.64|          1100|      2705|     8.8|        1505|        70|1030.3|       32|  4.6|     1158|   70|  5.4|     1739|     70|1020.5|     2400|  39.0|       430|  0.6|       53| -3.4|  9.7|  108|  2.03|     0.7|     1.0|    0.0|1578236400|\n",
      "|      3.8|      3.3|      3.6|     4.5|    7.6|     3.7|     6.4|     9.2|    15.0|    16.9| 999.3|1009.7|  9.1|  95.0|  6.3|  10.0|  5.5|  5.1|  4.0|      0.17|          1100|      3413|     9.5|        2015|        90|1020.5|        1|  7.7|     2350|   70|  6.3|     1846|     70| 997.8|     2347|  93.0|      1031|  4.2|        1|  3.6|  9.7|  108|  0.75|     0.3|     0.5|    0.0|1578322800|\n",
      "|      4.6|      4.5|      4.7|     4.5|    8.5|     4.4|     6.0|     9.0|    14.8|    16.7|1003.6|1014.3|  6.3|  86.1|  2.4|   9.6|  0.3|  4.0|  3.3|      0.31|          1400|      2875|    11.8|          49|       250|1023.3|     2350|  8.9|       47|  270|  6.3|      550|    270| 997.4|       24|  73.0|      2352| -0.4|     2336| -0.6|  9.7|  108|  1.84|     0.5|     0.8|    0.0|1578409200|\n",
      "|      2.9|      3.6|      4.3|     2.2|    1.6|     4.5|     5.9|     8.1|    14.6|    16.7|1013.4|1024.3|  3.7|  65.3| -1.2|   1.6| -6.9|  1.3|  2.3|      1.75|          1200|      1971|     7.2|        1049|       270|1025.9|     2231|  2.0|     1534|  290|  4.3|     1223|    320|1022.8|     1417|  47.0|      1419| -3.1|     2349| -7.7|  9.7|  108|  9.14|     1.1|     1.5|    8.7|1578495600|\n",
      "|      1.8|      2.8|      3.6|     0.9|    0.0|     4.2|     6.1|     8.1|    14.3|    16.7|1013.0|1023.9|  3.6|  62.9| -0.6|   3.1| -7.1|  0.2|  1.5|      1.66|          1300|      1300|     5.5|        1810|       320|1026.2|      922|  4.2|     1534|  290|  3.7|     1408|    320|1022.1|     1615|  36.0|      1644| -4.3|      453| -7.8|  9.8|  108|  9.39|     1.1|     1.6|    7.5|1578582000|\n",
      "|      1.6|      2.4|      3.2|     0.9|    1.0|     3.8|     6.1|     8.2|    14.2|    16.6|1009.4|1020.3|  3.6|  60.9| -0.1|   3.6| -7.0|  0.1|  1.9|      1.84|          1200|      1619|     7.0|        1949|       320|1022.6|     1000|  3.9|     1334|  290|  4.8|     1956|    340|1018.5|     1659|  35.0|      1431| -2.6|      806| -7.5|  9.8|  108| 10.13|     1.4|     2.0|    8.1|1578668400|\n",
      "|      1.6|      2.3|      3.0|     1.1|    2.1|     3.6|     6.0|     8.2|    14.2|    16.6|1007.5|1018.4|  3.5|  61.5| -1.0|   3.6| -7.7|  0.4|  2.4|      1.83|          1200|      2031|     6.8|        1714|       290|1020.6|     2309|  2.8|     1551|  290|  4.1|     1216|    290|1016.8|     1350|  38.0|      1508| -3.5|      633| -6.3|  9.8|  108| 10.33|     1.3|     1.8|    8.6|1578754800|\n",
      "|      1.1|      2.0|      2.9|     0.1|    0.6|     3.5|     5.9|     8.2|    14.1|    16.6|1012.4|1023.4|  2.5|  51.0| -2.9|   1.4|-12.2| -1.3|  2.3|      1.92|          1200|      1992|     8.3|        1404|       270|1026.0|     2233|  0.2|     1422|  290|  4.9|     1218|    320|1020.0|      103|  28.0|      1607| -4.7|      632|-10.5|  9.8|  108| 11.15|     1.4|     2.0|    8.1|1578841200|\n",
      "|      0.5|      1.6|      2.5|    -0.4|    1.0|     3.2|     5.8|     8.2|    14.1|    16.5|1015.0|1026.0|  2.3|  45.3| -2.3|   1.0|-13.0| -1.6|  1.6|      1.78|          1200|      1387|     5.5|        1516|       320|1028.1|     2400|  2.6|     1413|  290|  3.3|     1428|    320|1024.2|     1418|  20.0|      1620| -5.7|      637|-10.4|  9.8|  108| 10.06|     1.4|     2.0|    8.5|1578927600|\n",
      "|      0.2|      1.2|      2.1|    -0.8|    0.0|     3.0|     5.7|     8.2|    14.0|    16.5|1017.6|1028.7|  2.2|  44.8| -2.7|   0.1|-13.4| -2.0|  1.9|      1.94|          1200|      1673|     8.0|        1411|       290|1030.0|     1045|  2.2|     1510|  270|  4.5|     1418|    320|1027.4|     1453|  24.0|      1322| -6.4|      722|-10.7|  9.9|  108|  11.6|     1.5|     2.2|    9.2|1579014000|\n",
      "|      0.1|      1.0|      1.9|    -0.7|    0.0|     2.9|     5.7|     8.2|    13.9|    16.4|1016.3|1027.3|  2.3|  43.0| -1.7|   5.0|-13.0| -1.6|  1.6|      1.89|          1200|      1417|     6.9|        1709|       320|1029.3|      947|  3.2|     1430|  320|  4.4|     1714|    340|1025.3|     1453|  24.0|      1427| -5.5|      816|-10.9|  9.9|  108| 10.75|     1.5|     2.1|    8.3|1579100400|\n",
      "|      0.1|      1.0|      1.8|    -0.5|    0.0|     2.7|     5.5|     8.1|    13.8|    16.4|1012.6|1023.5|  2.5|  43.9| -0.6|   4.8|-11.7| -0.8|  1.5|      1.73|          1200|      1311|     6.7|        1952|       320|1025.7|      241|  4.9|     1449|  290|  3.8|     1927|    320|1021.6|     1728|  27.0|      1437| -4.8|      720| -9.0|  9.9|  108|  9.85|     1.5|     2.1|    7.6|1579186800|\n",
      "|      0.1|      1.0|      1.8|    -0.3|    0.0|     2.7|     5.5|     8.0|    13.8|    16.4|1010.9|1021.7|  2.9|  48.1|  0.3|   2.1|-10.0| -0.6|  1.8|       1.9|          1200|      1569|     6.8|        1636|       290|1023.1|     1019|  5.9|     1503|  270|  4.2|     1739|    270|1020.2|     1447|  17.0|      1622| -4.1|      802| -9.1|  9.9|  108| 11.38|     1.7|     2.4|    9.1|1579273200|\n",
      "|      0.2|      1.0|      1.8|     0.0|    3.3|     2.6|     5.4|     7.9|    13.8|    16.3|1008.0|1018.7|  4.4|  62.8|  1.9|   4.8| -4.5|  0.5|  2.2|      1.37|          1300|      1862|    10.9|        1243|       290|1020.9|        1|  5.3|     1510|  270|  6.1|     1459|    320|1016.6|     1450|  42.0|      1551| -0.4|        3| -5.6|  9.9|  108|  6.08|     1.1|     1.5|    4.8|1579359600|\n",
      "|      0.5|      1.2|      1.9|     0.3|    2.3|     2.5|     5.3|     7.8|    13.6|    16.2|1012.2|1023.0|  3.0|  46.8|  0.7|   2.3| -9.7| -0.1|  2.5|      1.92|          1200|      2202|    10.4|        1759|       290|1028.5|     2358|  5.5|     1313|  270|  5.7|     1636|    270|1020.3|      416|  24.0|      1216| -3.3|     2324| -8.2| 10.0|  108| 10.24|     1.7|     2.4|    8.7|1579446000|\n",
      "+---------+---------+---------+--------+-------+--------+--------+--------+--------+--------+------+------+-----+------+-----+------+-----+-----+-----+----------+--------------+----------+--------+------------+----------+------+---------+-----+---------+-----+-----+---------+-------+------+---------+------+----------+-----+---------+-----+-----+-----+------+--------+--------+-------+----------+\n",
      "only showing top 20 rows\n",
      "\n"
     ]
    },
    {
     "name": "stderr",
     "output_type": "stream",
     "text": [
      "                                                                                \r"
     ]
    }
   ],
   "source": [
    "df.show()"
   ]
  },
  {
   "cell_type": "code",
   "execution_count": 19,
   "metadata": {},
   "outputs": [],
   "source": [
    "# 결측 데이터 있는 행 제거\n",
    "df = df.dropna()"
   ]
  },
  {
   "cell_type": "code",
   "execution_count": 20,
   "metadata": {},
   "outputs": [],
   "source": [
    "# # 범주형 컬럼 카테고리 인코딩하는 예제\n",
    "# # 기본적으로 라벨인코딩 -> 원핫인코딩 순서를 거쳐야 한다.\n",
    "# from pyspark.ml.feature import StringIndexer\n",
    "\n",
    "# indexer = StringIndexer(inputCol=\"stnNm\", outputCol=\"indexed_stnNm\")\n",
    "# indexed = indexer.fit(df).transform(df)\n",
    "\n",
    "# from pyspark.ml.feature import OneHotEncoder\n",
    "\n",
    "# encoder = OneHotEncoder(inputCols=[\"indexed_stnNm\"], outputCols=[\"encoded_stnNm\"])\n",
    "# encoded = encoder.fit(indexed).transform(indexed)"
   ]
  },
  {
   "cell_type": "code",
   "execution_count": 21,
   "metadata": {},
   "outputs": [],
   "source": [
    "from pyspark.ml.feature import VectorAssembler"
   ]
  },
  {
   "cell_type": "code",
   "execution_count": 22,
   "metadata": {},
   "outputs": [],
   "source": [
    "# 데이터프레임의 모든 컬럼을 특성으로 사용하고자 할 때\n",
    "features = df.columns\n",
    "features.remove('avgTa')  # 라벨 컬럼 제외"
   ]
  },
  {
   "cell_type": "code",
   "execution_count": 23,
   "metadata": {},
   "outputs": [],
   "source": [
    "# VectorAssembler 생성 및 변환\n",
    "assembler = VectorAssembler(inputCols=features, outputCol=\"features_vector\")\n",
    "df_vector = assembler.transform(df)"
   ]
  },
  {
   "cell_type": "code",
   "execution_count": 24,
   "metadata": {},
   "outputs": [
    {
     "name": "stderr",
     "output_type": "stream",
     "text": [
      "[Stage 8:>                                                          (0 + 1) / 1]\r"
     ]
    },
    {
     "name": "stdout",
     "output_type": "stream",
     "text": [
      "+---------+---------+---------+--------+-------+--------+--------+--------+--------+--------+------+------+-----+------+-----+------+-----+-----+-----+----------+--------------+----------+--------+------------+----------+------+---------+-----+---------+-----+-----+---------+-------+------+---------+------+----------+-----+---------+-----+-----+-----+------+--------+--------+-------+----------+--------------------+\n",
      "|avgCm10Te|avgCm20Te|avgCm30Te|avgCm5Te|avgLmac|avgM05Te|avgM10Te|avgM15Te|avgM30Te|avgM50Te| avgPa| avgPs|avgPv|avgRhm|avgTa|avgTca|avgTd|avgTs|avgWs|hr1MaxIcsr|hr1MaxIcsrHrmt|hr24SumRws|maxInsWs|maxInsWsHrmt|maxInsWsWd| maxPs|maxPsHrmt|maxTa|maxTaHrmt|maxWd|maxWs|maxWsHrmt|maxWsWd| minPs|minPsHrmt|minRhm|minRhmHrmt|minTa|minTaHrmt|minTg|ssDur|stnId|sumGsr|sumLrgEv|sumSmlEv|sumSsHr|        tm|     features_vector|\n",
      "+---------+---------+---------+--------+-------+--------+--------+--------+--------+--------+------+------+-----+------+-----+------+-----+-----+-----+----------+--------------+----------+--------+------------+----------+------+---------+-----+---------+-----+-----+---------+-------+------+---------+------+----------+-----+---------+-----+-----+-----+------+--------+--------+-------+----------+--------------------+\n",
      "|      0.5|      1.9|      2.9|    -0.4|    8.9|     4.1|     7.2|     9.8|    15.3|    17.0|1021.1|1032.1|  3.4|  64.4| -2.2|   8.9| -8.1| -0.9|  0.6|       1.0|          1100|       509|     4.8|         906|        50|1034.0|      952|  0.3|     1457|   50|  2.6|      904|     50|1031.2|     1418|  37.0|         2| -6.5|        1| -6.6|  9.6|  108|  4.53|     0.4|     0.6|    0.8|1577804400|[0.5,1.8999999761...|\n",
      "|      0.7|      1.7|      2.6|     0.0|    7.9|     3.7|     7.0|     9.7|    15.2|    17.0|1018.7|1029.6|  4.3|  65.4|  1.0|   7.9| -4.8|  0.1|  1.2|      0.67|          1200|       996|     6.7|        1437|       250|1031.3|        1|  3.8|     1500|   50|  4.0|     1525|    290|1028.2|     1355|  54.0|      1212| -0.7|        1| -7.0|  9.6|  108|  3.47|     0.7|     1.0|    0.0|1577890800|[0.69999998807907...|\n",
      "|      1.0|      1.8|      2.7|     0.3|    0.0|     3.6|     6.8|     9.6|    15.1|    16.9|1016.4|1027.3|  3.3|  56.9| -0.1|   0.0| -8.4| -0.4|  1.7|       1.7|          1300|      1508|     5.8|        1122|       270|1029.0|      954|  4.6|     1547|  290|  3.5|     1422|    270|1025.8|     1438|  26.0|      1430| -3.4|      807| -9.0|  9.7|  108|  10.1|     1.4|     1.9|    8.8|1577977200|[1.0,1.7999999523...|\n",
      "|      1.1|      1.9|      2.7|     0.4|    2.1|     3.6|     6.7|     9.5|    15.1|    16.9|1015.4|1026.2|  3.3|  50.8|  1.2|   2.1| -8.2|  0.0|  1.9|      1.68|          1200|      1623|     8.5|        1206|       340|1028.4|     2339|  6.1|     1450|   50|  4.5|     1228|    320|1024.4|     1410|  32.0|      1457| -2.8|      512| -8.8|  9.7|  108|  9.29|     1.5|     2.1|    7.9|1578063600|[1.10000002384185...|\n",
      "|      1.0|      1.8|      2.6|     0.2|    0.0|     3.5|     6.5|     9.3|    15.0|    16.9|1019.7|1030.6|  3.0|  45.6|  1.3|   3.9| -9.5| -0.5|  1.1|      1.66|          1100|       985|     4.4|        1312|       180|1032.6|      958|  6.6|     1453|   50|  2.9|     2335|     70|1028.1|       10|  28.0|      1518| -3.2|      821| -9.9|  9.7|  108|   9.1|     1.5|     2.1|    7.1|1578150000|[1.0,1.7999999523...|\n",
      "|      1.3|      1.9|      2.6|     1.0|    7.5|     3.4|     6.4|     9.2|    14.9|    16.8|1015.3|1026.0|  5.0|  65.4|  3.1|   9.8| -3.5|  1.0|  3.1|      0.64|          1100|      2705|     8.8|        1505|        70|1030.3|       32|  4.6|     1158|   70|  5.4|     1739|     70|1020.5|     2400|  39.0|       430|  0.6|       53| -3.4|  9.7|  108|  2.03|     0.7|     1.0|    0.0|1578236400|[1.29999995231628...|\n",
      "|      3.8|      3.3|      3.6|     4.5|    7.6|     3.7|     6.4|     9.2|    15.0|    16.9| 999.3|1009.7|  9.1|  95.0|  6.3|  10.0|  5.5|  5.1|  4.0|      0.17|          1100|      3413|     9.5|        2015|        90|1020.5|        1|  7.7|     2350|   70|  6.3|     1846|     70| 997.8|     2347|  93.0|      1031|  4.2|        1|  3.6|  9.7|  108|  0.75|     0.3|     0.5|    0.0|1578322800|[3.79999995231628...|\n",
      "|      4.6|      4.5|      4.7|     4.5|    8.5|     4.4|     6.0|     9.0|    14.8|    16.7|1003.6|1014.3|  6.3|  86.1|  2.4|   9.6|  0.3|  4.0|  3.3|      0.31|          1400|      2875|    11.8|          49|       250|1023.3|     2350|  8.9|       47|  270|  6.3|      550|    270| 997.4|       24|  73.0|      2352| -0.4|     2336| -0.6|  9.7|  108|  1.84|     0.5|     0.8|    0.0|1578409200|[4.59999990463256...|\n",
      "|      2.9|      3.6|      4.3|     2.2|    1.6|     4.5|     5.9|     8.1|    14.6|    16.7|1013.4|1024.3|  3.7|  65.3| -1.2|   1.6| -6.9|  1.3|  2.3|      1.75|          1200|      1971|     7.2|        1049|       270|1025.9|     2231|  2.0|     1534|  290|  4.3|     1223|    320|1022.8|     1417|  47.0|      1419| -3.1|     2349| -7.7|  9.7|  108|  9.14|     1.1|     1.5|    8.7|1578495600|[2.90000009536743...|\n",
      "|      1.8|      2.8|      3.6|     0.9|    0.0|     4.2|     6.1|     8.1|    14.3|    16.7|1013.0|1023.9|  3.6|  62.9| -0.6|   3.1| -7.1|  0.2|  1.5|      1.66|          1300|      1300|     5.5|        1810|       320|1026.2|      922|  4.2|     1534|  290|  3.7|     1408|    320|1022.1|     1615|  36.0|      1644| -4.3|      453| -7.8|  9.8|  108|  9.39|     1.1|     1.6|    7.5|1578582000|[1.79999995231628...|\n",
      "|      1.6|      2.4|      3.2|     0.9|    1.0|     3.8|     6.1|     8.2|    14.2|    16.6|1009.4|1020.3|  3.6|  60.9| -0.1|   3.6| -7.0|  0.1|  1.9|      1.84|          1200|      1619|     7.0|        1949|       320|1022.6|     1000|  3.9|     1334|  290|  4.8|     1956|    340|1018.5|     1659|  35.0|      1431| -2.6|      806| -7.5|  9.8|  108| 10.13|     1.4|     2.0|    8.1|1578668400|[1.60000002384185...|\n",
      "|      1.6|      2.3|      3.0|     1.1|    2.1|     3.6|     6.0|     8.2|    14.2|    16.6|1007.5|1018.4|  3.5|  61.5| -1.0|   3.6| -7.7|  0.4|  2.4|      1.83|          1200|      2031|     6.8|        1714|       290|1020.6|     2309|  2.8|     1551|  290|  4.1|     1216|    290|1016.8|     1350|  38.0|      1508| -3.5|      633| -6.3|  9.8|  108| 10.33|     1.3|     1.8|    8.6|1578754800|[1.60000002384185...|\n",
      "|      1.1|      2.0|      2.9|     0.1|    0.6|     3.5|     5.9|     8.2|    14.1|    16.6|1012.4|1023.4|  2.5|  51.0| -2.9|   1.4|-12.2| -1.3|  2.3|      1.92|          1200|      1992|     8.3|        1404|       270|1026.0|     2233|  0.2|     1422|  290|  4.9|     1218|    320|1020.0|      103|  28.0|      1607| -4.7|      632|-10.5|  9.8|  108| 11.15|     1.4|     2.0|    8.1|1578841200|[1.10000002384185...|\n",
      "|      0.5|      1.6|      2.5|    -0.4|    1.0|     3.2|     5.8|     8.2|    14.1|    16.5|1015.0|1026.0|  2.3|  45.3| -2.3|   1.0|-13.0| -1.6|  1.6|      1.78|          1200|      1387|     5.5|        1516|       320|1028.1|     2400|  2.6|     1413|  290|  3.3|     1428|    320|1024.2|     1418|  20.0|      1620| -5.7|      637|-10.4|  9.8|  108| 10.06|     1.4|     2.0|    8.5|1578927600|[0.5,1.6000000238...|\n",
      "|      0.2|      1.2|      2.1|    -0.8|    0.0|     3.0|     5.7|     8.2|    14.0|    16.5|1017.6|1028.7|  2.2|  44.8| -2.7|   0.1|-13.4| -2.0|  1.9|      1.94|          1200|      1673|     8.0|        1411|       290|1030.0|     1045|  2.2|     1510|  270|  4.5|     1418|    320|1027.4|     1453|  24.0|      1322| -6.4|      722|-10.7|  9.9|  108|  11.6|     1.5|     2.2|    9.2|1579014000|[0.20000000298023...|\n",
      "|      0.1|      1.0|      1.9|    -0.7|    0.0|     2.9|     5.7|     8.2|    13.9|    16.4|1016.3|1027.3|  2.3|  43.0| -1.7|   5.0|-13.0| -1.6|  1.6|      1.89|          1200|      1417|     6.9|        1709|       320|1029.3|      947|  3.2|     1430|  320|  4.4|     1714|    340|1025.3|     1453|  24.0|      1427| -5.5|      816|-10.9|  9.9|  108| 10.75|     1.5|     2.1|    8.3|1579100400|[0.10000000149011...|\n",
      "|      0.1|      1.0|      1.8|    -0.5|    0.0|     2.7|     5.5|     8.1|    13.8|    16.4|1012.6|1023.5|  2.5|  43.9| -0.6|   4.8|-11.7| -0.8|  1.5|      1.73|          1200|      1311|     6.7|        1952|       320|1025.7|      241|  4.9|     1449|  290|  3.8|     1927|    320|1021.6|     1728|  27.0|      1437| -4.8|      720| -9.0|  9.9|  108|  9.85|     1.5|     2.1|    7.6|1579186800|[0.10000000149011...|\n",
      "|      0.1|      1.0|      1.8|    -0.3|    0.0|     2.7|     5.5|     8.0|    13.8|    16.4|1010.9|1021.7|  2.9|  48.1|  0.3|   2.1|-10.0| -0.6|  1.8|       1.9|          1200|      1569|     6.8|        1636|       290|1023.1|     1019|  5.9|     1503|  270|  4.2|     1739|    270|1020.2|     1447|  17.0|      1622| -4.1|      802| -9.1|  9.9|  108| 11.38|     1.7|     2.4|    9.1|1579273200|[0.10000000149011...|\n",
      "|      0.2|      1.0|      1.8|     0.0|    3.3|     2.6|     5.4|     7.9|    13.8|    16.3|1008.0|1018.7|  4.4|  62.8|  1.9|   4.8| -4.5|  0.5|  2.2|      1.37|          1300|      1862|    10.9|        1243|       290|1020.9|        1|  5.3|     1510|  270|  6.1|     1459|    320|1016.6|     1450|  42.0|      1551| -0.4|        3| -5.6|  9.9|  108|  6.08|     1.1|     1.5|    4.8|1579359600|[0.20000000298023...|\n",
      "|      0.5|      1.2|      1.9|     0.3|    2.3|     2.5|     5.3|     7.8|    13.6|    16.2|1012.2|1023.0|  3.0|  46.8|  0.7|   2.3| -9.7| -0.1|  2.5|      1.92|          1200|      2202|    10.4|        1759|       290|1028.5|     2358|  5.5|     1313|  270|  5.7|     1636|    270|1020.3|      416|  24.0|      1216| -3.3|     2324| -8.2| 10.0|  108| 10.24|     1.7|     2.4|    8.7|1579446000|[0.5,1.2000000476...|\n",
      "+---------+---------+---------+--------+-------+--------+--------+--------+--------+--------+------+------+-----+------+-----+------+-----+-----+-----+----------+--------------+----------+--------+------------+----------+------+---------+-----+---------+-----+-----+---------+-------+------+---------+------+----------+-----+---------+-----+-----+-----+------+--------+--------+-------+----------+--------------------+\n",
      "only showing top 20 rows\n",
      "\n"
     ]
    },
    {
     "name": "stderr",
     "output_type": "stream",
     "text": [
      "                                                                                \r"
     ]
    }
   ],
   "source": [
    "df_vector.show()"
   ]
  },
  {
   "cell_type": "code",
   "execution_count": 25,
   "metadata": {},
   "outputs": [],
   "source": [
    "# train, test 쪼개기\n",
    "train, test = df_vector.randomSplit([0.85, 0.15], seed=42)"
   ]
  },
  {
   "cell_type": "code",
   "execution_count": 26,
   "metadata": {},
   "outputs": [],
   "source": [
    "from synapse.ml.lightgbm import LightGBMRegressor"
   ]
  },
  {
   "cell_type": "code",
   "execution_count": 27,
   "metadata": {},
   "outputs": [
    {
     "name": "stderr",
     "output_type": "stream",
     "text": [
      "                                                                                \r"
     ]
    },
    {
     "name": "stdout",
     "output_type": "stream",
     "text": [
      "[LightGBM] [Info] Saving data reference to binary buffer\n"
     ]
    }
   ],
   "source": [
    "# 모델 생성 및 훈련\n",
    "lgbm = LightGBMRegressor(objective='regression',\n",
    "                            featuresCol='features_vector',\n",
    "                            labelCol='avgTa',\n",
    "                            alpha=0.3,\n",
    "                            learningRate=0.3,\n",
    "                            numIterations=100,\n",
    "                            numLeaves=31)\n",
    "\n",
    "model = lgbm.fit(train)"
   ]
  },
  {
   "cell_type": "code",
   "execution_count": 28,
   "metadata": {},
   "outputs": [],
   "source": [
    "# 예측\n",
    "pred = model.transform(test)"
   ]
  },
  {
   "cell_type": "code",
   "execution_count": 29,
   "metadata": {},
   "outputs": [
    {
     "data": {
      "text/plain": [
       "'prediction'"
      ]
     },
     "execution_count": 29,
     "metadata": {},
     "output_type": "execute_result"
    }
   ],
   "source": [
    "# predictionCol 확인\n",
    "model.getPredictionCol()"
   ]
  },
  {
   "cell_type": "code",
   "execution_count": 30,
   "metadata": {},
   "outputs": [],
   "source": [
    "from pyspark.ml.evaluation import RegressionEvaluator"
   ]
  },
  {
   "cell_type": "code",
   "execution_count": 31,
   "metadata": {},
   "outputs": [],
   "source": [
    "# 검증\n",
    "evaluator = RegressionEvaluator(labelCol=\"avgTa\", predictionCol=\"prediction\", metricName=\"rmse\")"
   ]
  },
  {
   "cell_type": "code",
   "execution_count": 32,
   "metadata": {},
   "outputs": [
    {
     "name": "stderr",
     "output_type": "stream",
     "text": [
      "                                                                                \r"
     ]
    }
   ],
   "source": [
    "rmse = evaluator.evaluate(pred)"
   ]
  },
  {
   "cell_type": "code",
   "execution_count": 33,
   "metadata": {},
   "outputs": [
    {
     "name": "stdout",
     "output_type": "stream",
     "text": [
      "0.5688844324933624\n"
     ]
    }
   ],
   "source": [
    "print(rmse)"
   ]
  },
  {
   "cell_type": "code",
   "execution_count": null,
   "metadata": {},
   "outputs": [],
   "source": []
  }
 ],
 "metadata": {
  "kernelspec": {
   "display_name": "kjh-4pV5HF-C",
   "language": "python",
   "name": "python3"
  },
  "language_info": {
   "codemirror_mode": {
    "name": "ipython",
    "version": 3
   },
   "file_extension": ".py",
   "mimetype": "text/x-python",
   "name": "python",
   "nbconvert_exporter": "python",
   "pygments_lexer": "ipython3",
   "version": "3.12.1"
  }
 },
 "nbformat": 4,
 "nbformat_minor": 2
}
