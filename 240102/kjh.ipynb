{
 "cells": [
  {
   "cell_type": "code",
   "execution_count": 1,
   "metadata": {},
   "outputs": [
    {
     "name": "stderr",
     "output_type": "stream",
     "text": [
      "131072x1 화면 크기가 잘못됐습니다. 문제가 예상됩니다\n",
      "24/01/03 09:51:54 WARN Utils: Your hostname, KJH-DESKTOP resolves to a loopback address: 127.0.1.1; using 192.168.69.220 instead (on interface eth0)\n",
      "24/01/03 09:51:54 WARN Utils: Set SPARK_LOCAL_IP if you need to bind to another address\n"
     ]
    },
    {
     "name": "stdout",
     "output_type": "stream",
     "text": [
      ":: loading settings :: url = jar:file:/home/kjh/app/spark/3.5.0/jars/ivy-2.5.1.jar!/org/apache/ivy/core/settings/ivysettings.xml\n"
     ]
    },
    {
     "name": "stderr",
     "output_type": "stream",
     "text": [
      "Ivy Default Cache set to: /home/kjh/.ivy2/cache\n",
      "The jars for the packages stored in: /home/kjh/.ivy2/jars\n",
      "com.microsoft.azure#synapseml_2.12 added as a dependency\n",
      ":: resolving dependencies :: org.apache.spark#spark-submit-parent-e669f35f-d211-420f-938b-83e37eaa4641;1.0\n",
      "\tconfs: [default]\n",
      "\tfound com.microsoft.azure#synapseml_2.12;1.0.2 in central\n",
      "\tfound com.microsoft.azure#synapseml-core_2.12;1.0.2 in central\n",
      "\tfound org.apache.spark#spark-avro_2.12;3.4.1 in central\n",
      "\tfound org.tukaani#xz;1.9 in central\n",
      "\tfound commons-lang#commons-lang;2.6 in central\n",
      "\tfound org.scalactic#scalactic_2.12;3.2.14 in central\n",
      "\tfound org.scala-lang#scala-reflect;2.12.15 in central\n",
      "\tfound io.spray#spray-json_2.12;1.3.5 in central\n",
      "\tfound com.jcraft#jsch;0.1.54 in central\n",
      "\tfound org.apache.httpcomponents.client5#httpclient5;5.1.3 in central\n",
      "\tfound org.apache.httpcomponents.core5#httpcore5;5.1.3 in central\n",
      "\tfound org.apache.httpcomponents.core5#httpcore5-h2;5.1.3 in central\n",
      "\tfound org.slf4j#slf4j-api;1.7.25 in central\n",
      "\tfound commons-codec#commons-codec;1.15 in central\n",
      "\tfound org.apache.httpcomponents#httpmime;4.5.13 in central\n",
      "\tfound org.apache.httpcomponents#httpclient;4.5.13 in central\n",
      "\tfound org.apache.httpcomponents#httpcore;4.4.13 in central\n",
      "\tfound commons-logging#commons-logging;1.2 in central\n",
      "\tfound com.linkedin.isolation-forest#isolation-forest_3.4.1_2.12;3.0.3 in central\n",
      "\tfound com.chuusai#shapeless_2.12;2.3.10 in central\n",
      "\tfound org.testng#testng;6.8.8 in central\n",
      "\tfound org.beanshell#bsh;2.0b4 in central\n",
      "\tfound com.beust#jcommander;1.27 in central\n",
      "\tfound org.scalanlp#breeze_2.12;2.1.0 in central\n",
      "\tfound org.scalanlp#breeze-macros_2.12;2.1.0 in central\n",
      "\tfound org.typelevel#spire_2.12;0.17.0 in central\n",
      "\tfound org.typelevel#spire-macros_2.12;0.17.0 in central\n",
      "\tfound org.typelevel#algebra_2.12;2.0.1 in central\n",
      "\tfound org.typelevel#cats-kernel_2.12;2.1.1 in central\n",
      "\tfound org.typelevel#spire-platform_2.12;0.17.0 in central\n",
      "\tfound org.typelevel#spire-util_2.12;0.17.0 in central\n",
      "\tfound dev.ludovic.netlib#blas;3.0.1 in central\n",
      "\tfound net.sourceforge.f2j#arpack_combined_all;0.1 in central\n",
      "\tfound dev.ludovic.netlib#lapack;3.0.1 in central\n",
      "\tfound dev.ludovic.netlib#arpack;3.0.1 in central\n",
      "\tfound net.sf.opencsv#opencsv;2.3 in central\n",
      "\tfound com.github.wendykierp#JTransforms;3.1 in central\n",
      "\tfound pl.edu.icm#JLargeArrays;1.5 in central\n",
      "\tfound org.apache.commons#commons-math3;3.2 in central\n",
      "\tfound org.scala-lang.modules#scala-collection-compat_2.12;2.7.0 in central\n",
      "\tfound com.microsoft.azure#synapseml-deep-learning_2.12;1.0.2 in central\n",
      "\tfound com.microsoft.azure#synapseml-opencv_2.12;1.0.2 in central\n",
      "\tfound org.openpnp#opencv;3.2.0-1 in central\n",
      "\tfound com.microsoft.azure#onnx-protobuf_2.12;0.9.3 in central\n",
      "\tfound com.microsoft.onnxruntime#onnxruntime_gpu;1.8.1 in central\n",
      "\tfound com.microsoft.azure#synapseml-cognitive_2.12;1.0.2 in central\n",
      "\tfound com.microsoft.cognitiveservices.speech#client-sdk;1.24.1 in central\n",
      "\tfound com.microsoft.azure#synapseml-vw_2.12;1.0.2 in central\n",
      "\tfound com.github.vowpalwabbit#vw-jni;9.3.0 in central\n",
      "\tfound com.microsoft.azure#synapseml-lightgbm_2.12;1.0.2 in central\n",
      "\tfound com.microsoft.ml.lightgbm#lightgbmlib;3.3.510 in central\n",
      ":: resolution report :: resolve 410ms :: artifacts dl 11ms\n",
      "\t:: modules in use:\n",
      "\tcom.beust#jcommander;1.27 from central in [default]\n",
      "\tcom.chuusai#shapeless_2.12;2.3.10 from central in [default]\n",
      "\tcom.github.vowpalwabbit#vw-jni;9.3.0 from central in [default]\n",
      "\tcom.github.wendykierp#JTransforms;3.1 from central in [default]\n",
      "\tcom.jcraft#jsch;0.1.54 from central in [default]\n",
      "\tcom.linkedin.isolation-forest#isolation-forest_3.4.1_2.12;3.0.3 from central in [default]\n",
      "\tcom.microsoft.azure#onnx-protobuf_2.12;0.9.3 from central in [default]\n",
      "\tcom.microsoft.azure#synapseml-cognitive_2.12;1.0.2 from central in [default]\n",
      "\tcom.microsoft.azure#synapseml-core_2.12;1.0.2 from central in [default]\n",
      "\tcom.microsoft.azure#synapseml-deep-learning_2.12;1.0.2 from central in [default]\n",
      "\tcom.microsoft.azure#synapseml-lightgbm_2.12;1.0.2 from central in [default]\n",
      "\tcom.microsoft.azure#synapseml-opencv_2.12;1.0.2 from central in [default]\n",
      "\tcom.microsoft.azure#synapseml-vw_2.12;1.0.2 from central in [default]\n",
      "\tcom.microsoft.azure#synapseml_2.12;1.0.2 from central in [default]\n",
      "\tcom.microsoft.cognitiveservices.speech#client-sdk;1.24.1 from central in [default]\n",
      "\tcom.microsoft.ml.lightgbm#lightgbmlib;3.3.510 from central in [default]\n",
      "\tcom.microsoft.onnxruntime#onnxruntime_gpu;1.8.1 from central in [default]\n",
      "\tcommons-codec#commons-codec;1.15 from central in [default]\n",
      "\tcommons-lang#commons-lang;2.6 from central in [default]\n",
      "\tcommons-logging#commons-logging;1.2 from central in [default]\n",
      "\tdev.ludovic.netlib#arpack;3.0.1 from central in [default]\n",
      "\tdev.ludovic.netlib#blas;3.0.1 from central in [default]\n",
      "\tdev.ludovic.netlib#lapack;3.0.1 from central in [default]\n",
      "\tio.spray#spray-json_2.12;1.3.5 from central in [default]\n",
      "\tnet.sf.opencsv#opencsv;2.3 from central in [default]\n",
      "\tnet.sourceforge.f2j#arpack_combined_all;0.1 from central in [default]\n",
      "\torg.apache.commons#commons-math3;3.2 from central in [default]\n",
      "\torg.apache.httpcomponents#httpclient;4.5.13 from central in [default]\n",
      "\torg.apache.httpcomponents#httpcore;4.4.13 from central in [default]\n",
      "\torg.apache.httpcomponents#httpmime;4.5.13 from central in [default]\n",
      "\torg.apache.httpcomponents.client5#httpclient5;5.1.3 from central in [default]\n",
      "\torg.apache.httpcomponents.core5#httpcore5;5.1.3 from central in [default]\n",
      "\torg.apache.httpcomponents.core5#httpcore5-h2;5.1.3 from central in [default]\n",
      "\torg.apache.spark#spark-avro_2.12;3.4.1 from central in [default]\n",
      "\torg.beanshell#bsh;2.0b4 from central in [default]\n",
      "\torg.openpnp#opencv;3.2.0-1 from central in [default]\n",
      "\torg.scala-lang#scala-reflect;2.12.15 from central in [default]\n",
      "\torg.scala-lang.modules#scala-collection-compat_2.12;2.7.0 from central in [default]\n",
      "\torg.scalactic#scalactic_2.12;3.2.14 from central in [default]\n",
      "\torg.scalanlp#breeze-macros_2.12;2.1.0 from central in [default]\n",
      "\torg.scalanlp#breeze_2.12;2.1.0 from central in [default]\n",
      "\torg.slf4j#slf4j-api;1.7.25 from central in [default]\n",
      "\torg.testng#testng;6.8.8 from central in [default]\n",
      "\torg.tukaani#xz;1.9 from central in [default]\n",
      "\torg.typelevel#algebra_2.12;2.0.1 from central in [default]\n",
      "\torg.typelevel#cats-kernel_2.12;2.1.1 from central in [default]\n",
      "\torg.typelevel#spire-macros_2.12;0.17.0 from central in [default]\n",
      "\torg.typelevel#spire-platform_2.12;0.17.0 from central in [default]\n",
      "\torg.typelevel#spire-util_2.12;0.17.0 from central in [default]\n",
      "\torg.typelevel#spire_2.12;0.17.0 from central in [default]\n",
      "\tpl.edu.icm#JLargeArrays;1.5 from central in [default]\n",
      "\t:: evicted modules:\n",
      "\tcommons-codec#commons-codec;1.11 by [commons-codec#commons-codec;1.15] in [default]\n",
      "\torg.scala-lang.modules#scala-collection-compat_2.12;2.2.0 by [org.scala-lang.modules#scala-collection-compat_2.12;2.7.0] in [default]\n",
      "\torg.apache.commons#commons-math3;3.5 by [org.apache.commons#commons-math3;3.2] in [default]\n",
      "\torg.slf4j#slf4j-api;1.7.5 by [org.slf4j#slf4j-api;1.7.25] in [default]\n",
      "\t---------------------------------------------------------------------\n",
      "\t|                  |            modules            ||   artifacts   |\n",
      "\t|       conf       | number| search|dwnlded|evicted|| number|dwnlded|\n",
      "\t---------------------------------------------------------------------\n",
      "\t|      default     |   55  |   0   |   0   |   4   ||   51  |   0   |\n",
      "\t---------------------------------------------------------------------\n",
      ":: retrieving :: org.apache.spark#spark-submit-parent-e669f35f-d211-420f-938b-83e37eaa4641\n",
      "\tconfs: [default]\n",
      "\t0 artifacts copied, 51 already retrieved (0kB/7ms)\n",
      "24/01/03 09:51:56 WARN NativeCodeLoader: Unable to load native-hadoop library for your platform... using builtin-java classes where applicable\n",
      "Setting default log level to \"WARN\".\n",
      "To adjust logging level use sc.setLogLevel(newLevel). For SparkR, use setLogLevel(newLevel).\n",
      "24/01/03 09:51:57 WARN RapidsPluginUtils: RAPIDS Accelerator 23.12.0 using cudf 23.12.0.\n",
      "24/01/03 09:51:57 WARN RapidsPluginUtils: spark.rapids.sql.multiThreadedRead.numThreads is set to 20.\n",
      "24/01/03 09:51:57 WARN RapidsPluginUtils: RAPIDS Accelerator is enabled, to disable GPU support set `spark.rapids.sql.enabled` to false.\n",
      "24/01/03 09:51:57 WARN RapidsPluginUtils: spark.rapids.sql.explain is set to `NOT_ON_GPU`. Set it to 'NONE' to suppress the diagnostics logging about the query placement on the GPU.\n"
     ]
    }
   ],
   "source": [
    "# 스파크 세션 생성\n",
    "import pyspark\n",
    "from pyspark.sql import SparkSession\n",
    "\n",
    "# SynapseML : 마이크로소프트에서 만든 스파크용 ML 라이브러리\n",
    "# https://microsoft.github.io/SynapseML/\n",
    "# config에서 synapseml 모듈 불러오기\n",
    "spark = SparkSession.builder \\\n",
    "    .appName(\"Spark study - 240102\") \\\n",
    "    .config(\"spark.jars.packages\", \"com.microsoft.azure:synapseml_2.12:1.0.2\") \\\n",
    "    .getOrCreate()"
   ]
  },
  {
   "cell_type": "code",
   "execution_count": 2,
   "metadata": {},
   "outputs": [
    {
     "name": "stderr",
     "output_type": "stream",
     "text": [
      "                                                                                \r"
     ]
    }
   ],
   "source": [
    "df_albums = spark.read.parquet(\"file:///home/kjh/data/Spotify/albums/*.parquet\")\n",
    "df_artists = spark.read.parquet(\"file:///home/kjh/data/Spotify/artists/*.parquet\")"
   ]
  },
  {
   "cell_type": "code",
   "execution_count": 3,
   "metadata": {},
   "outputs": [
    {
     "name": "stderr",
     "output_type": "stream",
     "text": [
      "24/01/03 09:52:06 WARN GpuOverrides: \n",
      "!Exec <CollectLimitExec> cannot run on GPU because the Exec CollectLimitExec has been disabled, and is disabled by default because Collect Limit replacement can be slower on the GPU, if huge number of rows in a batch it could help by limiting the number of rows transferred from GPU to CPU. Set spark.rapids.sql.exec.CollectLimitExec to true if you wish to enable it\n",
      "  @Partitioning <SinglePartition$> could run on GPU\n",
      "\n"
     ]
    },
    {
     "name": "stdout",
     "output_type": "stream",
     "text": [
      "+--------------------+--------------------+--------------------+-----------+--------------------+--------------------+--------------------+--------------------+------------+-----------+-----------+--------+------------+------------+\n",
      "|            album_id|          album_name|           artist_id| album_type|               label|     album_image_url|            track_id|          track_name|track_number|disc_number|duration_ms|explicit|release_date|total_tracks|\n",
      "+--------------------+--------------------+--------------------+-----------+--------------------+--------------------+--------------------+--------------------+------------+-----------+-----------+--------+------------+------------+\n",
      "|6Bi5Q5VIzGz0c6zat...|Victoria's Secret...|0LyfQWJT6nXafLPZq...|compilation|Warner Music Grou...|https://i.scdn.co...|4FU8T0t7YASGlMaA8...|   Victoria's Secret|           1|          1|     176124|    true|  2022-09-16|          50|\n",
      "|6Bi5Q5VIzGz0c6zat...|Victoria's Secret...|0LyfQWJT6nXafLPZq...|compilation|Warner Music Grou...|https://i.scdn.co...|6QEv2OySmn8WAjTlH...|      Left and Right|           2|          1|     154486|   false|  2022-09-16|          50|\n",
      "|6Bi5Q5VIzGz0c6zat...|Victoria's Secret...|0LyfQWJT6nXafLPZq...|compilation|Warner Music Grou...|https://i.scdn.co...|5xBgTb41fF3Pa7KLP...|     About Damn Time|           3|          1|     191822|    true|  2022-09-16|          50|\n",
      "|6Bi5Q5VIzGz0c6zat...|Victoria's Secret...|0LyfQWJT6nXafLPZq...|compilation|Warner Music Grou...|https://i.scdn.co...|1cAoRkY0VTnUmFGPq...|        In the Stars|           4|          1|     216410|   false|  2022-09-16|          50|\n",
      "|6Bi5Q5VIzGz0c6zat...|Victoria's Secret...|0LyfQWJT6nXafLPZq...|compilation|Warner Music Grou...|https://i.scdn.co...|6PN2cMCEQJrOd8JHf...|Crazy What Love C...|           5|          1|     169756|   false|  2022-09-16|          50|\n",
      "+--------------------+--------------------+--------------------+-----------+--------------------+--------------------+--------------------+--------------------+------------+-----------+-----------+--------+------------+------------+\n",
      "only showing top 5 rows\n",
      "\n",
      "+--------------------+-----------+--------------------+--------------------+---------+\n",
      "|           artist_id|artist_name|               genre|    artist_image_url|followers|\n",
      "+--------------------+-----------+--------------------+--------------------+---------+\n",
      "|3qsKSpcV3ncke3hw5...| Young Miko|         trap latino|https://i.scdn.co...|  1946884|\n",
      "|3qsKSpcV3ncke3hw5...| Young Miko|       urbano latino|https://i.scdn.co...|  1946884|\n",
      "|3kVUvbeRdcrqQ3oHk...|  GROUPLOVE|          indie rock|https://i.scdn.co...|  1156962|\n",
      "|3kVUvbeRdcrqQ3oHk...|  GROUPLOVE|            la indie|https://i.scdn.co...|  1156962|\n",
      "|3kVUvbeRdcrqQ3oHk...|  GROUPLOVE|modern alternativ...|https://i.scdn.co...|  1156962|\n",
      "+--------------------+-----------+--------------------+--------------------+---------+\n",
      "only showing top 5 rows\n",
      "\n"
     ]
    },
    {
     "name": "stderr",
     "output_type": "stream",
     "text": [
      "24/01/03 09:52:07 WARN GpuOverrides: \n",
      "!Exec <CollectLimitExec> cannot run on GPU because the Exec CollectLimitExec has been disabled, and is disabled by default because Collect Limit replacement can be slower on the GPU, if huge number of rows in a batch it could help by limiting the number of rows transferred from GPU to CPU. Set spark.rapids.sql.exec.CollectLimitExec to true if you wish to enable it\n",
      "  @Partitioning <SinglePartition$> could run on GPU\n",
      "\n"
     ]
    }
   ],
   "source": [
    "df_albums.show(5)\n",
    "df_artists.show(5)"
   ]
  },
  {
   "cell_type": "code",
   "execution_count": 4,
   "metadata": {},
   "outputs": [],
   "source": [
    "df_albums.createOrReplaceTempView('albums')\n",
    "df_artists.createOrReplaceTempView('artists')"
   ]
  },
  {
   "cell_type": "code",
   "execution_count": 5,
   "metadata": {},
   "outputs": [],
   "source": [
    "df = spark.sql(\"\"\"\n",
    "               SELECT ar.*, al.*\n",
    "               FROM albums al\n",
    "               INNER JOIN artists ar\n",
    "               ON al.artist_id = ar.artist_id\n",
    "               ORDER BY ar.artist_name\n",
    "               \"\"\")"
   ]
  },
  {
   "cell_type": "code",
   "execution_count": 6,
   "metadata": {},
   "outputs": [
    {
     "name": "stderr",
     "output_type": "stream",
     "text": [
      "                                                                                \r"
     ]
    },
    {
     "name": "stdout",
     "output_type": "stream",
     "text": [
      "+--------------------+------------+--------------------+--------------------+---------+--------------------+----------------+--------------------+----------+--------------------+--------------------+--------------------+--------------------+------------+-----------+-----------+--------+------------+------------+\n",
      "|           artist_id| artist_name|               genre|    artist_image_url|followers|            album_id|      album_name|           artist_id|album_type|               label|     album_image_url|            track_id|          track_name|track_number|disc_number|duration_ms|explicit|release_date|total_tracks|\n",
      "+--------------------+------------+--------------------+--------------------+---------+--------------------+----------------+--------------------+----------+--------------------+--------------------+--------------------+--------------------+------------+-----------+-----------+--------+------------+------------+\n",
      "|0h0C8mMT21p0Ixq6q...|$tupid Young|            cali rap|https://i.scdn.co...|   131870|3sL77Oty9bK5P7Hqj...|   True Story II|0h0C8mMT21p0Ixq6q...|     album|  Afficials / EMPIRE|https://i.scdn.co...|13spSo3RwgMVu7U7i...|          Lights Out|           1|          1|     178000|    true|  2019-09-20|          14|\n",
      "|0h0C8mMT21p0Ixq6q...|$tupid Young|asian american hi...|https://i.scdn.co...|   131870|3sL77Oty9bK5P7Hqj...|   True Story II|0h0C8mMT21p0Ixq6q...|     album|  Afficials / EMPIRE|https://i.scdn.co...|13spSo3RwgMVu7U7i...|          Lights Out|           1|          1|     178000|    true|  2019-09-20|          14|\n",
      "|0h0C8mMT21p0Ixq6q...|$tupid Young|            cali rap|https://i.scdn.co...|   131870|1JwwVlMQ5mZUquPb3...|B.A.R.S (Vol. 1)|0h0C8mMT21p0Ixq6q...|     album|BMG Rights Manage...|https://i.scdn.co...|2shLhOxIh6lijM4kW...|   DJ Gabe Cee Intro|           1|          1|      52289|   false|  2020-08-28|          10|\n",
      "|0h0C8mMT21p0Ixq6q...|$tupid Young|asian american hi...|https://i.scdn.co...|   131870|1JwwVlMQ5mZUquPb3...|B.A.R.S (Vol. 1)|0h0C8mMT21p0Ixq6q...|     album|BMG Rights Manage...|https://i.scdn.co...|2shLhOxIh6lijM4kW...|   DJ Gabe Cee Intro|           1|          1|      52289|   false|  2020-08-28|          10|\n",
      "|0h0C8mMT21p0Ixq6q...|$tupid Young|            cali rap|https://i.scdn.co...|   131870|1JwwVlMQ5mZUquPb3...|B.A.R.S (Vol. 1)|0h0C8mMT21p0Ixq6q...|     album|BMG Rights Manage...|https://i.scdn.co...|36iOyLIlGimlYeGmX...|Came Up (feat. Ja...|           2|          1|     180811|   false|  2020-08-28|          10|\n",
      "+--------------------+------------+--------------------+--------------------+---------+--------------------+----------------+--------------------+----------+--------------------+--------------------+--------------------+--------------------+------------+-----------+-----------+--------+------------+------------+\n",
      "only showing top 5 rows\n",
      "\n"
     ]
    }
   ],
   "source": [
    "df.show(5)"
   ]
  },
  {
   "cell_type": "code",
   "execution_count": 7,
   "metadata": {},
   "outputs": [],
   "source": [
    "df = df.drop('artist_id', 'artist_image_url', 'album_id', 'album_image_url', 'track_id')"
   ]
  },
  {
   "cell_type": "code",
   "execution_count": 8,
   "metadata": {},
   "outputs": [
    {
     "name": "stdout",
     "output_type": "stream",
     "text": [
      "+------------+--------------------+---------+----------------+----------+------------------+--------------------+------------+-----------+-----------+--------+------------+------------+\n",
      "| artist_name|               genre|followers|      album_name|album_type|             label|          track_name|track_number|disc_number|duration_ms|explicit|release_date|total_tracks|\n",
      "+------------+--------------------+---------+----------------+----------+------------------+--------------------+------------+-----------+-----------+--------+------------+------------+\n",
      "|$tupid Young|asian american hi...|   131870|From Here On Out|     album|Afficials / EMPIRE|10 Toes Down (fea...|           1|          1|     158027|    true|  2020-12-18|          12|\n",
      "|$tupid Young|            cali rap|   131870|From Here On Out|     album|Afficials / EMPIRE|10 Toes Down (fea...|           1|          1|     158027|    true|  2020-12-18|          12|\n",
      "|$tupid Young|asian american hi...|   131870|From Here On Out|     album|Afficials / EMPIRE|           Stay Down|           2|          1|     184653|    true|  2020-12-18|          12|\n",
      "|$tupid Young|            cali rap|   131870|From Here On Out|     album|Afficials / EMPIRE|           Stay Down|           2|          1|     184653|    true|  2020-12-18|          12|\n",
      "|$tupid Young|asian american hi...|   131870|From Here On Out|     album|Afficials / EMPIRE|         Do My Dance|           3|          1|     131920|    true|  2020-12-18|          12|\n",
      "+------------+--------------------+---------+----------------+----------+------------------+--------------------+------------+-----------+-----------+--------+------------+------------+\n",
      "only showing top 5 rows\n",
      "\n"
     ]
    }
   ],
   "source": [
    "df.show(5)"
   ]
  },
  {
   "cell_type": "code",
   "execution_count": 9,
   "metadata": {},
   "outputs": [
    {
     "data": {
      "text/plain": [
       "547978"
      ]
     },
     "execution_count": 9,
     "metadata": {},
     "output_type": "execute_result"
    }
   ],
   "source": [
    "df.count()"
   ]
  },
  {
   "cell_type": "code",
   "execution_count": null,
   "metadata": {},
   "outputs": [],
   "source": []
  }
 ],
 "metadata": {
  "kernelspec": {
   "display_name": "kjh-4pV5HF-C",
   "language": "python",
   "name": "python3"
  },
  "language_info": {
   "codemirror_mode": {
    "name": "ipython",
    "version": 3
   },
   "file_extension": ".py",
   "mimetype": "text/x-python",
   "name": "python",
   "nbconvert_exporter": "python",
   "pygments_lexer": "ipython3",
   "version": "3.12.1"
  }
 },
 "nbformat": 4,
 "nbformat_minor": 2
}
