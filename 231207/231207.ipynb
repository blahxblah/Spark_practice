{
 "cells": [
  {
   "cell_type": "code",
   "execution_count": 1,
   "metadata": {},
   "outputs": [],
   "source": [
    "from pyspark.sql import SparkSession"
   ]
  },
  {
   "cell_type": "code",
   "execution_count": 2,
   "metadata": {},
   "outputs": [
    {
     "name": "stderr",
     "output_type": "stream",
     "text": [
      "131072x1 화면 크기가 잘못됐습니다. 문제가 예상됩니다\n",
      "2023-12-07 16:46:27,350 WARN util.Utils: Your hostname, KJH resolves to a loopback address: 127.0.1.1; using 172.24.249.89 instead (on interface eth0)\n",
      "2023-12-07 16:46:27,351 WARN util.Utils: Set SPARK_LOCAL_IP if you need to bind to another address\n",
      "Setting default log level to \"WARN\".\n",
      "To adjust logging level use sc.setLogLevel(newLevel). For SparkR, use setLogLevel(newLevel).\n",
      "2023-12-07 16:46:27,950 WARN util.NativeCodeLoader: Unable to load native-hadoop library for your platform... using builtin-java classes where applicable\n"
     ]
    }
   ],
   "source": [
    "spark = SparkSession.builder \\\n",
    "    .appName(\"My Spark Application\") \\\n",
    "    .getOrCreate()"
   ]
  },
  {
   "cell_type": "code",
   "execution_count": 48,
   "metadata": {},
   "outputs": [
    {
     "name": "stderr",
     "output_type": "stream",
     "text": [
      "                                                                                \r"
     ]
    }
   ],
   "source": [
    "df_genome_scores = spark.read.csv(\"file:///home/kjh/data/ml-latest/genome-scores.csv\", header=True, inferSchema=True)\n",
    "df_genome_tags = spark.read.csv(\"file:///home/kjh/data/ml-latest/genome-tags.csv\", header=True, inferSchema=True)\n",
    "df_movies = spark.read.csv(\"file:///home/kjh/data/ml-latest/movies.csv\", header=True, inferSchema=True)\n",
    "df_links = spark.read.csv(\"file:///home/kjh/data/ml-latest/links.csv\", header=True, inferSchema=True)\n",
    "df_ratings = spark.read.csv(\"file:///home/kjh/data/ml-latest/ratings.csv\", header=True, inferSchema=True)\n",
    "df_tags = spark.read.csv(\"file:///home/kjh/data/ml-latest/tags.csv\", header=True, inferSchema=True)"
   ]
  },
  {
   "cell_type": "code",
   "execution_count": 49,
   "metadata": {},
   "outputs": [
    {
     "name": "stdout",
     "output_type": "stream",
     "text": [
      "+-------+------+------+\n",
      "|movieId|imdbId|tmdbId|\n",
      "+-------+------+------+\n",
      "|      1|114709|   862|\n",
      "|      2|113497|  8844|\n",
      "|      3|113228| 15602|\n",
      "|      4|114885| 31357|\n",
      "+-------+------+------+\n",
      "only showing top 4 rows\n",
      "\n",
      "+------+-------+------+----------+\n",
      "|userId|movieId|rating| timestamp|\n",
      "+------+-------+------+----------+\n",
      "|     1|      1|   4.0|1225734739|\n",
      "|     1|    110|   4.0|1225865086|\n",
      "|     1|    158|   4.0|1225733503|\n",
      "|     1|    260|   4.5|1225735204|\n",
      "+------+-------+------+----------+\n",
      "only showing top 4 rows\n",
      "\n",
      "+------+-------+-------------+----------+\n",
      "|userId|movieId|          tag| timestamp|\n",
      "+------+-------+-------------+----------+\n",
      "|    10|    260| good vs evil|1430666558|\n",
      "|    10|    260|Harrison Ford|1430666505|\n",
      "|    10|    260|       sci-fi|1430666538|\n",
      "|    14|   1221|    Al Pacino|1311600756|\n",
      "+------+-------+-------------+----------+\n",
      "only showing top 4 rows\n",
      "\n"
     ]
    }
   ],
   "source": [
    "df_links.show(4)\n",
    "df_ratings.show(4)\n",
    "df_tags.show(4)"
   ]
  },
  {
   "cell_type": "code",
   "execution_count": 4,
   "metadata": {},
   "outputs": [
    {
     "name": "stdout",
     "output_type": "stream",
     "text": [
      "+-------+-----+--------------------+\n",
      "|movieId|tagId|           relevance|\n",
      "+-------+-----+--------------------+\n",
      "|      1|    1| 0.03199999999999997|\n",
      "|      1|    2|0.022249999999999992|\n",
      "|      1|    3|                0.07|\n",
      "|      1|    4|               0.059|\n",
      "+-------+-----+--------------------+\n",
      "only showing top 4 rows\n",
      "\n",
      "+-----+------------+\n",
      "|tagId|         tag|\n",
      "+-----+------------+\n",
      "|    1|         007|\n",
      "|    2|007 (series)|\n",
      "|    3|18th century|\n",
      "|    4|       1920s|\n",
      "+-----+------------+\n",
      "only showing top 4 rows\n",
      "\n",
      "+-------+--------------------+--------------------+\n",
      "|movieId|               title|              genres|\n",
      "+-------+--------------------+--------------------+\n",
      "|      1|    Toy Story (1995)|Adventure|Animati...|\n",
      "|      2|      Jumanji (1995)|Adventure|Childre...|\n",
      "|      3|Grumpier Old Men ...|      Comedy|Romance|\n",
      "|      4|Waiting to Exhale...|Comedy|Drama|Romance|\n",
      "+-------+--------------------+--------------------+\n",
      "only showing top 4 rows\n",
      "\n"
     ]
    }
   ],
   "source": [
    "df_genome_scores.show(4)\n",
    "df_genome_tags.show(4)\n",
    "df_movies.show(4)"
   ]
  },
  {
   "cell_type": "code",
   "execution_count": 5,
   "metadata": {},
   "outputs": [],
   "source": [
    "df_genome_scores.createOrReplaceTempView(\"scores\")\n",
    "df_genome_tags.createOrReplaceTempView(\"tags\")\n",
    "df_movies.createOrReplaceTempView(\"movies\")"
   ]
  },
  {
   "cell_type": "code",
   "execution_count": 6,
   "metadata": {},
   "outputs": [
    {
     "name": "stderr",
     "output_type": "stream",
     "text": [
      "                                                                                \r"
     ]
    },
    {
     "name": "stdout",
     "output_type": "stream",
     "text": [
      "+--------+\n",
      "|count(1)|\n",
      "+--------+\n",
      "|18472128|\n",
      "+--------+\n",
      "\n",
      "+--------+\n",
      "|count(1)|\n",
      "+--------+\n",
      "|    1128|\n",
      "+--------+\n",
      "\n",
      "+--------+\n",
      "|count(1)|\n",
      "+--------+\n",
      "|   86537|\n",
      "+--------+\n",
      "\n"
     ]
    }
   ],
   "source": [
    "spark.sql(\"SELECT COUNT(*) FROM scores\").show()\n",
    "spark.sql(\"SELECT COUNT(*) FROM tags\").show()\n",
    "spark.sql(\"SELECT COUNT(*) FROM movies\").show()"
   ]
  },
  {
   "cell_type": "code",
   "execution_count": 12,
   "metadata": {},
   "outputs": [
    {
     "name": "stdout",
     "output_type": "stream",
     "text": [
      "+-------+----------------+--------------------+-----+---------------+--------------------+\n",
      "|movieId|           title|              genres|tagId|            tag|           relevance|\n",
      "+-------+----------------+--------------------+-----+---------------+--------------------+\n",
      "|      1|Toy Story (1995)|Adventure|Animati...|    1|            007| 0.03199999999999997|\n",
      "|      1|Toy Story (1995)|Adventure|Animati...|    2|   007 (series)|0.022249999999999992|\n",
      "|      1|Toy Story (1995)|Adventure|Animati...|    3|   18th century|                0.07|\n",
      "|      1|Toy Story (1995)|Adventure|Animati...|    4|          1920s|               0.059|\n",
      "|      1|Toy Story (1995)|Adventure|Animati...|    5|          1930s|               0.123|\n",
      "|      1|Toy Story (1995)|Adventure|Animati...|    6|          1950s|               0.131|\n",
      "|      1|Toy Story (1995)|Adventure|Animati...|    7|          1960s| 0.06175000000000003|\n",
      "|      1|Toy Story (1995)|Adventure|Animati...|    8|          1970s|              0.1955|\n",
      "|      1|Toy Story (1995)|Adventure|Animati...|    9|          1980s|             0.26625|\n",
      "|      1|Toy Story (1995)|Adventure|Animati...|   10|   19th century|0.032999999999999974|\n",
      "|      1|Toy Story (1995)|Adventure|Animati...|   11|             3d|               0.568|\n",
      "|      1|Toy Story (1995)|Adventure|Animati...|   12|           70mm|               0.137|\n",
      "|      1|Toy Story (1995)|Adventure|Animati...|   13|            80s|               0.249|\n",
      "|      1|Toy Story (1995)|Adventure|Animati...|   14|           9/11|0.006500000000000006|\n",
      "|      1|Toy Story (1995)|Adventure|Animati...|   15|        aardman| 0.02174999999999999|\n",
      "|      1|Toy Story (1995)|Adventure|Animati...|   16|aardman studios| 0.17975000000000002|\n",
      "|      1|Toy Story (1995)|Adventure|Animati...|   17|       abortion|0.014000000000000012|\n",
      "|      1|Toy Story (1995)|Adventure|Animati...|   18|         absurd| 0.07574999999999998|\n",
      "|      1|Toy Story (1995)|Adventure|Animati...|   19|         action|             0.65925|\n",
      "|      1|Toy Story (1995)|Adventure|Animati...|   20|  action packed|              0.3025|\n",
      "+-------+----------------+--------------------+-----+---------------+--------------------+\n",
      "only showing top 20 rows\n",
      "\n"
     ]
    }
   ],
   "source": [
    "spark.sql(\"\"\"SELECT m.movieId, m.title, m.genres, s.tagId, t.tag, s.relevance\n",
    "          FROM scores s\n",
    "          JOIN tags t ON s.tagId = t.tagId\n",
    "          JOIN movies m ON s.movieId = m.movieId \n",
    "          \"\"\").show()"
   ]
  },
  {
   "cell_type": "code",
   "execution_count": 22,
   "metadata": {},
   "outputs": [
    {
     "name": "stderr",
     "output_type": "stream",
     "text": [
      "                                                                                \r"
     ]
    },
    {
     "data": {
      "text/plain": [
       "18472128"
      ]
     },
     "execution_count": 22,
     "metadata": {},
     "output_type": "execute_result"
    }
   ],
   "source": [
    "spark.sql(\"\"\"SELECT m.movieId, m.title, m.genres, s.tagId, t.tag, s.relevance\n",
    "          FROM scores s\n",
    "          JOIN tags t ON s.tagId = t.tagId\n",
    "          JOIN movies m ON s.movieId = m.movieId \n",
    "          WHERE t.tag IS NOT NULL\n",
    "          \"\"\").count()"
   ]
  },
  {
   "cell_type": "code",
   "execution_count": 47,
   "metadata": {},
   "outputs": [
    {
     "name": "stderr",
     "output_type": "stream",
     "text": [
      "                                                                                \r"
     ]
    },
    {
     "data": {
      "text/plain": [
       "115"
      ]
     },
     "execution_count": 47,
     "metadata": {},
     "output_type": "execute_result"
    }
   ],
   "source": [
    "spark.sql(\"\"\"\n",
    "          SELECT DISTINCT movieId\n",
    "          FROM (\n",
    "            SELECT movieId, COUNT(*) OVER (PARTITION BY movieId) as cnt, tagId, relevance, max_relevance\n",
    "            FROM (\n",
    "                SELECT movieId, tagId, relevance,\n",
    "                    MAX(relevance) OVER (PARTITION BY movieId) as max_relevance\n",
    "                FROM scores\n",
    "                ) \n",
    "                WHERE relevance = max_relevance\n",
    "            )\n",
    "            WHERE cnt > 1    \n",
    "            \"\"\").count()"
   ]
  },
  {
   "cell_type": "code",
   "execution_count": 38,
   "metadata": {},
   "outputs": [
    {
     "name": "stderr",
     "output_type": "stream",
     "text": [
      "[Stage 111:==============>                                         (3 + 9) / 12]\r"
     ]
    },
    {
     "name": "stdout",
     "output_type": "stream",
     "text": [
      "+-----------------------+\n",
      "|count(DISTINCT movieId)|\n",
      "+-----------------------+\n",
      "|                  16376|\n",
      "+-----------------------+\n",
      "\n"
     ]
    },
    {
     "name": "stderr",
     "output_type": "stream",
     "text": [
      "                                                                                \r"
     ]
    }
   ],
   "source": [
    "spark.sql(\"\"\"\n",
    "    SELECT COUNT(DISTINCT movieId)\n",
    "    FROM scores\n",
    "\"\"\").show()\n"
   ]
  },
  {
   "cell_type": "code",
   "execution_count": 17,
   "metadata": {},
   "outputs": [
    {
     "name": "stderr",
     "output_type": "stream",
     "text": [
      "                                                                                \r"
     ]
    },
    {
     "name": "stdout",
     "output_type": "stream",
     "text": [
      "+-------+--------------------+--------------------+-----+--------------------+------------------+\n",
      "|movieId|               title|              genres|tagId|                 tag|         relevance|\n",
      "+-------+--------------------+--------------------+-----+--------------------+------------------+\n",
      "|     28|   Persuasion (1995)|       Drama|Romance|   22|   adapted from:book|            0.9895|\n",
      "|     31|Dangerous Minds (...|               Drama| 1010|             teacher|             0.942|\n",
      "|     34|         Babe (1995)|      Children|Drama| 1007|     talking animals|0.9850000000000001|\n",
      "|     53|     Lamerica (1994)|     Adventure|Drama|  270|           criterion|            0.6835|\n",
      "|     65|     Bio-Dome (1996)|              Comedy|  980|           stupidity|             0.974|\n",
      "|     78|Crossing Guard, T...|Action|Crime|Dram...|  478|               guilt|             0.891|\n",
      "|     81|Things to Do in D...| Crime|Drama|Romance|  269|     crime gone awry|0.9990000000000001|\n",
      "|     85|Angels and Insect...|       Drama|Romance|  539|              incest|           0.91275|\n",
      "|    101|Bottle Rocket (1996)|Adventure|Comedy|...|  498|               heist|            0.9575|\n",
      "|    108|      Catwalk (1996)|         Documentary|  474|          grindhouse|            0.8125|\n",
      "|    115|Happiness Is in t...|              Comedy|  405|              france|0.9782500000000001|\n",
      "|    126|NeverEnding Story...|Adventure|Childre...|  378|       fantasy world|0.9664999999999999|\n",
      "|    137|Man of the Year (...|         Documentary|  425|                 gay|              0.96|\n",
      "|    148|Awfully Big Adven...|               Drama|  731|nudity (topless -...|0.8314999999999999|\n",
      "|    155|Beyond Rangoon (1...| Adventure|Drama|War| 1119|      world politics|           0.91675|\n",
      "|    183| Mute Witness (1994)|Comedy|Horror|Thr...| 1000|         suspenseful|           0.96225|\n",
      "|    193|    Showgirls (1995)|               Drama|  732|    nudity (topless)|           0.99925|\n",
      "|    210|    Wild Bill (1995)|             Western| 1107|             western|           0.99075|\n",
      "|    211|Browning Version,...|               Drama| 1010|             teacher|0.8154999999999999|\n",
      "|    243|        Gordy (1995)|Children|Comedy|F...|  374|              family|0.9219999999999999|\n",
      "+-------+--------------------+--------------------+-----+--------------------+------------------+\n",
      "only showing top 20 rows\n",
      "\n"
     ]
    }
   ],
   "source": [
    "spark.sql(\"\"\"\n",
    "        SELECT m.movieId, m.title, m.genres, s.tagId, t.tag, s.relevance\n",
    "        FROM (\n",
    "                SELECT movieId, tagId, relevance,\n",
    "                    MAX(relevance) OVER (PARTITION BY movieId) as max_relevance\n",
    "                FROM scores\n",
    "        ) s\n",
    "        JOIN tags t ON s.tagId = t.tagId\n",
    "        JOIN movies m ON s.movieId = m.movieId \n",
    "        WHERE s.relevance = s.max_relevance\n",
    "        \"\"\").show()"
   ]
  },
  {
   "cell_type": "code",
   "execution_count": null,
   "metadata": {},
   "outputs": [],
   "source": []
  }
 ],
 "metadata": {
  "kernelspec": {
   "display_name": "kjh-4pV5HF-C",
   "language": "python",
   "name": "python3"
  },
  "language_info": {
   "codemirror_mode": {
    "name": "ipython",
    "version": 3
   },
   "file_extension": ".py",
   "mimetype": "text/x-python",
   "name": "python",
   "nbconvert_exporter": "python",
   "pygments_lexer": "ipython3",
   "version": "3.11.6"
  }
 },
 "nbformat": 4,
 "nbformat_minor": 2
}
