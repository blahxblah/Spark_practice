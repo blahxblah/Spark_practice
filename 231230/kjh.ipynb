{
 "cells": [
  {
   "cell_type": "code",
   "execution_count": 1,
   "metadata": {},
   "outputs": [
    {
     "name": "stderr",
     "output_type": "stream",
     "text": [
      "23/12/30 16:46:40 WARN Utils: Your hostname, KJH-DESKTOP resolves to a loopback address: 127.0.1.1; using 192.168.69.220 instead (on interface eth0)\n",
      "23/12/30 16:46:40 WARN Utils: Set SPARK_LOCAL_IP if you need to bind to another address\n"
     ]
    },
    {
     "name": "stdout",
     "output_type": "stream",
     "text": [
      ":: loading settings :: url = jar:file:/home/kjh/app/spark/3.5.0/jars/ivy-2.5.1.jar!/org/apache/ivy/core/settings/ivysettings.xml\n"
     ]
    },
    {
     "name": "stderr",
     "output_type": "stream",
     "text": [
      "Ivy Default Cache set to: /home/kjh/.ivy2/cache\n",
      "The jars for the packages stored in: /home/kjh/.ivy2/jars\n",
      "com.microsoft.azure#synapseml_2.12 added as a dependency\n",
      ":: resolving dependencies :: org.apache.spark#spark-submit-parent-c7ccd84a-a394-456d-b43e-54a5821491a8;1.0\n",
      "\tconfs: [default]\n",
      "\tfound com.microsoft.azure#synapseml_2.12;1.0.2 in central\n",
      "\tfound com.microsoft.azure#synapseml-core_2.12;1.0.2 in central\n",
      "\tfound org.apache.spark#spark-avro_2.12;3.4.1 in central\n",
      "\tfound org.tukaani#xz;1.9 in central\n",
      "\tfound commons-lang#commons-lang;2.6 in central\n",
      "\tfound org.scalactic#scalactic_2.12;3.2.14 in central\n",
      "\tfound org.scala-lang#scala-reflect;2.12.15 in central\n",
      "\tfound io.spray#spray-json_2.12;1.3.5 in central\n",
      "\tfound com.jcraft#jsch;0.1.54 in central\n",
      "\tfound org.apache.httpcomponents.client5#httpclient5;5.1.3 in central\n",
      "\tfound org.apache.httpcomponents.core5#httpcore5;5.1.3 in central\n",
      "\tfound org.apache.httpcomponents.core5#httpcore5-h2;5.1.3 in central\n",
      "\tfound org.slf4j#slf4j-api;1.7.25 in central\n",
      "\tfound commons-codec#commons-codec;1.15 in central\n",
      "\tfound org.apache.httpcomponents#httpmime;4.5.13 in central\n",
      "\tfound org.apache.httpcomponents#httpclient;4.5.13 in central\n",
      "\tfound org.apache.httpcomponents#httpcore;4.4.13 in central\n",
      "\tfound commons-logging#commons-logging;1.2 in central\n",
      "\tfound com.linkedin.isolation-forest#isolation-forest_3.4.1_2.12;3.0.3 in central\n",
      "\tfound com.chuusai#shapeless_2.12;2.3.10 in central\n",
      "\tfound org.testng#testng;6.8.8 in central\n",
      "\tfound org.beanshell#bsh;2.0b4 in central\n",
      "\tfound com.beust#jcommander;1.27 in central\n",
      "\tfound org.scalanlp#breeze_2.12;2.1.0 in central\n",
      "\tfound org.scalanlp#breeze-macros_2.12;2.1.0 in central\n",
      "\tfound org.typelevel#spire_2.12;0.17.0 in central\n",
      "\tfound org.typelevel#spire-macros_2.12;0.17.0 in central\n",
      "\tfound org.typelevel#algebra_2.12;2.0.1 in central\n",
      "\tfound org.typelevel#cats-kernel_2.12;2.1.1 in central\n",
      "\tfound org.typelevel#spire-platform_2.12;0.17.0 in central\n",
      "\tfound org.typelevel#spire-util_2.12;0.17.0 in central\n",
      "\tfound dev.ludovic.netlib#blas;3.0.1 in central\n",
      "\tfound net.sourceforge.f2j#arpack_combined_all;0.1 in central\n",
      "\tfound dev.ludovic.netlib#lapack;3.0.1 in central\n",
      "\tfound dev.ludovic.netlib#arpack;3.0.1 in central\n",
      "\tfound net.sf.opencsv#opencsv;2.3 in central\n",
      "\tfound com.github.wendykierp#JTransforms;3.1 in central\n",
      "\tfound pl.edu.icm#JLargeArrays;1.5 in central\n",
      "\tfound org.apache.commons#commons-math3;3.2 in central\n",
      "\tfound org.scala-lang.modules#scala-collection-compat_2.12;2.7.0 in central\n",
      "\tfound com.microsoft.azure#synapseml-deep-learning_2.12;1.0.2 in central\n",
      "\tfound com.microsoft.azure#synapseml-opencv_2.12;1.0.2 in central\n",
      "\tfound org.openpnp#opencv;3.2.0-1 in central\n",
      "\tfound com.microsoft.azure#onnx-protobuf_2.12;0.9.3 in central\n",
      "\tfound com.microsoft.onnxruntime#onnxruntime_gpu;1.8.1 in central\n",
      "\tfound com.microsoft.azure#synapseml-cognitive_2.12;1.0.2 in central\n",
      "\tfound com.microsoft.cognitiveservices.speech#client-sdk;1.24.1 in central\n",
      "\tfound com.microsoft.azure#synapseml-vw_2.12;1.0.2 in central\n",
      "\tfound com.github.vowpalwabbit#vw-jni;9.3.0 in central\n",
      "\tfound com.microsoft.azure#synapseml-lightgbm_2.12;1.0.2 in central\n",
      "\tfound com.microsoft.ml.lightgbm#lightgbmlib;3.3.510 in central\n",
      ":: resolution report :: resolve 337ms :: artifacts dl 9ms\n",
      "\t:: modules in use:\n",
      "\tcom.beust#jcommander;1.27 from central in [default]\n",
      "\tcom.chuusai#shapeless_2.12;2.3.10 from central in [default]\n",
      "\tcom.github.vowpalwabbit#vw-jni;9.3.0 from central in [default]\n",
      "\tcom.github.wendykierp#JTransforms;3.1 from central in [default]\n",
      "\tcom.jcraft#jsch;0.1.54 from central in [default]\n",
      "\tcom.linkedin.isolation-forest#isolation-forest_3.4.1_2.12;3.0.3 from central in [default]\n",
      "\tcom.microsoft.azure#onnx-protobuf_2.12;0.9.3 from central in [default]\n",
      "\tcom.microsoft.azure#synapseml-cognitive_2.12;1.0.2 from central in [default]\n",
      "\tcom.microsoft.azure#synapseml-core_2.12;1.0.2 from central in [default]\n",
      "\tcom.microsoft.azure#synapseml-deep-learning_2.12;1.0.2 from central in [default]\n",
      "\tcom.microsoft.azure#synapseml-lightgbm_2.12;1.0.2 from central in [default]\n",
      "\tcom.microsoft.azure#synapseml-opencv_2.12;1.0.2 from central in [default]\n",
      "\tcom.microsoft.azure#synapseml-vw_2.12;1.0.2 from central in [default]\n",
      "\tcom.microsoft.azure#synapseml_2.12;1.0.2 from central in [default]\n",
      "\tcom.microsoft.cognitiveservices.speech#client-sdk;1.24.1 from central in [default]\n",
      "\tcom.microsoft.ml.lightgbm#lightgbmlib;3.3.510 from central in [default]\n",
      "\tcom.microsoft.onnxruntime#onnxruntime_gpu;1.8.1 from central in [default]\n",
      "\tcommons-codec#commons-codec;1.15 from central in [default]\n",
      "\tcommons-lang#commons-lang;2.6 from central in [default]\n",
      "\tcommons-logging#commons-logging;1.2 from central in [default]\n",
      "\tdev.ludovic.netlib#arpack;3.0.1 from central in [default]\n",
      "\tdev.ludovic.netlib#blas;3.0.1 from central in [default]\n",
      "\tdev.ludovic.netlib#lapack;3.0.1 from central in [default]\n",
      "\tio.spray#spray-json_2.12;1.3.5 from central in [default]\n",
      "\tnet.sf.opencsv#opencsv;2.3 from central in [default]\n",
      "\tnet.sourceforge.f2j#arpack_combined_all;0.1 from central in [default]\n",
      "\torg.apache.commons#commons-math3;3.2 from central in [default]\n",
      "\torg.apache.httpcomponents#httpclient;4.5.13 from central in [default]\n",
      "\torg.apache.httpcomponents#httpcore;4.4.13 from central in [default]\n",
      "\torg.apache.httpcomponents#httpmime;4.5.13 from central in [default]\n",
      "\torg.apache.httpcomponents.client5#httpclient5;5.1.3 from central in [default]\n",
      "\torg.apache.httpcomponents.core5#httpcore5;5.1.3 from central in [default]\n",
      "\torg.apache.httpcomponents.core5#httpcore5-h2;5.1.3 from central in [default]\n",
      "\torg.apache.spark#spark-avro_2.12;3.4.1 from central in [default]\n",
      "\torg.beanshell#bsh;2.0b4 from central in [default]\n",
      "\torg.openpnp#opencv;3.2.0-1 from central in [default]\n",
      "\torg.scala-lang#scala-reflect;2.12.15 from central in [default]\n",
      "\torg.scala-lang.modules#scala-collection-compat_2.12;2.7.0 from central in [default]\n",
      "\torg.scalactic#scalactic_2.12;3.2.14 from central in [default]\n",
      "\torg.scalanlp#breeze-macros_2.12;2.1.0 from central in [default]\n",
      "\torg.scalanlp#breeze_2.12;2.1.0 from central in [default]\n",
      "\torg.slf4j#slf4j-api;1.7.25 from central in [default]\n",
      "\torg.testng#testng;6.8.8 from central in [default]\n",
      "\torg.tukaani#xz;1.9 from central in [default]\n",
      "\torg.typelevel#algebra_2.12;2.0.1 from central in [default]\n",
      "\torg.typelevel#cats-kernel_2.12;2.1.1 from central in [default]\n",
      "\torg.typelevel#spire-macros_2.12;0.17.0 from central in [default]\n",
      "\torg.typelevel#spire-platform_2.12;0.17.0 from central in [default]\n",
      "\torg.typelevel#spire-util_2.12;0.17.0 from central in [default]\n",
      "\torg.typelevel#spire_2.12;0.17.0 from central in [default]\n",
      "\tpl.edu.icm#JLargeArrays;1.5 from central in [default]\n",
      "\t:: evicted modules:\n",
      "\tcommons-codec#commons-codec;1.11 by [commons-codec#commons-codec;1.15] in [default]\n",
      "\torg.scala-lang.modules#scala-collection-compat_2.12;2.2.0 by [org.scala-lang.modules#scala-collection-compat_2.12;2.7.0] in [default]\n",
      "\torg.apache.commons#commons-math3;3.5 by [org.apache.commons#commons-math3;3.2] in [default]\n",
      "\torg.slf4j#slf4j-api;1.7.5 by [org.slf4j#slf4j-api;1.7.25] in [default]\n",
      "\t---------------------------------------------------------------------\n",
      "\t|                  |            modules            ||   artifacts   |\n",
      "\t|       conf       | number| search|dwnlded|evicted|| number|dwnlded|\n",
      "\t---------------------------------------------------------------------\n",
      "\t|      default     |   55  |   0   |   0   |   4   ||   51  |   0   |\n",
      "\t---------------------------------------------------------------------\n",
      ":: retrieving :: org.apache.spark#spark-submit-parent-c7ccd84a-a394-456d-b43e-54a5821491a8\n",
      "\tconfs: [default]\n",
      "\t0 artifacts copied, 51 already retrieved (0kB/7ms)\n",
      "23/12/30 16:46:41 WARN NativeCodeLoader: Unable to load native-hadoop library for your platform... using builtin-java classes where applicable\n",
      "Setting default log level to \"WARN\".\n",
      "To adjust logging level use sc.setLogLevel(newLevel). For SparkR, use setLogLevel(newLevel).\n"
     ]
    }
   ],
   "source": [
    "# 스파크 세션 생성\n",
    "import pyspark\n",
    "from pyspark.sql import SparkSession\n",
    "\n",
    "# SynapseML : 마이크로소프트에서 만든 스파크용 ML 라이브러리\n",
    "# https://microsoft.github.io/SynapseML/\n",
    "# config에서 synapseml 모듈 불러오기\n",
    "spark = SparkSession.builder \\\n",
    "    .appName(\"Spark study - 231230\") \\\n",
    "    .config(\"spark.jars.packages\", \"com.microsoft.azure:synapseml_2.12:1.0.2\") \\\n",
    "    .getOrCreate()"
   ]
  },
  {
   "cell_type": "code",
   "execution_count": 2,
   "metadata": {},
   "outputs": [
    {
     "name": "stderr",
     "output_type": "stream",
     "text": [
      "                                                                                \r"
     ]
    }
   ],
   "source": [
    "df_movies = spark.read.parquet('file:///home/kjh/data/S.M.S/TMDB/*')\n",
    "df_people = spark.read.parquet('file:///home/kjh/data/S.M.S/TMDB_people/')\n",
    "df_genres = spark.read.parquet('file:///home/kjh/data/S.M.S/TMDB_genre/*')"
   ]
  },
  {
   "cell_type": "code",
   "execution_count": 3,
   "metadata": {},
   "outputs": [
    {
     "name": "stdout",
     "output_type": "stream",
     "text": [
      "+-------+--------------------+--------------------+--------------------+--------------------+---------------------+------+--------------------+--------+---------+-----------------+----------------------------------------+--------------------+--------------------+--------------------+--------------------+------------+-------+-------+---------------------+-----+-------+\n",
      "|     id|                cast|                crew|             posters|       backdrop_path|belongs_to_collection|budget|              genres|homepage|  imdb_id|original_language|                          original_title|            overview|         poster_path|production_companies|production_countries|release_date|revenue|runtime|     spoken_languages|video|results|\n",
      "+-------+--------------------+--------------------+--------------------+--------------------+---------------------+------+--------------------+--------+---------+-----------------+----------------------------------------+--------------------+--------------------+--------------------+--------------------+------------+-------+-------+---------------------+-----+-------+\n",
      "| 100028|[18704, 44711, 46...|[32737, 32738, 42...|/dqqM62oMd3UYawnz...|                NULL|                 NULL|     0|[28, 53, 10770, 878]|        |tt0382637|               en|                             Devil Winds|A brilliant meteo...|/dqqM62oMd3UYawnz...|[{3825, NULL, Avr...|[{US, United Stat...|  2003-01-01|      0|     90| [{English, en, En...|false|     []|\n",
      "|1000598|              [7090]|  [3271702, 3626513]|                    |                NULL|                 NULL|     0|                [99]|        |tt1637646|               en|                    No Safe Place: Si...|A documentary abo...|                NULL|                  []|                  []|  2003-01-01|      0|     50|                   []|false|     []|\n",
      "|1001013|                  []|                  []|                    |                NULL|                 NULL|     0|                  []|        |tt0396515|               en|                         Brown Paper Bag|A man goes to an ...|                NULL|                  []|                  []|  2003-01-01|      0|     13|                   []|false|     []|\n",
      "|1001230|[1136684, 1104678...|[1136684, 3628183...|/k6gnSYp3OgAAN9s6...|/eqCBuxCXz9WMTunW...|                 NULL|     0|            [28, 35]|        |     NULL|               ja|行け！レインボー仮面対ホームレス怪人軍団|                    |/k6gnSYp3OgAAN9s6...|                  []|       [{JP, Japan}]|  2003-01-01|      0|     50|[{Japanese, ja, 日...|false|     []|\n",
      "|1002578|                  []|           [2656103]|/403kxaneLQ4HIFJ5...|                NULL|                 NULL|     0|                  []|        |     NULL|               en|                         Hunter-Gatherer|A traditional sli...|/403kxaneLQ4HIFJ5...|                  []|                  []|  2003-01-01|      0|     14|                   []|false|     []|\n",
      "+-------+--------------------+--------------------+--------------------+--------------------+---------------------+------+--------------------+--------+---------+-----------------+----------------------------------------+--------------------+--------------------+--------------------+--------------------+------------+-------+-------+---------------------+-----+-------+\n",
      "only showing top 5 rows\n",
      "\n"
     ]
    }
   ],
   "source": [
    "df_movies.show(5)"
   ]
  },
  {
   "cell_type": "code",
   "execution_count": 4,
   "metadata": {},
   "outputs": [
    {
     "name": "stdout",
     "output_type": "stream",
     "text": [
      "+-------+----------+---------------+--------------------+-----------+-----+-----+----+\n",
      "|     id|  date_gte|           name|known_for_department|profile_img|birth|death|year|\n",
      "+-------+----------+---------------+--------------------+-----------+-----+-----+----+\n",
      "|1045960|2021-10-29|    Edward Kaye|              Acting|       NULL| NULL| NULL|2021|\n",
      "|1083347|2021-10-29|    Lee Holland|              Acting|       NULL| NULL| NULL|2021|\n",
      "| 115958|2021-10-29| Isabel Machado|           Directing|       NULL| NULL| NULL|2021|\n",
      "|1160615|2021-10-29|Bruno Chouinard|           Directing|       NULL| NULL| NULL|2021|\n",
      "|1186216|2021-10-29|   Petr Vachler|           Directing|       NULL| NULL| NULL|2021|\n",
      "+-------+----------+---------------+--------------------+-----------+-----+-----+----+\n",
      "only showing top 5 rows\n",
      "\n"
     ]
    }
   ],
   "source": [
    "df_people.show(5)"
   ]
  },
  {
   "cell_type": "code",
   "execution_count": 5,
   "metadata": {},
   "outputs": [
    {
     "name": "stdout",
     "output_type": "stream",
     "text": [
      "+-------+------+---------+---------+------+-----+-----------+-----+------+-------+-------+------+-----+-------+-------+---------------+--------+--------+---+-------+\n",
      "|     id|Action|Adventure|Animation|Comedy|Crime|Documentary|Drama|Family|Fantasy|History|Horror|Music|Mystery|Romance|Science_Fiction|TV_Movie|Thriller|War|Western|\n",
      "+-------+------+---------+---------+------+-----+-----------+-----+------+-------+-------+------+-----+-------+-------+---------------+--------+--------+---+-------+\n",
      "| 100028|     1|        0|        0|     0|    0|          0|    0|     0|      0|      0|     0|    0|      0|      0|              1|       1|       1|  0|      0|\n",
      "|1000598|     0|        0|        0|     0|    0|          1|    0|     0|      0|      0|     0|    0|      0|      0|              0|       0|       0|  0|      0|\n",
      "|1001013|     0|        0|        0|     0|    0|          0|    0|     0|      0|      0|     0|    0|      0|      0|              0|       0|       0|  0|      0|\n",
      "|1001230|     1|        0|        0|     1|    0|          0|    0|     0|      0|      0|     0|    0|      0|      0|              0|       0|       0|  0|      0|\n",
      "|1002578|     0|        0|        0|     0|    0|          0|    0|     0|      0|      0|     0|    0|      0|      0|              0|       0|       0|  0|      0|\n",
      "+-------+------+---------+---------+------+-----+-----------+-----+------+-------+-------+------+-----+-------+-------+---------------+--------+--------+---+-------+\n",
      "only showing top 5 rows\n",
      "\n"
     ]
    }
   ],
   "source": [
    "df_genres.show(5)"
   ]
  },
  {
   "cell_type": "code",
   "execution_count": 6,
   "metadata": {},
   "outputs": [],
   "source": [
    "df_movies.createOrReplaceTempView('movies')\n",
    "df_people.createOrReplaceTempView('people')\n",
    "df_genres.createOrReplaceTempView('genres')"
   ]
  },
  {
   "cell_type": "code",
   "execution_count": 7,
   "metadata": {},
   "outputs": [],
   "source": [
    "df_movies = spark.sql(\"\"\"\n",
    "                      SELECT id, original_title, release_date, original_language, runtime, array_union(cast, crew) AS people\n",
    "                      FROM movies\n",
    "                      \"\"\")\n",
    "\n",
    "df_people = spark.sql(\"\"\"\n",
    "                      SELECT id, name, known_for_department\n",
    "                      FROM people\n",
    "                      \"\"\")"
   ]
  },
  {
   "cell_type": "code",
   "execution_count": 8,
   "metadata": {},
   "outputs": [
    {
     "name": "stdout",
     "output_type": "stream",
     "text": [
      "+-------+----------------------------------------+------------+-----------------+-------+--------------------+\n",
      "|     id|                          original_title|release_date|original_language|runtime|              people|\n",
      "+-------+----------------------------------------+------------+-----------------+-------+--------------------+\n",
      "| 100028|                             Devil Winds|  2003-01-01|               en|     90|[18704, 44711, 46...|\n",
      "|1000598|                    No Safe Place: Si...|  2003-01-01|               en|     50|[7090, 3271702, 3...|\n",
      "|1001013|                         Brown Paper Bag|  2003-01-01|               en|     13|                  []|\n",
      "|1001230|行け！レインボー仮面対ホームレス怪人軍団|  2003-01-01|               ja|     50|[1136684, 1104678...|\n",
      "|1002578|                         Hunter-Gatherer|  2003-01-01|               en|     14|           [2656103]|\n",
      "+-------+----------------------------------------+------------+-----------------+-------+--------------------+\n",
      "only showing top 5 rows\n",
      "\n"
     ]
    },
    {
     "name": "stderr",
     "output_type": "stream",
     "text": [
      "[Stage 10:================================================>    (184 + 12) / 203]\r"
     ]
    },
    {
     "name": "stdout",
     "output_type": "stream",
     "text": [
      "633841\n"
     ]
    },
    {
     "name": "stderr",
     "output_type": "stream",
     "text": [
      "                                                                                \r"
     ]
    }
   ],
   "source": [
    "df_movies.show(5)\n",
    "print(df_movies.count())"
   ]
  },
  {
   "cell_type": "code",
   "execution_count": 9,
   "metadata": {},
   "outputs": [
    {
     "name": "stdout",
     "output_type": "stream",
     "text": [
      "+-------+---------------+--------------------+\n",
      "|     id|           name|known_for_department|\n",
      "+-------+---------------+--------------------+\n",
      "|1045960|    Edward Kaye|              Acting|\n",
      "|1083347|    Lee Holland|              Acting|\n",
      "| 115958| Isabel Machado|           Directing|\n",
      "|1160615|Bruno Chouinard|           Directing|\n",
      "|1186216|   Petr Vachler|           Directing|\n",
      "+-------+---------------+--------------------+\n",
      "only showing top 5 rows\n",
      "\n"
     ]
    }
   ],
   "source": [
    "df_people.show(5)"
   ]
  },
  {
   "cell_type": "code",
   "execution_count": 10,
   "metadata": {},
   "outputs": [
    {
     "name": "stdout",
     "output_type": "stream",
     "text": [
      "+-------+------+---------+---------+------+-----+-----------+-----+------+-------+-------+------+-----+-------+-------+---------------+--------+--------+---+-------+\n",
      "|     id|Action|Adventure|Animation|Comedy|Crime|Documentary|Drama|Family|Fantasy|History|Horror|Music|Mystery|Romance|Science_Fiction|TV_Movie|Thriller|War|Western|\n",
      "+-------+------+---------+---------+------+-----+-----------+-----+------+-------+-------+------+-----+-------+-------+---------------+--------+--------+---+-------+\n",
      "| 100028|     1|        0|        0|     0|    0|          0|    0|     0|      0|      0|     0|    0|      0|      0|              1|       1|       1|  0|      0|\n",
      "|1000598|     0|        0|        0|     0|    0|          1|    0|     0|      0|      0|     0|    0|      0|      0|              0|       0|       0|  0|      0|\n",
      "|1001013|     0|        0|        0|     0|    0|          0|    0|     0|      0|      0|     0|    0|      0|      0|              0|       0|       0|  0|      0|\n",
      "|1001230|     1|        0|        0|     1|    0|          0|    0|     0|      0|      0|     0|    0|      0|      0|              0|       0|       0|  0|      0|\n",
      "|1002578|     0|        0|        0|     0|    0|          0|    0|     0|      0|      0|     0|    0|      0|      0|              0|       0|       0|  0|      0|\n",
      "+-------+------+---------+---------+------+-----+-----------+-----+------+-------+-------+------+-----+-------+-------+---------------+--------+--------+---+-------+\n",
      "only showing top 5 rows\n",
      "\n"
     ]
    },
    {
     "name": "stderr",
     "output_type": "stream",
     "text": [
      "[Stage 15:=========================================>           (159 + 12) / 203]\r"
     ]
    },
    {
     "name": "stdout",
     "output_type": "stream",
     "text": [
      "633841\n"
     ]
    },
    {
     "name": "stderr",
     "output_type": "stream",
     "text": [
      "                                                                                \r"
     ]
    }
   ],
   "source": [
    "df_genres.show(5)\n",
    "print(df_genres.count())"
   ]
  },
  {
   "cell_type": "code",
   "execution_count": 11,
   "metadata": {},
   "outputs": [],
   "source": [
    "df_movies.createOrReplaceTempView('movies')\n",
    "df_people.createOrReplaceTempView('people')\n",
    "df_genres.createOrReplaceTempView('genres')"
   ]
  },
  {
   "cell_type": "code",
   "execution_count": 18,
   "metadata": {},
   "outputs": [],
   "source": [
    "test = spark.sql(\"\"\"\n",
    "                 SELECT m.id, m.original_title, m.release_date, m.original_language, m.runtime, \n",
    "                    g.Action, g.Adventure, g.Animation, g.Comedy, g.Crime, g.Documentary, g.Drama, \n",
    "                    g.Family, g.Fantasy, g.History, g.Horror, g.Music, g.Mystery, \n",
    "                    g.Romance, g.Science_Fiction, g.TV_Movie, g.Thriller, g.War, g.Western,\n",
    "                    explode(m.people) AS people\n",
    "                FROM movies m\n",
    "                INNER JOIN genres g\n",
    "                ON m.id = g.id\n",
    "                 \"\"\")"
   ]
  },
  {
   "cell_type": "code",
   "execution_count": 19,
   "metadata": {},
   "outputs": [
    {
     "name": "stderr",
     "output_type": "stream",
     "text": [
      "                                                                                \r"
     ]
    },
    {
     "name": "stdout",
     "output_type": "stream",
     "text": [
      "+---+--------------------+------------+-----------------+-------+------+---------+---------+------+-----+-----------+-----+------+-------+-------+------+-----+-------+-------+---------------+--------+--------+---+-------+------+\n",
      "| id|      original_title|release_date|original_language|runtime|Action|Adventure|Animation|Comedy|Crime|Documentary|Drama|Family|Fantasy|History|Horror|Music|Mystery|Romance|Science_Fiction|TV_Movie|Thriller|War|Western|people|\n",
      "+---+--------------------+------------+-----------------+-------+------+---------+---------+------+-----+-----------+-----+------+-------+-------+------+-----+-------+-------+---------------+--------+--------+---+-------+------+\n",
      "| 22|Pirates of the Ca...|  2003-07-09|               en|    143|     1|        1|        0|     0|    0|          0|    0|     0|      1|      0|     0|    0|      0|      0|              0|       0|       0|  0|      0|    85|\n",
      "| 22|Pirates of the Ca...|  2003-07-09|               en|    143|     1|        1|        0|     0|    0|          0|    0|     0|      1|      0|     0|    0|      0|      0|              0|       0|       0|  0|      0|   114|\n",
      "| 22|Pirates of the Ca...|  2003-07-09|               en|    143|     1|        1|        0|     0|    0|          0|    0|     0|      1|      0|     0|    0|      0|      0|              0|       0|       0|  0|      0|   116|\n",
      "| 22|Pirates of the Ca...|  2003-07-09|               en|    143|     1|        1|        0|     0|    0|          0|    0|     0|      1|      0|     0|    0|      0|      0|              0|       0|       0|  0|      0|   118|\n",
      "| 22|Pirates of the Ca...|  2003-07-09|               en|    143|     1|        1|        0|     0|    0|          0|    0|     0|      1|      0|     0|    0|      0|      0|              0|       0|       0|  0|      0|  1709|\n",
      "| 22|Pirates of the Ca...|  2003-07-09|               en|    143|     1|        1|        0|     0|    0|          0|    0|     0|      1|      0|     0|    0|      0|      0|              0|       0|       0|  0|      0|   378|\n",
      "| 22|Pirates of the Ca...|  2003-07-09|               en|    143|     1|        1|        0|     0|    0|          0|    0|     0|      1|      0|     0|    0|      0|      0|              0|       0|       0|  0|      0|  1710|\n",
      "| 22|Pirates of the Ca...|  2003-07-09|               en|    143|     1|        1|        0|     0|    0|          0|    0|     0|      1|      0|     0|    0|      0|      0|              0|       0|       0|  0|      0|  1711|\n",
      "| 22|Pirates of the Ca...|  2003-07-09|               en|    143|     1|        1|        0|     0|    0|          0|    0|     0|      1|      0|     0|    0|      0|      0|              0|       0|       0|  0|      0|  1712|\n",
      "| 22|Pirates of the Ca...|  2003-07-09|               en|    143|     1|        1|        0|     0|    0|          0|    0|     0|      1|      0|     0|    0|      0|      0|              0|       0|       0|  0|      0|  1713|\n",
      "| 22|Pirates of the Ca...|  2003-07-09|               en|    143|     1|        1|        0|     0|    0|          0|    0|     0|      1|      0|     0|    0|      0|      0|              0|       0|       0|  0|      0|  1714|\n",
      "| 22|Pirates of the Ca...|  2003-07-09|               en|    143|     1|        1|        0|     0|    0|          0|    0|     0|      1|      0|     0|    0|      0|      0|              0|       0|       0|  0|      0|  1715|\n",
      "| 22|Pirates of the Ca...|  2003-07-09|               en|    143|     1|        1|        0|     0|    0|          0|    0|     0|      1|      0|     0|    0|      0|      0|              0|       0|       0|  0|      0|  1716|\n",
      "| 22|Pirates of the Ca...|  2003-07-09|               en|    143|     1|        1|        0|     0|    0|          0|    0|     0|      1|      0|     0|    0|      0|      0|              0|       0|       0|  0|      0|  1717|\n",
      "| 22|Pirates of the Ca...|  2003-07-09|               en|    143|     1|        1|        0|     0|    0|          0|    0|     0|      1|      0|     0|    0|      0|      0|              0|       0|       0|  0|      0|  2449|\n",
      "| 22|Pirates of the Ca...|  2003-07-09|               en|    143|     1|        1|        0|     0|    0|          0|    0|     0|      1|      0|     0|    0|      0|      0|              0|       0|       0|  0|      0| 12802|\n",
      "| 22|Pirates of the Ca...|  2003-07-09|               en|    143|     1|        1|        0|     0|    0|          0|    0|     0|      1|      0|     0|    0|      0|      0|              0|       0|       0|  0|      0|  8691|\n",
      "| 22|Pirates of the Ca...|  2003-07-09|               en|    143|     1|        1|        0|     0|    0|          0|    0|     0|      1|      0|     0|    0|      0|      0|              0|       0|       0|  0|      0|  9298|\n",
      "| 22|Pirates of the Ca...|  2003-07-09|               en|    143|     1|        1|        0|     0|    0|          0|    0|     0|      1|      0|     0|    0|      0|      0|              0|       0|       0|  0|      0|155955|\n",
      "| 22|Pirates of the Ca...|  2003-07-09|               en|    143|     1|        1|        0|     0|    0|          0|    0|     0|      1|      0|     0|    0|      0|      0|              0|       0|       0|  0|      0| 59056|\n",
      "+---+--------------------+------------+-----------------+-------+------+---------+---------+------+-----+-----------+-----+------+-------+-------+------+-----+-------+-------+---------------+--------+--------+---+-------+------+\n",
      "only showing top 20 rows\n",
      "\n"
     ]
    },
    {
     "name": "stderr",
     "output_type": "stream",
     "text": [
      "[Stage 49:=============================================>       (175 + 15) / 203]\r"
     ]
    },
    {
     "name": "stdout",
     "output_type": "stream",
     "text": [
      "8081673\n"
     ]
    },
    {
     "name": "stderr",
     "output_type": "stream",
     "text": [
      "                                                                                \r"
     ]
    }
   ],
   "source": [
    "test.show()\n",
    "print(test.count())"
   ]
  },
  {
   "cell_type": "code",
   "execution_count": 28,
   "metadata": {},
   "outputs": [],
   "source": [
    "df = spark.sql(\"\"\"\n",
    "               SELECT temp.*, p.name AS people_name, p.known_for_department\n",
    "               FROM (\n",
    "                SELECT m.id, m.original_title, m.release_date, m.original_language, m.runtime, \n",
    "                    g.Action, g.Adventure, g.Animation, g.Comedy, g.Crime, g.Documentary, g.Drama, \n",
    "                    g.Family, g.Fantasy, g.History, g.Horror, g.Music, g.Mystery, \n",
    "                    g.Romance, g.Science_Fiction, g.TV_Movie, g.Thriller, g.War, g.Western,\n",
    "                    explode(m.people) AS people\n",
    "                FROM movies m\n",
    "                INNER JOIN genres g\n",
    "                ON m.id = g.id\n",
    "               ) AS temp\n",
    "               INNER JOIN people p\n",
    "               ON temp.people = p.id\n",
    "               ORDER BY temp.id\n",
    "               \"\"\")\n",
    "\n",
    "df = df.drop('people')"
   ]
  },
  {
   "cell_type": "code",
   "execution_count": 29,
   "metadata": {},
   "outputs": [
    {
     "name": "stderr",
     "output_type": "stream",
     "text": [
      "[Stage 106:>                                                      (0 + 12) / 13]\r"
     ]
    },
    {
     "name": "stdout",
     "output_type": "stream",
     "text": [
      "+---+--------------+------------+-----------------+-------+------+---------+---------+------+-----+-----------+-----+------+-------+-------+------+-----+-------+-------+---------------+--------+--------+---+-------+-----------------+--------------------+\n",
      "| id|original_title|release_date|original_language|runtime|Action|Adventure|Animation|Comedy|Crime|Documentary|Drama|Family|Fantasy|History|Horror|Music|Mystery|Romance|Science_Fiction|TV_Movie|Thriller|War|Western|      people_name|known_for_department|\n",
      "+---+--------------+------------+-----------------+-------+------+---------+---------+------+-----+-----------+-----+------+-------+-------+------+-----+-------+-------+---------------+--------+--------+---+-------+-----------------+--------------------+\n",
      "|  2|         Ariel|  1988-10-21|               fi|     73|     0|        0|        0|     1|    0|          0|    1|     0|      0|      0|     0|    0|      0|      1|              0|       0|       0|  0|      0| Susanna Haavisto|              Acting|\n",
      "|  2|         Ariel|  1988-10-21|               fi|     73|     0|        0|        0|     1|    0|          0|    1|     0|      0|      0|     0|    0|      0|      1|              0|       0|       0|  0|      0|     Esko Nikkari|              Acting|\n",
      "|  2|         Ariel|  1988-10-21|               fi|     73|     0|        0|        0|     1|    0|          0|    1|     0|      0|      0|     0|    0|      0|      1|              0|       0|       0|  0|      0|      Jouko Lumme|               Sound|\n",
      "|  2|         Ariel|  1988-10-21|               fi|     73|     0|        0|        0|     1|    0|          0|    1|     0|      0|      0|     0|    0|      0|      1|              0|       0|       0|  0|      0|   Heikki Anttila|              Acting|\n",
      "|  2|         Ariel|  1988-10-21|               fi|     73|     0|        0|        0|     1|    0|          0|    1|     0|      0|      0|     0|    0|      0|      1|              0|       0|       0|  0|      0|     Erkki Astala|          Production|\n",
      "|  2|         Ariel|  1988-10-21|               fi|     73|     0|        0|        0|     1|    0|          0|    1|     0|      0|      0|     0|    0|      0|      1|              0|       0|       0|  0|      0|     Raija Talvio|             Editing|\n",
      "|  2|         Ariel|  1988-10-21|               fi|     73|     0|        0|        0|     1|    0|          0|    1|     0|      0|      0|     0|    0|      0|      1|              0|       0|       0|  0|      0|  Matti Pellonpää|              Acting|\n",
      "|  2|         Ariel|  1988-10-21|               fi|     73|     0|        0|        0|     1|    0|          0|    1|     0|      0|      0|     0|    0|      0|      1|              0|       0|       0|  0|      0|    Tuula Hilkamo|   Costume & Make-Up|\n",
      "|  2|         Ariel|  1988-10-21|               fi|     73|     0|        0|        0|     1|    0|          0|    1|     0|      0|      0|     0|    0|      0|      1|              0|       0|       0|  0|      0|   Heikki Ukkonen|          Production|\n",
      "|  2|         Ariel|  1988-10-21|               fi|     73|     0|        0|        0|     1|    0|          0|    1|     0|      0|      0|     0|    0|      0|      1|              0|       0|       0|  0|      0|Juuso Hirvikangas|              Acting|\n",
      "|  2|         Ariel|  1988-10-21|               fi|     73|     0|        0|        0|     1|    0|          0|    1|     0|      0|      0|     0|    0|      0|      1|              0|       0|       0|  0|      0|          Melrose|               Sound|\n",
      "|  2|         Ariel|  1988-10-21|               fi|     73|     0|        0|        0|     1|    0|          0|    1|     0|      0|      0|     0|    0|      0|      1|              0|       0|       0|  0|      0|    Jyrki Olsonen|              Acting|\n",
      "|  2|         Ariel|  1988-10-21|               fi|     73|     0|        0|        0|     1|    0|          0|    1|     0|      0|      0|     0|    0|      0|      1|              0|       0|       0|  0|      0|    Mikko Mattila|            Lighting|\n",
      "|  2|         Ariel|  1988-10-21|               fi|     73|     0|        0|        0|     1|    0|          0|    1|     0|      0|      0|     0|    0|      0|      1|              0|       0|       0|  0|      0|     Taisto Tammi|               Sound|\n",
      "|  2|         Ariel|  1988-10-21|               fi|     73|     0|        0|        0|     1|    0|          0|    1|     0|      0|      0|     0|    0|      0|      1|              0|       0|       0|  0|      0|   Jukka Anttonen|                Crew|\n",
      "|  2|         Ariel|  1988-10-21|               fi|     73|     0|        0|        0|     1|    0|          0|    1|     0|      0|      0|     0|    0|      0|      1|              0|       0|       0|  0|      0|   Markku Rantala|              Acting|\n",
      "|  2|         Ariel|  1988-10-21|               fi|     73|     0|        0|        0|     1|    0|          0|    1|     0|      0|      0|     0|    0|      0|      1|              0|       0|       0|  0|      0|       Olli Varja|            Lighting|\n",
      "|  2|         Ariel|  1988-10-21|               fi|     73|     0|        0|        0|     1|    0|          0|    1|     0|      0|      0|     0|    0|      0|      1|              0|       0|       0|  0|      0|      Turo Pajala|              Acting|\n",
      "|  2|         Ariel|  1988-10-21|               fi|     73|     0|        0|        0|     1|    0|          0|    1|     0|      0|      0|     0|    0|      0|      1|              0|       0|       0|  0|      0|Mikko Lyytikäinen|              Acting|\n",
      "|  2|         Ariel|  1988-10-21|               fi|     73|     0|        0|        0|     1|    0|          0|    1|     0|      0|      0|     0|    0|      0|      1|              0|       0|       0|  0|      0|   Jorma Markkula|              Acting|\n",
      "+---+--------------+------------+-----------------+-------+------+---------+---------+------+-----+-----------+-----+------+-------+-------+------+-----+-------+-------+---------------+--------+--------+---+-------+-----------------+--------------------+\n",
      "only showing top 20 rows\n",
      "\n"
     ]
    },
    {
     "name": "stderr",
     "output_type": "stream",
     "text": [
      "                                                                                \r"
     ]
    }
   ],
   "source": [
    "df.show()"
   ]
  },
  {
   "cell_type": "code",
   "execution_count": null,
   "metadata": {},
   "outputs": [],
   "source": []
  },
  {
   "cell_type": "code",
   "execution_count": null,
   "metadata": {},
   "outputs": [],
   "source": []
  }
 ],
 "metadata": {
  "kernelspec": {
   "display_name": "kjh-4pV5HF-C",
   "language": "python",
   "name": "python3"
  },
  "language_info": {
   "codemirror_mode": {
    "name": "ipython",
    "version": 3
   },
   "file_extension": ".py",
   "mimetype": "text/x-python",
   "name": "python",
   "nbconvert_exporter": "python",
   "pygments_lexer": "ipython3",
   "version": "3.12.1"
  }
 },
 "nbformat": 4,
 "nbformat_minor": 2
}
