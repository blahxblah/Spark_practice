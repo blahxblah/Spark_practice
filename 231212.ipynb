{
 "cells": [
  {
   "cell_type": "code",
   "execution_count": 111,
   "metadata": {},
   "outputs": [],
   "source": [
    "# 스파크 세션 생성\n",
    "from pyspark.sql import SparkSession\n",
    "\n",
    "spark = SparkSession.builder \\\n",
    "    .appName(\"Spark study - 231212\") \\\n",
    "    .getOrCreate()"
   ]
  },
  {
   "cell_type": "code",
   "execution_count": 112,
   "metadata": {},
   "outputs": [],
   "source": [
    "#df_bike = spark.read.option('multiline', 'true').json('file:///home/kjh/data/jss/bike.json')\n",
    "df_final = spark.read.option('multiline', 'true').json('file:///home/kjh/data/jss/json_cycle_finale.json')"
   ]
  },
  {
   "cell_type": "code",
   "execution_count": 113,
   "metadata": {},
   "outputs": [
    {
     "name": "stdout",
     "output_type": "stream",
     "text": [
      "root\n",
      " |-- response: struct (nullable = true)\n",
      " |    |-- body: struct (nullable = true)\n",
      " |    |    |-- dataType: string (nullable = true)\n",
      " |    |    |-- items: struct (nullable = true)\n",
      " |    |    |    |-- item: array (nullable = true)\n",
      " |    |    |    |    |-- element: struct (containsNull = true)\n",
      " |    |    |    |    |    |-- avgCm10Te: string (nullable = true)\n",
      " |    |    |    |    |    |-- avgCm20Te: string (nullable = true)\n",
      " |    |    |    |    |    |-- avgCm30Te: string (nullable = true)\n",
      " |    |    |    |    |    |-- avgCm5Te: string (nullable = true)\n",
      " |    |    |    |    |    |-- avgLmac: string (nullable = true)\n",
      " |    |    |    |    |    |-- avgM05Te: string (nullable = true)\n",
      " |    |    |    |    |    |-- avgM10Te: string (nullable = true)\n",
      " |    |    |    |    |    |-- avgM15Te: string (nullable = true)\n",
      " |    |    |    |    |    |-- avgM30Te: string (nullable = true)\n",
      " |    |    |    |    |    |-- avgM50Te: string (nullable = true)\n",
      " |    |    |    |    |    |-- avgPa: string (nullable = true)\n",
      " |    |    |    |    |    |-- avgPs: string (nullable = true)\n",
      " |    |    |    |    |    |-- avgPv: string (nullable = true)\n",
      " |    |    |    |    |    |-- avgRhm: string (nullable = true)\n",
      " |    |    |    |    |    |-- avgTa: string (nullable = true)\n",
      " |    |    |    |    |    |-- avgTca: string (nullable = true)\n",
      " |    |    |    |    |    |-- avgTd: string (nullable = true)\n",
      " |    |    |    |    |    |-- avgTs: string (nullable = true)\n",
      " |    |    |    |    |    |-- avgWs: string (nullable = true)\n",
      " |    |    |    |    |    |-- ddMefs: string (nullable = true)\n",
      " |    |    |    |    |    |-- ddMefsHrmt: string (nullable = true)\n",
      " |    |    |    |    |    |-- ddMes: string (nullable = true)\n",
      " |    |    |    |    |    |-- ddMesHrmt: string (nullable = true)\n",
      " |    |    |    |    |    |-- hr1MaxIcsr: string (nullable = true)\n",
      " |    |    |    |    |    |-- hr1MaxIcsrHrmt: string (nullable = true)\n",
      " |    |    |    |    |    |-- hr1MaxRn: string (nullable = true)\n",
      " |    |    |    |    |    |-- hr1MaxRnHrmt: string (nullable = true)\n",
      " |    |    |    |    |    |-- hr24SumRws: string (nullable = true)\n",
      " |    |    |    |    |    |-- iscs: string (nullable = true)\n",
      " |    |    |    |    |    |-- maxInsWs: string (nullable = true)\n",
      " |    |    |    |    |    |-- maxInsWsHrmt: string (nullable = true)\n",
      " |    |    |    |    |    |-- maxInsWsWd: string (nullable = true)\n",
      " |    |    |    |    |    |-- maxPs: string (nullable = true)\n",
      " |    |    |    |    |    |-- maxPsHrmt: string (nullable = true)\n",
      " |    |    |    |    |    |-- maxTa: string (nullable = true)\n",
      " |    |    |    |    |    |-- maxTaHrmt: string (nullable = true)\n",
      " |    |    |    |    |    |-- maxWd: string (nullable = true)\n",
      " |    |    |    |    |    |-- maxWs: string (nullable = true)\n",
      " |    |    |    |    |    |-- maxWsHrmt: string (nullable = true)\n",
      " |    |    |    |    |    |-- maxWsWd: string (nullable = true)\n",
      " |    |    |    |    |    |-- mi10MaxRn: string (nullable = true)\n",
      " |    |    |    |    |    |-- mi10MaxRnHrmt: string (nullable = true)\n",
      " |    |    |    |    |    |-- minPs: string (nullable = true)\n",
      " |    |    |    |    |    |-- minPsHrmt: string (nullable = true)\n",
      " |    |    |    |    |    |-- minRhm: string (nullable = true)\n",
      " |    |    |    |    |    |-- minRhmHrmt: string (nullable = true)\n",
      " |    |    |    |    |    |-- minTa: string (nullable = true)\n",
      " |    |    |    |    |    |-- minTaHrmt: string (nullable = true)\n",
      " |    |    |    |    |    |-- minTg: string (nullable = true)\n",
      " |    |    |    |    |    |-- n99Rn: string (nullable = true)\n",
      " |    |    |    |    |    |-- ssDur: string (nullable = true)\n",
      " |    |    |    |    |    |-- stnId: string (nullable = true)\n",
      " |    |    |    |    |    |-- stnNm: string (nullable = true)\n",
      " |    |    |    |    |    |-- sumDpthFhsc: string (nullable = true)\n",
      " |    |    |    |    |    |-- sumFogDur: string (nullable = true)\n",
      " |    |    |    |    |    |-- sumGsr: string (nullable = true)\n",
      " |    |    |    |    |    |-- sumLrgEv: string (nullable = true)\n",
      " |    |    |    |    |    |-- sumRn: string (nullable = true)\n",
      " |    |    |    |    |    |-- sumRnDur: string (nullable = true)\n",
      " |    |    |    |    |    |-- sumSmlEv: string (nullable = true)\n",
      " |    |    |    |    |    |-- sumSsHr: string (nullable = true)\n",
      " |    |    |    |    |    |-- tm: string (nullable = true)\n",
      " |    |    |-- numOfRows: long (nullable = true)\n",
      " |    |    |-- pageNo: long (nullable = true)\n",
      " |    |    |-- totalCount: long (nullable = true)\n",
      " |    |-- header: struct (nullable = true)\n",
      " |    |    |-- resultCode: string (nullable = true)\n",
      " |    |    |-- resultMsg: string (nullable = true)\n",
      "\n"
     ]
    }
   ],
   "source": [
    "# 파일의 구조 확인\n",
    "#df_bike.printSchema()\n",
    "df_final.printSchema()\n"
   ]
  },
  {
   "cell_type": "code",
   "execution_count": 114,
   "metadata": {},
   "outputs": [],
   "source": [
    "from pyspark.sql.functions import explode\n",
    "\n",
    "# 중첩된 JSON 구조 접근 및 explode 함수 사용\n",
    "#df_bike = df_bike.select(explode(\"useStatus.row\").alias(\"items\"))\n",
    "df_final = df_final.select(explode(\"response.body.items.item\").alias(\"items\"))"
   ]
  },
  {
   "cell_type": "code",
   "execution_count": 115,
   "metadata": {},
   "outputs": [
    {
     "name": "stdout",
     "output_type": "stream",
     "text": [
      "+--------------------+\n",
      "|               items|\n",
      "+--------------------+\n",
      "|{0.5, 1.9, 2.9, -...|\n",
      "|{0.7, 1.7, 2.6, 0...|\n",
      "|{1.0, 1.8, 2.7, 0...|\n",
      "|{1.1, 1.9, 2.7, 0...|\n",
      "|{1.0, 1.8, 2.6, 0...|\n",
      "|{1.3, 1.9, 2.6, 1...|\n",
      "|{3.8, 3.3, 3.6, 4...|\n",
      "|{4.6, 4.5, 4.7, 4...|\n",
      "|{2.9, 3.6, 4.3, 2...|\n",
      "|{1.8, 2.8, 3.6, 0...|\n",
      "|{1.6, 2.4, 3.2, 0...|\n",
      "|{1.6, 2.3, 3.0, 1...|\n",
      "|{1.1, 2.0, 2.9, 0...|\n",
      "|{0.5, 1.6, 2.5, -...|\n",
      "|{0.2, 1.2, 2.1, -...|\n",
      "|{0.1, 1.0, 1.9, -...|\n",
      "|{0.1, 1.0, 1.8, -...|\n",
      "|{0.1, 1.0, 1.8, -...|\n",
      "|{0.2, 1.0, 1.8, 0...|\n",
      "|{0.5, 1.2, 1.9, 0...|\n",
      "+--------------------+\n",
      "only showing top 20 rows\n",
      "\n"
     ]
    }
   ],
   "source": [
    "#df_bike.show()\n",
    "df_final.show()"
   ]
  },
  {
   "cell_type": "code",
   "execution_count": 116,
   "metadata": {},
   "outputs": [],
   "source": [
    "# items 컬럼의 필드를 별도의 컬럼으로 펼침\n",
    "df_final = df_final.select(\"items.*\")"
   ]
  },
  {
   "cell_type": "code",
   "execution_count": 117,
   "metadata": {},
   "outputs": [
    {
     "name": "stdout",
     "output_type": "stream",
     "text": [
      "root\n",
      " |-- avgCm10Te: string (nullable = true)\n",
      " |-- avgCm20Te: string (nullable = true)\n",
      " |-- avgCm30Te: string (nullable = true)\n",
      " |-- avgCm5Te: string (nullable = true)\n",
      " |-- avgLmac: string (nullable = true)\n",
      " |-- avgM05Te: string (nullable = true)\n",
      " |-- avgM10Te: string (nullable = true)\n",
      " |-- avgM15Te: string (nullable = true)\n",
      " |-- avgM30Te: string (nullable = true)\n",
      " |-- avgM50Te: string (nullable = true)\n",
      " |-- avgPa: string (nullable = true)\n",
      " |-- avgPs: string (nullable = true)\n",
      " |-- avgPv: string (nullable = true)\n",
      " |-- avgRhm: string (nullable = true)\n",
      " |-- avgTa: string (nullable = true)\n",
      " |-- avgTca: string (nullable = true)\n",
      " |-- avgTd: string (nullable = true)\n",
      " |-- avgTs: string (nullable = true)\n",
      " |-- avgWs: string (nullable = true)\n",
      " |-- ddMefs: string (nullable = true)\n",
      " |-- ddMefsHrmt: string (nullable = true)\n",
      " |-- ddMes: string (nullable = true)\n",
      " |-- ddMesHrmt: string (nullable = true)\n",
      " |-- hr1MaxIcsr: string (nullable = true)\n",
      " |-- hr1MaxIcsrHrmt: string (nullable = true)\n",
      " |-- hr1MaxRn: string (nullable = true)\n",
      " |-- hr1MaxRnHrmt: string (nullable = true)\n",
      " |-- hr24SumRws: string (nullable = true)\n",
      " |-- iscs: string (nullable = true)\n",
      " |-- maxInsWs: string (nullable = true)\n",
      " |-- maxInsWsHrmt: string (nullable = true)\n",
      " |-- maxInsWsWd: string (nullable = true)\n",
      " |-- maxPs: string (nullable = true)\n",
      " |-- maxPsHrmt: string (nullable = true)\n",
      " |-- maxTa: string (nullable = true)\n",
      " |-- maxTaHrmt: string (nullable = true)\n",
      " |-- maxWd: string (nullable = true)\n",
      " |-- maxWs: string (nullable = true)\n",
      " |-- maxWsHrmt: string (nullable = true)\n",
      " |-- maxWsWd: string (nullable = true)\n",
      " |-- mi10MaxRn: string (nullable = true)\n",
      " |-- mi10MaxRnHrmt: string (nullable = true)\n",
      " |-- minPs: string (nullable = true)\n",
      " |-- minPsHrmt: string (nullable = true)\n",
      " |-- minRhm: string (nullable = true)\n",
      " |-- minRhmHrmt: string (nullable = true)\n",
      " |-- minTa: string (nullable = true)\n",
      " |-- minTaHrmt: string (nullable = true)\n",
      " |-- minTg: string (nullable = true)\n",
      " |-- n99Rn: string (nullable = true)\n",
      " |-- ssDur: string (nullable = true)\n",
      " |-- stnId: string (nullable = true)\n",
      " |-- stnNm: string (nullable = true)\n",
      " |-- sumDpthFhsc: string (nullable = true)\n",
      " |-- sumFogDur: string (nullable = true)\n",
      " |-- sumGsr: string (nullable = true)\n",
      " |-- sumLrgEv: string (nullable = true)\n",
      " |-- sumRn: string (nullable = true)\n",
      " |-- sumRnDur: string (nullable = true)\n",
      " |-- sumSmlEv: string (nullable = true)\n",
      " |-- sumSsHr: string (nullable = true)\n",
      " |-- tm: string (nullable = true)\n",
      "\n"
     ]
    }
   ],
   "source": [
    "# 최종 데이터프레임 구조 확인 및 데이터 확인\n",
    "df_final.printSchema()"
   ]
  },
  {
   "cell_type": "code",
   "execution_count": 118,
   "metadata": {},
   "outputs": [
    {
     "name": "stdout",
     "output_type": "stream",
     "text": [
      "['avgCm10Te', 'avgCm20Te', 'avgCm30Te', 'avgCm5Te', 'avgLmac', 'avgM05Te', 'avgM10Te', 'avgM15Te', 'avgM30Te', 'avgM50Te', 'avgPa', 'avgPs', 'avgPv', 'avgRhm', 'avgTa', 'avgTca', 'avgTd', 'avgTs', 'avgWs', 'ddMefs', 'ddMefsHrmt', 'ddMes', 'ddMesHrmt', 'hr1MaxIcsr', 'hr1MaxIcsrHrmt', 'hr1MaxRn', 'hr1MaxRnHrmt', 'hr24SumRws', 'iscs', 'maxInsWs', 'maxInsWsHrmt', 'maxInsWsWd', 'maxPs', 'maxPsHrmt', 'maxTa', 'maxTaHrmt', 'maxWd', 'maxWs', 'maxWsHrmt', 'maxWsWd', 'mi10MaxRn', 'mi10MaxRnHrmt', 'minPs', 'minPsHrmt', 'minRhm', 'minRhmHrmt', 'minTa', 'minTaHrmt', 'minTg', 'n99Rn', 'ssDur', 'stnId', 'stnNm', 'sumDpthFhsc', 'sumFogDur', 'sumGsr', 'sumLrgEv', 'sumRn', 'sumRnDur', 'sumSmlEv', 'sumSsHr', 'tm']\n"
     ]
    }
   ],
   "source": [
    "print(df_final.columns)"
   ]
  },
  {
   "cell_type": "code",
   "execution_count": 119,
   "metadata": {},
   "outputs": [],
   "source": [
    "df_final = df_final.drop('iscs')"
   ]
  },
  {
   "cell_type": "code",
   "execution_count": 120,
   "metadata": {},
   "outputs": [
    {
     "name": "stdout",
     "output_type": "stream",
     "text": [
      "+---------+---------+---------+--------+-------+--------+--------+--------+--------+--------+------+------+-----+------+-----+------+-----+-----+-----+------+----------+-----+---------+----------+--------------+--------+------------+----------+--------+------------+----------+------+---------+-----+---------+-----+-----+---------+-------+---------+-------------+------+---------+------+----------+-----+---------+-----+-----+-----+-----+-----+-----------+---------+------+--------+-----+--------+--------+-------+----------+\n",
      "|avgCm10Te|avgCm20Te|avgCm30Te|avgCm5Te|avgLmac|avgM05Te|avgM10Te|avgM15Te|avgM30Te|avgM50Te| avgPa| avgPs|avgPv|avgRhm|avgTa|avgTca|avgTd|avgTs|avgWs|ddMefs|ddMefsHrmt|ddMes|ddMesHrmt|hr1MaxIcsr|hr1MaxIcsrHrmt|hr1MaxRn|hr1MaxRnHrmt|hr24SumRws|maxInsWs|maxInsWsHrmt|maxInsWsWd| maxPs|maxPsHrmt|maxTa|maxTaHrmt|maxWd|maxWs|maxWsHrmt|maxWsWd|mi10MaxRn|mi10MaxRnHrmt| minPs|minPsHrmt|minRhm|minRhmHrmt|minTa|minTaHrmt|minTg|n99Rn|ssDur|stnId|stnNm|sumDpthFhsc|sumFogDur|sumGsr|sumLrgEv|sumRn|sumRnDur|sumSmlEv|sumSsHr|        tm|\n",
      "+---------+---------+---------+--------+-------+--------+--------+--------+--------+--------+------+------+-----+------+-----+------+-----+-----+-----+------+----------+-----+---------+----------+--------------+--------+------------+----------+--------+------------+----------+------+---------+-----+---------+-----+-----+---------+-------+---------+-------------+------+---------+------+----------+-----+---------+-----+-----+-----+-----+-----+-----------+---------+------+--------+-----+--------+--------+-------+----------+\n",
      "|      0.5|      1.9|      2.9|    -0.4|    8.9|     4.1|     7.2|     9.8|    15.3|    17.0|1021.1|1032.1|  3.4|  64.4| -2.2|   8.9| -8.1| -0.9|  0.6|   0.0|          |  0.0|         |       1.0|          1100|        |            |       509|     4.8|        0906|        50|1034.0|     0952|  0.3|     1457|   50|  2.6|     0904|     50|         |             |1031.2|     1418|    37|      0002| -6.5|     0001| -6.6|  0.1|  9.6|  108| 서울|        0.0|         |  4.53|     0.4|  0.1|    9.83|     0.6|    0.8|2020-01-01|\n",
      "|      0.7|      1.7|      2.6|     0.0|    7.9|     3.7|     7.0|     9.7|    15.2|    17.0|1018.7|1029.6|  4.3|  65.4|  1.0|   7.9| -4.8|  0.1|  1.2|      |          |     |         |      0.67|          1200|        |            |       996|     6.7|        1437|       250|1031.3|     0001|  3.8|     1500|   50|  4.0|     1525|    290|         |             |1028.2|     1355|    54|      1212| -0.7|     0001| -7.0|     |  9.6|  108| 서울|           |         |  3.47|     0.7|     |        |     1.0|    0.0|2020-01-02|\n",
      "|      1.0|      1.8|      2.7|     0.3|    0.0|     3.6|     6.8|     9.6|    15.1|    16.9|1016.4|1027.3|  3.3|  56.9| -0.1|   0.0| -8.4| -0.4|  1.7|      |          |     |         |       1.7|          1300|        |            |      1508|     5.8|        1122|       270|1029.0|     0954|  4.6|     1547|  290|  3.5|     1422|    270|         |             |1025.8|     1438|    26|      1430| -3.4|     0807| -9.0|     |  9.7|  108| 서울|           |         |  10.1|     1.4|     |        |     1.9|    8.8|2020-01-03|\n",
      "|      1.1|      1.9|      2.7|     0.4|    2.1|     3.6|     6.7|     9.5|    15.1|    16.9|1015.4|1026.2|  3.3|  50.8|  1.2|   2.1| -8.2|  0.0|  1.9|      |          |     |         |      1.68|          1200|        |            |      1623|     8.5|        1206|       340|1028.4|     2339|  6.1|     1450|   50|  4.5|     1228|    320|         |             |1024.4|     1410|    32|      1457| -2.8|     0512| -8.8|     |  9.7|  108| 서울|           |         |  9.29|     1.5|     |        |     2.1|    7.9|2020-01-04|\n",
      "|      1.0|      1.8|      2.6|     0.2|    0.0|     3.5|     6.5|     9.3|    15.0|    16.9|1019.7|1030.6|  3.0|  45.6|  1.3|   3.9| -9.5| -0.5|  1.1|      |          |     |         |      1.66|          1100|        |            |       985|     4.4|        1312|       180|1032.6|     0958|  6.6|     1453|   50|  2.9|     2335|     70|         |             |1028.1|     0010|    28|      1518| -3.2|     0821| -9.9|     |  9.7|  108| 서울|           |         |   9.1|     1.5|     |        |     2.1|    7.1|2020-01-05|\n",
      "|      1.3|      1.9|      2.6|     1.0|    7.5|     3.4|     6.4|     9.2|    14.9|    16.8|1015.3|1026.0|  5.0|  65.4|  3.1|   9.8| -3.5|  1.0|  3.1|      |          |     |         |      0.64|          1100|        |            |      2705|     8.8|        1505|        70|1030.3|     0032|  4.6|     1158|   70|  5.4|     1739|     70|         |             |1020.5|     2400|    39|      0430|  0.6|     0053| -3.4| 17.8|  9.7|  108| 서울|           |         |  2.03|     0.7|  1.8|   14.33|     1.0|    0.0|2020-01-06|\n",
      "|      3.8|      3.3|      3.6|     4.5|    7.6|     3.7|     6.4|     9.2|    15.0|    16.9| 999.3|1009.7|  9.1|  95.0|  6.3|  10.0|  5.5|  5.1|  4.0|      |          |     |         |      0.17|          1100|        |            |      3413|     9.5|        2015|        90|1020.5|     0001|  7.7|     2350|   70|  6.3|     1846|     70|         |             | 997.8|     2347|    93|      1031|  4.2|     0001|  3.6| 41.9|  9.7|  108| 서울|           |         |  0.75|     0.3| 46.3|    24.0|     0.5|    0.0|2020-01-07|\n",
      "|      4.6|      4.5|      4.7|     4.5|    8.5|     4.4|     6.0|     9.0|    14.8|    16.7|1003.6|1014.3|  6.3|  86.1|  2.4|   9.6|  0.3|  4.0|  3.3|      |          |     |         |      0.31|          1400|        |            |      2875|    11.8|        0049|       250|1023.3|     2350|  8.9|     0047|  270|  6.3|     0550|    270|         |             | 997.4|     0024|    73|      2352| -0.4|     2336| -0.6|  0.0|  9.7|  108| 서울|           |         |  1.84|     0.5| 11.6|     9.5|     0.8|    0.0|2020-01-08|\n",
      "|      2.9|      3.6|      4.3|     2.2|    1.6|     4.5|     5.9|     8.1|    14.6|    16.7|1013.4|1024.3|  3.7|  65.3| -1.2|   1.6| -6.9|  1.3|  2.3|      |          |     |         |      1.75|          1200|        |            |      1971|     7.2|        1049|       270|1025.9|     2231|  2.0|     1534|  290|  4.3|     1223|    320|         |             |1022.8|     1417|    47|      1419| -3.1|     2349| -7.7|     |  9.7|  108| 서울|           |         |  9.14|     1.1|     |        |     1.5|    8.7|2020-01-09|\n",
      "|      1.8|      2.8|      3.6|     0.9|    0.0|     4.2|     6.1|     8.1|    14.3|    16.7|1013.0|1023.9|  3.6|  62.9| -0.6|   3.1| -7.1|  0.2|  1.5|      |          |     |         |      1.66|          1300|        |            |      1300|     5.5|        1810|       320|1026.2|     0922|  4.2|     1534|  290|  3.7|     1408|    320|         |             |1022.1|     1615|    36|      1644| -4.3|     0453| -7.8|     |  9.8|  108| 서울|           |         |  9.39|     1.1|     |        |     1.6|    7.5|2020-01-10|\n",
      "|      1.6|      2.4|      3.2|     0.9|    1.0|     3.8|     6.1|     8.2|    14.2|    16.6|1009.4|1020.3|  3.6|  60.9| -0.1|   3.6| -7.0|  0.1|  1.9|      |          |     |         |      1.84|          1200|        |            |      1619|     7.0|        1949|       320|1022.6|     1000|  3.9|     1334|  290|  4.8|     1956|    340|         |             |1018.5|     1659|    35|      1431| -2.6|     0806| -7.5|     |  9.8|  108| 서울|           |         | 10.13|     1.4|     |        |     2.0|    8.1|2020-01-11|\n",
      "|      1.6|      2.3|      3.0|     1.1|    2.1|     3.6|     6.0|     8.2|    14.2|    16.6|1007.5|1018.4|  3.5|  61.5| -1.0|   3.6| -7.7|  0.4|  2.4|      |          |     |         |      1.83|          1200|        |            |      2031|     6.8|        1714|       290|1020.6|     2309|  2.8|     1551|  290|  4.1|     1216|    290|         |             |1016.8|     1350|    38|      1508| -3.5|     0633| -6.3|     |  9.8|  108| 서울|           |         | 10.33|     1.3|     |        |     1.8|    8.6|2020-01-12|\n",
      "|      1.1|      2.0|      2.9|     0.1|    0.6|     3.5|     5.9|     8.2|    14.1|    16.6|1012.4|1023.4|  2.5|  51.0| -2.9|   1.4|-12.2| -1.3|  2.3|      |          |     |         |      1.92|          1200|        |            |      1992|     8.3|        1404|       270|1026.0|     2233|  0.2|     1422|  290|  4.9|     1218|    320|         |             |1020.0|     0103|    28|      1607| -4.7|     0632|-10.5|     |  9.8|  108| 서울|           |         | 11.15|     1.4|     |        |     2.0|    8.1|2020-01-13|\n",
      "|      0.5|      1.6|      2.5|    -0.4|    1.0|     3.2|     5.8|     8.2|    14.1|    16.5|1015.0|1026.0|  2.3|  45.3| -2.3|   1.0|-13.0| -1.6|  1.6|      |          |     |         |      1.78|          1200|        |            |      1387|     5.5|        1516|       320|1028.1|     2400|  2.6|     1413|  290|  3.3|     1428|    320|         |             |1024.2|     1418|    20|      1620| -5.7|     0637|-10.4|     |  9.8|  108| 서울|           |         | 10.06|     1.4|     |        |     2.0|    8.5|2020-01-14|\n",
      "|      0.2|      1.2|      2.1|    -0.8|    0.0|     3.0|     5.7|     8.2|    14.0|    16.5|1017.6|1028.7|  2.2|  44.8| -2.7|   0.1|-13.4| -2.0|  1.9|      |          |     |         |      1.94|          1200|        |            |      1673|     8.0|        1411|       290|1030.0|     1045|  2.2|     1510|  270|  4.5|     1418|    320|         |             |1027.4|     1453|    24|      1322| -6.4|     0722|-10.7|     |  9.9|  108| 서울|           |         |  11.6|     1.5|     |        |     2.2|    9.2|2020-01-15|\n",
      "|      0.1|      1.0|      1.9|    -0.7|    0.0|     2.9|     5.7|     8.2|    13.9|    16.4|1016.3|1027.3|  2.3|  43.0| -1.7|   5.0|-13.0| -1.6|  1.6|      |          |     |         |      1.89|          1200|        |            |      1417|     6.9|        1709|       320|1029.3|     0947|  3.2|     1430|  320|  4.4|     1714|    340|         |             |1025.3|     1453|    24|      1427| -5.5|     0816|-10.9|     |  9.9|  108| 서울|           |         | 10.75|     1.5|     |        |     2.1|    8.3|2020-01-16|\n",
      "|      0.1|      1.0|      1.8|    -0.5|    0.0|     2.7|     5.5|     8.1|    13.8|    16.4|1012.6|1023.5|  2.5|  43.9| -0.6|   4.8|-11.7| -0.8|  1.5|      |          |     |         |      1.73|          1200|        |            |      1311|     6.7|        1952|       320|1025.7|     0241|  4.9|     1449|  290|  3.8|     1927|    320|         |             |1021.6|     1728|    27|      1437| -4.8|     0720| -9.0|     |  9.9|  108| 서울|           |         |  9.85|     1.5|     |        |     2.1|    7.6|2020-01-17|\n",
      "|      0.1|      1.0|      1.8|    -0.3|    0.0|     2.7|     5.5|     8.0|    13.8|    16.4|1010.9|1021.7|  2.9|  48.1|  0.3|   2.1|-10.0| -0.6|  1.8|      |          |     |         |       1.9|          1200|        |            |      1569|     6.8|        1636|       290|1023.1|     1019|  5.9|     1503|  270|  4.2|     1739|    270|         |             |1020.2|     1447|    17|      1622| -4.1|     0802| -9.1|     |  9.9|  108| 서울|           |         | 11.38|     1.7|     |        |     2.4|    9.1|2020-01-18|\n",
      "|      0.2|      1.0|      1.8|     0.0|    3.3|     2.6|     5.4|     7.9|    13.8|    16.3|1008.0|1018.7|  4.4|  62.8|  1.9|   4.8| -4.5|  0.5|  2.2|   0.3|      0955|  0.3|     0955|      1.37|          1300|        |            |      1862|    10.9|        1243|       290|1020.9|     0001|  5.3|     1510|  270|  6.1|     1459|    320|         |             |1016.6|     1450|    42|      1551| -0.4|     0003| -5.6|  0.6|  9.9|  108| 서울|        0.3|         |  6.08|     1.1|  0.6|    1.58|     1.5|    4.8|2020-01-19|\n",
      "|      0.5|      1.2|      1.9|     0.3|    2.3|     2.5|     5.3|     7.8|    13.6|    16.2|1012.2|1023.0|  3.0|  46.8|  0.7|   2.3| -9.7| -0.1|  2.5|      |          |     |         |      1.92|          1200|        |            |      2202|    10.4|        1759|       290|1028.5|     2358|  5.5|     1313|  270|  5.7|     1636|    270|         |             |1020.3|     0416|    24|      1216| -3.3|     2324| -8.2|     | 10.0|  108| 서울|           |         | 10.24|     1.7|     |        |     2.4|    8.7|2020-01-20|\n",
      "+---------+---------+---------+--------+-------+--------+--------+--------+--------+--------+------+------+-----+------+-----+------+-----+-----+-----+------+----------+-----+---------+----------+--------------+--------+------------+----------+--------+------------+----------+------+---------+-----+---------+-----+-----+---------+-------+---------+-------------+------+---------+------+----------+-----+---------+-----+-----+-----+-----+-----+-----------+---------+------+--------+-----+--------+--------+-------+----------+\n",
      "only showing top 20 rows\n",
      "\n"
     ]
    }
   ],
   "source": [
    "df_final.show()"
   ]
  },
  {
   "cell_type": "code",
   "execution_count": 121,
   "metadata": {},
   "outputs": [],
   "source": [
    "from pyspark.sql.functions import col\n",
    "\n",
    "df_fin = df_final\n",
    "data_types = {\n",
    "    \"tm\": \"date\",  # 일시는 날짜 형식이므로 문자열로 처리\n",
    "    \"stnId\": \"int\",  # 지점 번호는 정수\n",
    "    \"avgM15Te\": \"float\",  # 지중온도는 소수점을 포함할 수 있으므로 float\n",
    "    \"n99Rn\": \"float\",  # 강수량은 소수점을 포함할 수 있음\n",
    "    \"minPs\": \"float\",  # 기압은 소수점을 포함할 수 있음\n",
    "    \"avgRhm\": \"float\",  # 상대습도는 소수점을 포함할 수 있음\n",
    "    \"minRhmHrmt\": \"int\",  # 시각은 정수로 처리\n",
    "    \"maxInsWsWd\": \"int\",  # 풍향은 정수로 처리\n",
    "    \"avgTs\": \"float\",  # 지면온도는 소수점을 포함할 수 있음\n",
    "    \"maxInsWsHrmt\": \"int\",  # 시각은 정수로 처리\n",
    "    \"ddMesHrmt\": \"int\",  # 시각은 정수로 처리\n",
    "    \"maxPsHrmt\": \"int\",  # 시각은 정수로 처리\n",
    "    \"avgPv\": \"float\",  # 증기압은 소수점을 포함할 수 있음\n",
    "    \"minRhm\": \"float\",  # 상대습도는 소수점을 포함할 수 있음\n",
    "    \"sumSsHr\": \"float\",  # 일조 시간은 소수점을 포함할 수 있음\n",
    "    \"ssDur\": \"float\",  # 가조시간은 소수점을 포함할 수 있음\n",
    "    \"avgPs\": \"float\",  # 해면기압은 소수점을 포함할 수 있음\n",
    "    \"maxWs\": \"float\",  # 풍속은 소수점을 포함할 수 있음\n",
    "    \"avgCm5Te\": \"float\",  # 지중온도는 소수점을 포함할 수 있음\n",
    "    \"minTg\": \"float\",  # 초상온도는 소수점을 포함할 수 있음\n",
    "    \"maxWsWd\": \"int\",  # 풍향은 정수로 처리\n",
    "    \"sumSmlEv\": \"float\",  # 증발량은 소수점을 포함할 수 있음\n",
    "    \"avgTca\": \"float\",  # 전운량은 소수점을 포함할 수 있음\n",
    "    \"hr1MaxIcsr\": \"float\",  # 일사량은 소수점을 포함할 수 있음\n",
    "    \"avgTd\": \"float\",  # 이슬점온도는 소수점을 포함할 수 있음\n",
    "    \"maxPs\": \"float\",  # 해면기압은 소수점을 포함할 수 있음\n",
    "    \"avgCm20Te\": \"float\",  # 지중온도는 소수점을 포함할 수 있음\n",
    "    \"ddMes\": \"float\",  # 적설량은 소수점을 포함할 수 있음\n",
    "    \"minTa\": \"float\",  # 기온은 소수점을 포함할 수 있음\n",
    "    \"minPsHrmt\": \"int\",  # 시각은 정수로 처리\n",
    "    \"avgM50Te\": \"float\",  # 지중온도는 소수점을 포함할 수 있음\n",
    "    \"maxTa\": \"float\",  # 기온은 소수점을 포함할 수 있음\n",
    "    \"hr24SumRws\": \"int\",  # 풍정합은 정수로 처리\n",
    "    \"avgM30Te\": \"float\",  # 지중온도는 소수점을 포함할 수 있음\n",
    "    \"avgCm10Te\": \"float\",  # 지중온도는 소수점을 포함할 수 있음\n",
    "    \"avgM05Te\": \"float\",  # 지중온도는 소수점을 포함할 수 있음\n",
    "    \"hr1MaxIcsrHrmt\": \"int\",  # 시각은 정수로 처리\n",
    "    \"maxInsWs\": \"float\",  # 풍속은 소수점을 포함할 수 있음\n",
    "    \"avgTca\": \"float\",  # 전운량은 소수점을 포함할 수 있음\n",
    "    \"avgCm30Te\": \"float\",  # 지중온도는 소수점을 포함할 수 있음\n",
    "    \"avgM10Te\": \"float\",  # 지중온도는 소수점을 포함할 수 있음\n",
    "    \"sumGsr\": \"float\",  # 일사량은 소수점을 포함할 수 있음\n",
    "    \"maxWsHrmt\": \"int\",  # 시각은 정수로 처리\n",
    "    \"avgPa\": \"float\",  # 현지기압은 소수점을 포함할 수 있음\n",
    "    \"avgWs\": \"float\",  # 풍속은 소수점을 포함할 수 있음\n",
    "    \"sumFogDur\": \"float\",  # 안개 지속 시간은 소수점을 포함할 수 있음\n",
    "    \"sumLrgEv\": \"float\",  # 증발량은 소수점을 포함할 수 있음\n",
    "    \"sumDpthFhsc\": \"float\",  # 신적설은 소수점을 포함할 수 있음\n",
    "    \"ddMefs\": \"float\",  # 적설량은 소수점을 포함할 수 있음\n",
    "    \"ddMefsHrmt\": \"int\",  # 시각은 정수로 처리\n",
    "    \"sumRn\": \"float\",  # 강수량은 소수점을 포함할 수 있음\n",
    "    \"hr1MaxRnHrmt\": \"int\",  # 시각은 정수로 처리\n",
    "    \"hr1MaxRn\": \"float\",  # 강수량은 소수점을 포함할 수 있음\n",
    "    \"mi10MaxRnHrmt\": \"int\",  # 시각은 정수로 처리\n",
    "    \"mi10MaxRn\": \"float\",  # 강수량은 소수점을 포함할 수 있음\n",
    "    \"avgTa\": \"float\",  # 기온은 소수점을 포함할 수 있음\n",
    "    \"minTaHrmt\": \"int\",  # 시각은 정수로 처리\n",
    "    \"maxTaHrmt\": \"int\",  # 시각은 정수로 처리\n",
    "    \"maxWd\": \"int\",  # 풍향은 정수로 처리\n",
    "    \"avgLmac\": \"float\"  # 중하층운량은 소수점을 포함할 수 있음\n",
    "}\n",
    "\n",
    "\n",
    "for column, data_type in data_types.items():\n",
    "    df_fin = df_fin.withColumn(column, col(column).cast(data_type))"
   ]
  },
  {
   "cell_type": "code",
   "execution_count": 122,
   "metadata": {},
   "outputs": [
    {
     "name": "stdout",
     "output_type": "stream",
     "text": [
      "root\n",
      " |-- avgCm10Te: float (nullable = true)\n",
      " |-- avgCm20Te: float (nullable = true)\n",
      " |-- avgCm30Te: float (nullable = true)\n",
      " |-- avgCm5Te: float (nullable = true)\n",
      " |-- avgLmac: float (nullable = true)\n",
      " |-- avgM05Te: float (nullable = true)\n",
      " |-- avgM10Te: float (nullable = true)\n",
      " |-- avgM15Te: float (nullable = true)\n",
      " |-- avgM30Te: float (nullable = true)\n",
      " |-- avgM50Te: float (nullable = true)\n",
      " |-- avgPa: float (nullable = true)\n",
      " |-- avgPs: float (nullable = true)\n",
      " |-- avgPv: float (nullable = true)\n",
      " |-- avgRhm: float (nullable = true)\n",
      " |-- avgTa: float (nullable = true)\n",
      " |-- avgTca: float (nullable = true)\n",
      " |-- avgTd: float (nullable = true)\n",
      " |-- avgTs: float (nullable = true)\n",
      " |-- avgWs: float (nullable = true)\n",
      " |-- ddMefs: float (nullable = true)\n",
      " |-- ddMefsHrmt: integer (nullable = true)\n",
      " |-- ddMes: float (nullable = true)\n",
      " |-- ddMesHrmt: integer (nullable = true)\n",
      " |-- hr1MaxIcsr: float (nullable = true)\n",
      " |-- hr1MaxIcsrHrmt: integer (nullable = true)\n",
      " |-- hr1MaxRn: float (nullable = true)\n",
      " |-- hr1MaxRnHrmt: integer (nullable = true)\n",
      " |-- hr24SumRws: integer (nullable = true)\n",
      " |-- maxInsWs: float (nullable = true)\n",
      " |-- maxInsWsHrmt: integer (nullable = true)\n",
      " |-- maxInsWsWd: integer (nullable = true)\n",
      " |-- maxPs: float (nullable = true)\n",
      " |-- maxPsHrmt: integer (nullable = true)\n",
      " |-- maxTa: float (nullable = true)\n",
      " |-- maxTaHrmt: integer (nullable = true)\n",
      " |-- maxWd: integer (nullable = true)\n",
      " |-- maxWs: float (nullable = true)\n",
      " |-- maxWsHrmt: integer (nullable = true)\n",
      " |-- maxWsWd: integer (nullable = true)\n",
      " |-- mi10MaxRn: float (nullable = true)\n",
      " |-- mi10MaxRnHrmt: integer (nullable = true)\n",
      " |-- minPs: float (nullable = true)\n",
      " |-- minPsHrmt: integer (nullable = true)\n",
      " |-- minRhm: float (nullable = true)\n",
      " |-- minRhmHrmt: integer (nullable = true)\n",
      " |-- minTa: float (nullable = true)\n",
      " |-- minTaHrmt: integer (nullable = true)\n",
      " |-- minTg: float (nullable = true)\n",
      " |-- n99Rn: float (nullable = true)\n",
      " |-- ssDur: float (nullable = true)\n",
      " |-- stnId: integer (nullable = true)\n",
      " |-- stnNm: string (nullable = true)\n",
      " |-- sumDpthFhsc: float (nullable = true)\n",
      " |-- sumFogDur: float (nullable = true)\n",
      " |-- sumGsr: float (nullable = true)\n",
      " |-- sumLrgEv: float (nullable = true)\n",
      " |-- sumRn: float (nullable = true)\n",
      " |-- sumRnDur: string (nullable = true)\n",
      " |-- sumSmlEv: float (nullable = true)\n",
      " |-- sumSsHr: float (nullable = true)\n",
      " |-- tm: date (nullable = true)\n",
      "\n"
     ]
    }
   ],
   "source": [
    "df_fin.printSchema()"
   ]
  },
  {
   "cell_type": "code",
   "execution_count": 123,
   "metadata": {},
   "outputs": [
    {
     "name": "stdout",
     "output_type": "stream",
     "text": [
      "+---------+---------+---------+--------+-------+--------+--------+--------+--------+--------+------+------+-----+------+-----+------+-----+-----+-----+------+----------+-----+---------+----------+--------------+--------+------------+----------+--------+------------+----------+------+---------+-----+---------+-----+-----+---------+-------+---------+-------------+------+---------+------+----------+-----+---------+-----+-----+-----+-----+-----+-----------+---------+------+--------+-----+--------+--------+-------+----------+\n",
      "|avgCm10Te|avgCm20Te|avgCm30Te|avgCm5Te|avgLmac|avgM05Te|avgM10Te|avgM15Te|avgM30Te|avgM50Te| avgPa| avgPs|avgPv|avgRhm|avgTa|avgTca|avgTd|avgTs|avgWs|ddMefs|ddMefsHrmt|ddMes|ddMesHrmt|hr1MaxIcsr|hr1MaxIcsrHrmt|hr1MaxRn|hr1MaxRnHrmt|hr24SumRws|maxInsWs|maxInsWsHrmt|maxInsWsWd| maxPs|maxPsHrmt|maxTa|maxTaHrmt|maxWd|maxWs|maxWsHrmt|maxWsWd|mi10MaxRn|mi10MaxRnHrmt| minPs|minPsHrmt|minRhm|minRhmHrmt|minTa|minTaHrmt|minTg|n99Rn|ssDur|stnId|stnNm|sumDpthFhsc|sumFogDur|sumGsr|sumLrgEv|sumRn|sumRnDur|sumSmlEv|sumSsHr|        tm|\n",
      "+---------+---------+---------+--------+-------+--------+--------+--------+--------+--------+------+------+-----+------+-----+------+-----+-----+-----+------+----------+-----+---------+----------+--------------+--------+------------+----------+--------+------------+----------+------+---------+-----+---------+-----+-----+---------+-------+---------+-------------+------+---------+------+----------+-----+---------+-----+-----+-----+-----+-----+-----------+---------+------+--------+-----+--------+--------+-------+----------+\n",
      "|      0.5|      1.9|      2.9|    -0.4|    8.9|     4.1|     7.2|     9.8|    15.3|    17.0|1021.1|1032.1|  3.4|  64.4| -2.2|   8.9| -8.1| -0.9|  0.6|   0.0|      null|  0.0|     null|       1.0|          1100|    null|        null|       509|     4.8|         906|        50|1034.0|      952|  0.3|     1457|   50|  2.6|      904|     50|     null|         null|1031.2|     1418|  37.0|         2| -6.5|        1| -6.6|  0.1|  9.6|  108| 서울|        0.0|     null|  4.53|     0.4|  0.1|    9.83|     0.6|    0.8|2020-01-01|\n",
      "|      0.7|      1.7|      2.6|     0.0|    7.9|     3.7|     7.0|     9.7|    15.2|    17.0|1018.7|1029.6|  4.3|  65.4|  1.0|   7.9| -4.8|  0.1|  1.2|  null|      null| null|     null|      0.67|          1200|    null|        null|       996|     6.7|        1437|       250|1031.3|        1|  3.8|     1500|   50|  4.0|     1525|    290|     null|         null|1028.2|     1355|  54.0|      1212| -0.7|        1| -7.0| null|  9.6|  108| 서울|       null|     null|  3.47|     0.7| null|        |     1.0|    0.0|2020-01-02|\n",
      "|      1.0|      1.8|      2.7|     0.3|    0.0|     3.6|     6.8|     9.6|    15.1|    16.9|1016.4|1027.3|  3.3|  56.9| -0.1|   0.0| -8.4| -0.4|  1.7|  null|      null| null|     null|       1.7|          1300|    null|        null|      1508|     5.8|        1122|       270|1029.0|      954|  4.6|     1547|  290|  3.5|     1422|    270|     null|         null|1025.8|     1438|  26.0|      1430| -3.4|      807| -9.0| null|  9.7|  108| 서울|       null|     null|  10.1|     1.4| null|        |     1.9|    8.8|2020-01-03|\n",
      "|      1.1|      1.9|      2.7|     0.4|    2.1|     3.6|     6.7|     9.5|    15.1|    16.9|1015.4|1026.2|  3.3|  50.8|  1.2|   2.1| -8.2|  0.0|  1.9|  null|      null| null|     null|      1.68|          1200|    null|        null|      1623|     8.5|        1206|       340|1028.4|     2339|  6.1|     1450|   50|  4.5|     1228|    320|     null|         null|1024.4|     1410|  32.0|      1457| -2.8|      512| -8.8| null|  9.7|  108| 서울|       null|     null|  9.29|     1.5| null|        |     2.1|    7.9|2020-01-04|\n",
      "|      1.0|      1.8|      2.6|     0.2|    0.0|     3.5|     6.5|     9.3|    15.0|    16.9|1019.7|1030.6|  3.0|  45.6|  1.3|   3.9| -9.5| -0.5|  1.1|  null|      null| null|     null|      1.66|          1100|    null|        null|       985|     4.4|        1312|       180|1032.6|      958|  6.6|     1453|   50|  2.9|     2335|     70|     null|         null|1028.1|       10|  28.0|      1518| -3.2|      821| -9.9| null|  9.7|  108| 서울|       null|     null|   9.1|     1.5| null|        |     2.1|    7.1|2020-01-05|\n",
      "|      1.3|      1.9|      2.6|     1.0|    7.5|     3.4|     6.4|     9.2|    14.9|    16.8|1015.3|1026.0|  5.0|  65.4|  3.1|   9.8| -3.5|  1.0|  3.1|  null|      null| null|     null|      0.64|          1100|    null|        null|      2705|     8.8|        1505|        70|1030.3|       32|  4.6|     1158|   70|  5.4|     1739|     70|     null|         null|1020.5|     2400|  39.0|       430|  0.6|       53| -3.4| 17.8|  9.7|  108| 서울|       null|     null|  2.03|     0.7|  1.8|   14.33|     1.0|    0.0|2020-01-06|\n",
      "|      3.8|      3.3|      3.6|     4.5|    7.6|     3.7|     6.4|     9.2|    15.0|    16.9| 999.3|1009.7|  9.1|  95.0|  6.3|  10.0|  5.5|  5.1|  4.0|  null|      null| null|     null|      0.17|          1100|    null|        null|      3413|     9.5|        2015|        90|1020.5|        1|  7.7|     2350|   70|  6.3|     1846|     70|     null|         null| 997.8|     2347|  93.0|      1031|  4.2|        1|  3.6| 41.9|  9.7|  108| 서울|       null|     null|  0.75|     0.3| 46.3|    24.0|     0.5|    0.0|2020-01-07|\n",
      "|      4.6|      4.5|      4.7|     4.5|    8.5|     4.4|     6.0|     9.0|    14.8|    16.7|1003.6|1014.3|  6.3|  86.1|  2.4|   9.6|  0.3|  4.0|  3.3|  null|      null| null|     null|      0.31|          1400|    null|        null|      2875|    11.8|          49|       250|1023.3|     2350|  8.9|       47|  270|  6.3|      550|    270|     null|         null| 997.4|       24|  73.0|      2352| -0.4|     2336| -0.6|  0.0|  9.7|  108| 서울|       null|     null|  1.84|     0.5| 11.6|     9.5|     0.8|    0.0|2020-01-08|\n",
      "|      2.9|      3.6|      4.3|     2.2|    1.6|     4.5|     5.9|     8.1|    14.6|    16.7|1013.4|1024.3|  3.7|  65.3| -1.2|   1.6| -6.9|  1.3|  2.3|  null|      null| null|     null|      1.75|          1200|    null|        null|      1971|     7.2|        1049|       270|1025.9|     2231|  2.0|     1534|  290|  4.3|     1223|    320|     null|         null|1022.8|     1417|  47.0|      1419| -3.1|     2349| -7.7| null|  9.7|  108| 서울|       null|     null|  9.14|     1.1| null|        |     1.5|    8.7|2020-01-09|\n",
      "|      1.8|      2.8|      3.6|     0.9|    0.0|     4.2|     6.1|     8.1|    14.3|    16.7|1013.0|1023.9|  3.6|  62.9| -0.6|   3.1| -7.1|  0.2|  1.5|  null|      null| null|     null|      1.66|          1300|    null|        null|      1300|     5.5|        1810|       320|1026.2|      922|  4.2|     1534|  290|  3.7|     1408|    320|     null|         null|1022.1|     1615|  36.0|      1644| -4.3|      453| -7.8| null|  9.8|  108| 서울|       null|     null|  9.39|     1.1| null|        |     1.6|    7.5|2020-01-10|\n",
      "|      1.6|      2.4|      3.2|     0.9|    1.0|     3.8|     6.1|     8.2|    14.2|    16.6|1009.4|1020.3|  3.6|  60.9| -0.1|   3.6| -7.0|  0.1|  1.9|  null|      null| null|     null|      1.84|          1200|    null|        null|      1619|     7.0|        1949|       320|1022.6|     1000|  3.9|     1334|  290|  4.8|     1956|    340|     null|         null|1018.5|     1659|  35.0|      1431| -2.6|      806| -7.5| null|  9.8|  108| 서울|       null|     null| 10.13|     1.4| null|        |     2.0|    8.1|2020-01-11|\n",
      "|      1.6|      2.3|      3.0|     1.1|    2.1|     3.6|     6.0|     8.2|    14.2|    16.6|1007.5|1018.4|  3.5|  61.5| -1.0|   3.6| -7.7|  0.4|  2.4|  null|      null| null|     null|      1.83|          1200|    null|        null|      2031|     6.8|        1714|       290|1020.6|     2309|  2.8|     1551|  290|  4.1|     1216|    290|     null|         null|1016.8|     1350|  38.0|      1508| -3.5|      633| -6.3| null|  9.8|  108| 서울|       null|     null| 10.33|     1.3| null|        |     1.8|    8.6|2020-01-12|\n",
      "|      1.1|      2.0|      2.9|     0.1|    0.6|     3.5|     5.9|     8.2|    14.1|    16.6|1012.4|1023.4|  2.5|  51.0| -2.9|   1.4|-12.2| -1.3|  2.3|  null|      null| null|     null|      1.92|          1200|    null|        null|      1992|     8.3|        1404|       270|1026.0|     2233|  0.2|     1422|  290|  4.9|     1218|    320|     null|         null|1020.0|      103|  28.0|      1607| -4.7|      632|-10.5| null|  9.8|  108| 서울|       null|     null| 11.15|     1.4| null|        |     2.0|    8.1|2020-01-13|\n",
      "|      0.5|      1.6|      2.5|    -0.4|    1.0|     3.2|     5.8|     8.2|    14.1|    16.5|1015.0|1026.0|  2.3|  45.3| -2.3|   1.0|-13.0| -1.6|  1.6|  null|      null| null|     null|      1.78|          1200|    null|        null|      1387|     5.5|        1516|       320|1028.1|     2400|  2.6|     1413|  290|  3.3|     1428|    320|     null|         null|1024.2|     1418|  20.0|      1620| -5.7|      637|-10.4| null|  9.8|  108| 서울|       null|     null| 10.06|     1.4| null|        |     2.0|    8.5|2020-01-14|\n",
      "|      0.2|      1.2|      2.1|    -0.8|    0.0|     3.0|     5.7|     8.2|    14.0|    16.5|1017.6|1028.7|  2.2|  44.8| -2.7|   0.1|-13.4| -2.0|  1.9|  null|      null| null|     null|      1.94|          1200|    null|        null|      1673|     8.0|        1411|       290|1030.0|     1045|  2.2|     1510|  270|  4.5|     1418|    320|     null|         null|1027.4|     1453|  24.0|      1322| -6.4|      722|-10.7| null|  9.9|  108| 서울|       null|     null|  11.6|     1.5| null|        |     2.2|    9.2|2020-01-15|\n",
      "|      0.1|      1.0|      1.9|    -0.7|    0.0|     2.9|     5.7|     8.2|    13.9|    16.4|1016.3|1027.3|  2.3|  43.0| -1.7|   5.0|-13.0| -1.6|  1.6|  null|      null| null|     null|      1.89|          1200|    null|        null|      1417|     6.9|        1709|       320|1029.3|      947|  3.2|     1430|  320|  4.4|     1714|    340|     null|         null|1025.3|     1453|  24.0|      1427| -5.5|      816|-10.9| null|  9.9|  108| 서울|       null|     null| 10.75|     1.5| null|        |     2.1|    8.3|2020-01-16|\n",
      "|      0.1|      1.0|      1.8|    -0.5|    0.0|     2.7|     5.5|     8.1|    13.8|    16.4|1012.6|1023.5|  2.5|  43.9| -0.6|   4.8|-11.7| -0.8|  1.5|  null|      null| null|     null|      1.73|          1200|    null|        null|      1311|     6.7|        1952|       320|1025.7|      241|  4.9|     1449|  290|  3.8|     1927|    320|     null|         null|1021.6|     1728|  27.0|      1437| -4.8|      720| -9.0| null|  9.9|  108| 서울|       null|     null|  9.85|     1.5| null|        |     2.1|    7.6|2020-01-17|\n",
      "|      0.1|      1.0|      1.8|    -0.3|    0.0|     2.7|     5.5|     8.0|    13.8|    16.4|1010.9|1021.7|  2.9|  48.1|  0.3|   2.1|-10.0| -0.6|  1.8|  null|      null| null|     null|       1.9|          1200|    null|        null|      1569|     6.8|        1636|       290|1023.1|     1019|  5.9|     1503|  270|  4.2|     1739|    270|     null|         null|1020.2|     1447|  17.0|      1622| -4.1|      802| -9.1| null|  9.9|  108| 서울|       null|     null| 11.38|     1.7| null|        |     2.4|    9.1|2020-01-18|\n",
      "|      0.2|      1.0|      1.8|     0.0|    3.3|     2.6|     5.4|     7.9|    13.8|    16.3|1008.0|1018.7|  4.4|  62.8|  1.9|   4.8| -4.5|  0.5|  2.2|   0.3|       955|  0.3|      955|      1.37|          1300|    null|        null|      1862|    10.9|        1243|       290|1020.9|        1|  5.3|     1510|  270|  6.1|     1459|    320|     null|         null|1016.6|     1450|  42.0|      1551| -0.4|        3| -5.6|  0.6|  9.9|  108| 서울|        0.3|     null|  6.08|     1.1|  0.6|    1.58|     1.5|    4.8|2020-01-19|\n",
      "|      0.5|      1.2|      1.9|     0.3|    2.3|     2.5|     5.3|     7.8|    13.6|    16.2|1012.2|1023.0|  3.0|  46.8|  0.7|   2.3| -9.7| -0.1|  2.5|  null|      null| null|     null|      1.92|          1200|    null|        null|      2202|    10.4|        1759|       290|1028.5|     2358|  5.5|     1313|  270|  5.7|     1636|    270|     null|         null|1020.3|      416|  24.0|      1216| -3.3|     2324| -8.2| null| 10.0|  108| 서울|       null|     null| 10.24|     1.7| null|        |     2.4|    8.7|2020-01-20|\n",
      "+---------+---------+---------+--------+-------+--------+--------+--------+--------+--------+------+------+-----+------+-----+------+-----+-----+-----+------+----------+-----+---------+----------+--------------+--------+------------+----------+--------+------------+----------+------+---------+-----+---------+-----+-----+---------+-------+---------+-------------+------+---------+------+----------+-----+---------+-----+-----+-----+-----+-----+-----------+---------+------+--------+-----+--------+--------+-------+----------+\n",
      "only showing top 20 rows\n",
      "\n"
     ]
    }
   ],
   "source": [
    "df_fin.show()"
   ]
  },
  {
   "cell_type": "code",
   "execution_count": 124,
   "metadata": {},
   "outputs": [],
   "source": [
    "from pyspark.sql.functions import col, count, when, isnull\n",
    "\n",
    "# 각 컬럼에 대해 non-null 값을 계산\n",
    "non_null_counts = df_fin.select([count(when(~isnull(c), c)).alias(c) for c in df_final.columns])"
   ]
  },
  {
   "cell_type": "code",
   "execution_count": 125,
   "metadata": {},
   "outputs": [
    {
     "name": "stdout",
     "output_type": "stream",
     "text": [
      "+---------+---------+---------+--------+-------+--------+--------+--------+--------+--------+-----+-----+-----+------+-----+------+-----+-----+-----+------+----------+-----+---------+----------+--------------+--------+------------+----------+--------+------------+----------+-----+---------+-----+---------+-----+-----+---------+-------+---------+-------------+-----+---------+------+----------+-----+---------+-----+-----+-----+-----+-----+-----------+---------+------+--------+-----+--------+--------+-------+----+\n",
      "|avgCm10Te|avgCm20Te|avgCm30Te|avgCm5Te|avgLmac|avgM05Te|avgM10Te|avgM15Te|avgM30Te|avgM50Te|avgPa|avgPs|avgPv|avgRhm|avgTa|avgTca|avgTd|avgTs|avgWs|ddMefs|ddMefsHrmt|ddMes|ddMesHrmt|hr1MaxIcsr|hr1MaxIcsrHrmt|hr1MaxRn|hr1MaxRnHrmt|hr24SumRws|maxInsWs|maxInsWsHrmt|maxInsWsWd|maxPs|maxPsHrmt|maxTa|maxTaHrmt|maxWd|maxWs|maxWsHrmt|maxWsWd|mi10MaxRn|mi10MaxRnHrmt|minPs|minPsHrmt|minRhm|minRhmHrmt|minTa|minTaHrmt|minTg|n99Rn|ssDur|stnId|stnNm|sumDpthFhsc|sumFogDur|sumGsr|sumLrgEv|sumRn|sumRnDur|sumSmlEv|sumSsHr|  tm|\n",
      "+---------+---------+---------+--------+-------+--------+--------+--------+--------+--------+-----+-----+-----+------+-----+------+-----+-----+-----+------+----------+-----+---------+----------+--------------+--------+------------+----------+--------+------------+----------+-----+---------+-----+---------+-----+-----+---------+-------+---------+-------------+-----+---------+------+----------+-----+---------+-----+-----+-----+-----+-----+-----------+---------+------+--------+-----+--------+--------+-------+----+\n",
      "|     1095|     1095|     1095|    1095|   1098|    1097|    1097|    1097|    1098|    1098| 1097| 1097| 1098|  1098| 1098|  1098| 1098| 1098| 1098|    40|        35|   71|       68|      1096|          1096|     298|         203|      1098|    1098|        1098|      1098| 1097|     1097| 1098|     1098| 1098| 1098|     1098|   1098|      298|          193| 1097|     1097|  1098|      1098| 1097|     1097| 1097|  460| 1098| 1098| 1098|         40|        8|  1096|    1092|  458|    1098|    1092|   1096|1098|\n",
      "+---------+---------+---------+--------+-------+--------+--------+--------+--------+--------+-----+-----+-----+------+-----+------+-----+-----+-----+------+----------+-----+---------+----------+--------------+--------+------------+----------+--------+------------+----------+-----+---------+-----+---------+-----+-----+---------+-------+---------+-------------+-----+---------+------+----------+-----+---------+-----+-----+-----+-----+-----+-----------+---------+------+--------+-----+--------+--------+-------+----+\n",
      "\n"
     ]
    }
   ],
   "source": [
    "non_null_counts.show()"
   ]
  },
  {
   "cell_type": "code",
   "execution_count": 128,
   "metadata": {},
   "outputs": [],
   "source": [
    "drop_cols = ['ddMefs', 'ddMefsHrmt', 'ddMes', 'ddMesHrmt', 'hr1MaxRn', 'hr1MaxRnHrmt', 'mi10MaxRn', 'mi10MaxRnHrmt', 'n99Rn', 'sumDpthFhsc', 'sumFogDur', 'sumRn']\n",
    "df = df_fin.drop(*drop_cols)"
   ]
  },
  {
   "cell_type": "code",
   "execution_count": 129,
   "metadata": {},
   "outputs": [
    {
     "name": "stdout",
     "output_type": "stream",
     "text": [
      "+---------+---------+---------+--------+-------+--------+--------+--------+--------+--------+------+------+-----+------+-----+------+-----+-----+-----+----------+--------------+----------+--------+------------+----------+------+---------+-----+---------+-----+-----+---------+-------+------+---------+------+----------+-----+---------+-----+-----+-----+-----+------+--------+--------+--------+-------+----------+\n",
      "|avgCm10Te|avgCm20Te|avgCm30Te|avgCm5Te|avgLmac|avgM05Te|avgM10Te|avgM15Te|avgM30Te|avgM50Te| avgPa| avgPs|avgPv|avgRhm|avgTa|avgTca|avgTd|avgTs|avgWs|hr1MaxIcsr|hr1MaxIcsrHrmt|hr24SumRws|maxInsWs|maxInsWsHrmt|maxInsWsWd| maxPs|maxPsHrmt|maxTa|maxTaHrmt|maxWd|maxWs|maxWsHrmt|maxWsWd| minPs|minPsHrmt|minRhm|minRhmHrmt|minTa|minTaHrmt|minTg|ssDur|stnId|stnNm|sumGsr|sumLrgEv|sumRnDur|sumSmlEv|sumSsHr|        tm|\n",
      "+---------+---------+---------+--------+-------+--------+--------+--------+--------+--------+------+------+-----+------+-----+------+-----+-----+-----+----------+--------------+----------+--------+------------+----------+------+---------+-----+---------+-----+-----+---------+-------+------+---------+------+----------+-----+---------+-----+-----+-----+-----+------+--------+--------+--------+-------+----------+\n",
      "|      0.5|      1.9|      2.9|    -0.4|    8.9|     4.1|     7.2|     9.8|    15.3|    17.0|1021.1|1032.1|  3.4|  64.4| -2.2|   8.9| -8.1| -0.9|  0.6|       1.0|          1100|       509|     4.8|         906|        50|1034.0|      952|  0.3|     1457|   50|  2.6|      904|     50|1031.2|     1418|  37.0|         2| -6.5|        1| -6.6|  9.6|  108| 서울|  4.53|     0.4|    9.83|     0.6|    0.8|2020-01-01|\n",
      "|      0.7|      1.7|      2.6|     0.0|    7.9|     3.7|     7.0|     9.7|    15.2|    17.0|1018.7|1029.6|  4.3|  65.4|  1.0|   7.9| -4.8|  0.1|  1.2|      0.67|          1200|       996|     6.7|        1437|       250|1031.3|        1|  3.8|     1500|   50|  4.0|     1525|    290|1028.2|     1355|  54.0|      1212| -0.7|        1| -7.0|  9.6|  108| 서울|  3.47|     0.7|        |     1.0|    0.0|2020-01-02|\n",
      "|      1.0|      1.8|      2.7|     0.3|    0.0|     3.6|     6.8|     9.6|    15.1|    16.9|1016.4|1027.3|  3.3|  56.9| -0.1|   0.0| -8.4| -0.4|  1.7|       1.7|          1300|      1508|     5.8|        1122|       270|1029.0|      954|  4.6|     1547|  290|  3.5|     1422|    270|1025.8|     1438|  26.0|      1430| -3.4|      807| -9.0|  9.7|  108| 서울|  10.1|     1.4|        |     1.9|    8.8|2020-01-03|\n",
      "|      1.1|      1.9|      2.7|     0.4|    2.1|     3.6|     6.7|     9.5|    15.1|    16.9|1015.4|1026.2|  3.3|  50.8|  1.2|   2.1| -8.2|  0.0|  1.9|      1.68|          1200|      1623|     8.5|        1206|       340|1028.4|     2339|  6.1|     1450|   50|  4.5|     1228|    320|1024.4|     1410|  32.0|      1457| -2.8|      512| -8.8|  9.7|  108| 서울|  9.29|     1.5|        |     2.1|    7.9|2020-01-04|\n",
      "|      1.0|      1.8|      2.6|     0.2|    0.0|     3.5|     6.5|     9.3|    15.0|    16.9|1019.7|1030.6|  3.0|  45.6|  1.3|   3.9| -9.5| -0.5|  1.1|      1.66|          1100|       985|     4.4|        1312|       180|1032.6|      958|  6.6|     1453|   50|  2.9|     2335|     70|1028.1|       10|  28.0|      1518| -3.2|      821| -9.9|  9.7|  108| 서울|   9.1|     1.5|        |     2.1|    7.1|2020-01-05|\n",
      "|      1.3|      1.9|      2.6|     1.0|    7.5|     3.4|     6.4|     9.2|    14.9|    16.8|1015.3|1026.0|  5.0|  65.4|  3.1|   9.8| -3.5|  1.0|  3.1|      0.64|          1100|      2705|     8.8|        1505|        70|1030.3|       32|  4.6|     1158|   70|  5.4|     1739|     70|1020.5|     2400|  39.0|       430|  0.6|       53| -3.4|  9.7|  108| 서울|  2.03|     0.7|   14.33|     1.0|    0.0|2020-01-06|\n",
      "|      3.8|      3.3|      3.6|     4.5|    7.6|     3.7|     6.4|     9.2|    15.0|    16.9| 999.3|1009.7|  9.1|  95.0|  6.3|  10.0|  5.5|  5.1|  4.0|      0.17|          1100|      3413|     9.5|        2015|        90|1020.5|        1|  7.7|     2350|   70|  6.3|     1846|     70| 997.8|     2347|  93.0|      1031|  4.2|        1|  3.6|  9.7|  108| 서울|  0.75|     0.3|    24.0|     0.5|    0.0|2020-01-07|\n",
      "|      4.6|      4.5|      4.7|     4.5|    8.5|     4.4|     6.0|     9.0|    14.8|    16.7|1003.6|1014.3|  6.3|  86.1|  2.4|   9.6|  0.3|  4.0|  3.3|      0.31|          1400|      2875|    11.8|          49|       250|1023.3|     2350|  8.9|       47|  270|  6.3|      550|    270| 997.4|       24|  73.0|      2352| -0.4|     2336| -0.6|  9.7|  108| 서울|  1.84|     0.5|     9.5|     0.8|    0.0|2020-01-08|\n",
      "|      2.9|      3.6|      4.3|     2.2|    1.6|     4.5|     5.9|     8.1|    14.6|    16.7|1013.4|1024.3|  3.7|  65.3| -1.2|   1.6| -6.9|  1.3|  2.3|      1.75|          1200|      1971|     7.2|        1049|       270|1025.9|     2231|  2.0|     1534|  290|  4.3|     1223|    320|1022.8|     1417|  47.0|      1419| -3.1|     2349| -7.7|  9.7|  108| 서울|  9.14|     1.1|        |     1.5|    8.7|2020-01-09|\n",
      "|      1.8|      2.8|      3.6|     0.9|    0.0|     4.2|     6.1|     8.1|    14.3|    16.7|1013.0|1023.9|  3.6|  62.9| -0.6|   3.1| -7.1|  0.2|  1.5|      1.66|          1300|      1300|     5.5|        1810|       320|1026.2|      922|  4.2|     1534|  290|  3.7|     1408|    320|1022.1|     1615|  36.0|      1644| -4.3|      453| -7.8|  9.8|  108| 서울|  9.39|     1.1|        |     1.6|    7.5|2020-01-10|\n",
      "|      1.6|      2.4|      3.2|     0.9|    1.0|     3.8|     6.1|     8.2|    14.2|    16.6|1009.4|1020.3|  3.6|  60.9| -0.1|   3.6| -7.0|  0.1|  1.9|      1.84|          1200|      1619|     7.0|        1949|       320|1022.6|     1000|  3.9|     1334|  290|  4.8|     1956|    340|1018.5|     1659|  35.0|      1431| -2.6|      806| -7.5|  9.8|  108| 서울| 10.13|     1.4|        |     2.0|    8.1|2020-01-11|\n",
      "|      1.6|      2.3|      3.0|     1.1|    2.1|     3.6|     6.0|     8.2|    14.2|    16.6|1007.5|1018.4|  3.5|  61.5| -1.0|   3.6| -7.7|  0.4|  2.4|      1.83|          1200|      2031|     6.8|        1714|       290|1020.6|     2309|  2.8|     1551|  290|  4.1|     1216|    290|1016.8|     1350|  38.0|      1508| -3.5|      633| -6.3|  9.8|  108| 서울| 10.33|     1.3|        |     1.8|    8.6|2020-01-12|\n",
      "|      1.1|      2.0|      2.9|     0.1|    0.6|     3.5|     5.9|     8.2|    14.1|    16.6|1012.4|1023.4|  2.5|  51.0| -2.9|   1.4|-12.2| -1.3|  2.3|      1.92|          1200|      1992|     8.3|        1404|       270|1026.0|     2233|  0.2|     1422|  290|  4.9|     1218|    320|1020.0|      103|  28.0|      1607| -4.7|      632|-10.5|  9.8|  108| 서울| 11.15|     1.4|        |     2.0|    8.1|2020-01-13|\n",
      "|      0.5|      1.6|      2.5|    -0.4|    1.0|     3.2|     5.8|     8.2|    14.1|    16.5|1015.0|1026.0|  2.3|  45.3| -2.3|   1.0|-13.0| -1.6|  1.6|      1.78|          1200|      1387|     5.5|        1516|       320|1028.1|     2400|  2.6|     1413|  290|  3.3|     1428|    320|1024.2|     1418|  20.0|      1620| -5.7|      637|-10.4|  9.8|  108| 서울| 10.06|     1.4|        |     2.0|    8.5|2020-01-14|\n",
      "|      0.2|      1.2|      2.1|    -0.8|    0.0|     3.0|     5.7|     8.2|    14.0|    16.5|1017.6|1028.7|  2.2|  44.8| -2.7|   0.1|-13.4| -2.0|  1.9|      1.94|          1200|      1673|     8.0|        1411|       290|1030.0|     1045|  2.2|     1510|  270|  4.5|     1418|    320|1027.4|     1453|  24.0|      1322| -6.4|      722|-10.7|  9.9|  108| 서울|  11.6|     1.5|        |     2.2|    9.2|2020-01-15|\n",
      "|      0.1|      1.0|      1.9|    -0.7|    0.0|     2.9|     5.7|     8.2|    13.9|    16.4|1016.3|1027.3|  2.3|  43.0| -1.7|   5.0|-13.0| -1.6|  1.6|      1.89|          1200|      1417|     6.9|        1709|       320|1029.3|      947|  3.2|     1430|  320|  4.4|     1714|    340|1025.3|     1453|  24.0|      1427| -5.5|      816|-10.9|  9.9|  108| 서울| 10.75|     1.5|        |     2.1|    8.3|2020-01-16|\n",
      "|      0.1|      1.0|      1.8|    -0.5|    0.0|     2.7|     5.5|     8.1|    13.8|    16.4|1012.6|1023.5|  2.5|  43.9| -0.6|   4.8|-11.7| -0.8|  1.5|      1.73|          1200|      1311|     6.7|        1952|       320|1025.7|      241|  4.9|     1449|  290|  3.8|     1927|    320|1021.6|     1728|  27.0|      1437| -4.8|      720| -9.0|  9.9|  108| 서울|  9.85|     1.5|        |     2.1|    7.6|2020-01-17|\n",
      "|      0.1|      1.0|      1.8|    -0.3|    0.0|     2.7|     5.5|     8.0|    13.8|    16.4|1010.9|1021.7|  2.9|  48.1|  0.3|   2.1|-10.0| -0.6|  1.8|       1.9|          1200|      1569|     6.8|        1636|       290|1023.1|     1019|  5.9|     1503|  270|  4.2|     1739|    270|1020.2|     1447|  17.0|      1622| -4.1|      802| -9.1|  9.9|  108| 서울| 11.38|     1.7|        |     2.4|    9.1|2020-01-18|\n",
      "|      0.2|      1.0|      1.8|     0.0|    3.3|     2.6|     5.4|     7.9|    13.8|    16.3|1008.0|1018.7|  4.4|  62.8|  1.9|   4.8| -4.5|  0.5|  2.2|      1.37|          1300|      1862|    10.9|        1243|       290|1020.9|        1|  5.3|     1510|  270|  6.1|     1459|    320|1016.6|     1450|  42.0|      1551| -0.4|        3| -5.6|  9.9|  108| 서울|  6.08|     1.1|    1.58|     1.5|    4.8|2020-01-19|\n",
      "|      0.5|      1.2|      1.9|     0.3|    2.3|     2.5|     5.3|     7.8|    13.6|    16.2|1012.2|1023.0|  3.0|  46.8|  0.7|   2.3| -9.7| -0.1|  2.5|      1.92|          1200|      2202|    10.4|        1759|       290|1028.5|     2358|  5.5|     1313|  270|  5.7|     1636|    270|1020.3|      416|  24.0|      1216| -3.3|     2324| -8.2| 10.0|  108| 서울| 10.24|     1.7|        |     2.4|    8.7|2020-01-20|\n",
      "+---------+---------+---------+--------+-------+--------+--------+--------+--------+--------+------+------+-----+------+-----+------+-----+-----+-----+----------+--------------+----------+--------+------------+----------+------+---------+-----+---------+-----+-----+---------+-------+------+---------+------+----------+-----+---------+-----+-----+-----+-----+------+--------+--------+--------+-------+----------+\n",
      "only showing top 20 rows\n",
      "\n"
     ]
    }
   ],
   "source": [
    "df.show()"
   ]
  },
  {
   "cell_type": "code",
   "execution_count": 137,
   "metadata": {},
   "outputs": [
    {
     "data": {
      "text/plain": [
       "1"
      ]
     },
     "execution_count": 137,
     "metadata": {},
     "output_type": "execute_result"
    }
   ],
   "source": [
    "df.select('stnNm').distinct().count()"
   ]
  },
  {
   "cell_type": "code",
   "execution_count": 138,
   "metadata": {},
   "outputs": [],
   "source": [
    "df = df.drop('stnNm')"
   ]
  },
  {
   "cell_type": "code",
   "execution_count": 131,
   "metadata": {},
   "outputs": [
    {
     "name": "stderr",
     "output_type": "stream",
     "text": [
      "                                                                                \r"
     ]
    }
   ],
   "source": [
    "# # 범주형 컬럼 카테고리 인코딩하는 예제\n",
    "# # 기본적으로 라벨인코딩 -> 원핫인코딩 순서를 거쳐야 한다.\n",
    "# from pyspark.ml.feature import StringIndexer\n",
    "\n",
    "# indexer = StringIndexer(inputCol=\"stnNm\", outputCol=\"indexed_stnNm\")\n",
    "# indexed = indexer.fit(df).transform(df)\n",
    "\n",
    "# from pyspark.ml.feature import OneHotEncoder\n",
    "\n",
    "# encoder = OneHotEncoder(inputCols=[\"indexed_stnNm\"], outputCols=[\"encoded_stnNm\"])\n",
    "# encoded = encoder.fit(indexed).transform(indexed)"
   ]
  },
  {
   "cell_type": "code",
   "execution_count": 132,
   "metadata": {},
   "outputs": [
    {
     "name": "stderr",
     "output_type": "stream",
     "text": [
      "[Stage 51:>                                                         (0 + 1) / 1]\r"
     ]
    },
    {
     "name": "stdout",
     "output_type": "stream",
     "text": [
      "+---------+---------+---------+--------+-------+--------+--------+--------+--------+--------+------+------+-----+------+-----+------+-----+-----+-----+----------+--------------+----------+--------+------------+----------+------+---------+-----+---------+-----+-----+---------+-------+------+---------+------+----------+-----+---------+-----+-----+-----+-----+------+--------+--------+--------+-------+----------+-------------+\n",
      "|avgCm10Te|avgCm20Te|avgCm30Te|avgCm5Te|avgLmac|avgM05Te|avgM10Te|avgM15Te|avgM30Te|avgM50Te| avgPa| avgPs|avgPv|avgRhm|avgTa|avgTca|avgTd|avgTs|avgWs|hr1MaxIcsr|hr1MaxIcsrHrmt|hr24SumRws|maxInsWs|maxInsWsHrmt|maxInsWsWd| maxPs|maxPsHrmt|maxTa|maxTaHrmt|maxWd|maxWs|maxWsHrmt|maxWsWd| minPs|minPsHrmt|minRhm|minRhmHrmt|minTa|minTaHrmt|minTg|ssDur|stnId|stnNm|sumGsr|sumLrgEv|sumRnDur|sumSmlEv|sumSsHr|        tm|indexed_stnNm|\n",
      "+---------+---------+---------+--------+-------+--------+--------+--------+--------+--------+------+------+-----+------+-----+------+-----+-----+-----+----------+--------------+----------+--------+------------+----------+------+---------+-----+---------+-----+-----+---------+-------+------+---------+------+----------+-----+---------+-----+-----+-----+-----+------+--------+--------+--------+-------+----------+-------------+\n",
      "|      0.5|      1.9|      2.9|    -0.4|    8.9|     4.1|     7.2|     9.8|    15.3|    17.0|1021.1|1032.1|  3.4|  64.4| -2.2|   8.9| -8.1| -0.9|  0.6|       1.0|          1100|       509|     4.8|         906|        50|1034.0|      952|  0.3|     1457|   50|  2.6|      904|     50|1031.2|     1418|  37.0|         2| -6.5|        1| -6.6|  9.6|  108| 서울|  4.53|     0.4|    9.83|     0.6|    0.8|2020-01-01|          0.0|\n",
      "|      0.7|      1.7|      2.6|     0.0|    7.9|     3.7|     7.0|     9.7|    15.2|    17.0|1018.7|1029.6|  4.3|  65.4|  1.0|   7.9| -4.8|  0.1|  1.2|      0.67|          1200|       996|     6.7|        1437|       250|1031.3|        1|  3.8|     1500|   50|  4.0|     1525|    290|1028.2|     1355|  54.0|      1212| -0.7|        1| -7.0|  9.6|  108| 서울|  3.47|     0.7|        |     1.0|    0.0|2020-01-02|          0.0|\n",
      "|      1.0|      1.8|      2.7|     0.3|    0.0|     3.6|     6.8|     9.6|    15.1|    16.9|1016.4|1027.3|  3.3|  56.9| -0.1|   0.0| -8.4| -0.4|  1.7|       1.7|          1300|      1508|     5.8|        1122|       270|1029.0|      954|  4.6|     1547|  290|  3.5|     1422|    270|1025.8|     1438|  26.0|      1430| -3.4|      807| -9.0|  9.7|  108| 서울|  10.1|     1.4|        |     1.9|    8.8|2020-01-03|          0.0|\n",
      "|      1.1|      1.9|      2.7|     0.4|    2.1|     3.6|     6.7|     9.5|    15.1|    16.9|1015.4|1026.2|  3.3|  50.8|  1.2|   2.1| -8.2|  0.0|  1.9|      1.68|          1200|      1623|     8.5|        1206|       340|1028.4|     2339|  6.1|     1450|   50|  4.5|     1228|    320|1024.4|     1410|  32.0|      1457| -2.8|      512| -8.8|  9.7|  108| 서울|  9.29|     1.5|        |     2.1|    7.9|2020-01-04|          0.0|\n",
      "|      1.0|      1.8|      2.6|     0.2|    0.0|     3.5|     6.5|     9.3|    15.0|    16.9|1019.7|1030.6|  3.0|  45.6|  1.3|   3.9| -9.5| -0.5|  1.1|      1.66|          1100|       985|     4.4|        1312|       180|1032.6|      958|  6.6|     1453|   50|  2.9|     2335|     70|1028.1|       10|  28.0|      1518| -3.2|      821| -9.9|  9.7|  108| 서울|   9.1|     1.5|        |     2.1|    7.1|2020-01-05|          0.0|\n",
      "|      1.3|      1.9|      2.6|     1.0|    7.5|     3.4|     6.4|     9.2|    14.9|    16.8|1015.3|1026.0|  5.0|  65.4|  3.1|   9.8| -3.5|  1.0|  3.1|      0.64|          1100|      2705|     8.8|        1505|        70|1030.3|       32|  4.6|     1158|   70|  5.4|     1739|     70|1020.5|     2400|  39.0|       430|  0.6|       53| -3.4|  9.7|  108| 서울|  2.03|     0.7|   14.33|     1.0|    0.0|2020-01-06|          0.0|\n",
      "|      3.8|      3.3|      3.6|     4.5|    7.6|     3.7|     6.4|     9.2|    15.0|    16.9| 999.3|1009.7|  9.1|  95.0|  6.3|  10.0|  5.5|  5.1|  4.0|      0.17|          1100|      3413|     9.5|        2015|        90|1020.5|        1|  7.7|     2350|   70|  6.3|     1846|     70| 997.8|     2347|  93.0|      1031|  4.2|        1|  3.6|  9.7|  108| 서울|  0.75|     0.3|    24.0|     0.5|    0.0|2020-01-07|          0.0|\n",
      "|      4.6|      4.5|      4.7|     4.5|    8.5|     4.4|     6.0|     9.0|    14.8|    16.7|1003.6|1014.3|  6.3|  86.1|  2.4|   9.6|  0.3|  4.0|  3.3|      0.31|          1400|      2875|    11.8|          49|       250|1023.3|     2350|  8.9|       47|  270|  6.3|      550|    270| 997.4|       24|  73.0|      2352| -0.4|     2336| -0.6|  9.7|  108| 서울|  1.84|     0.5|     9.5|     0.8|    0.0|2020-01-08|          0.0|\n",
      "|      2.9|      3.6|      4.3|     2.2|    1.6|     4.5|     5.9|     8.1|    14.6|    16.7|1013.4|1024.3|  3.7|  65.3| -1.2|   1.6| -6.9|  1.3|  2.3|      1.75|          1200|      1971|     7.2|        1049|       270|1025.9|     2231|  2.0|     1534|  290|  4.3|     1223|    320|1022.8|     1417|  47.0|      1419| -3.1|     2349| -7.7|  9.7|  108| 서울|  9.14|     1.1|        |     1.5|    8.7|2020-01-09|          0.0|\n",
      "|      1.8|      2.8|      3.6|     0.9|    0.0|     4.2|     6.1|     8.1|    14.3|    16.7|1013.0|1023.9|  3.6|  62.9| -0.6|   3.1| -7.1|  0.2|  1.5|      1.66|          1300|      1300|     5.5|        1810|       320|1026.2|      922|  4.2|     1534|  290|  3.7|     1408|    320|1022.1|     1615|  36.0|      1644| -4.3|      453| -7.8|  9.8|  108| 서울|  9.39|     1.1|        |     1.6|    7.5|2020-01-10|          0.0|\n",
      "|      1.6|      2.4|      3.2|     0.9|    1.0|     3.8|     6.1|     8.2|    14.2|    16.6|1009.4|1020.3|  3.6|  60.9| -0.1|   3.6| -7.0|  0.1|  1.9|      1.84|          1200|      1619|     7.0|        1949|       320|1022.6|     1000|  3.9|     1334|  290|  4.8|     1956|    340|1018.5|     1659|  35.0|      1431| -2.6|      806| -7.5|  9.8|  108| 서울| 10.13|     1.4|        |     2.0|    8.1|2020-01-11|          0.0|\n",
      "|      1.6|      2.3|      3.0|     1.1|    2.1|     3.6|     6.0|     8.2|    14.2|    16.6|1007.5|1018.4|  3.5|  61.5| -1.0|   3.6| -7.7|  0.4|  2.4|      1.83|          1200|      2031|     6.8|        1714|       290|1020.6|     2309|  2.8|     1551|  290|  4.1|     1216|    290|1016.8|     1350|  38.0|      1508| -3.5|      633| -6.3|  9.8|  108| 서울| 10.33|     1.3|        |     1.8|    8.6|2020-01-12|          0.0|\n",
      "|      1.1|      2.0|      2.9|     0.1|    0.6|     3.5|     5.9|     8.2|    14.1|    16.6|1012.4|1023.4|  2.5|  51.0| -2.9|   1.4|-12.2| -1.3|  2.3|      1.92|          1200|      1992|     8.3|        1404|       270|1026.0|     2233|  0.2|     1422|  290|  4.9|     1218|    320|1020.0|      103|  28.0|      1607| -4.7|      632|-10.5|  9.8|  108| 서울| 11.15|     1.4|        |     2.0|    8.1|2020-01-13|          0.0|\n",
      "|      0.5|      1.6|      2.5|    -0.4|    1.0|     3.2|     5.8|     8.2|    14.1|    16.5|1015.0|1026.0|  2.3|  45.3| -2.3|   1.0|-13.0| -1.6|  1.6|      1.78|          1200|      1387|     5.5|        1516|       320|1028.1|     2400|  2.6|     1413|  290|  3.3|     1428|    320|1024.2|     1418|  20.0|      1620| -5.7|      637|-10.4|  9.8|  108| 서울| 10.06|     1.4|        |     2.0|    8.5|2020-01-14|          0.0|\n",
      "|      0.2|      1.2|      2.1|    -0.8|    0.0|     3.0|     5.7|     8.2|    14.0|    16.5|1017.6|1028.7|  2.2|  44.8| -2.7|   0.1|-13.4| -2.0|  1.9|      1.94|          1200|      1673|     8.0|        1411|       290|1030.0|     1045|  2.2|     1510|  270|  4.5|     1418|    320|1027.4|     1453|  24.0|      1322| -6.4|      722|-10.7|  9.9|  108| 서울|  11.6|     1.5|        |     2.2|    9.2|2020-01-15|          0.0|\n",
      "|      0.1|      1.0|      1.9|    -0.7|    0.0|     2.9|     5.7|     8.2|    13.9|    16.4|1016.3|1027.3|  2.3|  43.0| -1.7|   5.0|-13.0| -1.6|  1.6|      1.89|          1200|      1417|     6.9|        1709|       320|1029.3|      947|  3.2|     1430|  320|  4.4|     1714|    340|1025.3|     1453|  24.0|      1427| -5.5|      816|-10.9|  9.9|  108| 서울| 10.75|     1.5|        |     2.1|    8.3|2020-01-16|          0.0|\n",
      "|      0.1|      1.0|      1.8|    -0.5|    0.0|     2.7|     5.5|     8.1|    13.8|    16.4|1012.6|1023.5|  2.5|  43.9| -0.6|   4.8|-11.7| -0.8|  1.5|      1.73|          1200|      1311|     6.7|        1952|       320|1025.7|      241|  4.9|     1449|  290|  3.8|     1927|    320|1021.6|     1728|  27.0|      1437| -4.8|      720| -9.0|  9.9|  108| 서울|  9.85|     1.5|        |     2.1|    7.6|2020-01-17|          0.0|\n",
      "|      0.1|      1.0|      1.8|    -0.3|    0.0|     2.7|     5.5|     8.0|    13.8|    16.4|1010.9|1021.7|  2.9|  48.1|  0.3|   2.1|-10.0| -0.6|  1.8|       1.9|          1200|      1569|     6.8|        1636|       290|1023.1|     1019|  5.9|     1503|  270|  4.2|     1739|    270|1020.2|     1447|  17.0|      1622| -4.1|      802| -9.1|  9.9|  108| 서울| 11.38|     1.7|        |     2.4|    9.1|2020-01-18|          0.0|\n",
      "|      0.2|      1.0|      1.8|     0.0|    3.3|     2.6|     5.4|     7.9|    13.8|    16.3|1008.0|1018.7|  4.4|  62.8|  1.9|   4.8| -4.5|  0.5|  2.2|      1.37|          1300|      1862|    10.9|        1243|       290|1020.9|        1|  5.3|     1510|  270|  6.1|     1459|    320|1016.6|     1450|  42.0|      1551| -0.4|        3| -5.6|  9.9|  108| 서울|  6.08|     1.1|    1.58|     1.5|    4.8|2020-01-19|          0.0|\n",
      "|      0.5|      1.2|      1.9|     0.3|    2.3|     2.5|     5.3|     7.8|    13.6|    16.2|1012.2|1023.0|  3.0|  46.8|  0.7|   2.3| -9.7| -0.1|  2.5|      1.92|          1200|      2202|    10.4|        1759|       290|1028.5|     2358|  5.5|     1313|  270|  5.7|     1636|    270|1020.3|      416|  24.0|      1216| -3.3|     2324| -8.2| 10.0|  108| 서울| 10.24|     1.7|        |     2.4|    8.7|2020-01-20|          0.0|\n",
      "+---------+---------+---------+--------+-------+--------+--------+--------+--------+--------+------+------+-----+------+-----+------+-----+-----+-----+----------+--------------+----------+--------+------------+----------+------+---------+-----+---------+-----+-----+---------+-------+------+---------+------+----------+-----+---------+-----+-----+-----+-----+------+--------+--------+--------+-------+----------+-------------+\n",
      "only showing top 20 rows\n",
      "\n"
     ]
    },
    {
     "name": "stderr",
     "output_type": "stream",
     "text": [
      "                                                                                \r"
     ]
    }
   ],
   "source": [
    "indexed.show()"
   ]
  },
  {
   "cell_type": "code",
   "execution_count": 136,
   "metadata": {},
   "outputs": [
    {
     "ename": "IllegalArgumentException",
     "evalue": "requirement failed: The input column indexed_stnNm should have at least two distinct values.",
     "output_type": "error",
     "traceback": [
      "\u001b[0;31m---------------------------------------------------------------------------\u001b[0m",
      "\u001b[0;31mIllegalArgumentException\u001b[0m                  Traceback (most recent call last)",
      "Cell \u001b[0;32mIn[136], line 4\u001b[0m\n\u001b[1;32m      1\u001b[0m \u001b[38;5;28;01mfrom\u001b[39;00m \u001b[38;5;21;01mpyspark\u001b[39;00m\u001b[38;5;21;01m.\u001b[39;00m\u001b[38;5;21;01mml\u001b[39;00m\u001b[38;5;21;01m.\u001b[39;00m\u001b[38;5;21;01mfeature\u001b[39;00m \u001b[38;5;28;01mimport\u001b[39;00m OneHotEncoder\n\u001b[1;32m      3\u001b[0m encoder \u001b[38;5;241m=\u001b[39m OneHotEncoder(inputCols\u001b[38;5;241m=\u001b[39m[\u001b[38;5;124m\"\u001b[39m\u001b[38;5;124mindexed_stnNm\u001b[39m\u001b[38;5;124m\"\u001b[39m], outputCols\u001b[38;5;241m=\u001b[39m[\u001b[38;5;124m\"\u001b[39m\u001b[38;5;124mencoded_stnNm\u001b[39m\u001b[38;5;124m\"\u001b[39m])\n\u001b[0;32m----> 4\u001b[0m encoded \u001b[38;5;241m=\u001b[39m \u001b[43mencoder\u001b[49m\u001b[38;5;241;43m.\u001b[39;49m\u001b[43mfit\u001b[49m\u001b[43m(\u001b[49m\u001b[43mindexed\u001b[49m\u001b[43m)\u001b[49m\u001b[38;5;241m.\u001b[39mtransform(indexed)\n",
      "File \u001b[0;32m~/.local/share/virtualenvs/kjh-4pV5HF-C/lib/python3.10/site-packages/pyspark/ml/base.py:161\u001b[0m, in \u001b[0;36mEstimator.fit\u001b[0;34m(self, dataset, params)\u001b[0m\n\u001b[1;32m    159\u001b[0m         \u001b[38;5;28;01mreturn\u001b[39;00m \u001b[38;5;28mself\u001b[39m\u001b[38;5;241m.\u001b[39mcopy(params)\u001b[38;5;241m.\u001b[39m_fit(dataset)\n\u001b[1;32m    160\u001b[0m     \u001b[38;5;28;01melse\u001b[39;00m:\n\u001b[0;32m--> 161\u001b[0m         \u001b[38;5;28;01mreturn\u001b[39;00m \u001b[38;5;28;43mself\u001b[39;49m\u001b[38;5;241;43m.\u001b[39;49m\u001b[43m_fit\u001b[49m\u001b[43m(\u001b[49m\u001b[43mdataset\u001b[49m\u001b[43m)\u001b[49m\n\u001b[1;32m    162\u001b[0m \u001b[38;5;28;01melse\u001b[39;00m:\n\u001b[1;32m    163\u001b[0m     \u001b[38;5;28;01mraise\u001b[39;00m \u001b[38;5;167;01mTypeError\u001b[39;00m(\u001b[38;5;124m\"\u001b[39m\u001b[38;5;124mParams must be either a param map or a list/tuple of param maps, \u001b[39m\u001b[38;5;124m\"\u001b[39m\n\u001b[1;32m    164\u001b[0m                     \u001b[38;5;124m\"\u001b[39m\u001b[38;5;124mbut got \u001b[39m\u001b[38;5;132;01m%s\u001b[39;00m\u001b[38;5;124m.\u001b[39m\u001b[38;5;124m\"\u001b[39m \u001b[38;5;241m%\u001b[39m \u001b[38;5;28mtype\u001b[39m(params))\n",
      "File \u001b[0;32m~/.local/share/virtualenvs/kjh-4pV5HF-C/lib/python3.10/site-packages/pyspark/ml/wrapper.py:339\u001b[0m, in \u001b[0;36mJavaEstimator._fit\u001b[0;34m(self, dataset)\u001b[0m\n\u001b[1;32m    338\u001b[0m \u001b[38;5;28;01mdef\u001b[39;00m \u001b[38;5;21m_fit\u001b[39m(\u001b[38;5;28mself\u001b[39m, dataset):\n\u001b[0;32m--> 339\u001b[0m     java_model \u001b[38;5;241m=\u001b[39m \u001b[38;5;28;43mself\u001b[39;49m\u001b[38;5;241;43m.\u001b[39;49m\u001b[43m_fit_java\u001b[49m\u001b[43m(\u001b[49m\u001b[43mdataset\u001b[49m\u001b[43m)\u001b[49m\n\u001b[1;32m    340\u001b[0m     model \u001b[38;5;241m=\u001b[39m \u001b[38;5;28mself\u001b[39m\u001b[38;5;241m.\u001b[39m_create_model(java_model)\n\u001b[1;32m    341\u001b[0m     \u001b[38;5;28;01mreturn\u001b[39;00m \u001b[38;5;28mself\u001b[39m\u001b[38;5;241m.\u001b[39m_copyValues(model)\n",
      "File \u001b[0;32m~/.local/share/virtualenvs/kjh-4pV5HF-C/lib/python3.10/site-packages/pyspark/ml/wrapper.py:336\u001b[0m, in \u001b[0;36mJavaEstimator._fit_java\u001b[0;34m(self, dataset)\u001b[0m\n\u001b[1;32m    322\u001b[0m \u001b[38;5;250m\u001b[39m\u001b[38;5;124;03m\"\"\"\u001b[39;00m\n\u001b[1;32m    323\u001b[0m \u001b[38;5;124;03mFits a Java model to the input dataset.\u001b[39;00m\n\u001b[1;32m    324\u001b[0m \n\u001b[0;32m   (...)\u001b[0m\n\u001b[1;32m    333\u001b[0m \u001b[38;5;124;03m    fitted Java model\u001b[39;00m\n\u001b[1;32m    334\u001b[0m \u001b[38;5;124;03m\"\"\"\u001b[39;00m\n\u001b[1;32m    335\u001b[0m \u001b[38;5;28mself\u001b[39m\u001b[38;5;241m.\u001b[39m_transfer_params_to_java()\n\u001b[0;32m--> 336\u001b[0m \u001b[38;5;28;01mreturn\u001b[39;00m \u001b[38;5;28;43mself\u001b[39;49m\u001b[38;5;241;43m.\u001b[39;49m\u001b[43m_java_obj\u001b[49m\u001b[38;5;241;43m.\u001b[39;49m\u001b[43mfit\u001b[49m\u001b[43m(\u001b[49m\u001b[43mdataset\u001b[49m\u001b[38;5;241;43m.\u001b[39;49m\u001b[43m_jdf\u001b[49m\u001b[43m)\u001b[49m\n",
      "File \u001b[0;32m~/.local/share/virtualenvs/kjh-4pV5HF-C/lib/python3.10/site-packages/py4j/java_gateway.py:1321\u001b[0m, in \u001b[0;36mJavaMember.__call__\u001b[0;34m(self, *args)\u001b[0m\n\u001b[1;32m   1315\u001b[0m command \u001b[38;5;241m=\u001b[39m proto\u001b[38;5;241m.\u001b[39mCALL_COMMAND_NAME \u001b[38;5;241m+\u001b[39m\\\n\u001b[1;32m   1316\u001b[0m     \u001b[38;5;28mself\u001b[39m\u001b[38;5;241m.\u001b[39mcommand_header \u001b[38;5;241m+\u001b[39m\\\n\u001b[1;32m   1317\u001b[0m     args_command \u001b[38;5;241m+\u001b[39m\\\n\u001b[1;32m   1318\u001b[0m     proto\u001b[38;5;241m.\u001b[39mEND_COMMAND_PART\n\u001b[1;32m   1320\u001b[0m answer \u001b[38;5;241m=\u001b[39m \u001b[38;5;28mself\u001b[39m\u001b[38;5;241m.\u001b[39mgateway_client\u001b[38;5;241m.\u001b[39msend_command(command)\n\u001b[0;32m-> 1321\u001b[0m return_value \u001b[38;5;241m=\u001b[39m \u001b[43mget_return_value\u001b[49m\u001b[43m(\u001b[49m\n\u001b[1;32m   1322\u001b[0m \u001b[43m    \u001b[49m\u001b[43manswer\u001b[49m\u001b[43m,\u001b[49m\u001b[43m \u001b[49m\u001b[38;5;28;43mself\u001b[39;49m\u001b[38;5;241;43m.\u001b[39;49m\u001b[43mgateway_client\u001b[49m\u001b[43m,\u001b[49m\u001b[43m \u001b[49m\u001b[38;5;28;43mself\u001b[39;49m\u001b[38;5;241;43m.\u001b[39;49m\u001b[43mtarget_id\u001b[49m\u001b[43m,\u001b[49m\u001b[43m \u001b[49m\u001b[38;5;28;43mself\u001b[39;49m\u001b[38;5;241;43m.\u001b[39;49m\u001b[43mname\u001b[49m\u001b[43m)\u001b[49m\n\u001b[1;32m   1324\u001b[0m \u001b[38;5;28;01mfor\u001b[39;00m temp_arg \u001b[38;5;129;01min\u001b[39;00m temp_args:\n\u001b[1;32m   1325\u001b[0m     temp_arg\u001b[38;5;241m.\u001b[39m_detach()\n",
      "File \u001b[0;32m~/.local/share/virtualenvs/kjh-4pV5HF-C/lib/python3.10/site-packages/pyspark/sql/utils.py:117\u001b[0m, in \u001b[0;36mcapture_sql_exception.<locals>.deco\u001b[0;34m(*a, **kw)\u001b[0m\n\u001b[1;32m    113\u001b[0m converted \u001b[38;5;241m=\u001b[39m convert_exception(e\u001b[38;5;241m.\u001b[39mjava_exception)\n\u001b[1;32m    114\u001b[0m \u001b[38;5;28;01mif\u001b[39;00m \u001b[38;5;129;01mnot\u001b[39;00m \u001b[38;5;28misinstance\u001b[39m(converted, UnknownException):\n\u001b[1;32m    115\u001b[0m     \u001b[38;5;66;03m# Hide where the exception came from that shows a non-Pythonic\u001b[39;00m\n\u001b[1;32m    116\u001b[0m     \u001b[38;5;66;03m# JVM exception message.\u001b[39;00m\n\u001b[0;32m--> 117\u001b[0m     \u001b[38;5;28;01mraise\u001b[39;00m converted \u001b[38;5;28;01mfrom\u001b[39;00m \u001b[38;5;28;01mNone\u001b[39;00m\n\u001b[1;32m    118\u001b[0m \u001b[38;5;28;01melse\u001b[39;00m:\n\u001b[1;32m    119\u001b[0m     \u001b[38;5;28;01mraise\u001b[39;00m\n",
      "\u001b[0;31mIllegalArgumentException\u001b[0m: requirement failed: The input column indexed_stnNm should have at least two distinct values."
     ]
    }
   ],
   "source": []
  }
 ],
 "metadata": {
  "kernelspec": {
   "display_name": "kjh-4pV5HF-C",
   "language": "python",
   "name": "python3"
  },
  "language_info": {
   "codemirror_mode": {
    "name": "ipython",
    "version": 3
   },
   "file_extension": ".py",
   "mimetype": "text/x-python",
   "name": "python",
   "nbconvert_exporter": "python",
   "pygments_lexer": "ipython3",
   "version": "3.10.13"
  }
 },
 "nbformat": 4,
 "nbformat_minor": 2
}
