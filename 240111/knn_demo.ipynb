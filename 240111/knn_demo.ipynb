{
 "cells": [
  {
   "cell_type": "code",
   "execution_count": 1,
   "metadata": {},
   "outputs": [],
   "source": [
    "# DEFINE FUNCTIONS <<<<<<<<<<<<<<<<<<<<<<<<<<<<<<<<<<<\n",
    "\n",
    "def get_access_token(client_id:str, client_sc:str):\n",
    "    import requests\n",
    "    \n",
    "    headers = {\n",
    "        'Content-Type': 'application/x-www-form-urlencoded',\n",
    "    }\n",
    "    data = f'grant_type=client_credentials&client_id={client_id}&client_secret={client_sc}'.encode()\n",
    "    response = requests.post('https://accounts.spotify.com/api/token', headers=headers, data=data).json()\n",
    "    access_token = response['access_token']\n",
    "\n",
    "    return access_token\n",
    "\n",
    "def get_response(access_token:str, endpoint:str, params:dict=None):\n",
    "    import requests, json\n",
    "\n",
    "    url = f\"https://api.spotify.com/v1/{endpoint}\"\n",
    "    headers = {\n",
    "        'Authorization': f'Bearer {access_token}',\n",
    "    }\n",
    "\n",
    "    if params != None:\n",
    "        response = requests.get(url=url, params=params, headers=headers)\n",
    "    else:\n",
    "        response = requests.get(url=url, headers=headers)\n",
    "    print(response)\n",
    "    return response.json()\n",
    "    \n",
    "\n",
    "def post_response(access_token:str, endpoint:str, data:dict=None):\n",
    "    import requests, json\n",
    "\n",
    "    url = f\"https://api.spotify.com/v1/{endpoint}\"\n",
    "    headers = {\n",
    "        \"Authorization\": f\"Bearer {access_token}\",\n",
    "        \"Content-Type\": \"application/json\"\n",
    "    }\n",
    "\n",
    "    response = requests.post(url=url, headers=headers, data=json.dumps(data))\n",
    "    print(response)\n",
    "    return response.json()"
   ]
  },
  {
   "cell_type": "code",
   "execution_count": 2,
   "metadata": {},
   "outputs": [],
   "source": [
    "import os\n",
    "from configparser import ConfigParser\n",
    "current_dir = os.getcwd()\n",
    "config_dir = os.path.join(current_dir, f'../config/config.ini')\n",
    "\n",
    "parser = ConfigParser()\n",
    "parser.read(config_dir)\n",
    "client_id = parser.get(\"SPOTIFY\", \"ACCESS\")\n",
    "client_sc = parser.get(\"SPOTIFY\", \"SECRET\")\n",
    "\n",
    "access_token = get_access_token(client_id, client_sc)\n",
    "user_id = \"317sdvs4ldhgrv63cstoyzf6vo2y\""
   ]
  },
  {
   "cell_type": "code",
   "execution_count": 3,
   "metadata": {},
   "outputs": [],
   "source": [
    "# START CODE <<<<<<<<<<<<<<<<<<<<<<<<<<<<<<<<<<<\n",
    "\n",
    "from pyspark.sql import SparkSession\n",
    "from pyspark.sql.functions import explode\n",
    "from math import ceil\n",
    "import json"
   ]
  },
  {
   "cell_type": "code",
   "execution_count": 4,
   "metadata": {},
   "outputs": [
    {
     "name": "stderr",
     "output_type": "stream",
     "text": [
      "131072x1 화면 크기가 잘못됐습니다. 문제가 예상됩니다\n",
      "24/01/12 02:09:25 WARN Utils: Your hostname, KJH-DESKTOP resolves to a loopback address: 127.0.1.1; using 192.168.69.220 instead (on interface eth0)\n",
      "24/01/12 02:09:25 WARN Utils: Set SPARK_LOCAL_IP if you need to bind to another address\n",
      "Setting default log level to \"WARN\".\n",
      "To adjust logging level use sc.setLogLevel(newLevel). For SparkR, use setLogLevel(newLevel).\n",
      "24/01/12 02:09:26 WARN NativeCodeLoader: Unable to load native-hadoop library for your platform... using builtin-java classes where applicable\n",
      "24/01/12 02:09:27 WARN RapidsPluginUtils: RAPIDS Accelerator 23.12.0 using cudf 23.12.0.\n",
      "24/01/12 02:09:27 WARN RapidsPluginUtils: spark.rapids.sql.multiThreadedRead.numThreads is set to 20.\n",
      "24/01/12 02:09:27 WARN RapidsPluginUtils: RAPIDS Accelerator is enabled, to disable GPU support set `spark.rapids.sql.enabled` to false.\n"
     ]
    },
    {
     "name": "stdout",
     "output_type": "stream",
     "text": [
      "<Response [200]>\n"
     ]
    },
    {
     "name": "stderr",
     "output_type": "stream",
     "text": [
      "                                                                                \r"
     ]
    },
    {
     "name": "stdout",
     "output_type": "stream",
     "text": [
      "<Response [200]>\n",
      "41\n",
      "<Response [200]>\n",
      "122\n",
      "<Response [200]>\n",
      "<Response [200]>\n",
      "191\n",
      "<Response [200]>\n"
     ]
    }
   ],
   "source": [
    "### Build Session\n",
    "spark = SparkSession.builder \\\n",
    "    .appName(\"pipeline_demo\") \\\n",
    "    .getOrCreate()\n",
    "\n",
    "### Create Access Token\n",
    "access_token = get_access_token(client_id=client_id, client_sc=client_sc)\n",
    "\n",
    "### Create Playlist Lists\n",
    "endpoint = f\"users/{user_id}/playlists\"\n",
    "params = {\n",
    "    \"limit\": 50,\n",
    "    \"offset\": 0\n",
    "}\n",
    "\n",
    "playlists = get_response(access_token=access_token, endpoint=endpoint, params=params)\n",
    "json_string  = json.dumps(playlists)\n",
    "json_rdd = spark.sparkContext.parallelize([json_string])\n",
    "df_plinfo = spark.read.json(json_rdd, multiLine=True)\n",
    "\n",
    "items = df_plinfo \\\n",
    "    .withColumn(\"items\", explode(\"items\")) \\\n",
    "    .select(\"items.id\") \\\n",
    "    .rdd.flatMap(lambda x: x).collect()\n",
    "\n",
    "### Create Playlist Item Lists\n",
    "track_list = [] # <---------- \"Need To Use\"\n",
    "for id in items:\n",
    "    endpoint = f\"playlists/{id}/tracks\"\n",
    "    playlist_spec = get_response(access_token=access_token, endpoint=endpoint)\n",
    "    \n",
    "    json_string  = json.dumps(playlist_spec)\n",
    "    json_rdd = spark.sparkContext.parallelize([json_string])\n",
    "    df_playlist_spec = spark.read.json(json_rdd, multiLine=True)\n",
    "    \n",
    "    ids = df_playlist_spec \\\n",
    "    .withColumn(\"items\", explode(\"items\")) \\\n",
    "    .select(\"items.track.id\") \\\n",
    "    .rdd.flatMap(lambda x: x).collect()\n",
    "    \n",
    "    track_list += ids\n",
    "    \n",
    "    total = df_playlist_spec.select(\"total\").first()[0]\n",
    "    print(total)\n",
    "    left = int(total)-100\n",
    "    cnt = ceil(left/100)\n",
    "    \n",
    "    for i in range(cnt):\n",
    "        offset = 100 + 100 * i\n",
    "        params = {\"offset\":offset}\n",
    "        \n",
    "        playlist_spec = get_response(access_token=access_token, endpoint=endpoint, params=params)\n",
    "        \n",
    "        json_string  = json.dumps(playlist_spec)\n",
    "        json_rdd = spark.sparkContext.parallelize([json_string])\n",
    "        df_playlist_spec = spark.read.json(json_rdd, multiLine=True)\n",
    "        \n",
    "        ids = df_playlist_spec \\\n",
    "        .withColumn(\"items\", explode(\"items\")) \\\n",
    "        .select(\"items.track.id\") \\\n",
    "        .rdd.flatMap(lambda x: x).collect()\n",
    "        \n",
    "        track_list += ids      \n"
   ]
  },
  {
   "cell_type": "code",
   "execution_count": 5,
   "metadata": {},
   "outputs": [
    {
     "data": {
      "text/plain": [
       "211"
      ]
     },
     "execution_count": 5,
     "metadata": {},
     "output_type": "execute_result"
    }
   ],
   "source": [
    "track_list = [x for x in track_list if x is not None]\n",
    "track_set = set(track_list)\n",
    "track_list = list(track_set)\n",
    "len(track_list)"
   ]
  },
  {
   "cell_type": "code",
   "execution_count": 6,
   "metadata": {},
   "outputs": [
    {
     "name": "stdout",
     "output_type": "stream",
     "text": [
      "0\n",
      "<Response [200]>\n",
      "<Response [200]>\n",
      "1\n",
      "<Response [200]>\n",
      "<Response [200]>\n",
      "2\n",
      "<Response [200]>\n",
      "<Response [200]>\n",
      "3\n",
      "<Response [200]>\n",
      "<Response [200]>\n",
      "4\n",
      "<Response [200]>\n",
      "<Response [200]>\n"
     ]
    }
   ],
   "source": [
    "# Create Dataframe : main_df\n",
    "big_list = []\n",
    "cnt = ceil(len(track_list)/50)\n",
    "for j in range(cnt):\n",
    "    big_list.append(track_list[j*50:(j+1)*50])\n",
    "\n",
    "\n",
    "main_df = None\n",
    "cnt = 0\n",
    "for small_list in big_list:\n",
    "    \n",
    "    print(cnt)\n",
    "    \n",
    "    tracks = \"\"\n",
    "    for id in small_list:\n",
    "        tracks += f\",{id}\"\n",
    "    tracks = tracks[1:]\n",
    "    \n",
    "    endpoint = \"tracks\"\n",
    "    params = {\"ids\":tracks}\n",
    "    track = get_response(access_token=access_token, endpoint=endpoint, params=params)\n",
    "    \n",
    "    json_string  = json.dumps(track)\n",
    "    json_rdd = spark.sparkContext.parallelize([json_string])\n",
    "    df_tracks = spark.read.json(json_rdd, multiLine=True)\n",
    "    \n",
    "    df_tracks = spark.read.json(json_rdd, multiLine=True) \\\n",
    "        .withColumn(\"tracks\", explode(\"tracks\")) \\\n",
    "        .selectExpr(\"tracks.id\",\n",
    "                    \"tracks.popularity\")\n",
    "    \n",
    "    endpoint = \"audio-features\"\n",
    "    params = {\"ids\":tracks}\n",
    "    audio_features = get_response(access_token=access_token, endpoint=endpoint, params=params)\n",
    "    \n",
    "    json_string  = json.dumps(audio_features)\n",
    "    json_rdd = spark.sparkContext.parallelize([json_string])\n",
    "    df_audio_features = spark.read.json(json_rdd, multiLine=True) \\\n",
    "        .withColumn(\"audio_features\", explode(\"audio_features\")) \\\n",
    "        .selectExpr(\"audio_features.id\",\n",
    "                    \"audio_features.key\",\n",
    "                    \"audio_features.mode\",\n",
    "                    \"audio_features.time_signature\",\n",
    "                    \"audio_features.tempo\",\n",
    "                    \"audio_features.acousticness\",\n",
    "                    \"audio_features.danceability\",\n",
    "                    \"audio_features.energy\",\n",
    "                    \"audio_features.instrumentalness\",\n",
    "                    \"audio_features.liveness\",\n",
    "                    \"audio_features.loudness\",\n",
    "                    \"audio_features.speechiness\",\n",
    "                    \"audio_features.valence\")\n",
    "    \n",
    "    result_track_df = df_tracks.join(df_audio_features, \"id\", \"left\")\n",
    "    if cnt == 0:\n",
    "        main_df = result_track_df\n",
    "    else:\n",
    "        main_df = main_df.union(result_track_df)\n",
    "    cnt += 1"
   ]
  },
  {
   "cell_type": "code",
   "execution_count": 7,
   "metadata": {},
   "outputs": [
    {
     "name": "stderr",
     "output_type": "stream",
     "text": [
      "                                                                                \r"
     ]
    },
    {
     "name": "stdout",
     "output_type": "stream",
     "text": [
      "+--------------------+----------+---+----+--------------+-------+------------+------------+------+----------------+--------+--------+-----------+-------+\n",
      "|                  id|popularity|key|mode|time_signature|  tempo|acousticness|danceability|energy|instrumentalness|liveness|loudness|speechiness|valence|\n",
      "+--------------------+----------+---+----+--------------+-------+------------+------------+------+----------------+--------+--------+-----------+-------+\n",
      "|0jydFAxRpAZzSdHdN...|        13|  9|   1|             4|118.997|       0.142|       0.839|  0.47|            0.77|   0.126|  -9.427|      0.048|  0.503|\n",
      "|6RBziRcDeiho3iTPd...|        61| 11|   0|             4| 97.977|      0.0758|       0.534| 0.861|             0.0|   0.167|  -3.177|     0.0361|  0.286|\n",
      "|013AWvizllIUEC2FO...|        72|  0|   1|             4| 168.12|       0.403|       0.555| 0.698|             0.0|  0.0851|  -8.874|     0.0287|  0.816|\n",
      "|0BQ3kSfeLFq3CMtuH...|        39|  2|   1|             3| 70.018|       0.994|       0.551|  0.12|           0.932|   0.133| -19.667|     0.0411|  0.199|\n",
      "|73Jmci4Dvc6zhgQZE...|        34|  9|   1|             4|120.044|      0.0899|       0.808| 0.903|             0.0|  0.0816|  -2.179|     0.0729|  0.922|\n",
      "|5OQGeJ1ceykovrykZ...|        72| 11|   1|             4|126.988|      0.0541|       0.607|  0.82|         6.8e-05|   0.269|  -7.754|     0.0597|  0.768|\n",
      "|7mtZPoHw5kB1C7U22...|        29|  0|   1|             4|133.961|       0.472|       0.478| 0.363|             0.0|   0.108|  -7.234|     0.0287|  0.287|\n",
      "|5gul4JnFkIcBcG5TE...|        28|  9|   1|             4|127.773|       0.689|       0.606| 0.477|          0.0162|  0.0829|  -9.127|     0.0289|  0.524|\n",
      "|0pYacDCZuRhcrwGUA...|        73|  1|   1|             4|120.029|       0.115|       0.676| 0.869|             0.0|   0.132|  -1.573|     0.0423|  0.594|\n",
      "|6Cpw0x7Ngn8p6sXCF...|        29| 11|   1|             4| 79.961|       0.293|       0.502|  0.49|             0.0|    0.12|  -6.264|     0.0289|  0.375|\n",
      "|5joNJn9LUvYcamWwa...|        62|  0|   1|             4|123.983|       0.171|       0.753|  0.91|             0.0|   0.367|  -2.591|     0.0517|  0.825|\n",
      "|7xztI3ccyUdEYqKYA...|        57|  4|   1|             4| 156.64|     0.00226|       0.311| 0.546|           0.843|   0.108|  -7.752|     0.0297|  0.158|\n",
      "|3RtapbUtHJgnVlZWa...|        58|  6|   0|             4|154.061|       0.138|       0.625| 0.931|             0.0|   0.309|  -1.885|      0.151|  0.863|\n",
      "|12FBQP1A3psXHh3Jz...|        11|  6|   1|             4|111.995|    0.000207|       0.621| 0.663|           0.395|  0.0671|  -6.471|     0.0295|  0.578|\n",
      "|2QwObYJWyJTiozvs0...|        71|  4|   0|             4|138.076|       0.317|       0.488| 0.454|           0.694|   0.179| -11.544|     0.0304|  0.131|\n",
      "|3D7nI0uSLMxo2pw3Z...|        18|  8|   1|             4| 179.99|       0.332|       0.539| 0.418|        5.75e-06|  0.0707|  -7.855|     0.0289|  0.463|\n",
      "|6kL0CcL4rx6VUt6m2...|        34|  6|   1|             4|122.996|      0.0325|       0.795| 0.518|        1.02e-05|  0.0532|  -10.28|      0.029|  0.785|\n",
      "|1qzHqfvKrZWo6dVHM...|        75| 10|   1|             3|170.645|       0.864|       0.429|  0.18|         4.4e-06|   0.104| -10.694|     0.0551|  0.485|\n",
      "|5qSssUuZhewBfa14C...|        29|  2|   1|             4|103.993|       0.501|       0.878| 0.477|        2.59e-06|   0.104|  -5.845|     0.0913|  0.968|\n",
      "|2f5N826udWfjT9iom...|        66|  9|   1|             4|109.933|       0.427|       0.544| 0.659|        1.33e-06|   0.126|  -7.191|     0.0298|  0.361|\n",
      "+--------------------+----------+---+----+--------------+-------+------------+------------+------+----------------+--------+--------+-----------+-------+\n",
      "only showing top 20 rows\n",
      "\n"
     ]
    }
   ],
   "source": [
    "main_df.show()"
   ]
  },
  {
   "cell_type": "code",
   "execution_count": 8,
   "metadata": {},
   "outputs": [
    {
     "name": "stderr",
     "output_type": "stream",
     "text": [
      "[Stage 61:===================================================>     (9 + 1) / 10]\r"
     ]
    },
    {
     "name": "stdout",
     "output_type": "stream",
     "text": [
      "+--------------------+----------+---+----+--------------+-------+------------+------------+-------+----------------+--------+--------+-----------+-------+\n",
      "|                  id|popularity|key|mode|time_signature|  tempo|acousticness|danceability| energy|instrumentalness|liveness|loudness|speechiness|valence|\n",
      "+--------------------+----------+---+----+--------------+-------+------------+------------+-------+----------------+--------+--------+-----------+-------+\n",
      "|3au7XGR06xFLlHQ1e...|         0|  1|   0|             4| 96.514|       0.879|       0.282|  0.251|          0.0495|  0.0674| -21.701|     0.0313|  0.665|\n",
      "|36pujsnGRtaHUecVb...|         0|  2|   1|             4|114.984|     0.00708|       0.878|  0.883|           0.141|   0.112|  -4.934|     0.0755|  0.423|\n",
      "|740kpbO9VNamJ3I63...|         0|  5|   1|             4|101.381|       0.819|       0.726|  0.809|          0.0783|   0.332|  -4.921|     0.0462|  0.733|\n",
      "|014iV3BRCZeMGMOLY...|         0|  0|   1|             4|112.018|     0.00246|       0.706|  0.935|           0.752|  0.0791|  -9.481|      0.051|  0.714|\n",
      "|4chDPs8a53VasRfkb...|         0|  6|   1|             4|125.653|       0.949|       0.555|  0.696|        0.000945|   0.106|  -7.815|     0.0427|  0.458|\n",
      "|6hLh1AZdvqYqRuGBN...|        11|  7|   0|             4|175.012|    0.000876|       0.644|  0.767|           0.651|   0.278|  -10.24|     0.0878|  0.677|\n",
      "|6AS0a3EsiinhkGtqA...|         5|  7|   1|             4|107.906|      0.0149|       0.699|  0.751|             0.0|   0.348|  -5.932|      0.037|  0.848|\n",
      "|7x5J4tI2LQhN54DAr...|        11|  7|   1|             4|133.968|    6.34e-05|       0.513|  0.938|          0.0107|  0.0954|   -4.18|     0.0455|  0.567|\n",
      "|0hZFkjnvSq4PHtmex...|         0| 11|   1|             3|174.089|       0.638|        0.37| 0.0276|           0.886|  0.0686| -28.075|      0.039|  0.404|\n",
      "|06m2u5KrZGbQE8Ozh...|         0|  4|   1|             4|131.283|       0.556|       0.522|  0.697|             0.0|   0.343|  -6.138|     0.0339|  0.871|\n",
      "|0rsyJ3PEzZnPKkIqM...|         2| 10|   1|             4| 90.239|      0.0403|       0.294|  0.827|        0.000391|   0.425|  -4.451|       0.16|  0.293|\n",
      "|2dZYWuGCr5aAE2FD5...|         0|  2|   0|             4| 81.898|        0.96|       0.121|  0.112|           0.751|   0.116| -19.233|     0.0503| 0.0386|\n",
      "|4nHAGzEbDxvZGrppg...|        29| 11|   0|             4|105.055|       0.568|       0.873|  0.495|          0.0362|   0.294|  -6.928|      0.049|  0.478|\n",
      "|5KSWUGhFYMcIPfRs7...|         5|  0|   1|             4|105.941|       0.709|       0.594|  0.465|             0.0|   0.714| -11.708|     0.0537|  0.543|\n",
      "|3y24XxPoRdCThlXRl...|        27|  1|   0|             4|128.018|       0.062|       0.459|  0.846|             0.0|   0.404|  -6.732|     0.0642|  0.201|\n",
      "|5JpGYFMlDlYNi1kwS...|         0|  8|   1|             4| 71.122|       0.994|       0.203|0.00692|           0.881|  0.0995| -32.981|      0.041| 0.0712|\n",
      "|7q43QICWm8YC16gNB...|        10|  2|   1|             4|124.011|     0.00719|       0.756|  0.754|             0.0|    0.34|  -6.099|      0.105|  0.257|\n",
      "|7qK9QzWb1QJlrNB79...|        11|  1|   0|             4|121.989|       0.109|       0.658|  0.749|           0.867|  0.0672| -10.014|     0.0352|  0.109|\n",
      "|0w8jJRXo2kKD4OjlJ...|        44| 11|   0|             4|128.998|       0.268|       0.786|   0.41|        3.66e-05|  0.0805|  -6.767|     0.0621|  0.276|\n",
      "|7fy0ubgbyHGKQfe6j...|         0|  9|   1|             4| 88.925|       0.152|       0.534|   0.71|        6.17e-05|    0.18|  -5.374|     0.0329|  0.199|\n",
      "+--------------------+----------+---+----+--------------+-------+------------+------------+-------+----------------+--------+--------+-----------+-------+\n",
      "only showing top 20 rows\n",
      "\n"
     ]
    },
    {
     "name": "stderr",
     "output_type": "stream",
     "text": [
      "                                                                                \r"
     ]
    }
   ],
   "source": [
    "### Load Dataframe : df_dw\n",
    "dw_tracks = spark.read.parquet(\"file:///home/kjh/data/Spotify/tracks\")\n",
    "dw_audioFeatures = spark.read.parquet(\"file:///home/kjh/data/Spotify/tracks_audioFeatures\")\n",
    "df_dw = dw_tracks.join(dw_audioFeatures, \"id\", \"inner\")\n",
    "\n",
    "df_dw.show() # << TEST"
   ]
  },
  {
   "cell_type": "code",
   "execution_count": 9,
   "metadata": {},
   "outputs": [],
   "source": [
    "df_dw = df_dw.dropDuplicates(['id'])"
   ]
  },
  {
   "cell_type": "code",
   "execution_count": 10,
   "metadata": {},
   "outputs": [],
   "source": [
    "df_dw.createOrReplaceTempView(\"df_dw\")\n",
    "\n",
    "# track_list를 SQL 쿼리에 맞는 형식으로 변환\n",
    "track_list_str = \",\".join([\"'{}'\".format(item) for item in track_list])"
   ]
  },
  {
   "cell_type": "code",
   "execution_count": 11,
   "metadata": {},
   "outputs": [],
   "source": [
    "df = spark.sql(f\"\"\"\n",
    "    SELECT *\n",
    "    FROM df_dw\n",
    "    WHERE id NOT IN ({track_list_str})\n",
    "\"\"\")"
   ]
  },
  {
   "cell_type": "code",
   "execution_count": 16,
   "metadata": {},
   "outputs": [],
   "source": [
    "### Union Dataframe : df\n",
    "from pyspark.sql.functions import col\n",
    "\n",
    "df = df_dw \\\n",
    "    .filter(~df_dw[\"id\"].isin(track_list)) \\\n",
    "    .union(main_df)"
   ]
  },
  {
   "cell_type": "markdown",
   "metadata": {},
   "source": [
    "df = df_dw \\\n",
    "    .filter(~df_dw[\"id\"].isin(track_list)) \\\n",
    "    .union(main_df)\n",
    "\n",
    "위 코드가 작동이 안되었던 이유는 track_list의 값에 None 값이 있기 때문..\n",
    "\n",
    "https://stackoverflow.com/questions/74272965/using-not-is-in-in-pyspark-and-getting-an-empty-dataframe-back"
   ]
  },
  {
   "cell_type": "code",
   "execution_count": 18,
   "metadata": {},
   "outputs": [],
   "source": [
    "# df = df_dw \\\n",
    "    # .filter(~df_dw[\"id\"].isin(track_list)) \\\n",
    "    # .union(main_df)\n",
    "    \n",
    "# 위 코드가 작동이 안되었던 이유는 track_list"
   ]
  },
  {
   "cell_type": "code",
   "execution_count": 19,
   "metadata": {},
   "outputs": [
    {
     "name": "stderr",
     "output_type": "stream",
     "text": [
      "                                                                                \r"
     ]
    },
    {
     "data": {
      "text/plain": [
       "1581533"
      ]
     },
     "execution_count": 19,
     "metadata": {},
     "output_type": "execute_result"
    }
   ],
   "source": [
    "df.count()"
   ]
  },
  {
   "cell_type": "code",
   "execution_count": 20,
   "metadata": {},
   "outputs": [
    {
     "data": {
      "text/plain": [
       "'\\n    0. 스케일링 가능 항목 : acousticness, danceability, energy, instrumentalness, liveness, speechiness, valence\\n    1. loudness 항목 : 절댓값 반환 필요 / 계산식 확인 필요\\n            from pyspark.sql.functions import abs\\n            df = df                 .withColumn(\"loudness\", abs(\"loudness\"))\\n    2. mode 항목 : 0 또는 1만 가짐\\n    3. key, tempo 항목 : 이상치가 큰 영향을 끼칠 수 있음\\n    4. Null 값 확인\\n            #1번 - scaled_df.filter(col(\"features\").isNull()).count()\\n            #2번 - from pyspark.sql.functions import sum\\n                   df                        .select([sum(col(column).isNull().cast(\"int\")).alias(column + \"_null_count\") for column in df.columns])                        .show()\\n'"
      ]
     },
     "execution_count": 20,
     "metadata": {},
     "output_type": "execute_result"
    }
   ],
   "source": [
    "# 고려해야 할 사항들\n",
    "\"\"\"\n",
    "    0. 스케일링 가능 항목 : acousticness, danceability, energy, instrumentalness, liveness, speechiness, valence\n",
    "    1. loudness 항목 : 절댓값 반환 필요 / 계산식 확인 필요\n",
    "            from pyspark.sql.functions import abs\n",
    "            df = df \\\n",
    "                .withColumn(\"loudness\", abs(\"loudness\"))\n",
    "    2. mode 항목 : 0 또는 1만 가짐\n",
    "    3. key, tempo 항목 : 이상치가 큰 영향을 끼칠 수 있음\n",
    "    4. Null 값 확인\n",
    "            #1번 - scaled_df.filter(col(\"features\").isNull()).count()\n",
    "            #2번 - from pyspark.sql.functions import sum\n",
    "                   df \\\n",
    "                       .select([sum(col(column).isNull().cast(\"int\")).alias(column + \"_null_count\") for column in df.columns]) \\\n",
    "                       .show()\n",
    "\"\"\""
   ]
  },
  {
   "cell_type": "code",
   "execution_count": 21,
   "metadata": {},
   "outputs": [
    {
     "name": "stderr",
     "output_type": "stream",
     "text": [
      "24/01/12 02:28:24 WARN SparkStringUtils: Truncated the string representation of a plan since it was too large. This behavior can be adjusted by setting 'spark.sql.debug.maxToStringFields'.\n",
      "                                                                                \r"
     ]
    },
    {
     "name": "stdout",
     "output_type": "stream",
     "text": [
      "+--------------------+------------+------------+-----------+--------------+------------+------------+------------+------------+----------------+------------+------------+------------+------------+\n",
      "|                  id|  popularity|         key|       mode|time_signature|       tempo|acousticness|danceability|      energy|instrumentalness|    liveness|    loudness| speechiness|     valence|\n",
      "+--------------------+------------+------------+-----------+--------------+------------+------------+------------+------------+----------------+------------+------------+------------+------------+\n",
      "|0007EK8kcv06GzJdS...|-0.338179953|-1.473045612|0.751636992|  -1.645467302| 1.172293687| 1.420362129|-0.702576667| 1.061979849|    -0.398533921| 1.006833389|-0.887245328| 4.932819349|-1.522515973|\n",
      "|0007aPK8VmXN4ycL2...| 0.773623017|-1.473045612|0.751636992|   0.261698998|-0.074274998|-1.119285791|-0.318041294| 1.571018331|    -0.165066441| 4.427973268| 0.751401424|-0.107435312|-0.336431148|\n",
      "|0007zfsbbIVYtzmS9...|-0.755106067| 0.213385512|0.751636992|   0.261698998|-0.990618291| 1.281167362|-1.996013831|-1.499250757|    -0.680866688|-0.701482093|-0.792619652|-0.444210398|-1.435702476|\n",
      "|000I3paCa0TWh0T3T...|-0.755106067|-0.067686342|0.751636992|   0.261698998| 0.883375338|-1.021586822|-0.113288693| 0.068308841|     1.471920658|-0.362749792| 0.580816746|-0.562300363|-1.359511728|\n",
      "|000IdjocrlygaMzbW...|-0.755106067| 1.056601075|0.751636992|  -1.645467302|-1.476998821|  1.43349371| -1.87615865|-1.826346333|     1.903564022|-0.469836543|-4.241215782| -0.44683462|-1.281855772|\n",
      "|000NlymqWCHPNH4s2...|-0.755106067|-0.067686342|0.751636992|  -1.645467302|-1.313288321| 1.438746343|-2.232727814|-1.534116406|    -0.680861122|   0.4544912|-2.352292016|-0.458206246|-1.164272935|\n",
      "|000O8nXpAK5QAppKv...|-0.407667639|-1.191973758|0.751636992|   0.261698998| 0.356578573|-1.133699015|-0.168222318| 1.414122909|    -0.651818989| 0.460127345|  1.19739133|-0.342740502|-0.329105115|\n",
      "|000cp2cgGIoXg37kn...|-0.685618381|-1.473045612|0.751636992|  -1.645467302|-1.620154778| 1.428241078|-2.368064289|-1.469266298|     -0.46748827|-0.526197991|-2.296004816| -0.35673635|-1.497607459|\n",
      "|000kSCs9tKtH1VXI3...| 0.009258475|-0.910901904|0.751636992|   0.261698998| 0.417021466| 1.131467329|-0.562745623|-0.900956213|    -0.680866688|-0.566214619| 0.637247536| -0.51943808|-0.702732824|\n",
      "|000q5lsNl8nYEAV9N...|-0.755106067| 0.494457366|0.751636992|   0.261698998| 0.455491124|-1.106679472| 1.569677809|  0.71680992|     1.751538686|-0.526197991| 0.076960152| 0.699075413|-1.076360532|\n",
      "|000qDwcfcPAEVdPbP...|-0.755106067|-0.067686342|0.751636992|   0.261698998|-0.199680804| 1.218135769| 0.176361328|-0.803332394|    -0.565218843| 0.437582766|-0.345193848|-0.423216627| 1.070167285|\n",
      "|000ylC8itrjwclHxS...|-0.685618381|-1.191973758|0.751636992|   0.261698998|  0.51190889| 1.478141088|-0.732540463|-1.190341103|      1.71624709| -0.58650474|-0.835840181|-0.437212474|-1.448523035|\n",
      "|0010mZpCCwlPwoBiB...| 1.885425988| -0.62983005|0.751636992|  -1.645467302| 0.256775215|-0.851401522|-0.053361103| 0.936463511|    -0.680857783|-0.312024489| 0.919832255|-0.506316973| 0.557344939|\n",
      "|001zBsq2r2HjeBKYS...|-0.685618381|-0.067686342|0.751636992|   0.261698998|-0.004132208|-0.683317275| 0.885504483|-0.231535744|    -0.680866688| 1.142100863| 0.948837393|-0.453832544|-0.592842321|\n",
      "|0025YMT2mT4Ehqf5o...| 1.676962931| 0.494457366|0.751636992|   0.261698998| 0.255983386|-0.688569908| 1.319979515| 0.817920303|    -0.680866688| 0.488308069| 0.681042424| 0.847781295| 1.092145385|\n",
      "|0026hQeV7FZ0PaZpW...| 0.634647646| 1.618744783|0.751636992|   0.261698998| 1.720502809| -0.26835929|-0.288077499| 0.741215875|    -0.680866688| 1.406999668| 0.603934703|  1.07521382|-0.893209695|\n",
      "|002Kb7mmJmUAdrkdu...| 0.148233847|-0.910901904|0.751636992|   0.261698998| -0.21597927|-1.030253666|-0.258113704| 1.093358934|      1.83298083| -0.41911124|  0.76834502|-0.448584101|-0.885883661|\n",
      "|002SD1PtyV3L2FfPD...|-0.755106067|-1.473045612|0.751636992|  -1.645467302| 0.715837668| 1.412483179|-1.921104343|-1.764229692|     1.889990331|-0.498017267|-2.334343291|-0.469577872|-1.523248576|\n",
      "|002ZgpxgTaW7vA8Xc...| 0.287209218| 0.494457366|0.751636992|   0.261698998|-1.398805777| 1.446625292|-1.486629311|-1.525399994|     1.811262925|-0.650193176|-2.605010057| -0.50194327|-0.911524779|\n",
      "|002t2Xl3rTfvtOSMV...| 0.982086074| 1.618744783|0.751636992|   0.261698998| 0.947909344| 1.120962064|-1.631454322|-1.662770653|      1.81940714|-0.578614137|-1.088558222| -0.48444846|-1.361343236|\n",
      "+--------------------+------------+------------+-----------+--------------+------------+------------+------------+------------+----------------+------------+------------+------------+------------+\n",
      "only showing top 20 rows\n",
      "\n"
     ]
    }
   ],
   "source": [
    "from pyspark.sql.functions import mean, stddev\n",
    "\n",
    "raw_scaled_df = df\n",
    "\n",
    "# Standard Scaling\n",
    "for col_name in df.columns[1:]:\n",
    "    mean_val = df.select(mean(col_name)).collect()[0][0]\n",
    "    stds_val = df.select(stddev(col_name)).collect()[0][0]\n",
    "    raw_scaled_df = raw_scaled_df.withColumn(col_name, (col(col_name) - mean_val) / stds_val)\n",
    "\n",
    "raw_scaled_df.show()"
   ]
  },
  {
   "cell_type": "code",
   "execution_count": 22,
   "metadata": {},
   "outputs": [],
   "source": [
    "from pyspark.sql.functions import col\n",
    "\n",
    "scaled_train = raw_scaled_df.filter(col(\"id\").isin(track_list))\n",
    "scaled_test = raw_scaled_df.filter(~col(\"id\").isin(track_list))"
   ]
  },
  {
   "cell_type": "code",
   "execution_count": 23,
   "metadata": {},
   "outputs": [
    {
     "name": "stderr",
     "output_type": "stream",
     "text": [
      "24/01/12 02:28:39 WARN InstanceBuilder: Failed to load implementation from:dev.ludovic.netlib.blas.VectorBLAS\n",
      "                                                                                \r"
     ]
    },
    {
     "name": "stdout",
     "output_type": "stream",
     "text": [
      "Cluster Centers:\n",
      "[ 2.87487021  0.95883695  0.02744026  0.22023886  0.07254316 -0.83176664\n",
      " -0.12338519  0.95942936 -0.42570345  0.03964644  0.79146922 -0.38263627\n",
      "  0.14678447]\n",
      "[ 0.79267609 -0.21275569  0.18074803  0.2001775   0.05805026 -0.3690155\n",
      "  0.28751734  0.49721256 -0.52355248 -0.14404919  0.81678342 -0.43179473\n",
      "  0.37584837]\n",
      "[ 4.2183896  -0.53767534  0.10312475  0.261699    0.15500959 -0.80775275\n",
      "  0.56900166  0.91097158 -0.63112137 -0.17488138  0.90084074 -0.24030983\n",
      "  0.69035448]\n",
      "[ 2.95917618  0.20000114  0.55334503  0.03465539  0.0047358   0.15036533\n",
      " -0.44229592 -0.43101707 -0.13202886 -0.38405979  0.20192772 -0.51935477\n",
      " -0.62566121]\n"
     ]
    },
    {
     "name": "stderr",
     "output_type": "stream",
     "text": [
      "[Stage 1505:=====>                                                 (1 + 9) / 10]\r"
     ]
    },
    {
     "name": "stdout",
     "output_type": "stream",
     "text": [
      "+--------------------+--------------------+--------------------+------------------+-------------------+--------------------+-------------------+--------------------+-------------------+--------------------+--------------------+-------------------+--------------------+--------------------+--------------------+----------+\n",
      "|                  id|          popularity|                 key|              mode|     time_signature|               tempo|       acousticness|        danceability|             energy|    instrumentalness|            liveness|           loudness|         speechiness|             valence|            features|prediction|\n",
      "+--------------------+--------------------+--------------------+------------------+-------------------+--------------------+-------------------+--------------------+-------------------+--------------------+--------------------+-------------------+--------------------+--------------------+--------------------+----------+\n",
      "|0007EK8kcv06GzJdS...|   -0.33817995302522| -1.4730456122216633|0.7516369915373854|-1.6454673022629516|  1.1722936867482339| 1.4203621285599985|  -0.702576667302114| 1.0619798494043386|-0.39853392093367124|  1.0068333885109015|-0.8872453276625735|  4.9328193487100185| -1.5225159730358209|[-0.3381799530252...|         1|\n",
      "|0007aPK8VmXN4ycL2...|  0.7736230173703467| -1.4730456122216633|0.7516369915373854|  0.261698998303353|-0.07427499791839073|-1.1192857907702223| -0.3180412943094201| 1.5710183309104513|  -0.165066440861207|   4.427973267951683| 0.7514014238917051|-0.10743531244276233| -0.3364311483164977|[0.77362301737034...|         1|\n",
      "|0007zfsbbIVYtzmS9...| -0.7551060669235575|  0.2133855123386121|0.7516369915373854|  0.261698998303353| -0.9906182911436731| 1.2811673615232853| -1.9960138310048123| -1.499250756858609| -0.6808666875329302| -0.7014820932988196|-0.7926196521215401| -0.4442103982712629| -1.4357024759825534|[-0.7551060669235...|         3|\n",
      "|000I3paCa0TWh0T3T...| -0.7551060669235575|-0.06768634175476712|0.7516369915373854|  0.261698998303353|  0.8833753379769449|-1.0215868222086046|-0.11328869310551783|0.06830884098487235|    1.47192065778642|-0.36274979222074544| 0.5808167462851083|  -0.562300363431906| -1.3595117275138633|[-0.7551060669235...|         1|\n",
      "|000IdjocrlygaMzbW...| -0.7551060669235575|    1.05660107461875|0.7516369915373854|-1.6454673022629516|  -1.476998820729873| 1.4334937103559144| -1.8761586498122842|-1.8263463334406462|  1.9035640221064405| -0.4698365429775409|-4.2412157818165195| -0.4468346197192771|  -1.281855772343852|[-0.7551060669235...|         3|\n",
      "|000NlymqWCHPNH4s2...| -0.7551060669235575|-0.06768634175476712|0.7516369915373854|-1.6454673022629516| -1.3132883209464836|  1.438746343074281|  -2.232727813860055|-1.5341164062768358| -0.6808611223197425| 0.45449120039690416| -2.352292015894987| -0.4582062459940058| -1.1642729345628442|[-0.7551060669235...|         3|\n",
      "|000O8nXpAK5QAppKv...|-0.40766763867494293|  -1.191973758128284|0.7516369915373854|  0.261698998303353|  0.3565785725514357|  -1.13369901494942| -0.1682223178187599| 1.4141229085284306| -0.6518189894308911|  0.4601273451735776| 1.1973913301594572|  -0.342740502281377|-0.32910511480989285|[-0.4076676386749...|         1|\n",
      "|000cp2cgGIoXg37kn...| -0.6856183812738346| -1.4730456122216633|0.7516369915373854|-1.6454673022629516|  -1.620154777714985|  1.428241077637548| -2.3680642892899515| -1.469266298358934|-0.46748826969925944| -0.5261979907442754|-2.2960048158766484| -0.3567363500041199| -1.4976074591133643|[-0.6856183812738...|         3|\n",
      "|000kSCs9tKtH1VXI3...| 0.00925847522339457| -0.9109019040349049|0.7516369915373854|  0.261698998303353|   0.417021465659692|  1.131467329049839|  -0.562745622577498|-0.9009562128418354| -0.6808666875329302| -0.5662146186586569| 0.6372475360994116| -0.5194380797810059| -0.7027328236467395|[0.00925847522339...|         1|\n",
      "|000q5lsNl8nYEAV9N...| -0.7551060669235575| 0.49445736643199134|0.7516369915373854|  0.261698998303353| 0.45549112360959754|-1.1066794722461426|  1.5696778094728965| 0.7168099201638923|  1.7515386862453013| -0.5261979907442754| 0.0769601522434011|  0.6990754125802962| -1.0763605324835863|[-0.7551060669235...|         1|\n",
      "|000qDwcfcPAEVdPbP...| -0.7551060669235575|-0.06768634175476712|0.7516369915373854|  0.261698998303353|-0.19968080397978988| 1.2181357689028867| 0.17636132810975794|-0.8033323944708002| -0.5652188427528491|  0.4375827660668838|-0.3451938478941364| -0.4232166266871486|   1.070167284951631|[-0.7551060669235...|         1|\n",
      "|000ylC8itrjwclHxS...| -0.6856183812738346|  -1.191973758128284|0.7516369915373854|  0.261698998303353|   0.511908889556715| 1.4781410884620305|  -0.732540462600246|-1.1903411030131186|   1.716247090420394| -0.5865047398546813|-0.8358401807070501|-0.43721247440989147|  -1.448523034619112|[-0.6856183812738...|         1|\n",
      "|0010mZpCCwlPwoBiB...|  1.8854259877659134| -0.6298300499415256|0.7516369915373854|-1.6454673022629516|  0.2567752146625294|-0.8514015221335288|-0.05336110250925...|  0.936463511498722| -0.6808577831918298|-0.31202448923068454| 0.9198322545588246| -0.5063169725409344|  0.5573449394892924|[1.88542598776591...|         1|\n",
      "|001zBsq2r2HjeBKYS...| -0.6856183812738346|-0.06768634175476712|0.7516369915373854|  0.261698998303353|-0.00413220820870...|-0.6833172751457997|  0.8855044834988822| -0.231535744011879| -0.6808666875329302|  1.1421008631510645| 0.9488373933437846| -0.4538325435806486|  -0.592842321047667|[-0.6856183812738...|         1|\n",
      "|0025YMT2mT4Ehqf5o...|  1.6769629308167446| 0.49445736643199134|0.7516369915373854|  0.261698998303353| 0.25598338636853474|-0.6885699078641662|  1.3199795153217966| 0.8179203034767505| -0.6808666875329302| 0.48830806905694457| 0.6810424238687822|  0.8477812946344394|  1.0921453854714456|[1.67696293081674...|         1|\n",
      "|0026hQeV7FZ0PaZpW...|  0.6346476460709009|  1.6187447828055084|0.7516369915373854|  0.261698998303353|   1.720502808957181|-0.2683592903948432|-0.28807749901128804| 0.7412158747566512| -0.6808666875329302|  1.4069996676547163| 0.6039347034354973|  1.0752138201290111| -0.8932096948184652|[0.63464764607090...|         1|\n",
      "|002Kb7mmJmUAdrkdu...|  0.1482338465228404| -0.9109019040349049|0.7516369915373854|  0.261698998303353|-0.21597926969784595|-1.0302536661939095|  -0.258113703713156| 1.0933589338807428|   1.832980830456626|-0.41911123998747996| 0.7683450198155926|-0.44858410068462007| -0.8858836613118604|[0.14823384652284...|         1|\n",
      "|002SD1PtyV3L2FfPD...| -0.7551060669235575| -1.4730456122216633|0.7516369915373854|-1.6454673022629516|   0.715837668105915| 1.4124831794824484| -1.9211043427594823|-1.7642296924371335|  1.8899903314045532|-0.49801726686090814|-2.3343432913993434| -0.4695778722687344| -1.5232485763864811|[-0.7551060669235...|         3|\n",
      "|002ZgpxgTaW7vA8Xc...| 0.28720921782228626| 0.49445736643199134|0.7516369915373854|  0.261698998303353| -1.3988057766979034| 1.4466252921518312| -1.4866293109365682| -1.525399993922279|   1.811262925333606| -0.6501931758310912| -2.605010056793649| -0.5019432701275772| -0.9115247785849773|[0.28720921782228...|         3|\n",
      "|002t2Xl3rTfvtOSMV...|  0.9820860743195154|  1.6187447828055084|0.7516369915373854|  0.261698998303353|  0.9479093439375067| 1.1209620636131057| -1.6314543215442066|-1.6627706526300932|  1.8194071397547387| -0.5786141371673384|-1.0885582216057117| -0.4844484604741487| -1.3613432358905144|[0.98208607431951...|         3|\n",
      "+--------------------+--------------------+--------------------+------------------+-------------------+--------------------+-------------------+--------------------+-------------------+--------------------+--------------------+-------------------+--------------------+--------------------+--------------------+----------+\n",
      "only showing top 20 rows\n",
      "\n"
     ]
    },
    {
     "name": "stderr",
     "output_type": "stream",
     "text": [
      "                                                                                \r"
     ]
    }
   ],
   "source": [
    "from pyspark.ml.feature import VectorAssembler\n",
    "from pyspark.ml.clustering import KMeans\n",
    "\n",
    "selected_features = [\"popularity\", \"key\", \"mode\", \"time_signature\", \"tempo\", \"acousticness\", \"danceability\", \"energy\", \"instrumentalness\", \"liveness\", \"loudness\", \"speechiness\", \"valence\"]\n",
    "\n",
    "# Define Assembler\n",
    "assembler = VectorAssembler(inputCols=selected_features, outputCol=\"features\")\n",
    "\n",
    "# Assemble Features\n",
    "df_assembled_train = assembler.transform(scaled_train)\n",
    "df_assembled_test = assembler.transform(scaled_test)\n",
    "\n",
    "# Create Model == Train Dataset\n",
    "kmeans = KMeans(featuresCol=\"features\", k=4, seed=1)\n",
    "model = kmeans.fit(df_assembled_train)\n",
    "\n",
    "# Check Centers\n",
    "centers = model.clusterCenters()\n",
    "print(\"Cluster Centers:\")\n",
    "for center in centers:\n",
    "    print(center)\n",
    "\n",
    "# Test Dataset\n",
    "df_result = model.transform(df_assembled_test)\n",
    "df_result.show()"
   ]
  },
  {
   "cell_type": "code",
   "execution_count": 24,
   "metadata": {},
   "outputs": [
    {
     "data": {
      "text/plain": [
       "'euclidean'"
      ]
     },
     "execution_count": 24,
     "metadata": {},
     "output_type": "execute_result"
    }
   ],
   "source": [
    "model.getDistanceMeasure()"
   ]
  },
  {
   "cell_type": "code",
   "execution_count": 25,
   "metadata": {},
   "outputs": [
    {
     "name": "stderr",
     "output_type": "stream",
     "text": [
      "                                                                                \r"
     ]
    },
    {
     "name": "stdout",
     "output_type": "stream",
     "text": [
      "['5BAIGUYfFlUeuo16kFuan0', '26MwBGP2wbNUDZhSS43wAn', '6CLi7ysa6YNvoBlYg9W5Qc', '3N260ZBbFQOypRyKSQaIGB', '0VNb0HzD2oxJ9zyRbv7xFH']\n"
     ]
    },
    {
     "name": "stderr",
     "output_type": "stream",
     "text": [
      "                                                                                \r"
     ]
    },
    {
     "name": "stdout",
     "output_type": "stream",
     "text": [
      "['3J76VaaKdpIlhschNLbw3E', '10WBJf270bCgyDI1EuGP28', '22nCqMhCqGi3YkMMdXNRBx', '4vdEK97UUC3N4tabBuYcVs', '35fNhpzCPJIV3LWZzWUQXI']\n"
     ]
    },
    {
     "name": "stderr",
     "output_type": "stream",
     "text": [
      "                                                                                \r"
     ]
    },
    {
     "name": "stdout",
     "output_type": "stream",
     "text": [
      "['0oPRfdP48RM4bd3xBFyiRo', '5goqVeMYUQecvpcjNxpadU', '5D7PM5yNiHKnU85Y055vvb', '0is4ka3uSbBT04pC2WFsp3', '1pRShUtGOG6ZP5fsnw9G4h']\n"
     ]
    },
    {
     "name": "stderr",
     "output_type": "stream",
     "text": [
      "[Stage 1568:====================>                                  (4 + 7) / 11]\r"
     ]
    },
    {
     "name": "stdout",
     "output_type": "stream",
     "text": [
      "['4PqGEhQlHBczN9hBbui8eY', '37OwL4VPwKjyqu0VaqEizD', '0GfCR4T6WOErZOw1557ln7', '05O75TNqW8S6sYYvoCDDIe', '4a1RWaG4BTkifgMSx3rpf3']\n"
     ]
    },
    {
     "name": "stderr",
     "output_type": "stream",
     "text": [
      "                                                                                \r"
     ]
    }
   ],
   "source": [
    "from pyspark.sql.functions import col\n",
    "from pyspark.sql.functions import udf\n",
    "from pyspark.sql.types import DoubleType\n",
    "import numpy as np\n",
    "\n",
    "def calculate_distance(vector):\n",
    "    return float(np.linalg.norm(vector.toArray() - numpy_coordinates))\n",
    "\n",
    "calculate_distance_udf = udf(calculate_distance, DoubleType())\n",
    "\n",
    "recommend_list = []\n",
    "for i in range(4):\n",
    "    numpy_coordinates = centers[i]\n",
    "    df_with_distance = df_result \\\n",
    "        .filter(f\"prediction={i}\") \\\n",
    "        .select(\"id\", \"features\") \\\n",
    "        .withColumn('distance', calculate_distance_udf(col('features'))) \\\n",
    "        .orderBy(\"distance\", ascending=True)\n",
    "    \n",
    "    collect_list = [row.id for row in df_with_distance.limit(5).collect()]\n",
    "\n",
    "    print(collect_list)\n",
    "    recommend_list += collect_list\n",
    "    "
   ]
  },
  {
   "cell_type": "code",
   "execution_count": 26,
   "metadata": {},
   "outputs": [
    {
     "name": "stdout",
     "output_type": "stream",
     "text": [
      "['5BAIGUYfFlUeuo16kFuan0', '26MwBGP2wbNUDZhSS43wAn', '6CLi7ysa6YNvoBlYg9W5Qc', '3N260ZBbFQOypRyKSQaIGB', '0VNb0HzD2oxJ9zyRbv7xFH', '3J76VaaKdpIlhschNLbw3E', '10WBJf270bCgyDI1EuGP28', '22nCqMhCqGi3YkMMdXNRBx', '4vdEK97UUC3N4tabBuYcVs', '35fNhpzCPJIV3LWZzWUQXI', '0oPRfdP48RM4bd3xBFyiRo', '5goqVeMYUQecvpcjNxpadU', '5D7PM5yNiHKnU85Y055vvb', '0is4ka3uSbBT04pC2WFsp3', '1pRShUtGOG6ZP5fsnw9G4h', '4PqGEhQlHBczN9hBbui8eY', '37OwL4VPwKjyqu0VaqEizD', '0GfCR4T6WOErZOw1557ln7', '05O75TNqW8S6sYYvoCDDIe', '4a1RWaG4BTkifgMSx3rpf3']\n"
     ]
    }
   ],
   "source": [
    "print(recommend_list)"
   ]
  },
  {
   "cell_type": "code",
   "execution_count": 27,
   "metadata": {},
   "outputs": [],
   "source": [
    "import requests\n",
    "from urllib.parse import urlencode\n",
    "import base64\n",
    "import webbrowser\n",
    "\n",
    "client_id = \"a18dc6eb0d9042eaa547bad38ee1b237\""
   ]
  },
  {
   "cell_type": "code",
   "execution_count": 28,
   "metadata": {},
   "outputs": [],
   "source": [
    "def create_auth_code(client_id:str, scope:str):\n",
    "    from urllib.parse import urlencode\n",
    "    import webbrowser\n",
    "\n",
    "    auth_headers = {\n",
    "        \"client_id\": client_id,\n",
    "        \"response_type\": \"code\",\n",
    "        \"redirect_uri\": \"http://localhost:1111\",\n",
    "        \"scope\": scope\n",
    "    }\n",
    "\n",
    "    webbrowser.open(\"https://accounts.spotify.com/authorize?\" + urlencode(auth_headers))\n",
    "    \n",
    "create_auth_code(client_id=client_id, scope=\"playlist-modify-private\")"
   ]
  },
  {
   "cell_type": "code",
   "execution_count": 29,
   "metadata": {},
   "outputs": [
    {
     "name": "stdout",
     "output_type": "stream",
     "text": [
      "{'access_token': 'BQA1R6lDBct6Uit0o9zVqSJpDJuxJRCb-2XUQWc5SGSkWuJmM8h1IAQxWscPx3ZEbyjiuwHLUjY2VPgjsy3pTC_6_-vDiPYUln5rF3wVJPWqsqPgIlKVpAkMWoNgUJeolKTAEr71estIpB2PDkDNiQhD20BqvOzcFjSsgU7MJYyhNdG4c1fH2duABWE_Krz2wZEy5eVzHYNHuveV37Ko852_EJ20EEIJVBhXXRlutw', 'token_type': 'Bearer', 'expires_in': 3600, 'refresh_token': 'AQDq9qAdaiRGMHkLXwCcKfgyzdyeBDZodTX6C6rr3GEQ1dV7QvorBCU64AlPxWNJ7XtFxIhU4_GUSe9l1nIdE_lfDzK-0lD8NPV4no2u9VmfdAGR9VKluJeLIRX_3Qp48ks', 'scope': 'playlist-modify-private'}\n"
     ]
    }
   ],
   "source": [
    "code = \"AQDNRcy-nkg1TkoARhtKjUMoALfauUnY1R3o4qb-Q42fDvmPP2PwOOg217GvNXSXFe5RMxJ1vhkYRPdl1LbELN7T_7NlDT3GuwTM6-tCv-5-I6Q_3Z5gLBBQkmbhozX4zr1C5PRYDX8MW1dI2sq3uzAmicJXlIu6xU6CFbDRWNESLceNSO5cyjhjtZ1bes-8HeM\"\n",
    "\n",
    "encoded_credentials = base64.b64encode(client_id.encode() + b':' + client_sc.encode()).decode(\"utf-8\")\n",
    "\n",
    "token_headers = {\n",
    "    \"Authorization\": \"Basic \" + encoded_credentials,\n",
    "    \"Content-Type\": \"application/x-www-form-urlencoded\"\n",
    "}\n",
    "\n",
    "token_data = {\n",
    "    \"grant_type\": \"authorization_code\",\n",
    "    \"code\": code,\n",
    "    \"redirect_uri\": \"http://localhost:1111\"\n",
    "}\n",
    "\n",
    "r = requests.post(\"https://accounts.spotify.com/api/token\", data=token_data, headers=token_headers)\n",
    "\n",
    "\n",
    "response_json = r.json()\n",
    "print(response_json)"
   ]
  },
  {
   "cell_type": "code",
   "execution_count": 30,
   "metadata": {},
   "outputs": [],
   "source": [
    "token = r.json()[\"access_token\"]"
   ]
  },
  {
   "cell_type": "code",
   "execution_count": 31,
   "metadata": {},
   "outputs": [
    {
     "name": "stdout",
     "output_type": "stream",
     "text": [
      "<Response [201]>\n",
      "{'collaborative': False, 'description': '고객님의 플레이리스트 기록을 기반으로 매주 음악을 추천해 드립니다 :)', 'external_urls': {'spotify': 'https://open.spotify.com/playlist/434eVpu05FRJbWaoqym1Oq'}, 'followers': {'href': None, 'total': 0}, 'href': 'https://api.spotify.com/v1/playlists/434eVpu05FRJbWaoqym1Oq', 'id': '434eVpu05FRJbWaoqym1Oq', 'images': [], 'name': '2024년 01월 2주차 추천 플레이리스트', 'owner': {'display_name': '주헌', 'external_urls': {'spotify': 'https://open.spotify.com/user/317sdvs4ldhgrv63cstoyzf6vo2y'}, 'href': 'https://api.spotify.com/v1/users/317sdvs4ldhgrv63cstoyzf6vo2y', 'id': '317sdvs4ldhgrv63cstoyzf6vo2y', 'type': 'user', 'uri': 'spotify:user:317sdvs4ldhgrv63cstoyzf6vo2y'}, 'primary_color': None, 'public': False, 'snapshot_id': 'MSxiOTNlYWI2MjVjNWQwYWJhZWUxZTZiMzQwZTkxNjhjNDY3OWEwZjll', 'tracks': {'href': 'https://api.spotify.com/v1/playlists/434eVpu05FRJbWaoqym1Oq/tracks', 'items': [], 'limit': 100, 'next': None, 'offset': 0, 'previous': None, 'total': 0}, 'type': 'playlist', 'uri': 'spotify:playlist:434eVpu05FRJbWaoqym1Oq'}\n"
     ]
    }
   ],
   "source": [
    "from datetime import datetime\n",
    "\n",
    "today = datetime.now()\n",
    "first_day_of_month = today.replace(day=1)\n",
    "day_difference = (today - first_day_of_month).days\n",
    "week_number = (day_difference // 7) + 1\n",
    "year = today.strftime(\"%Y\")\n",
    "month = today.strftime(\"%m\")\n",
    "\n",
    "endpoint = f\"users/{user_id}/playlists\"\n",
    "playlist_name = f\"{year}년 {month}월 {week_number}주차 추천 플레이리스트\"\n",
    "playlist_description = \"고객님의 플레이리스트 기록을 기반으로 매주 음악을 추천해 드립니다 :)\"\n",
    "data = {\n",
    "    \"name\": playlist_name,\n",
    "    \"description\": playlist_description,\n",
    "    \"public\": False\n",
    "}\n",
    "\n",
    "returned = post_response(access_token=token, endpoint=endpoint, data=data)\n",
    "print(returned)"
   ]
  },
  {
   "cell_type": "code",
   "execution_count": 32,
   "metadata": {},
   "outputs": [],
   "source": [
    "playlist_id = returned[\"id\"]"
   ]
  },
  {
   "cell_type": "code",
   "execution_count": 33,
   "metadata": {},
   "outputs": [
    {
     "name": "stdout",
     "output_type": "stream",
     "text": [
      "<Response [201]>\n"
     ]
    },
    {
     "data": {
      "text/plain": [
       "{'snapshot_id': 'MyxlMjY4NjcyZDI4YWNlNDg2MTBkNmU5YjljNDZmMWNiZjA2ZDdhYWIy'}"
      ]
     },
     "execution_count": 33,
     "metadata": {},
     "output_type": "execute_result"
    }
   ],
   "source": [
    "endpoint = f\"playlists/{playlist_id}/tracks\"\n",
    "data = {\n",
    "    \"uris\": [f\"spotify:track:{track_id}\" for track_id in recommend_list],\n",
    "    \"position\": 0\n",
    "}\n",
    "\n",
    "post_response(access_token=token, endpoint=endpoint, data=data)"
   ]
  },
  {
   "cell_type": "code",
   "execution_count": null,
   "metadata": {},
   "outputs": [],
   "source": []
  },
  {
   "cell_type": "code",
   "execution_count": null,
   "metadata": {},
   "outputs": [],
   "source": [
    "spark.stop()"
   ]
  }
 ],
 "metadata": {
  "kernelspec": {
   "display_name": "Python 3",
   "language": "python",
   "name": "python3"
  },
  "language_info": {
   "codemirror_mode": {
    "name": "ipython",
    "version": 3
   },
   "file_extension": ".py",
   "mimetype": "text/x-python",
   "name": "python",
   "nbconvert_exporter": "python",
   "pygments_lexer": "ipython3",
   "version": "3.10.13"
  },
  "orig_nbformat": 4
 },
 "nbformat": 4,
 "nbformat_minor": 2
}
