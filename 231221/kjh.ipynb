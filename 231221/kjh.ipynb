{
 "cells": [
  {
   "cell_type": "markdown",
   "metadata": {},
   "source": [
    "### Spark SQL JOIN 연습\n",
    "\n",
    "https://hongong.hanbit.co.kr/sql-%EA%B8%B0%EB%B3%B8-%EB%AC%B8%EB%B2%95-joininner-outer-cross-self-join/\n",
    "\n",
    "https://monawa.tistory.com/103"
   ]
  },
  {
   "cell_type": "code",
   "execution_count": null,
   "metadata": {},
   "outputs": [],
   "source": [
    "# 스파크 세션 생성\n",
    "from pyspark.sql import SparkSession\n",
    "\n",
    "spark = SparkSession.builder \\\n",
    "    .appName(\"Spark study - 231221\") \\\n",
    "    .getOrCreate()"
   ]
  },
  {
   "cell_type": "code",
   "execution_count": 2,
   "metadata": {},
   "outputs": [
    {
     "name": "stderr",
     "output_type": "stream",
     "text": [
      "                                                                                \r"
     ]
    }
   ],
   "source": [
    "# 데이터프레임 생성\n",
    "df_genome_scores = spark.read.csv(\"file:///home/kjh/data/ml-latest/genome-scores.csv\", header=True, inferSchema=True)\n",
    "df_genome_tags = spark.read.csv(\"file:///home/kjh/data/ml-latest/genome-tags.csv\", header=True, inferSchema=True)\n",
    "df_movies = spark.read.csv(\"file:///home/kjh/data/ml-latest/movies.csv\", header=True, inferSchema=True)\n",
    "df_ratings = spark.read.csv(\"file:///home/kjh/data/ml-latest/ratings.csv\", header=True, inferSchema=True)\n",
    "df_tags = spark.read.csv(\"file:///home/kjh/data/ml-latest/tags.csv\", header=True, inferSchema=True)"
   ]
  },
  {
   "cell_type": "code",
   "execution_count": 3,
   "metadata": {},
   "outputs": [
    {
     "name": "stdout",
     "output_type": "stream",
     "text": [
      "+-------+-----+--------------------+\n",
      "|movieId|tagId|           relevance|\n",
      "+-------+-----+--------------------+\n",
      "|      1|    1| 0.03199999999999997|\n",
      "|      1|    2|0.022249999999999992|\n",
      "|      1|    3|                0.07|\n",
      "|      1|    4|               0.059|\n",
      "+-------+-----+--------------------+\n",
      "only showing top 4 rows\n",
      "\n",
      "+-----+------------+\n",
      "|tagId|         tag|\n",
      "+-----+------------+\n",
      "|    1|         007|\n",
      "|    2|007 (series)|\n",
      "|    3|18th century|\n",
      "|    4|       1920s|\n",
      "+-----+------------+\n",
      "only showing top 4 rows\n",
      "\n"
     ]
    }
   ],
   "source": [
    "df_genome_scores.show(4)\n",
    "df_genome_tags.show(4)"
   ]
  },
  {
   "cell_type": "code",
   "execution_count": 4,
   "metadata": {},
   "outputs": [
    {
     "name": "stdout",
     "output_type": "stream",
     "text": [
      "18472128\n",
      "1128\n"
     ]
    }
   ],
   "source": [
    "print(df_genome_scores.count())\n",
    "print(df_genome_tags.count())"
   ]
  },
  {
   "cell_type": "code",
   "execution_count": 5,
   "metadata": {},
   "outputs": [
    {
     "name": "stdout",
     "output_type": "stream",
     "text": [
      "+-------+--------------------+--------------------+\n",
      "|movieId|               title|              genres|\n",
      "+-------+--------------------+--------------------+\n",
      "|      1|    Toy Story (1995)|Adventure|Animati...|\n",
      "|      2|      Jumanji (1995)|Adventure|Childre...|\n",
      "|      3|Grumpier Old Men ...|      Comedy|Romance|\n",
      "|      4|Waiting to Exhale...|Comedy|Drama|Romance|\n",
      "+-------+--------------------+--------------------+\n",
      "only showing top 4 rows\n",
      "\n",
      "+------+-------+------+----------+\n",
      "|userId|movieId|rating| timestamp|\n",
      "+------+-------+------+----------+\n",
      "|     1|      1|   4.0|1225734739|\n",
      "|     1|    110|   4.0|1225865086|\n",
      "|     1|    158|   4.0|1225733503|\n",
      "|     1|    260|   4.5|1225735204|\n",
      "+------+-------+------+----------+\n",
      "only showing top 4 rows\n",
      "\n",
      "+------+-------+-------------+----------+\n",
      "|userId|movieId|          tag| timestamp|\n",
      "+------+-------+-------------+----------+\n",
      "|    10|    260| good vs evil|1430666558|\n",
      "|    10|    260|Harrison Ford|1430666505|\n",
      "|    10|    260|       sci-fi|1430666538|\n",
      "|    14|   1221|    Al Pacino|1311600756|\n",
      "+------+-------+-------------+----------+\n",
      "only showing top 4 rows\n",
      "\n"
     ]
    }
   ],
   "source": [
    "df_movies.show(4)\n",
    "df_ratings.show(4)\n",
    "df_tags.show(4)"
   ]
  },
  {
   "cell_type": "code",
   "execution_count": 6,
   "metadata": {},
   "outputs": [
    {
     "name": "stdout",
     "output_type": "stream",
     "text": [
      "86537\n",
      "33832162\n",
      "2328315\n"
     ]
    }
   ],
   "source": [
    "print(df_movies.count())\n",
    "print(df_ratings.count())\n",
    "print(df_tags.count())"
   ]
  },
  {
   "cell_type": "code",
   "execution_count": 7,
   "metadata": {},
   "outputs": [],
   "source": [
    "df_genome_scores.createOrReplaceTempView('g_scores')\n",
    "df_genome_tags.createOrReplaceTempView('g_tags')\n",
    "df_movies.createOrReplaceTempView('movies')\n",
    "df_ratings.createOrReplaceTempView('ratings')\n",
    "df_tags.createOrReplaceTempView('tags')"
   ]
  },
  {
   "cell_type": "code",
   "execution_count": 8,
   "metadata": {},
   "outputs": [],
   "source": [
    "# genome 테이블 합치기\n",
    "\n",
    "df_genome = spark.sql(\"\"\"\n",
    "                      SELECT s.movieId, m.title, m.genres, s.tagId, t.tag, s.relevance\n",
    "                      FROM g_scores s\n",
    "                      INNER JOIN g_tags t\n",
    "                      ON s.tagId = t.tagId\n",
    "                      INNER JOIN movies m\n",
    "                      ON s.movieId = m.movieId;\n",
    "                      \"\"\")"
   ]
  },
  {
   "cell_type": "code",
   "execution_count": 9,
   "metadata": {},
   "outputs": [
    {
     "name": "stdout",
     "output_type": "stream",
     "text": [
      "+-------+----------------+--------------------+-----+------------+--------------------+\n",
      "|movieId|           title|              genres|tagId|         tag|           relevance|\n",
      "+-------+----------------+--------------------+-----+------------+--------------------+\n",
      "|      1|Toy Story (1995)|Adventure|Animati...|    1|         007| 0.03199999999999997|\n",
      "|      1|Toy Story (1995)|Adventure|Animati...|    2|007 (series)|0.022249999999999992|\n",
      "|      1|Toy Story (1995)|Adventure|Animati...|    3|18th century|                0.07|\n",
      "|      1|Toy Story (1995)|Adventure|Animati...|    4|       1920s|               0.059|\n",
      "+-------+----------------+--------------------+-----+------------+--------------------+\n",
      "only showing top 4 rows\n",
      "\n"
     ]
    }
   ],
   "source": [
    "df_genome.show(4)"
   ]
  },
  {
   "cell_type": "code",
   "execution_count": 10,
   "metadata": {},
   "outputs": [],
   "source": [
    "# user 테이블 합치기\n",
    "\n",
    "df_user = spark.sql(\"\"\"\n",
    "                    SELECT r.userId, r.movieId, m.title, m.genres, r.rating, r.timestamp AS r_time, t.tag, t.timestamp AS t_time\n",
    "                    FROM ratings r\n",
    "                    LEFT JOIN tags t\n",
    "                    ON r.userId = t.userId \n",
    "                    AND r.movieId = t.movieId\n",
    "                    INNER JOIN movies m\n",
    "                    ON r.movieId = m.movieId\n",
    "                    ORDER BY r.userId, r.movieId\n",
    "                    \"\"\")"
   ]
  },
  {
   "cell_type": "code",
   "execution_count": 11,
   "metadata": {},
   "outputs": [
    {
     "name": "stderr",
     "output_type": "stream",
     "text": [
      "[Stage 38:>                                                       (0 + 12) / 13]\r"
     ]
    },
    {
     "name": "stdout",
     "output_type": "stream",
     "text": [
      "+------+-------+--------------------+--------------------+------+----------+----+------+\n",
      "|userId|movieId|               title|              genres|rating|    r_time| tag|t_time|\n",
      "+------+-------+--------------------+--------------------+------+----------+----+------+\n",
      "|     1|      1|    Toy Story (1995)|Adventure|Animati...|   4.0|1225734739|NULL|  NULL|\n",
      "|     1|    110|   Braveheart (1995)|    Action|Drama|War|   4.0|1225865086|NULL|  NULL|\n",
      "|     1|    158|       Casper (1995)|  Adventure|Children|   4.0|1225733503|NULL|  NULL|\n",
      "|     1|    260|Star Wars: Episod...|Action|Adventure|...|   4.5|1225735204|NULL|  NULL|\n",
      "+------+-------+--------------------+--------------------+------+----------+----+------+\n",
      "only showing top 4 rows\n",
      "\n"
     ]
    },
    {
     "name": "stderr",
     "output_type": "stream",
     "text": [
      "                                                                                \r"
     ]
    }
   ],
   "source": [
    "df_user.show(4)"
   ]
  },
  {
   "cell_type": "code",
   "execution_count": 12,
   "metadata": {},
   "outputs": [],
   "source": [
    "df_genome.createOrReplaceTempView('genome')\n",
    "df_user.createOrReplaceTempView('user')"
   ]
  },
  {
   "cell_type": "code",
   "execution_count": 13,
   "metadata": {},
   "outputs": [
    {
     "name": "stderr",
     "output_type": "stream",
     "text": [
      "                                                                                \r"
     ]
    },
    {
     "data": {
      "text/plain": [
       "18472128"
      ]
     },
     "execution_count": 13,
     "metadata": {},
     "output_type": "execute_result"
    }
   ],
   "source": [
    "df_genome.count()"
   ]
  },
  {
   "cell_type": "code",
   "execution_count": 14,
   "metadata": {},
   "outputs": [
    {
     "name": "stderr",
     "output_type": "stream",
     "text": [
      "[Stage 46:==============>                                          (3 + 9) / 12]\r"
     ]
    },
    {
     "name": "stdout",
     "output_type": "stream",
     "text": [
      "+--------+\n",
      "|     cnt|\n",
      "+--------+\n",
      "|18472128|\n",
      "+--------+\n",
      "\n"
     ]
    },
    {
     "name": "stderr",
     "output_type": "stream",
     "text": [
      "                                                                                \r"
     ]
    }
   ],
   "source": [
    "spark.sql(\"\"\"\n",
    "          SELECT count(*) cnt\n",
    "          FROM genome\n",
    "          \"\"\").show()"
   ]
  },
  {
   "cell_type": "code",
   "execution_count": 15,
   "metadata": {},
   "outputs": [
    {
     "name": "stderr",
     "output_type": "stream",
     "text": [
      "                                                                                \r"
     ]
    },
    {
     "data": {
      "text/plain": [
       "35228102"
      ]
     },
     "execution_count": 15,
     "metadata": {},
     "output_type": "execute_result"
    }
   ],
   "source": [
    "df_user.count()"
   ]
  },
  {
   "cell_type": "code",
   "execution_count": 16,
   "metadata": {},
   "outputs": [
    {
     "name": "stderr",
     "output_type": "stream",
     "text": [
      "[Stage 64:===================================================>    (12 + 1) / 13]\r"
     ]
    },
    {
     "name": "stdout",
     "output_type": "stream",
     "text": [
      "+--------+\n",
      "|     cnt|\n",
      "+--------+\n",
      "|35228102|\n",
      "+--------+\n",
      "\n"
     ]
    },
    {
     "name": "stderr",
     "output_type": "stream",
     "text": [
      "                                                                                \r"
     ]
    }
   ],
   "source": [
    "spark.sql(\"\"\"\n",
    "          SELECT count(*) cnt\n",
    "          FROM user\n",
    "          \"\"\").show()"
   ]
  },
  {
   "cell_type": "code",
   "execution_count": 17,
   "metadata": {},
   "outputs": [
    {
     "name": "stderr",
     "output_type": "stream",
     "text": [
      "[Stage 74:===============================================>        (11 + 2) / 13]\r"
     ]
    },
    {
     "name": "stdout",
     "output_type": "stream",
     "text": [
      "+----------+--------------+-----------+\n",
      "|null_count|not_null_count|total_count|\n",
      "+----------+--------------+-----------+\n",
      "|  33498810|       1729292|   35228102|\n",
      "+----------+--------------+-----------+\n",
      "\n"
     ]
    },
    {
     "name": "stderr",
     "output_type": "stream",
     "text": [
      "                                                                                \r"
     ]
    }
   ],
   "source": [
    "# Spark SQL 로 NULL 값 체크하기\n",
    "\n",
    "spark.sql(\"\"\"\n",
    "          SELECT\n",
    "            COUNT(CASE WHEN tag IS NULL THEN 1 END) AS null_count,\n",
    "            COUNT(CASE WHEN tag IS NOT NULL THEN 1 END) AS not_null_count,\n",
    "            COUNT(*) AS total_count\n",
    "          FROM user\n",
    "          \"\"\").show()"
   ]
  },
  {
   "cell_type": "code",
   "execution_count": 18,
   "metadata": {},
   "outputs": [
    {
     "name": "stdout",
     "output_type": "stream",
     "text": [
      "+---------+---------+-------+\n",
      "| col_name|data_type|comment|\n",
      "+---------+---------+-------+\n",
      "|  movieId|      int|   NULL|\n",
      "|    title|   string|   NULL|\n",
      "|   genres|   string|   NULL|\n",
      "|    tagId|      int|   NULL|\n",
      "|      tag|   string|   NULL|\n",
      "|relevance|   double|   NULL|\n",
      "+---------+---------+-------+\n",
      "\n",
      "None\n",
      "+--------+---------+-------+\n",
      "|col_name|data_type|comment|\n",
      "+--------+---------+-------+\n",
      "|  userId|      int|   NULL|\n",
      "| movieId|      int|   NULL|\n",
      "|   title|   string|   NULL|\n",
      "|  genres|   string|   NULL|\n",
      "|  rating|   double|   NULL|\n",
      "|  r_time|      int|   NULL|\n",
      "|     tag|   string|   NULL|\n",
      "|  t_time|   string|   NULL|\n",
      "+--------+---------+-------+\n",
      "\n",
      "None\n"
     ]
    }
   ],
   "source": [
    "print(spark.sql(\"DESCRIBE genome\").show())\n",
    "print(spark.sql(\"DESCRIBE user\").show())"
   ]
  },
  {
   "cell_type": "code",
   "execution_count": 30,
   "metadata": {},
   "outputs": [],
   "source": [
    "# genome, user 테이블 합치기\n",
    "\n",
    "df_merge = spark.sql(\"\"\"\n",
    "                     SELECT u.userId, u.movieId, u.title, u.genres, u.rating, u.r_time, u.tag AS u_tag, u.t_time, g.tag AS g_tag, g.relevance\n",
    "                     FROM user u\n",
    "                     INNER JOIN genome g\n",
    "                     ON u.movieId = g.movieId\n",
    "                     \"\"\")"
   ]
  },
  {
   "cell_type": "code",
   "execution_count": 31,
   "metadata": {},
   "outputs": [
    {
     "name": "stderr",
     "output_type": "stream",
     "text": [
      "                                                                                \r"
     ]
    },
    {
     "data": {
      "text/plain": [
       "39108032976"
      ]
     },
     "execution_count": 31,
     "metadata": {},
     "output_type": "execute_result"
    }
   ],
   "source": [
    "df_merge.count()"
   ]
  },
  {
   "cell_type": "code",
   "execution_count": 28,
   "metadata": {},
   "outputs": [],
   "source": [
    "df_merge.createOrReplaceTempView('merge')"
   ]
  },
  {
   "cell_type": "code",
   "execution_count": 29,
   "metadata": {},
   "outputs": [
    {
     "name": "stderr",
     "output_type": "stream",
     "text": [
      "[Stage 196:>                                                      (0 + 12) / 13]\r"
     ]
    },
    {
     "name": "stdout",
     "output_type": "stream",
     "text": [
      "+------+-------+--------------------+--------------------+------+----------+---------------+----------+---------------+-------------------+\n",
      "|userId|movieId|               title|              genres|rating|    r_time|          u_tag|    t_time|          g_tag|          relevance|\n",
      "+------+-------+--------------------+--------------------+------+----------+---------------+----------+---------------+-------------------+\n",
      "|    10|    260|Star Wars: Episod...|Action|Adventure|...|   4.5|1430666645|         sci-fi|1430666538|         sci-fi| 0.9524999999999999|\n",
      "|    14|  58559|Dark Knight, The ...|Action|Crime|Dram...|   5.0|1311530004|     psychology|1311530417|     psychology|             0.6865|\n",
      "|    14|  58559|Dark Knight, The ...|Action|Crime|Dram...|   5.0|1311530004|   imdb top 250|1311530451|   imdb top 250|             0.9775|\n",
      "|    14|  58559|Dark Knight, The ...|Action|Crime|Dram...|   5.0|1311530004|      superhero|1311530388|      superhero| 0.9790000000000001|\n",
      "|    14|  58559|Dark Knight, The ...|Action|Crime|Dram...|   5.0|1311530004|     comic book|1311530398|     comic book| 0.9159999999999999|\n",
      "|    14|  58559|Dark Knight, The ...|Action|Crime|Dram...|   5.0|1311530004|      vigilante|1311530423|      vigilante| 0.9877499999999999|\n",
      "|    14|  58559|Dark Knight, The ...|Action|Crime|Dram...|   5.0|1311530004|           dark|1311530428|           dark|            0.95475|\n",
      "|    14|  58559|Dark Knight, The ...|Action|Crime|Dram...|   5.0|1311530004|       violence|1311530444|       violence|              0.839|\n",
      "|    16|  57183|Like Stars on Ear...|               Drama|   4.5|1491353742|         family|1491353765|         family|0.31525000000000003|\n",
      "|    26|    296| Pulp Fiction (1994)|Comedy|Crime|Dram...|   4.5|1429397999|          crime|1429398919|          crime|            0.94025|\n",
      "|    26|    296| Pulp Fiction (1994)|Comedy|Crime|Dram...|   4.5|1429397999|      cult film|1429398919|      cult film| 0.7969999999999999|\n",
      "|    37|     47|Seven (a.k.a. Se7...|    Mystery|Thriller|   5.0|1578167234|   twist ending|1578167240|   twist ending| 0.9590000000000001|\n",
      "|    37|     47|Seven (a.k.a. Se7...|    Mystery|Thriller|   5.0|1578167234|powerful ending|1578167246|powerful ending|            0.97675|\n",
      "|    37|    165|Die Hard: With a ...|Action|Crime|Thri...|   4.0|1578164102|         action|1578164108|         action| 0.9857499999999999|\n",
      "|    37|    293|Léon: The Profess...|Action|Crime|Dram...|   5.0|1578165504|   great acting|1578165426|   great acting|            0.94475|\n",
      "|    37|    480|Jurassic Park (1993)|Action|Adventure|...|   4.0|1578166074|        classic|1578166087|        classic| 0.7829999999999999|\n",
      "|    37|    527|Schindler's List ...|           Drama|War|   5.0|1578163105|         moving|1578163178|         moving|            0.60475|\n",
      "|    37|    541| Blade Runner (1982)|Action|Sci-Fi|Thr...|   4.5|1578164891|       dystopia|1578164862|       dystopia| 0.9544999999999999|\n",
      "|    37|    541| Blade Runner (1982)|Action|Sci-Fi|Thr...|   4.5|1578164891|        classic|1578164881|        classic|            0.82575|\n",
      "|    37|    541| Blade Runner (1982)|Action|Sci-Fi|Thr...|   4.5|1578164891|         sci-fi|1578164865|         sci-fi|              0.964|\n",
      "+------+-------+--------------------+--------------------+------+----------+---------------+----------+---------------+-------------------+\n",
      "only showing top 20 rows\n",
      "\n"
     ]
    },
    {
     "name": "stderr",
     "output_type": "stream",
     "text": [
      "                                                                                \r"
     ]
    }
   ],
   "source": [
    "spark.sql(\"\"\"\n",
    "          SELECT * \n",
    "          FROM merge\n",
    "          ORDER BY userId, movieId\n",
    "          \"\"\").show()"
   ]
  },
  {
   "cell_type": "code",
   "execution_count": null,
   "metadata": {},
   "outputs": [],
   "source": []
  }
 ],
 "metadata": {
  "kernelspec": {
   "display_name": "kjh-4pV5HF-C",
   "language": "python",
   "name": "python3"
  },
  "language_info": {
   "codemirror_mode": {
    "name": "ipython",
    "version": 3
   },
   "file_extension": ".py",
   "mimetype": "text/x-python",
   "name": "python",
   "nbconvert_exporter": "python",
   "pygments_lexer": "ipython3",
   "version": "3.10.13"
  }
 },
 "nbformat": 4,
 "nbformat_minor": 2
}
